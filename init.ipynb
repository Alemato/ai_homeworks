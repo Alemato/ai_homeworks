{
 "cells": [
  {
   "cell_type": "code",
   "execution_count": 1,
   "outputs": [],
   "source": [
    "# Classe Agente"
   ],
   "metadata": {
    "collapsed": false,
    "ExecuteTime": {
     "end_time": "2023-10-21T07:48:09.721737451Z",
     "start_time": "2023-10-21T07:48:09.718481445Z"
    }
   },
   "id": "4e85655de21c5796"
  },
  {
   "cell_type": "code",
   "execution_count": 2,
   "outputs": [],
   "source": [
    "class Agent:\n",
    "    def __init__(self, search_algorithm, initial_state):\n",
    "        self.search_algorithm = search_algorithm\n",
    "        self.view = initial_state\n",
    "        self.old_view = None\n",
    "\n",
    "    def do_action(self, current_state_world):\n",
    "        self.view = self.search_algorithm.search(current_state_world)\n",
    "        self.old_view = current_state_world\n",
    "        return self.view"
   ],
   "metadata": {
    "collapsed": false,
    "ExecuteTime": {
     "end_time": "2023-10-21T07:48:19.922657646Z",
     "start_time": "2023-10-21T07:48:19.894902037Z"
    }
   },
   "id": "initial_id"
  },
  {
   "cell_type": "markdown",
   "source": [],
   "metadata": {
    "collapsed": false
   },
   "id": "4f72addb8dde8ffe"
  }
 ],
 "metadata": {
  "kernelspec": {
   "display_name": "Python 3",
   "language": "python",
   "name": "python3"
  },
  "language_info": {
   "codemirror_mode": {
    "name": "ipython",
    "version": 2
   },
   "file_extension": ".py",
   "mimetype": "text/x-python",
   "name": "python",
   "nbconvert_exporter": "python",
   "pygments_lexer": "ipython2",
   "version": "2.7.6"
  }
 },
 "nbformat": 4,
 "nbformat_minor": 5
}
