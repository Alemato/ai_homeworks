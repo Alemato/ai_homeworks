{
 "cells": [
  {
   "cell_type": "markdown",
   "id": "7590f6b6cb75e33c",
   "metadata": {
    "collapsed": false
   },
   "source": [
    "## Reinforcement Learning Project\n",
    "\n",
    "**Studente:** Alessandro Mattei\n",
    "**Matricola:** 295441\n",
    "**Email:** alessandro.mattei1@student.univaq.it\n"
   ]
  },
  {
   "cell_type": "code",
   "outputs": [],
   "source": [
    "from utils import *\n",
    "import numpy as np\n",
    "import pandas as pd"
   ],
   "metadata": {
    "collapsed": false,
    "ExecuteTime": {
     "end_time": "2024-01-14T09:22:16.285226900Z",
     "start_time": "2024-01-14T09:22:15.901395300Z"
    }
   },
   "id": "652fd33c4d8fc31a",
   "execution_count": 1
  },
  {
   "cell_type": "markdown",
   "source": [
    "## Introduzione\n",
    "### Il problema del cuoco\n",
    "\n",
    "\n",
    "Consideriamo il caso in cui l'agente sia il vostro cuoco personale.\n",
    "\n",
    "In particolare, l'agente (lo smiley sulla mappa) vuole cucinare la ricetta delle uova in base alle\n",
    "indicazioni dell'utente (strapazzate o in un budino).\n",
    "\n",
    "Per cucinare la ricetta desiderata, l'agente deve prima raccogliere gli strumenti necessari (il frullino\n",
    "per le uova sulla mappa). Poi deve raggiungere i fornelli (la padella o il forno sulla mappa). Infine,\n",
    "può cucinare.\n",
    "\n",
    "Non che ci siano due speciali celle interconnesse (contrassegnate con 1a G) che permettono\n",
    "all'agente di passare da un lato all'altro della mappa. Ma per farlo, l'agente deve esprimere la sua\n",
    "volontà di andare dall'altra parte.\n",
    "\n",
    "Le celle in (4, 2) e (9, 3) sono i cancelli speciali. Permettono all'agente di passare da un lato\n",
    "all'altro della mappa. Queste due celle speciali sono collegate tra loro, ma l'agente deve esprimere\n",
    "la sua volontà di andare dall'altra parte.\n",
    "\n",
    "Dato che siete molto affamati, è fondamentale che l'agente cucini le uova secondo i vostri gusti\n",
    "(strapazzate/pudding) il più velocemente possibile senza farvi aspettare più del necessario.\n",
    "\n",
    "![Figura 1](imgs/figura_1.png \"figura 1\")\n",
    "\n",
    "Figura 1: Un'istanza particolare del problema di cottura di Chef. L'obiettivo è che l'agente\n",
    "attualmente situato nello stato (4, 3) abbia una politica che porti sempre a cucinare le uova nella\n",
    "posizione (1, 4) o (8, 4). Le celle in (4, 2) e (9, 3) sono quelle del cancello speciale.\n",
    "\n",
    "Consideriamo l'istanza mostrata nella Figura 1:\n",
    "- Nella figura, l'agente si trova in (4, 3) (ma può iniziare in qualsiasi cella della griglia).\n",
    "- L'agente ha bisogno di strumenti di cottura come il frullino per le uova in posizione (1, 3) e (8,3).\n",
    "- Ci sono due obiettivi finali diversi, visualizzati come la padella in posizione (1, 4) e il forno in posizione (8, 4).\n",
    "- Le celle in (4, 2) e (9, 3) sono i cancelli speciali. Permettono all'agente di passare da un lato all'afro della mappa. Queste due celle speciali sono collegate tra loro, ma l'agente deve esprimere la sua volontà di andare dall'altra parte.\n",
    "- L'agente non può muoversi in diagonale.\n",
    "- Le pareti sono rappresentate da linee nere spesse.\n",
    "- L'agente non può muoversi attraverso i muri.\n",
    "- Un episodio terminerà quando l'agente riuscirà a cucinare le uova strapazzate (vedi descrizione precedente)."
   ],
   "metadata": {
    "collapsed": false
   },
   "id": "8df2b63b6dbb4fea"
  },
  {
   "cell_type": "markdown",
   "source": [
    "## Analisi\n",
    "\n",
    "Per semplificare il problema consideriamo separatamente gli stati in cui l'agente non hanno in mano lo sbattitore da quelli che ha lo sbattitore (situato in posizione **(3,1)** e **(3.8)** visibile nelle foto in basso). \n",
    "Per far ciò ho duplicato la griglia.\n",
    "\n",
    "![Figura 2](imgs/figura_2.png \"figura 2\")\n",
    "\n",
    "Figura 2: prima griglia che contiene solo gli sbattitori\n",
    "\n",
    "Nella prima griglia (nella figura sopra), l'agente ha l'obiettivo di raggiungere uno dei due **sbattitori**.\n",
    "\n",
    "![Figura 3](imgs/figura_3.png \"figura 3\")\n",
    "\n",
    "Figura 3: seconda griglia che contiene solo le postazioni di cottura\n",
    "\n",
    "![Figura 4](imgs/figura_4.png \"figura 4\")\n",
    "\n",
    "Figura 4: griglia complessiva. Una volta che l'agente avrà preso uno sbattitore potrà andare nella griglia 2 per cucinare (come indicato dalle frecce).\n",
    "\n",
    "Non appena l'agente esegue l'azione **take_whiskr** da una delle due posizioni contenenti uno **sbattitore**, esso viene portato nella seconda griglia seguendo le frecce mostrate nella **figura 4**:\n",
    "- Se l'agente prende lo sbattitore in posizione **(3, 1)** nella griglia in basso, esso viene portato nella griglia in alto in posizione **(7, 1)**\n",
    "- Se l'agente prende lo sbattitore in posizione **(3, 8)** nella griglia in basso, esso viene portato nella griglia in alto in posizione **(7, 8)**\n",
    "\n",
    "Dopo aver raggiunto e **preso uno sbattitore**, l'agente deve raggiungere una delle due postazioni di cucina che sono nella griglia superiore (situati nelle posizioni **(8, 1)** e **(8, 8)** nella griglia in alto) per cucinare le uova (la postazione di cucina da raggiungere dipende dalla ricetta che l'agente deve cucinare)\n",
    "\n",
    "L'agente dovrà percorrere entrambe le griglie per raggiungere l'obiettivo finale. Dalla prima griglia alla seconda griglia.\n",
    "\n",
    "Nella seconda griglia (griglia situata in alto), l'agente ha l'obiettivo di raggiungere una delle due postazioni di cucina e di eseguire quindi l'azione **cook**:\n",
    "- la postazione di cucina per il piatto **scrambled eggs** è situato in posizione **(8, 1)**\n",
    "- la postazione di cucina per il piatto **pudding eggs** è situato in posizione **(8, 8)**\n",
    "\n",
    "In entrambe le griglie sono situati dei **Gate** che hanno la funzione di trasportare l'agente da una stanza all'altra delle stessa griglia, l'agente quando si trova su uno di questi può usare il **Gate** tramite l'azione **go_rigth** o **go_left**:\n",
    "- la postazione di **Gate** situato in posizione **(2, 4)** trasporta l'agente in posizione **(3, 9)** se effettua l'azione **go_right**\n",
    "- la postazione di **Gate** situato in posizione **(3, 9)** trasporta l'agente in posizione **(2, 4)** se effettua l'azione **go_left**\n",
    "- la postazione di **Gate** situato in posizione **(6, 4)** trasporta l'agente in posizione **(7, 9)** se effettua l'azione **go_right**\n",
    "- la postazione di **Gate** situato in posizione **(7, 9)** trasporta l'agente in posizione **(6, 4)** se effettua l'azione **go_left**"
   ],
   "metadata": {
    "collapsed": false
   },
   "id": "f225e4c8dbf53fc1"
  },
  {
   "cell_type": "markdown",
   "source": [
    "#### Definiamo tutti i possibili stati\n",
    "\n",
    "Ogni stato del sistema corrisponde a una posizione possibile che l'agente può assumere nella griglia.\n",
    "\n",
    "Tutte le posizione della **colonna 5** che non possono essere fisicamente raggiunte non saranno presenti tra gli stati possibili del problema (posizioni impossibili).\n",
    "\n",
    "Vediamo una rappresentazione in Tupla posizionale."
   ],
   "metadata": {
    "collapsed": false
   },
   "id": "ffe3328395238a23"
  },
  {
   "cell_type": "code",
   "outputs": [
    {
     "name": "stdout",
     "output_type": "stream",
     "text": [
      " (8, 1)  (8, 2)  (8, 3)  (8, 4)          (8, 6)  (8, 7)  (8, 8)  (8, 9) \n",
      " (7, 1)  (7, 2)  (7, 3)  (7, 4)          (7, 6)  (7, 7)  (7, 8)  (7, 9) \n",
      " (6, 1)  (6, 2)  (6, 3)  (6, 4)          (6, 6)  (6, 7)  (6, 8)  (6, 9) \n",
      " (5, 1)  (5, 2)  (5, 3)  (5, 4)          (5, 6)  (5, 7)  (5, 8)  (5, 9) \n",
      "\n",
      "\n",
      " (4, 1)  (4, 2)  (4, 3)  (4, 4)          (4, 6)  (4, 7)  (4, 8)  (4, 9) \n",
      " (3, 1)  (3, 2)  (3, 3)  (3, 4)          (3, 6)  (3, 7)  (3, 8)  (3, 9) \n",
      " (2, 1)  (2, 2)  (2, 3)  (2, 4)          (2, 6)  (2, 7)  (2, 8)  (2, 9) \n",
      " (1, 1)  (1, 2)  (1, 3)  (1, 4)          (1, 6)  (1, 7)  (1, 8)  (1, 9) \n"
     ]
    }
   ],
   "source": [
    "print_states(dict_view=True)"
   ],
   "metadata": {
    "collapsed": false,
    "ExecuteTime": {
     "end_time": "2024-01-14T09:22:16.292570Z",
     "start_time": "2024-01-14T09:22:16.285226900Z"
    }
   },
   "id": "7556adbebecdd2de",
   "execution_count": 2
  },
  {
   "cell_type": "markdown",
   "source": [
    "Vediamo una rappresentazione dei stati in versione numerica."
   ],
   "metadata": {
    "collapsed": false
   },
   "id": "1c58c64532a9ef11"
  },
  {
   "cell_type": "code",
   "outputs": [
    {
     "name": "stdout",
     "output_type": "stream",
     "text": [
      " 56  57  58  59      60  61  62  63 \n",
      " 48  49  50  51      52  53  54  55 \n",
      " 40  41  42  43      44  45  46  47 \n",
      " 32  33  34  35      36  37  38  39 \n",
      "\n",
      "\n",
      " 24  25  26  27      28  29  30  31 \n",
      " 16  17  18  19      20  21  22  23 \n",
      " 8   9   10  11      12  13  14  15 \n",
      " 0   1   2   3       4   5   6   7  \n"
     ]
    }
   ],
   "source": [
    "print_states()"
   ],
   "metadata": {
    "collapsed": false,
    "ExecuteTime": {
     "end_time": "2024-01-14T09:22:16.308614300Z",
     "start_time": "2024-01-14T09:22:16.292570Z"
    }
   },
   "id": "fa71828cda8111ae",
   "execution_count": 3
  },
  {
   "cell_type": "markdown",
   "source": [
    "Il numero totale di Stati è 64."
   ],
   "metadata": {
    "collapsed": false
   },
   "id": "150303ff048070c5"
  },
  {
   "cell_type": "code",
   "outputs": [
    {
     "data": {
      "text/plain": "array([ 0,  1,  2,  3,  4,  5,  6,  7,  8,  9, 10, 11, 12, 13, 14, 15, 16,\n       17, 18, 19, 20, 21, 22, 23, 24, 25, 26, 27, 28, 29, 30, 31, 32, 33,\n       34, 35, 36, 37, 38, 39, 40, 41, 42, 43, 44, 45, 46, 47, 48, 49, 50,\n       51, 52, 53, 54, 55, 56, 57, 58, 59, 60, 61, 62, 63], dtype=int64)"
     },
     "execution_count": 4,
     "metadata": {},
     "output_type": "execute_result"
    }
   ],
   "source": [
    "cooking_chef_states_tuples, cooking_chef_tuples_states = create_problem_grid()\n",
    "S = np.array(list(cooking_chef_states_tuples.keys()), dtype=np.int64)\n",
    "S"
   ],
   "metadata": {
    "collapsed": false,
    "ExecuteTime": {
     "end_time": "2024-01-14T09:22:16.315769700Z",
     "start_time": "2024-01-14T09:22:16.303280Z"
    }
   },
   "id": "c09865b900ee9da9",
   "execution_count": 4
  },
  {
   "cell_type": "markdown",
   "source": [
    "## Definizioni delle azioni Possibili\n",
    "\n",
    "L'agente può effettuare le **azioni di movimento** (**left**, **right**, **up**, **down**) e inoltre può effettuare alcune azioni specifiche per specifichi stati:\n",
    "- L'azione **take_whiskr** corrisponde all'azione di prendere lo sbattitore. A seguito della sua applicazione, l'agente viene portato nella seconda griglia.\n",
    "- L'azione **go_right** corrisponde all'azione di utilizzo del Gate posizionato nella stanza di sinistra. A seguito della sua applicazione, l'agente viene portato nella seconda stanza dalle prima stanza.\n",
    "- L'azione **go_left** corrisponde all'azione di utilizzo del Gate posizionato nella stanza di destra. A seguito della sua applicazione, l'agente viene portato nella prima stanza dalla seconda stanza.\n",
    "- L'azione **cook** corrisponde all'azione di cucinare le uova. In questo caso, l'applicazione di questa azione porta l'agente a rimanere fermo (absorbing state). L'esecuzione di questa azione rappresenta l'obiettivo finale dell'agente\n",
    "\n",
    "L'insieme **A** è il seguente:\n",
    "- azione 0: **left ←**\n",
    "- azione 1: **right →**\n",
    "- azione 2: **up ↑**\n",
    "- azione 3: **down ↓**\n",
    "- azione 4: **take_whiskr T**\n",
    "- azione 5: **go_right R**\n",
    "- azione 6: **go_left L**\n",
    "- azione 7: **cook C**"
   ],
   "metadata": {
    "collapsed": false
   },
   "id": "3cb737627aabc4d1"
  },
  {
   "cell_type": "code",
   "outputs": [
    {
     "data": {
      "text/plain": "array([0, 1, 2, 3, 4, 5, 6, 7], dtype=int64)"
     },
     "execution_count": 5,
     "metadata": {},
     "output_type": "execute_result"
    }
   ],
   "source": [
    "left = 0\n",
    "right = 1\n",
    "up = 2\n",
    "down = 3\n",
    "take_whiskr = 4\n",
    "go_right = 5\n",
    "go_left = 6\n",
    "cook = 7\n",
    "\n",
    "actions = [left, right, up, down, take_whiskr, go_right, go_left, cook]\n",
    "\n",
    "A = np.array(actions, dtype=np.int64)\n",
    "A"
   ],
   "metadata": {
    "collapsed": false,
    "ExecuteTime": {
     "end_time": "2024-01-14T09:22:16.357157100Z",
     "start_time": "2024-01-14T09:22:16.313627500Z"
    }
   },
   "id": "efb00b42f380c370",
   "execution_count": 5
  },
  {
   "cell_type": "markdown",
   "source": [
    "Costruiamo ora una mappa delle azioni possibili per ogni stato.\n",
    "In questo caso modelliamo questa mappa per permettere entrambe le ricette contemporaneamente, ma in seguito se decidiamo una ricetta elimineremo l'azione di cucinare in funzione della ricetta:\n",
    "-  Se si decide di cucinare **scrambled eggs (8, 1)** allora l'azione **cook** allo stato **62 (8,8)** verrà eliminata dalla mappa\n",
    "-  Se si decide di cucinare **pudding eggs (8,8)** allora l'azione **cook** allo stato **56 (8,1)** verrà eliminata dalla mappa\n",
    "\n",
    "Un'altra alternativa alla rimozione dell'azione **cook** è quella di impostare una ricompensa estremamente negativa e svantaggiosa, così da non farla prediligere rispetto alle altre azioni possibili."
   ],
   "metadata": {
    "collapsed": false
   },
   "id": "3c60ec22c189cedb"
  },
  {
   "cell_type": "code",
   "outputs": [],
   "source": [
    "states_actions_mapping = {\n",
    "    0: [1],\n",
    "    1: [0, 1],\n",
    "    2: [0, 1],\n",
    "    3: [0, 2],\n",
    "    4: [1, 2],\n",
    "    5: [0, 1, 2],\n",
    "    6: [0, 1],\n",
    "    7: [0, 2],\n",
    "    8: [1, 2],\n",
    "    9: [0, 1],\n",
    "    10: [0, 1],\n",
    "    11: [0, 2, 3, 5],\n",
    "    12: [1, 2, 3],\n",
    "    13: [0, 2, 3],\n",
    "    14: [1, 2],\n",
    "    15: [0, 2, 3],\n",
    "    16: [3, 4],\n",
    "    17: [1, 2],\n",
    "    18: [0, 1, 2],\n",
    "    19: [0, 2, 3],\n",
    "    20: [1, 2, 3],\n",
    "    21: [0, 2, 3],\n",
    "    22: [1, 3, 4],\n",
    "    23: [0, 3, 6],\n",
    "    24: [1],\n",
    "    25: [0, 1, 3],\n",
    "    26: [0, 1, 3],\n",
    "    27: [0, 3],\n",
    "    28: [1, 3],\n",
    "    29: [0, 1, 3],\n",
    "    30: [0, 1],\n",
    "    31: [0],\n",
    "\n",
    "    32: [1],\n",
    "    33: [0, 1],\n",
    "    34: [0, 1],\n",
    "    35: [0, 2],\n",
    "    36: [1, 2],\n",
    "    37: [0, 1, 2],\n",
    "    38: [0, 1],\n",
    "    39: [0, 2],\n",
    "    40: [1, 2],\n",
    "    41: [0, 1],\n",
    "    42: [0, 1],\n",
    "    43: [0, 2, 3, 5],\n",
    "    44: [1, 2, 3],\n",
    "    45: [0, 2, 3],\n",
    "    46: [1, 2],\n",
    "    47: [0, 2, 3],\n",
    "    48: [3],\n",
    "    49: [1, 2],\n",
    "    50: [0, 1, 2],\n",
    "    51: [0, 2, 3],\n",
    "    52: [1, 2, 3],\n",
    "    53: [0, 2, 3],\n",
    "    54: [1, 3],\n",
    "    55: [0, 3, 6],\n",
    "    56: [1, 7],\n",
    "    57: [0, 1, 3],\n",
    "    58: [0, 1, 3],\n",
    "    59: [0, 3],\n",
    "    60: [1, 3],\n",
    "    61: [0, 1, 3],\n",
    "    62: [0, 1, 7],\n",
    "    63: [0]\n",
    "}\n",
    "\n",
    "mapping = convert_to_numpy_array(states_actions_mapping, S, A);"
   ],
   "metadata": {
    "collapsed": false,
    "ExecuteTime": {
     "end_time": "2024-01-14T09:22:16.358186Z",
     "start_time": "2024-01-14T09:22:16.324065200Z"
    }
   },
   "id": "ccc9d69a6e012d0c",
   "execution_count": 6
  },
  {
   "cell_type": "markdown",
   "source": [
    "## Creazione insieme di Transizioni P \n",
    "### d) Report the transition function $P$ for an state $s$ and action $a$ in a tabular format.\n",
    "\n",
    "Creiamo la matrice a 3 dimensioni di transizione $P[A, S, S']$:\n",
    "- $A$: sono le Azioni\n",
    "- $S$: sono gli stati sorgente\n",
    "- $S'$: sono gli stati di destinazione\n",
    "\n",
    "Modelliamo il problema assumendo che non ci sono effetti imprevisti a seguito dell'applicazione delle azioni:\n",
    "\n",
    "da uno stato **sorgente** applicando l'**azione**, abbiamo soltanto **uno stato destinazione** (stato raggiungibile con probabilità **1**)\n",
    "\n",
    "![Figura 5](imgs/figura_5.png \"figura 5\")\n",
    "Figura 5: Esempio di comportamento dell'agente a seguito dell'applicazione dell'azione **up**"
   ],
   "metadata": {
    "collapsed": false
   },
   "id": "52e97ff429f0bafc"
  },
  {
   "cell_type": "code",
   "outputs": [],
   "source": [
    "def next_state(s: int, a: int):\n",
    "    state_tuple = cooking_chef_states_tuples[s]\n",
    "    tile = state_tuple\n",
    "    if a == 0 and a in states_actions_mapping[s]:\n",
    "        # azione left\n",
    "        tile = (state_tuple[0], state_tuple[1] - 1)\n",
    "    elif a == 1 and a in states_actions_mapping[s]:\n",
    "        # azione right\n",
    "        tile = (state_tuple[0], state_tuple[1] + 1)\n",
    "    elif a == 2 and a in states_actions_mapping[s]:\n",
    "        # azione up\n",
    "        tile = (state_tuple[0] + 1, state_tuple[1])\n",
    "    elif a == 3 and a in states_actions_mapping[s]:\n",
    "        # azione down\n",
    "        tile = (state_tuple[0] - 1, state_tuple[1])\n",
    "    elif a == 4 and a in states_actions_mapping[s]:\n",
    "        # azione take_whiskr\n",
    "        if s == 16:\n",
    "            # azione take_whiskr dallo stato 16 (16 -> 48)\n",
    "            tile = cooking_chef_states_tuples[48]\n",
    "        elif s == 22:\n",
    "            # azione take_whiskr dallo stato 22 (22 -> 54)\n",
    "            tile = cooking_chef_states_tuples[54]\n",
    "        else:\n",
    "            raise RuntimeError(\"Azione take_whiskr non valida\")\n",
    "    elif a == 5 and a in states_actions_mapping[s]:\n",
    "        # azione go_right\n",
    "        if s == 11:\n",
    "            # azione go_right dallo stato 11 (11 -> 23)\n",
    "            tile = cooking_chef_states_tuples[23]\n",
    "        elif s == 43:\n",
    "            # azione go_right dallo stato 43 (43 -> 55)\n",
    "            tile = cooking_chef_states_tuples[55]\n",
    "        else:\n",
    "            raise RuntimeError(\"Azione go_right non valida\")\n",
    "    elif a == 6 and a in states_actions_mapping[s]:\n",
    "        # azione go_left\n",
    "        if s == 23:\n",
    "            # azione go_left dallo stato 23 (23 -> 11)\n",
    "            tile = cooking_chef_states_tuples[11]\n",
    "        elif s == 55:\n",
    "            # azione go_left dallo stato 55 (55 -> 43)\n",
    "            tile = cooking_chef_states_tuples[43]\n",
    "        else:\n",
    "            raise RuntimeError(\"Azione go_left non valida\")\n",
    "    elif a == 7 and a in states_actions_mapping[s]:\n",
    "        # azione cook\n",
    "        tile = state_tuple\n",
    "    else:\n",
    "        # azione non possibile\n",
    "        tile = state_tuple\n",
    "\n",
    "    return cooking_chef_tuples_states[tile]\n",
    "\n",
    "\n",
    "def get_possible_actions_from_state(s: int):\n",
    "    actions = []\n",
    "    for a in A:\n",
    "        if mapping[s, a] > 0.0:\n",
    "            actions.append(a)\n",
    "    return actions\n",
    "\n",
    "\n",
    "def generate_transitions(\n",
    "        actions: np.ndarray, states: np.ndarray\n",
    "):\n",
    "    transitions = np.zeros(\n",
    "        shape=(len(actions), len(states), len(states)), dtype=np.float64\n",
    "    )\n",
    "\n",
    "    for state in states:\n",
    "        for action in get_possible_actions_from_state(state):\n",
    "            if mapping[state, action] > 0.0:\n",
    "                # l'azione `action` è possibile dallo stato `state`\n",
    "                # non ci sono effetti imprevisti, c'è solo uno stato destinazione\n",
    "                # raggiungibile con probabilità 1\n",
    "                transitions[action, state, next_state(state, action)] = 1\n",
    "\n",
    "    return transitions\n",
    "\n",
    "\n",
    "P = generate_transitions(A, S)"
   ],
   "metadata": {
    "collapsed": false,
    "ExecuteTime": {
     "end_time": "2024-01-14T09:22:16.371841100Z",
     "start_time": "2024-01-14T09:22:16.333869200Z"
    }
   },
   "id": "546b08283524fa89",
   "execution_count": 7
  },
  {
   "cell_type": "code",
   "outputs": [
    {
     "data": {
      "text/plain": "0"
     },
     "execution_count": 8,
     "metadata": {},
     "output_type": "execute_result"
    }
   ],
   "source": [
    "next_state(0, 0)"
   ],
   "metadata": {
    "collapsed": false,
    "ExecuteTime": {
     "end_time": "2024-01-14T09:22:16.396612800Z",
     "start_time": "2024-01-14T09:22:16.344965900Z"
    }
   },
   "id": "2fbcdea9b1a876de",
   "execution_count": 8
  },
  {
   "cell_type": "markdown",
   "source": [
    "Costruiamo le varie matrici di transizione $P$ per ogni azione specificata.\n",
    "\n",
    "Stampiamo una tabella che descrive una matrice $S X S'$ per l'azione scelta.\n",
    "$P[left, S, S']$"
   ],
   "metadata": {
    "collapsed": false
   },
   "id": "a696a9549a1183c3"
  },
  {
   "cell_type": "code",
   "outputs": [
    {
     "data": {
      "text/plain": "        s0   s1   s2   s3   s4   s5   s6   s7   s8   s9  ...  s54  s55  s56  \\\nStati                                                    ...                  \ns0     0.0  0.0  0.0  0.0  0.0  0.0  0.0  0.0  0.0  0.0  ...  0.0  0.0  0.0   \ns1     1.0  0.0  0.0  0.0  0.0  0.0  0.0  0.0  0.0  0.0  ...  0.0  0.0  0.0   \ns2     0.0  1.0  0.0  0.0  0.0  0.0  0.0  0.0  0.0  0.0  ...  0.0  0.0  0.0   \ns3     0.0  0.0  1.0  0.0  0.0  0.0  0.0  0.0  0.0  0.0  ...  0.0  0.0  0.0   \ns4     0.0  0.0  0.0  0.0  0.0  0.0  0.0  0.0  0.0  0.0  ...  0.0  0.0  0.0   \n...    ...  ...  ...  ...  ...  ...  ...  ...  ...  ...  ...  ...  ...  ...   \ns59    0.0  0.0  0.0  0.0  0.0  0.0  0.0  0.0  0.0  0.0  ...  0.0  0.0  0.0   \ns60    0.0  0.0  0.0  0.0  0.0  0.0  0.0  0.0  0.0  0.0  ...  0.0  0.0  0.0   \ns61    0.0  0.0  0.0  0.0  0.0  0.0  0.0  0.0  0.0  0.0  ...  0.0  0.0  0.0   \ns62    0.0  0.0  0.0  0.0  0.0  0.0  0.0  0.0  0.0  0.0  ...  0.0  0.0  0.0   \ns63    0.0  0.0  0.0  0.0  0.0  0.0  0.0  0.0  0.0  0.0  ...  0.0  0.0  0.0   \n\n       s57  s58  s59  s60  s61  s62  s63  \nStati                                     \ns0     0.0  0.0  0.0  0.0  0.0  0.0  0.0  \ns1     0.0  0.0  0.0  0.0  0.0  0.0  0.0  \ns2     0.0  0.0  0.0  0.0  0.0  0.0  0.0  \ns3     0.0  0.0  0.0  0.0  0.0  0.0  0.0  \ns4     0.0  0.0  0.0  0.0  0.0  0.0  0.0  \n...    ...  ...  ...  ...  ...  ...  ...  \ns59    0.0  1.0  0.0  0.0  0.0  0.0  0.0  \ns60    0.0  0.0  0.0  0.0  0.0  0.0  0.0  \ns61    0.0  0.0  0.0  1.0  0.0  0.0  0.0  \ns62    0.0  0.0  0.0  0.0  1.0  0.0  0.0  \ns63    0.0  0.0  0.0  0.0  0.0  1.0  0.0  \n\n[64 rows x 64 columns]",
      "text/html": "<div>\n<style scoped>\n    .dataframe tbody tr th:only-of-type {\n        vertical-align: middle;\n    }\n\n    .dataframe tbody tr th {\n        vertical-align: top;\n    }\n\n    .dataframe thead th {\n        text-align: right;\n    }\n</style>\n<table border=\"1\" class=\"dataframe\">\n  <thead>\n    <tr style=\"text-align: right;\">\n      <th></th>\n      <th>s0</th>\n      <th>s1</th>\n      <th>s2</th>\n      <th>s3</th>\n      <th>s4</th>\n      <th>s5</th>\n      <th>s6</th>\n      <th>s7</th>\n      <th>s8</th>\n      <th>s9</th>\n      <th>...</th>\n      <th>s54</th>\n      <th>s55</th>\n      <th>s56</th>\n      <th>s57</th>\n      <th>s58</th>\n      <th>s59</th>\n      <th>s60</th>\n      <th>s61</th>\n      <th>s62</th>\n      <th>s63</th>\n    </tr>\n    <tr>\n      <th>Stati</th>\n      <th></th>\n      <th></th>\n      <th></th>\n      <th></th>\n      <th></th>\n      <th></th>\n      <th></th>\n      <th></th>\n      <th></th>\n      <th></th>\n      <th></th>\n      <th></th>\n      <th></th>\n      <th></th>\n      <th></th>\n      <th></th>\n      <th></th>\n      <th></th>\n      <th></th>\n      <th></th>\n      <th></th>\n    </tr>\n  </thead>\n  <tbody>\n    <tr>\n      <th>s0</th>\n      <td>0.0</td>\n      <td>0.0</td>\n      <td>0.0</td>\n      <td>0.0</td>\n      <td>0.0</td>\n      <td>0.0</td>\n      <td>0.0</td>\n      <td>0.0</td>\n      <td>0.0</td>\n      <td>0.0</td>\n      <td>...</td>\n      <td>0.0</td>\n      <td>0.0</td>\n      <td>0.0</td>\n      <td>0.0</td>\n      <td>0.0</td>\n      <td>0.0</td>\n      <td>0.0</td>\n      <td>0.0</td>\n      <td>0.0</td>\n      <td>0.0</td>\n    </tr>\n    <tr>\n      <th>s1</th>\n      <td>1.0</td>\n      <td>0.0</td>\n      <td>0.0</td>\n      <td>0.0</td>\n      <td>0.0</td>\n      <td>0.0</td>\n      <td>0.0</td>\n      <td>0.0</td>\n      <td>0.0</td>\n      <td>0.0</td>\n      <td>...</td>\n      <td>0.0</td>\n      <td>0.0</td>\n      <td>0.0</td>\n      <td>0.0</td>\n      <td>0.0</td>\n      <td>0.0</td>\n      <td>0.0</td>\n      <td>0.0</td>\n      <td>0.0</td>\n      <td>0.0</td>\n    </tr>\n    <tr>\n      <th>s2</th>\n      <td>0.0</td>\n      <td>1.0</td>\n      <td>0.0</td>\n      <td>0.0</td>\n      <td>0.0</td>\n      <td>0.0</td>\n      <td>0.0</td>\n      <td>0.0</td>\n      <td>0.0</td>\n      <td>0.0</td>\n      <td>...</td>\n      <td>0.0</td>\n      <td>0.0</td>\n      <td>0.0</td>\n      <td>0.0</td>\n      <td>0.0</td>\n      <td>0.0</td>\n      <td>0.0</td>\n      <td>0.0</td>\n      <td>0.0</td>\n      <td>0.0</td>\n    </tr>\n    <tr>\n      <th>s3</th>\n      <td>0.0</td>\n      <td>0.0</td>\n      <td>1.0</td>\n      <td>0.0</td>\n      <td>0.0</td>\n      <td>0.0</td>\n      <td>0.0</td>\n      <td>0.0</td>\n      <td>0.0</td>\n      <td>0.0</td>\n      <td>...</td>\n      <td>0.0</td>\n      <td>0.0</td>\n      <td>0.0</td>\n      <td>0.0</td>\n      <td>0.0</td>\n      <td>0.0</td>\n      <td>0.0</td>\n      <td>0.0</td>\n      <td>0.0</td>\n      <td>0.0</td>\n    </tr>\n    <tr>\n      <th>s4</th>\n      <td>0.0</td>\n      <td>0.0</td>\n      <td>0.0</td>\n      <td>0.0</td>\n      <td>0.0</td>\n      <td>0.0</td>\n      <td>0.0</td>\n      <td>0.0</td>\n      <td>0.0</td>\n      <td>0.0</td>\n      <td>...</td>\n      <td>0.0</td>\n      <td>0.0</td>\n      <td>0.0</td>\n      <td>0.0</td>\n      <td>0.0</td>\n      <td>0.0</td>\n      <td>0.0</td>\n      <td>0.0</td>\n      <td>0.0</td>\n      <td>0.0</td>\n    </tr>\n    <tr>\n      <th>...</th>\n      <td>...</td>\n      <td>...</td>\n      <td>...</td>\n      <td>...</td>\n      <td>...</td>\n      <td>...</td>\n      <td>...</td>\n      <td>...</td>\n      <td>...</td>\n      <td>...</td>\n      <td>...</td>\n      <td>...</td>\n      <td>...</td>\n      <td>...</td>\n      <td>...</td>\n      <td>...</td>\n      <td>...</td>\n      <td>...</td>\n      <td>...</td>\n      <td>...</td>\n      <td>...</td>\n    </tr>\n    <tr>\n      <th>s59</th>\n      <td>0.0</td>\n      <td>0.0</td>\n      <td>0.0</td>\n      <td>0.0</td>\n      <td>0.0</td>\n      <td>0.0</td>\n      <td>0.0</td>\n      <td>0.0</td>\n      <td>0.0</td>\n      <td>0.0</td>\n      <td>...</td>\n      <td>0.0</td>\n      <td>0.0</td>\n      <td>0.0</td>\n      <td>0.0</td>\n      <td>1.0</td>\n      <td>0.0</td>\n      <td>0.0</td>\n      <td>0.0</td>\n      <td>0.0</td>\n      <td>0.0</td>\n    </tr>\n    <tr>\n      <th>s60</th>\n      <td>0.0</td>\n      <td>0.0</td>\n      <td>0.0</td>\n      <td>0.0</td>\n      <td>0.0</td>\n      <td>0.0</td>\n      <td>0.0</td>\n      <td>0.0</td>\n      <td>0.0</td>\n      <td>0.0</td>\n      <td>...</td>\n      <td>0.0</td>\n      <td>0.0</td>\n      <td>0.0</td>\n      <td>0.0</td>\n      <td>0.0</td>\n      <td>0.0</td>\n      <td>0.0</td>\n      <td>0.0</td>\n      <td>0.0</td>\n      <td>0.0</td>\n    </tr>\n    <tr>\n      <th>s61</th>\n      <td>0.0</td>\n      <td>0.0</td>\n      <td>0.0</td>\n      <td>0.0</td>\n      <td>0.0</td>\n      <td>0.0</td>\n      <td>0.0</td>\n      <td>0.0</td>\n      <td>0.0</td>\n      <td>0.0</td>\n      <td>...</td>\n      <td>0.0</td>\n      <td>0.0</td>\n      <td>0.0</td>\n      <td>0.0</td>\n      <td>0.0</td>\n      <td>0.0</td>\n      <td>1.0</td>\n      <td>0.0</td>\n      <td>0.0</td>\n      <td>0.0</td>\n    </tr>\n    <tr>\n      <th>s62</th>\n      <td>0.0</td>\n      <td>0.0</td>\n      <td>0.0</td>\n      <td>0.0</td>\n      <td>0.0</td>\n      <td>0.0</td>\n      <td>0.0</td>\n      <td>0.0</td>\n      <td>0.0</td>\n      <td>0.0</td>\n      <td>...</td>\n      <td>0.0</td>\n      <td>0.0</td>\n      <td>0.0</td>\n      <td>0.0</td>\n      <td>0.0</td>\n      <td>0.0</td>\n      <td>0.0</td>\n      <td>1.0</td>\n      <td>0.0</td>\n      <td>0.0</td>\n    </tr>\n    <tr>\n      <th>s63</th>\n      <td>0.0</td>\n      <td>0.0</td>\n      <td>0.0</td>\n      <td>0.0</td>\n      <td>0.0</td>\n      <td>0.0</td>\n      <td>0.0</td>\n      <td>0.0</td>\n      <td>0.0</td>\n      <td>0.0</td>\n      <td>...</td>\n      <td>0.0</td>\n      <td>0.0</td>\n      <td>0.0</td>\n      <td>0.0</td>\n      <td>0.0</td>\n      <td>0.0</td>\n      <td>0.0</td>\n      <td>0.0</td>\n      <td>1.0</td>\n      <td>0.0</td>\n    </tr>\n  </tbody>\n</table>\n<p>64 rows × 64 columns</p>\n</div>"
     },
     "execution_count": 9,
     "metadata": {},
     "output_type": "execute_result"
    }
   ],
   "source": [
    "transition_left = print_transitions_matrix(p=P, action=left)\n",
    "transition_left.to_csv(\"transitions/transition_left.csv\")\n",
    "transition_left"
   ],
   "metadata": {
    "collapsed": false,
    "ExecuteTime": {
     "end_time": "2024-01-14T09:22:16.399214700Z",
     "start_time": "2024-01-14T09:22:16.354053800Z"
    }
   },
   "id": "696e2c650b852966",
   "execution_count": 9
  },
  {
   "cell_type": "markdown",
   "source": [
    "<p>\n",
    "$P[right, S, S']$\n",
    "</p>"
   ],
   "metadata": {
    "collapsed": false
   },
   "id": "b6265cce5f9992dc"
  },
  {
   "cell_type": "code",
   "outputs": [
    {
     "data": {
      "text/plain": "        s0   s1   s2   s3   s4   s5   s6   s7   s8   s9  ...  s54  s55  s56  \\\nStati                                                    ...                  \ns0     0.0  1.0  0.0  0.0  0.0  0.0  0.0  0.0  0.0  0.0  ...  0.0  0.0  0.0   \ns1     0.0  0.0  1.0  0.0  0.0  0.0  0.0  0.0  0.0  0.0  ...  0.0  0.0  0.0   \ns2     0.0  0.0  0.0  1.0  0.0  0.0  0.0  0.0  0.0  0.0  ...  0.0  0.0  0.0   \ns3     0.0  0.0  0.0  0.0  0.0  0.0  0.0  0.0  0.0  0.0  ...  0.0  0.0  0.0   \ns4     0.0  0.0  0.0  0.0  0.0  1.0  0.0  0.0  0.0  0.0  ...  0.0  0.0  0.0   \n...    ...  ...  ...  ...  ...  ...  ...  ...  ...  ...  ...  ...  ...  ...   \ns59    0.0  0.0  0.0  0.0  0.0  0.0  0.0  0.0  0.0  0.0  ...  0.0  0.0  0.0   \ns60    0.0  0.0  0.0  0.0  0.0  0.0  0.0  0.0  0.0  0.0  ...  0.0  0.0  0.0   \ns61    0.0  0.0  0.0  0.0  0.0  0.0  0.0  0.0  0.0  0.0  ...  0.0  0.0  0.0   \ns62    0.0  0.0  0.0  0.0  0.0  0.0  0.0  0.0  0.0  0.0  ...  0.0  0.0  0.0   \ns63    0.0  0.0  0.0  0.0  0.0  0.0  0.0  0.0  0.0  0.0  ...  0.0  0.0  0.0   \n\n       s57  s58  s59  s60  s61  s62  s63  \nStati                                     \ns0     0.0  0.0  0.0  0.0  0.0  0.0  0.0  \ns1     0.0  0.0  0.0  0.0  0.0  0.0  0.0  \ns2     0.0  0.0  0.0  0.0  0.0  0.0  0.0  \ns3     0.0  0.0  0.0  0.0  0.0  0.0  0.0  \ns4     0.0  0.0  0.0  0.0  0.0  0.0  0.0  \n...    ...  ...  ...  ...  ...  ...  ...  \ns59    0.0  0.0  0.0  0.0  0.0  0.0  0.0  \ns60    0.0  0.0  0.0  0.0  1.0  0.0  0.0  \ns61    0.0  0.0  0.0  0.0  0.0  1.0  0.0  \ns62    0.0  0.0  0.0  0.0  0.0  0.0  1.0  \ns63    0.0  0.0  0.0  0.0  0.0  0.0  0.0  \n\n[64 rows x 64 columns]",
      "text/html": "<div>\n<style scoped>\n    .dataframe tbody tr th:only-of-type {\n        vertical-align: middle;\n    }\n\n    .dataframe tbody tr th {\n        vertical-align: top;\n    }\n\n    .dataframe thead th {\n        text-align: right;\n    }\n</style>\n<table border=\"1\" class=\"dataframe\">\n  <thead>\n    <tr style=\"text-align: right;\">\n      <th></th>\n      <th>s0</th>\n      <th>s1</th>\n      <th>s2</th>\n      <th>s3</th>\n      <th>s4</th>\n      <th>s5</th>\n      <th>s6</th>\n      <th>s7</th>\n      <th>s8</th>\n      <th>s9</th>\n      <th>...</th>\n      <th>s54</th>\n      <th>s55</th>\n      <th>s56</th>\n      <th>s57</th>\n      <th>s58</th>\n      <th>s59</th>\n      <th>s60</th>\n      <th>s61</th>\n      <th>s62</th>\n      <th>s63</th>\n    </tr>\n    <tr>\n      <th>Stati</th>\n      <th></th>\n      <th></th>\n      <th></th>\n      <th></th>\n      <th></th>\n      <th></th>\n      <th></th>\n      <th></th>\n      <th></th>\n      <th></th>\n      <th></th>\n      <th></th>\n      <th></th>\n      <th></th>\n      <th></th>\n      <th></th>\n      <th></th>\n      <th></th>\n      <th></th>\n      <th></th>\n      <th></th>\n    </tr>\n  </thead>\n  <tbody>\n    <tr>\n      <th>s0</th>\n      <td>0.0</td>\n      <td>1.0</td>\n      <td>0.0</td>\n      <td>0.0</td>\n      <td>0.0</td>\n      <td>0.0</td>\n      <td>0.0</td>\n      <td>0.0</td>\n      <td>0.0</td>\n      <td>0.0</td>\n      <td>...</td>\n      <td>0.0</td>\n      <td>0.0</td>\n      <td>0.0</td>\n      <td>0.0</td>\n      <td>0.0</td>\n      <td>0.0</td>\n      <td>0.0</td>\n      <td>0.0</td>\n      <td>0.0</td>\n      <td>0.0</td>\n    </tr>\n    <tr>\n      <th>s1</th>\n      <td>0.0</td>\n      <td>0.0</td>\n      <td>1.0</td>\n      <td>0.0</td>\n      <td>0.0</td>\n      <td>0.0</td>\n      <td>0.0</td>\n      <td>0.0</td>\n      <td>0.0</td>\n      <td>0.0</td>\n      <td>...</td>\n      <td>0.0</td>\n      <td>0.0</td>\n      <td>0.0</td>\n      <td>0.0</td>\n      <td>0.0</td>\n      <td>0.0</td>\n      <td>0.0</td>\n      <td>0.0</td>\n      <td>0.0</td>\n      <td>0.0</td>\n    </tr>\n    <tr>\n      <th>s2</th>\n      <td>0.0</td>\n      <td>0.0</td>\n      <td>0.0</td>\n      <td>1.0</td>\n      <td>0.0</td>\n      <td>0.0</td>\n      <td>0.0</td>\n      <td>0.0</td>\n      <td>0.0</td>\n      <td>0.0</td>\n      <td>...</td>\n      <td>0.0</td>\n      <td>0.0</td>\n      <td>0.0</td>\n      <td>0.0</td>\n      <td>0.0</td>\n      <td>0.0</td>\n      <td>0.0</td>\n      <td>0.0</td>\n      <td>0.0</td>\n      <td>0.0</td>\n    </tr>\n    <tr>\n      <th>s3</th>\n      <td>0.0</td>\n      <td>0.0</td>\n      <td>0.0</td>\n      <td>0.0</td>\n      <td>0.0</td>\n      <td>0.0</td>\n      <td>0.0</td>\n      <td>0.0</td>\n      <td>0.0</td>\n      <td>0.0</td>\n      <td>...</td>\n      <td>0.0</td>\n      <td>0.0</td>\n      <td>0.0</td>\n      <td>0.0</td>\n      <td>0.0</td>\n      <td>0.0</td>\n      <td>0.0</td>\n      <td>0.0</td>\n      <td>0.0</td>\n      <td>0.0</td>\n    </tr>\n    <tr>\n      <th>s4</th>\n      <td>0.0</td>\n      <td>0.0</td>\n      <td>0.0</td>\n      <td>0.0</td>\n      <td>0.0</td>\n      <td>1.0</td>\n      <td>0.0</td>\n      <td>0.0</td>\n      <td>0.0</td>\n      <td>0.0</td>\n      <td>...</td>\n      <td>0.0</td>\n      <td>0.0</td>\n      <td>0.0</td>\n      <td>0.0</td>\n      <td>0.0</td>\n      <td>0.0</td>\n      <td>0.0</td>\n      <td>0.0</td>\n      <td>0.0</td>\n      <td>0.0</td>\n    </tr>\n    <tr>\n      <th>...</th>\n      <td>...</td>\n      <td>...</td>\n      <td>...</td>\n      <td>...</td>\n      <td>...</td>\n      <td>...</td>\n      <td>...</td>\n      <td>...</td>\n      <td>...</td>\n      <td>...</td>\n      <td>...</td>\n      <td>...</td>\n      <td>...</td>\n      <td>...</td>\n      <td>...</td>\n      <td>...</td>\n      <td>...</td>\n      <td>...</td>\n      <td>...</td>\n      <td>...</td>\n      <td>...</td>\n    </tr>\n    <tr>\n      <th>s59</th>\n      <td>0.0</td>\n      <td>0.0</td>\n      <td>0.0</td>\n      <td>0.0</td>\n      <td>0.0</td>\n      <td>0.0</td>\n      <td>0.0</td>\n      <td>0.0</td>\n      <td>0.0</td>\n      <td>0.0</td>\n      <td>...</td>\n      <td>0.0</td>\n      <td>0.0</td>\n      <td>0.0</td>\n      <td>0.0</td>\n      <td>0.0</td>\n      <td>0.0</td>\n      <td>0.0</td>\n      <td>0.0</td>\n      <td>0.0</td>\n      <td>0.0</td>\n    </tr>\n    <tr>\n      <th>s60</th>\n      <td>0.0</td>\n      <td>0.0</td>\n      <td>0.0</td>\n      <td>0.0</td>\n      <td>0.0</td>\n      <td>0.0</td>\n      <td>0.0</td>\n      <td>0.0</td>\n      <td>0.0</td>\n      <td>0.0</td>\n      <td>...</td>\n      <td>0.0</td>\n      <td>0.0</td>\n      <td>0.0</td>\n      <td>0.0</td>\n      <td>0.0</td>\n      <td>0.0</td>\n      <td>0.0</td>\n      <td>1.0</td>\n      <td>0.0</td>\n      <td>0.0</td>\n    </tr>\n    <tr>\n      <th>s61</th>\n      <td>0.0</td>\n      <td>0.0</td>\n      <td>0.0</td>\n      <td>0.0</td>\n      <td>0.0</td>\n      <td>0.0</td>\n      <td>0.0</td>\n      <td>0.0</td>\n      <td>0.0</td>\n      <td>0.0</td>\n      <td>...</td>\n      <td>0.0</td>\n      <td>0.0</td>\n      <td>0.0</td>\n      <td>0.0</td>\n      <td>0.0</td>\n      <td>0.0</td>\n      <td>0.0</td>\n      <td>0.0</td>\n      <td>1.0</td>\n      <td>0.0</td>\n    </tr>\n    <tr>\n      <th>s62</th>\n      <td>0.0</td>\n      <td>0.0</td>\n      <td>0.0</td>\n      <td>0.0</td>\n      <td>0.0</td>\n      <td>0.0</td>\n      <td>0.0</td>\n      <td>0.0</td>\n      <td>0.0</td>\n      <td>0.0</td>\n      <td>...</td>\n      <td>0.0</td>\n      <td>0.0</td>\n      <td>0.0</td>\n      <td>0.0</td>\n      <td>0.0</td>\n      <td>0.0</td>\n      <td>0.0</td>\n      <td>0.0</td>\n      <td>0.0</td>\n      <td>1.0</td>\n    </tr>\n    <tr>\n      <th>s63</th>\n      <td>0.0</td>\n      <td>0.0</td>\n      <td>0.0</td>\n      <td>0.0</td>\n      <td>0.0</td>\n      <td>0.0</td>\n      <td>0.0</td>\n      <td>0.0</td>\n      <td>0.0</td>\n      <td>0.0</td>\n      <td>...</td>\n      <td>0.0</td>\n      <td>0.0</td>\n      <td>0.0</td>\n      <td>0.0</td>\n      <td>0.0</td>\n      <td>0.0</td>\n      <td>0.0</td>\n      <td>0.0</td>\n      <td>0.0</td>\n      <td>0.0</td>\n    </tr>\n  </tbody>\n</table>\n<p>64 rows × 64 columns</p>\n</div>"
     },
     "execution_count": 10,
     "metadata": {},
     "output_type": "execute_result"
    }
   ],
   "source": [
    "transition_right = print_transitions_matrix(p=P, action=right)\n",
    "transition_right.to_csv(\"transitions/transition_right.csv\")\n",
    "transition_right"
   ],
   "metadata": {
    "collapsed": false,
    "ExecuteTime": {
     "end_time": "2024-01-14T09:22:16.425964400Z",
     "start_time": "2024-01-14T09:22:16.392094300Z"
    }
   },
   "id": "d2457b857a1d44f6",
   "execution_count": 10
  },
  {
   "cell_type": "markdown",
   "source": [
    "<p>$P[up, S, S']$</p>"
   ],
   "metadata": {
    "collapsed": false
   },
   "id": "b5b0be31d981c00a"
  },
  {
   "cell_type": "code",
   "outputs": [
    {
     "data": {
      "text/plain": "        s0   s1   s2   s3   s4   s5   s6   s7   s8   s9  ...  s54  s55  s56  \\\nStati                                                    ...                  \ns0     0.0  0.0  0.0  0.0  0.0  0.0  0.0  0.0  0.0  0.0  ...  0.0  0.0  0.0   \ns1     0.0  0.0  0.0  0.0  0.0  0.0  0.0  0.0  0.0  0.0  ...  0.0  0.0  0.0   \ns2     0.0  0.0  0.0  0.0  0.0  0.0  0.0  0.0  0.0  0.0  ...  0.0  0.0  0.0   \ns3     0.0  0.0  0.0  0.0  0.0  0.0  0.0  0.0  0.0  0.0  ...  0.0  0.0  0.0   \ns4     0.0  0.0  0.0  0.0  0.0  0.0  0.0  0.0  0.0  0.0  ...  0.0  0.0  0.0   \n...    ...  ...  ...  ...  ...  ...  ...  ...  ...  ...  ...  ...  ...  ...   \ns59    0.0  0.0  0.0  0.0  0.0  0.0  0.0  0.0  0.0  0.0  ...  0.0  0.0  0.0   \ns60    0.0  0.0  0.0  0.0  0.0  0.0  0.0  0.0  0.0  0.0  ...  0.0  0.0  0.0   \ns61    0.0  0.0  0.0  0.0  0.0  0.0  0.0  0.0  0.0  0.0  ...  0.0  0.0  0.0   \ns62    0.0  0.0  0.0  0.0  0.0  0.0  0.0  0.0  0.0  0.0  ...  0.0  0.0  0.0   \ns63    0.0  0.0  0.0  0.0  0.0  0.0  0.0  0.0  0.0  0.0  ...  0.0  0.0  0.0   \n\n       s57  s58  s59  s60  s61  s62  s63  \nStati                                     \ns0     0.0  0.0  0.0  0.0  0.0  0.0  0.0  \ns1     0.0  0.0  0.0  0.0  0.0  0.0  0.0  \ns2     0.0  0.0  0.0  0.0  0.0  0.0  0.0  \ns3     0.0  0.0  0.0  0.0  0.0  0.0  0.0  \ns4     0.0  0.0  0.0  0.0  0.0  0.0  0.0  \n...    ...  ...  ...  ...  ...  ...  ...  \ns59    0.0  0.0  0.0  0.0  0.0  0.0  0.0  \ns60    0.0  0.0  0.0  0.0  0.0  0.0  0.0  \ns61    0.0  0.0  0.0  0.0  0.0  0.0  0.0  \ns62    0.0  0.0  0.0  0.0  0.0  0.0  0.0  \ns63    0.0  0.0  0.0  0.0  0.0  0.0  0.0  \n\n[64 rows x 64 columns]",
      "text/html": "<div>\n<style scoped>\n    .dataframe tbody tr th:only-of-type {\n        vertical-align: middle;\n    }\n\n    .dataframe tbody tr th {\n        vertical-align: top;\n    }\n\n    .dataframe thead th {\n        text-align: right;\n    }\n</style>\n<table border=\"1\" class=\"dataframe\">\n  <thead>\n    <tr style=\"text-align: right;\">\n      <th></th>\n      <th>s0</th>\n      <th>s1</th>\n      <th>s2</th>\n      <th>s3</th>\n      <th>s4</th>\n      <th>s5</th>\n      <th>s6</th>\n      <th>s7</th>\n      <th>s8</th>\n      <th>s9</th>\n      <th>...</th>\n      <th>s54</th>\n      <th>s55</th>\n      <th>s56</th>\n      <th>s57</th>\n      <th>s58</th>\n      <th>s59</th>\n      <th>s60</th>\n      <th>s61</th>\n      <th>s62</th>\n      <th>s63</th>\n    </tr>\n    <tr>\n      <th>Stati</th>\n      <th></th>\n      <th></th>\n      <th></th>\n      <th></th>\n      <th></th>\n      <th></th>\n      <th></th>\n      <th></th>\n      <th></th>\n      <th></th>\n      <th></th>\n      <th></th>\n      <th></th>\n      <th></th>\n      <th></th>\n      <th></th>\n      <th></th>\n      <th></th>\n      <th></th>\n      <th></th>\n      <th></th>\n    </tr>\n  </thead>\n  <tbody>\n    <tr>\n      <th>s0</th>\n      <td>0.0</td>\n      <td>0.0</td>\n      <td>0.0</td>\n      <td>0.0</td>\n      <td>0.0</td>\n      <td>0.0</td>\n      <td>0.0</td>\n      <td>0.0</td>\n      <td>0.0</td>\n      <td>0.0</td>\n      <td>...</td>\n      <td>0.0</td>\n      <td>0.0</td>\n      <td>0.0</td>\n      <td>0.0</td>\n      <td>0.0</td>\n      <td>0.0</td>\n      <td>0.0</td>\n      <td>0.0</td>\n      <td>0.0</td>\n      <td>0.0</td>\n    </tr>\n    <tr>\n      <th>s1</th>\n      <td>0.0</td>\n      <td>0.0</td>\n      <td>0.0</td>\n      <td>0.0</td>\n      <td>0.0</td>\n      <td>0.0</td>\n      <td>0.0</td>\n      <td>0.0</td>\n      <td>0.0</td>\n      <td>0.0</td>\n      <td>...</td>\n      <td>0.0</td>\n      <td>0.0</td>\n      <td>0.0</td>\n      <td>0.0</td>\n      <td>0.0</td>\n      <td>0.0</td>\n      <td>0.0</td>\n      <td>0.0</td>\n      <td>0.0</td>\n      <td>0.0</td>\n    </tr>\n    <tr>\n      <th>s2</th>\n      <td>0.0</td>\n      <td>0.0</td>\n      <td>0.0</td>\n      <td>0.0</td>\n      <td>0.0</td>\n      <td>0.0</td>\n      <td>0.0</td>\n      <td>0.0</td>\n      <td>0.0</td>\n      <td>0.0</td>\n      <td>...</td>\n      <td>0.0</td>\n      <td>0.0</td>\n      <td>0.0</td>\n      <td>0.0</td>\n      <td>0.0</td>\n      <td>0.0</td>\n      <td>0.0</td>\n      <td>0.0</td>\n      <td>0.0</td>\n      <td>0.0</td>\n    </tr>\n    <tr>\n      <th>s3</th>\n      <td>0.0</td>\n      <td>0.0</td>\n      <td>0.0</td>\n      <td>0.0</td>\n      <td>0.0</td>\n      <td>0.0</td>\n      <td>0.0</td>\n      <td>0.0</td>\n      <td>0.0</td>\n      <td>0.0</td>\n      <td>...</td>\n      <td>0.0</td>\n      <td>0.0</td>\n      <td>0.0</td>\n      <td>0.0</td>\n      <td>0.0</td>\n      <td>0.0</td>\n      <td>0.0</td>\n      <td>0.0</td>\n      <td>0.0</td>\n      <td>0.0</td>\n    </tr>\n    <tr>\n      <th>s4</th>\n      <td>0.0</td>\n      <td>0.0</td>\n      <td>0.0</td>\n      <td>0.0</td>\n      <td>0.0</td>\n      <td>0.0</td>\n      <td>0.0</td>\n      <td>0.0</td>\n      <td>0.0</td>\n      <td>0.0</td>\n      <td>...</td>\n      <td>0.0</td>\n      <td>0.0</td>\n      <td>0.0</td>\n      <td>0.0</td>\n      <td>0.0</td>\n      <td>0.0</td>\n      <td>0.0</td>\n      <td>0.0</td>\n      <td>0.0</td>\n      <td>0.0</td>\n    </tr>\n    <tr>\n      <th>...</th>\n      <td>...</td>\n      <td>...</td>\n      <td>...</td>\n      <td>...</td>\n      <td>...</td>\n      <td>...</td>\n      <td>...</td>\n      <td>...</td>\n      <td>...</td>\n      <td>...</td>\n      <td>...</td>\n      <td>...</td>\n      <td>...</td>\n      <td>...</td>\n      <td>...</td>\n      <td>...</td>\n      <td>...</td>\n      <td>...</td>\n      <td>...</td>\n      <td>...</td>\n      <td>...</td>\n    </tr>\n    <tr>\n      <th>s59</th>\n      <td>0.0</td>\n      <td>0.0</td>\n      <td>0.0</td>\n      <td>0.0</td>\n      <td>0.0</td>\n      <td>0.0</td>\n      <td>0.0</td>\n      <td>0.0</td>\n      <td>0.0</td>\n      <td>0.0</td>\n      <td>...</td>\n      <td>0.0</td>\n      <td>0.0</td>\n      <td>0.0</td>\n      <td>0.0</td>\n      <td>0.0</td>\n      <td>0.0</td>\n      <td>0.0</td>\n      <td>0.0</td>\n      <td>0.0</td>\n      <td>0.0</td>\n    </tr>\n    <tr>\n      <th>s60</th>\n      <td>0.0</td>\n      <td>0.0</td>\n      <td>0.0</td>\n      <td>0.0</td>\n      <td>0.0</td>\n      <td>0.0</td>\n      <td>0.0</td>\n      <td>0.0</td>\n      <td>0.0</td>\n      <td>0.0</td>\n      <td>...</td>\n      <td>0.0</td>\n      <td>0.0</td>\n      <td>0.0</td>\n      <td>0.0</td>\n      <td>0.0</td>\n      <td>0.0</td>\n      <td>0.0</td>\n      <td>0.0</td>\n      <td>0.0</td>\n      <td>0.0</td>\n    </tr>\n    <tr>\n      <th>s61</th>\n      <td>0.0</td>\n      <td>0.0</td>\n      <td>0.0</td>\n      <td>0.0</td>\n      <td>0.0</td>\n      <td>0.0</td>\n      <td>0.0</td>\n      <td>0.0</td>\n      <td>0.0</td>\n      <td>0.0</td>\n      <td>...</td>\n      <td>0.0</td>\n      <td>0.0</td>\n      <td>0.0</td>\n      <td>0.0</td>\n      <td>0.0</td>\n      <td>0.0</td>\n      <td>0.0</td>\n      <td>0.0</td>\n      <td>0.0</td>\n      <td>0.0</td>\n    </tr>\n    <tr>\n      <th>s62</th>\n      <td>0.0</td>\n      <td>0.0</td>\n      <td>0.0</td>\n      <td>0.0</td>\n      <td>0.0</td>\n      <td>0.0</td>\n      <td>0.0</td>\n      <td>0.0</td>\n      <td>0.0</td>\n      <td>0.0</td>\n      <td>...</td>\n      <td>0.0</td>\n      <td>0.0</td>\n      <td>0.0</td>\n      <td>0.0</td>\n      <td>0.0</td>\n      <td>0.0</td>\n      <td>0.0</td>\n      <td>0.0</td>\n      <td>0.0</td>\n      <td>0.0</td>\n    </tr>\n    <tr>\n      <th>s63</th>\n      <td>0.0</td>\n      <td>0.0</td>\n      <td>0.0</td>\n      <td>0.0</td>\n      <td>0.0</td>\n      <td>0.0</td>\n      <td>0.0</td>\n      <td>0.0</td>\n      <td>0.0</td>\n      <td>0.0</td>\n      <td>...</td>\n      <td>0.0</td>\n      <td>0.0</td>\n      <td>0.0</td>\n      <td>0.0</td>\n      <td>0.0</td>\n      <td>0.0</td>\n      <td>0.0</td>\n      <td>0.0</td>\n      <td>0.0</td>\n      <td>0.0</td>\n    </tr>\n  </tbody>\n</table>\n<p>64 rows × 64 columns</p>\n</div>"
     },
     "execution_count": 11,
     "metadata": {},
     "output_type": "execute_result"
    }
   ],
   "source": [
    "transition_up = print_transitions_matrix(p=P, action=up)\n",
    "transition_up.to_csv(\"transitions/transition_up.csv\")\n",
    "transition_up"
   ],
   "metadata": {
    "collapsed": false,
    "ExecuteTime": {
     "end_time": "2024-01-14T09:22:16.497340900Z",
     "start_time": "2024-01-14T09:22:16.420916300Z"
    }
   },
   "id": "a9d25cf3c931e8b3",
   "execution_count": 11
  },
  {
   "cell_type": "markdown",
   "source": [
    "<p>$P[down, S, S']$</p>"
   ],
   "metadata": {
    "collapsed": false
   },
   "id": "4b6cdc88fe44a7cb"
  },
  {
   "cell_type": "code",
   "outputs": [
    {
     "data": {
      "text/plain": "        s0   s1   s2   s3   s4   s5   s6   s7   s8   s9  ...  s54  s55  s56  \\\nStati                                                    ...                  \ns0     0.0  0.0  0.0  0.0  0.0  0.0  0.0  0.0  0.0  0.0  ...  0.0  0.0  0.0   \ns1     0.0  0.0  0.0  0.0  0.0  0.0  0.0  0.0  0.0  0.0  ...  0.0  0.0  0.0   \ns2     0.0  0.0  0.0  0.0  0.0  0.0  0.0  0.0  0.0  0.0  ...  0.0  0.0  0.0   \ns3     0.0  0.0  0.0  0.0  0.0  0.0  0.0  0.0  0.0  0.0  ...  0.0  0.0  0.0   \ns4     0.0  0.0  0.0  0.0  0.0  0.0  0.0  0.0  0.0  0.0  ...  0.0  0.0  0.0   \n...    ...  ...  ...  ...  ...  ...  ...  ...  ...  ...  ...  ...  ...  ...   \ns59    0.0  0.0  0.0  0.0  0.0  0.0  0.0  0.0  0.0  0.0  ...  0.0  0.0  0.0   \ns60    0.0  0.0  0.0  0.0  0.0  0.0  0.0  0.0  0.0  0.0  ...  0.0  0.0  0.0   \ns61    0.0  0.0  0.0  0.0  0.0  0.0  0.0  0.0  0.0  0.0  ...  0.0  0.0  0.0   \ns62    0.0  0.0  0.0  0.0  0.0  0.0  0.0  0.0  0.0  0.0  ...  0.0  0.0  0.0   \ns63    0.0  0.0  0.0  0.0  0.0  0.0  0.0  0.0  0.0  0.0  ...  0.0  0.0  0.0   \n\n       s57  s58  s59  s60  s61  s62  s63  \nStati                                     \ns0     0.0  0.0  0.0  0.0  0.0  0.0  0.0  \ns1     0.0  0.0  0.0  0.0  0.0  0.0  0.0  \ns2     0.0  0.0  0.0  0.0  0.0  0.0  0.0  \ns3     0.0  0.0  0.0  0.0  0.0  0.0  0.0  \ns4     0.0  0.0  0.0  0.0  0.0  0.0  0.0  \n...    ...  ...  ...  ...  ...  ...  ...  \ns59    0.0  0.0  0.0  0.0  0.0  0.0  0.0  \ns60    0.0  0.0  0.0  0.0  0.0  0.0  0.0  \ns61    0.0  0.0  0.0  0.0  0.0  0.0  0.0  \ns62    0.0  0.0  0.0  0.0  0.0  0.0  0.0  \ns63    0.0  0.0  0.0  0.0  0.0  0.0  0.0  \n\n[64 rows x 64 columns]",
      "text/html": "<div>\n<style scoped>\n    .dataframe tbody tr th:only-of-type {\n        vertical-align: middle;\n    }\n\n    .dataframe tbody tr th {\n        vertical-align: top;\n    }\n\n    .dataframe thead th {\n        text-align: right;\n    }\n</style>\n<table border=\"1\" class=\"dataframe\">\n  <thead>\n    <tr style=\"text-align: right;\">\n      <th></th>\n      <th>s0</th>\n      <th>s1</th>\n      <th>s2</th>\n      <th>s3</th>\n      <th>s4</th>\n      <th>s5</th>\n      <th>s6</th>\n      <th>s7</th>\n      <th>s8</th>\n      <th>s9</th>\n      <th>...</th>\n      <th>s54</th>\n      <th>s55</th>\n      <th>s56</th>\n      <th>s57</th>\n      <th>s58</th>\n      <th>s59</th>\n      <th>s60</th>\n      <th>s61</th>\n      <th>s62</th>\n      <th>s63</th>\n    </tr>\n    <tr>\n      <th>Stati</th>\n      <th></th>\n      <th></th>\n      <th></th>\n      <th></th>\n      <th></th>\n      <th></th>\n      <th></th>\n      <th></th>\n      <th></th>\n      <th></th>\n      <th></th>\n      <th></th>\n      <th></th>\n      <th></th>\n      <th></th>\n      <th></th>\n      <th></th>\n      <th></th>\n      <th></th>\n      <th></th>\n      <th></th>\n    </tr>\n  </thead>\n  <tbody>\n    <tr>\n      <th>s0</th>\n      <td>0.0</td>\n      <td>0.0</td>\n      <td>0.0</td>\n      <td>0.0</td>\n      <td>0.0</td>\n      <td>0.0</td>\n      <td>0.0</td>\n      <td>0.0</td>\n      <td>0.0</td>\n      <td>0.0</td>\n      <td>...</td>\n      <td>0.0</td>\n      <td>0.0</td>\n      <td>0.0</td>\n      <td>0.0</td>\n      <td>0.0</td>\n      <td>0.0</td>\n      <td>0.0</td>\n      <td>0.0</td>\n      <td>0.0</td>\n      <td>0.0</td>\n    </tr>\n    <tr>\n      <th>s1</th>\n      <td>0.0</td>\n      <td>0.0</td>\n      <td>0.0</td>\n      <td>0.0</td>\n      <td>0.0</td>\n      <td>0.0</td>\n      <td>0.0</td>\n      <td>0.0</td>\n      <td>0.0</td>\n      <td>0.0</td>\n      <td>...</td>\n      <td>0.0</td>\n      <td>0.0</td>\n      <td>0.0</td>\n      <td>0.0</td>\n      <td>0.0</td>\n      <td>0.0</td>\n      <td>0.0</td>\n      <td>0.0</td>\n      <td>0.0</td>\n      <td>0.0</td>\n    </tr>\n    <tr>\n      <th>s2</th>\n      <td>0.0</td>\n      <td>0.0</td>\n      <td>0.0</td>\n      <td>0.0</td>\n      <td>0.0</td>\n      <td>0.0</td>\n      <td>0.0</td>\n      <td>0.0</td>\n      <td>0.0</td>\n      <td>0.0</td>\n      <td>...</td>\n      <td>0.0</td>\n      <td>0.0</td>\n      <td>0.0</td>\n      <td>0.0</td>\n      <td>0.0</td>\n      <td>0.0</td>\n      <td>0.0</td>\n      <td>0.0</td>\n      <td>0.0</td>\n      <td>0.0</td>\n    </tr>\n    <tr>\n      <th>s3</th>\n      <td>0.0</td>\n      <td>0.0</td>\n      <td>0.0</td>\n      <td>0.0</td>\n      <td>0.0</td>\n      <td>0.0</td>\n      <td>0.0</td>\n      <td>0.0</td>\n      <td>0.0</td>\n      <td>0.0</td>\n      <td>...</td>\n      <td>0.0</td>\n      <td>0.0</td>\n      <td>0.0</td>\n      <td>0.0</td>\n      <td>0.0</td>\n      <td>0.0</td>\n      <td>0.0</td>\n      <td>0.0</td>\n      <td>0.0</td>\n      <td>0.0</td>\n    </tr>\n    <tr>\n      <th>s4</th>\n      <td>0.0</td>\n      <td>0.0</td>\n      <td>0.0</td>\n      <td>0.0</td>\n      <td>0.0</td>\n      <td>0.0</td>\n      <td>0.0</td>\n      <td>0.0</td>\n      <td>0.0</td>\n      <td>0.0</td>\n      <td>...</td>\n      <td>0.0</td>\n      <td>0.0</td>\n      <td>0.0</td>\n      <td>0.0</td>\n      <td>0.0</td>\n      <td>0.0</td>\n      <td>0.0</td>\n      <td>0.0</td>\n      <td>0.0</td>\n      <td>0.0</td>\n    </tr>\n    <tr>\n      <th>...</th>\n      <td>...</td>\n      <td>...</td>\n      <td>...</td>\n      <td>...</td>\n      <td>...</td>\n      <td>...</td>\n      <td>...</td>\n      <td>...</td>\n      <td>...</td>\n      <td>...</td>\n      <td>...</td>\n      <td>...</td>\n      <td>...</td>\n      <td>...</td>\n      <td>...</td>\n      <td>...</td>\n      <td>...</td>\n      <td>...</td>\n      <td>...</td>\n      <td>...</td>\n      <td>...</td>\n    </tr>\n    <tr>\n      <th>s59</th>\n      <td>0.0</td>\n      <td>0.0</td>\n      <td>0.0</td>\n      <td>0.0</td>\n      <td>0.0</td>\n      <td>0.0</td>\n      <td>0.0</td>\n      <td>0.0</td>\n      <td>0.0</td>\n      <td>0.0</td>\n      <td>...</td>\n      <td>0.0</td>\n      <td>0.0</td>\n      <td>0.0</td>\n      <td>0.0</td>\n      <td>0.0</td>\n      <td>0.0</td>\n      <td>0.0</td>\n      <td>0.0</td>\n      <td>0.0</td>\n      <td>0.0</td>\n    </tr>\n    <tr>\n      <th>s60</th>\n      <td>0.0</td>\n      <td>0.0</td>\n      <td>0.0</td>\n      <td>0.0</td>\n      <td>0.0</td>\n      <td>0.0</td>\n      <td>0.0</td>\n      <td>0.0</td>\n      <td>0.0</td>\n      <td>0.0</td>\n      <td>...</td>\n      <td>0.0</td>\n      <td>0.0</td>\n      <td>0.0</td>\n      <td>0.0</td>\n      <td>0.0</td>\n      <td>0.0</td>\n      <td>0.0</td>\n      <td>0.0</td>\n      <td>0.0</td>\n      <td>0.0</td>\n    </tr>\n    <tr>\n      <th>s61</th>\n      <td>0.0</td>\n      <td>0.0</td>\n      <td>0.0</td>\n      <td>0.0</td>\n      <td>0.0</td>\n      <td>0.0</td>\n      <td>0.0</td>\n      <td>0.0</td>\n      <td>0.0</td>\n      <td>0.0</td>\n      <td>...</td>\n      <td>0.0</td>\n      <td>0.0</td>\n      <td>0.0</td>\n      <td>0.0</td>\n      <td>0.0</td>\n      <td>0.0</td>\n      <td>0.0</td>\n      <td>0.0</td>\n      <td>0.0</td>\n      <td>0.0</td>\n    </tr>\n    <tr>\n      <th>s62</th>\n      <td>0.0</td>\n      <td>0.0</td>\n      <td>0.0</td>\n      <td>0.0</td>\n      <td>0.0</td>\n      <td>0.0</td>\n      <td>0.0</td>\n      <td>0.0</td>\n      <td>0.0</td>\n      <td>0.0</td>\n      <td>...</td>\n      <td>0.0</td>\n      <td>0.0</td>\n      <td>0.0</td>\n      <td>0.0</td>\n      <td>0.0</td>\n      <td>0.0</td>\n      <td>0.0</td>\n      <td>0.0</td>\n      <td>0.0</td>\n      <td>0.0</td>\n    </tr>\n    <tr>\n      <th>s63</th>\n      <td>0.0</td>\n      <td>0.0</td>\n      <td>0.0</td>\n      <td>0.0</td>\n      <td>0.0</td>\n      <td>0.0</td>\n      <td>0.0</td>\n      <td>0.0</td>\n      <td>0.0</td>\n      <td>0.0</td>\n      <td>...</td>\n      <td>0.0</td>\n      <td>0.0</td>\n      <td>0.0</td>\n      <td>0.0</td>\n      <td>0.0</td>\n      <td>0.0</td>\n      <td>0.0</td>\n      <td>0.0</td>\n      <td>0.0</td>\n      <td>0.0</td>\n    </tr>\n  </tbody>\n</table>\n<p>64 rows × 64 columns</p>\n</div>"
     },
     "execution_count": 12,
     "metadata": {},
     "output_type": "execute_result"
    }
   ],
   "source": [
    "transition_down = print_transitions_matrix(p=P, action=down)\n",
    "transition_down.to_csv(\"transitions/transition_down.csv\")\n",
    "transition_down"
   ],
   "metadata": {
    "collapsed": false,
    "ExecuteTime": {
     "end_time": "2024-01-14T09:22:16.685390600Z",
     "start_time": "2024-01-14T09:22:16.450584600Z"
    }
   },
   "id": "bfd6e3b6746d5893",
   "execution_count": 12
  },
  {
   "cell_type": "markdown",
   "source": [
    "<p>$P[take_whiskr, S, S']$</p>"
   ],
   "metadata": {
    "collapsed": false
   },
   "id": "8a16543f5f810504"
  },
  {
   "cell_type": "code",
   "outputs": [
    {
     "data": {
      "text/plain": "        s0   s1   s2   s3   s4   s5   s6   s7   s8   s9  ...  s54  s55  s56  \\\nStati                                                    ...                  \ns0     0.0  0.0  0.0  0.0  0.0  0.0  0.0  0.0  0.0  0.0  ...  0.0  0.0  0.0   \ns1     0.0  0.0  0.0  0.0  0.0  0.0  0.0  0.0  0.0  0.0  ...  0.0  0.0  0.0   \ns2     0.0  0.0  0.0  0.0  0.0  0.0  0.0  0.0  0.0  0.0  ...  0.0  0.0  0.0   \ns3     0.0  0.0  0.0  0.0  0.0  0.0  0.0  0.0  0.0  0.0  ...  0.0  0.0  0.0   \ns4     0.0  0.0  0.0  0.0  0.0  0.0  0.0  0.0  0.0  0.0  ...  0.0  0.0  0.0   \n...    ...  ...  ...  ...  ...  ...  ...  ...  ...  ...  ...  ...  ...  ...   \ns59    0.0  0.0  0.0  0.0  0.0  0.0  0.0  0.0  0.0  0.0  ...  0.0  0.0  0.0   \ns60    0.0  0.0  0.0  0.0  0.0  0.0  0.0  0.0  0.0  0.0  ...  0.0  0.0  0.0   \ns61    0.0  0.0  0.0  0.0  0.0  0.0  0.0  0.0  0.0  0.0  ...  0.0  0.0  0.0   \ns62    0.0  0.0  0.0  0.0  0.0  0.0  0.0  0.0  0.0  0.0  ...  0.0  0.0  0.0   \ns63    0.0  0.0  0.0  0.0  0.0  0.0  0.0  0.0  0.0  0.0  ...  0.0  0.0  0.0   \n\n       s57  s58  s59  s60  s61  s62  s63  \nStati                                     \ns0     0.0  0.0  0.0  0.0  0.0  0.0  0.0  \ns1     0.0  0.0  0.0  0.0  0.0  0.0  0.0  \ns2     0.0  0.0  0.0  0.0  0.0  0.0  0.0  \ns3     0.0  0.0  0.0  0.0  0.0  0.0  0.0  \ns4     0.0  0.0  0.0  0.0  0.0  0.0  0.0  \n...    ...  ...  ...  ...  ...  ...  ...  \ns59    0.0  0.0  0.0  0.0  0.0  0.0  0.0  \ns60    0.0  0.0  0.0  0.0  0.0  0.0  0.0  \ns61    0.0  0.0  0.0  0.0  0.0  0.0  0.0  \ns62    0.0  0.0  0.0  0.0  0.0  0.0  0.0  \ns63    0.0  0.0  0.0  0.0  0.0  0.0  0.0  \n\n[64 rows x 64 columns]",
      "text/html": "<div>\n<style scoped>\n    .dataframe tbody tr th:only-of-type {\n        vertical-align: middle;\n    }\n\n    .dataframe tbody tr th {\n        vertical-align: top;\n    }\n\n    .dataframe thead th {\n        text-align: right;\n    }\n</style>\n<table border=\"1\" class=\"dataframe\">\n  <thead>\n    <tr style=\"text-align: right;\">\n      <th></th>\n      <th>s0</th>\n      <th>s1</th>\n      <th>s2</th>\n      <th>s3</th>\n      <th>s4</th>\n      <th>s5</th>\n      <th>s6</th>\n      <th>s7</th>\n      <th>s8</th>\n      <th>s9</th>\n      <th>...</th>\n      <th>s54</th>\n      <th>s55</th>\n      <th>s56</th>\n      <th>s57</th>\n      <th>s58</th>\n      <th>s59</th>\n      <th>s60</th>\n      <th>s61</th>\n      <th>s62</th>\n      <th>s63</th>\n    </tr>\n    <tr>\n      <th>Stati</th>\n      <th></th>\n      <th></th>\n      <th></th>\n      <th></th>\n      <th></th>\n      <th></th>\n      <th></th>\n      <th></th>\n      <th></th>\n      <th></th>\n      <th></th>\n      <th></th>\n      <th></th>\n      <th></th>\n      <th></th>\n      <th></th>\n      <th></th>\n      <th></th>\n      <th></th>\n      <th></th>\n      <th></th>\n    </tr>\n  </thead>\n  <tbody>\n    <tr>\n      <th>s0</th>\n      <td>0.0</td>\n      <td>0.0</td>\n      <td>0.0</td>\n      <td>0.0</td>\n      <td>0.0</td>\n      <td>0.0</td>\n      <td>0.0</td>\n      <td>0.0</td>\n      <td>0.0</td>\n      <td>0.0</td>\n      <td>...</td>\n      <td>0.0</td>\n      <td>0.0</td>\n      <td>0.0</td>\n      <td>0.0</td>\n      <td>0.0</td>\n      <td>0.0</td>\n      <td>0.0</td>\n      <td>0.0</td>\n      <td>0.0</td>\n      <td>0.0</td>\n    </tr>\n    <tr>\n      <th>s1</th>\n      <td>0.0</td>\n      <td>0.0</td>\n      <td>0.0</td>\n      <td>0.0</td>\n      <td>0.0</td>\n      <td>0.0</td>\n      <td>0.0</td>\n      <td>0.0</td>\n      <td>0.0</td>\n      <td>0.0</td>\n      <td>...</td>\n      <td>0.0</td>\n      <td>0.0</td>\n      <td>0.0</td>\n      <td>0.0</td>\n      <td>0.0</td>\n      <td>0.0</td>\n      <td>0.0</td>\n      <td>0.0</td>\n      <td>0.0</td>\n      <td>0.0</td>\n    </tr>\n    <tr>\n      <th>s2</th>\n      <td>0.0</td>\n      <td>0.0</td>\n      <td>0.0</td>\n      <td>0.0</td>\n      <td>0.0</td>\n      <td>0.0</td>\n      <td>0.0</td>\n      <td>0.0</td>\n      <td>0.0</td>\n      <td>0.0</td>\n      <td>...</td>\n      <td>0.0</td>\n      <td>0.0</td>\n      <td>0.0</td>\n      <td>0.0</td>\n      <td>0.0</td>\n      <td>0.0</td>\n      <td>0.0</td>\n      <td>0.0</td>\n      <td>0.0</td>\n      <td>0.0</td>\n    </tr>\n    <tr>\n      <th>s3</th>\n      <td>0.0</td>\n      <td>0.0</td>\n      <td>0.0</td>\n      <td>0.0</td>\n      <td>0.0</td>\n      <td>0.0</td>\n      <td>0.0</td>\n      <td>0.0</td>\n      <td>0.0</td>\n      <td>0.0</td>\n      <td>...</td>\n      <td>0.0</td>\n      <td>0.0</td>\n      <td>0.0</td>\n      <td>0.0</td>\n      <td>0.0</td>\n      <td>0.0</td>\n      <td>0.0</td>\n      <td>0.0</td>\n      <td>0.0</td>\n      <td>0.0</td>\n    </tr>\n    <tr>\n      <th>s4</th>\n      <td>0.0</td>\n      <td>0.0</td>\n      <td>0.0</td>\n      <td>0.0</td>\n      <td>0.0</td>\n      <td>0.0</td>\n      <td>0.0</td>\n      <td>0.0</td>\n      <td>0.0</td>\n      <td>0.0</td>\n      <td>...</td>\n      <td>0.0</td>\n      <td>0.0</td>\n      <td>0.0</td>\n      <td>0.0</td>\n      <td>0.0</td>\n      <td>0.0</td>\n      <td>0.0</td>\n      <td>0.0</td>\n      <td>0.0</td>\n      <td>0.0</td>\n    </tr>\n    <tr>\n      <th>...</th>\n      <td>...</td>\n      <td>...</td>\n      <td>...</td>\n      <td>...</td>\n      <td>...</td>\n      <td>...</td>\n      <td>...</td>\n      <td>...</td>\n      <td>...</td>\n      <td>...</td>\n      <td>...</td>\n      <td>...</td>\n      <td>...</td>\n      <td>...</td>\n      <td>...</td>\n      <td>...</td>\n      <td>...</td>\n      <td>...</td>\n      <td>...</td>\n      <td>...</td>\n      <td>...</td>\n    </tr>\n    <tr>\n      <th>s59</th>\n      <td>0.0</td>\n      <td>0.0</td>\n      <td>0.0</td>\n      <td>0.0</td>\n      <td>0.0</td>\n      <td>0.0</td>\n      <td>0.0</td>\n      <td>0.0</td>\n      <td>0.0</td>\n      <td>0.0</td>\n      <td>...</td>\n      <td>0.0</td>\n      <td>0.0</td>\n      <td>0.0</td>\n      <td>0.0</td>\n      <td>0.0</td>\n      <td>0.0</td>\n      <td>0.0</td>\n      <td>0.0</td>\n      <td>0.0</td>\n      <td>0.0</td>\n    </tr>\n    <tr>\n      <th>s60</th>\n      <td>0.0</td>\n      <td>0.0</td>\n      <td>0.0</td>\n      <td>0.0</td>\n      <td>0.0</td>\n      <td>0.0</td>\n      <td>0.0</td>\n      <td>0.0</td>\n      <td>0.0</td>\n      <td>0.0</td>\n      <td>...</td>\n      <td>0.0</td>\n      <td>0.0</td>\n      <td>0.0</td>\n      <td>0.0</td>\n      <td>0.0</td>\n      <td>0.0</td>\n      <td>0.0</td>\n      <td>0.0</td>\n      <td>0.0</td>\n      <td>0.0</td>\n    </tr>\n    <tr>\n      <th>s61</th>\n      <td>0.0</td>\n      <td>0.0</td>\n      <td>0.0</td>\n      <td>0.0</td>\n      <td>0.0</td>\n      <td>0.0</td>\n      <td>0.0</td>\n      <td>0.0</td>\n      <td>0.0</td>\n      <td>0.0</td>\n      <td>...</td>\n      <td>0.0</td>\n      <td>0.0</td>\n      <td>0.0</td>\n      <td>0.0</td>\n      <td>0.0</td>\n      <td>0.0</td>\n      <td>0.0</td>\n      <td>0.0</td>\n      <td>0.0</td>\n      <td>0.0</td>\n    </tr>\n    <tr>\n      <th>s62</th>\n      <td>0.0</td>\n      <td>0.0</td>\n      <td>0.0</td>\n      <td>0.0</td>\n      <td>0.0</td>\n      <td>0.0</td>\n      <td>0.0</td>\n      <td>0.0</td>\n      <td>0.0</td>\n      <td>0.0</td>\n      <td>...</td>\n      <td>0.0</td>\n      <td>0.0</td>\n      <td>0.0</td>\n      <td>0.0</td>\n      <td>0.0</td>\n      <td>0.0</td>\n      <td>0.0</td>\n      <td>0.0</td>\n      <td>0.0</td>\n      <td>0.0</td>\n    </tr>\n    <tr>\n      <th>s63</th>\n      <td>0.0</td>\n      <td>0.0</td>\n      <td>0.0</td>\n      <td>0.0</td>\n      <td>0.0</td>\n      <td>0.0</td>\n      <td>0.0</td>\n      <td>0.0</td>\n      <td>0.0</td>\n      <td>0.0</td>\n      <td>...</td>\n      <td>0.0</td>\n      <td>0.0</td>\n      <td>0.0</td>\n      <td>0.0</td>\n      <td>0.0</td>\n      <td>0.0</td>\n      <td>0.0</td>\n      <td>0.0</td>\n      <td>0.0</td>\n      <td>0.0</td>\n    </tr>\n  </tbody>\n</table>\n<p>64 rows × 64 columns</p>\n</div>"
     },
     "execution_count": 13,
     "metadata": {},
     "output_type": "execute_result"
    }
   ],
   "source": [
    "transition_take_whiskr = print_transitions_matrix(p=P, action=take_whiskr)\n",
    "transition_take_whiskr.to_csv(\"transitions/transition_take_whiskr.csv\")\n",
    "transition_take_whiskr"
   ],
   "metadata": {
    "collapsed": false,
    "ExecuteTime": {
     "end_time": "2024-01-14T09:22:16.687491600Z",
     "start_time": "2024-01-14T09:22:16.482974300Z"
    }
   },
   "id": "2f48d09611ed58a8",
   "execution_count": 13
  },
  {
   "cell_type": "markdown",
   "source": [
    "<p>$P[go_right, S, S']$</p>"
   ],
   "metadata": {
    "collapsed": false
   },
   "id": "9dc1840c2cd5e53d"
  },
  {
   "cell_type": "code",
   "outputs": [
    {
     "data": {
      "text/plain": "        s0   s1   s2   s3   s4   s5   s6   s7   s8   s9  ...  s54  s55  s56  \\\nStati                                                    ...                  \ns0     0.0  0.0  0.0  0.0  0.0  0.0  0.0  0.0  0.0  0.0  ...  0.0  0.0  0.0   \ns1     0.0  0.0  0.0  0.0  0.0  0.0  0.0  0.0  0.0  0.0  ...  0.0  0.0  0.0   \ns2     0.0  0.0  0.0  0.0  0.0  0.0  0.0  0.0  0.0  0.0  ...  0.0  0.0  0.0   \ns3     0.0  0.0  0.0  0.0  0.0  0.0  0.0  0.0  0.0  0.0  ...  0.0  0.0  0.0   \ns4     0.0  0.0  0.0  0.0  0.0  0.0  0.0  0.0  0.0  0.0  ...  0.0  0.0  0.0   \n...    ...  ...  ...  ...  ...  ...  ...  ...  ...  ...  ...  ...  ...  ...   \ns59    0.0  0.0  0.0  0.0  0.0  0.0  0.0  0.0  0.0  0.0  ...  0.0  0.0  0.0   \ns60    0.0  0.0  0.0  0.0  0.0  0.0  0.0  0.0  0.0  0.0  ...  0.0  0.0  0.0   \ns61    0.0  0.0  0.0  0.0  0.0  0.0  0.0  0.0  0.0  0.0  ...  0.0  0.0  0.0   \ns62    0.0  0.0  0.0  0.0  0.0  0.0  0.0  0.0  0.0  0.0  ...  0.0  0.0  0.0   \ns63    0.0  0.0  0.0  0.0  0.0  0.0  0.0  0.0  0.0  0.0  ...  0.0  0.0  0.0   \n\n       s57  s58  s59  s60  s61  s62  s63  \nStati                                     \ns0     0.0  0.0  0.0  0.0  0.0  0.0  0.0  \ns1     0.0  0.0  0.0  0.0  0.0  0.0  0.0  \ns2     0.0  0.0  0.0  0.0  0.0  0.0  0.0  \ns3     0.0  0.0  0.0  0.0  0.0  0.0  0.0  \ns4     0.0  0.0  0.0  0.0  0.0  0.0  0.0  \n...    ...  ...  ...  ...  ...  ...  ...  \ns59    0.0  0.0  0.0  0.0  0.0  0.0  0.0  \ns60    0.0  0.0  0.0  0.0  0.0  0.0  0.0  \ns61    0.0  0.0  0.0  0.0  0.0  0.0  0.0  \ns62    0.0  0.0  0.0  0.0  0.0  0.0  0.0  \ns63    0.0  0.0  0.0  0.0  0.0  0.0  0.0  \n\n[64 rows x 64 columns]",
      "text/html": "<div>\n<style scoped>\n    .dataframe tbody tr th:only-of-type {\n        vertical-align: middle;\n    }\n\n    .dataframe tbody tr th {\n        vertical-align: top;\n    }\n\n    .dataframe thead th {\n        text-align: right;\n    }\n</style>\n<table border=\"1\" class=\"dataframe\">\n  <thead>\n    <tr style=\"text-align: right;\">\n      <th></th>\n      <th>s0</th>\n      <th>s1</th>\n      <th>s2</th>\n      <th>s3</th>\n      <th>s4</th>\n      <th>s5</th>\n      <th>s6</th>\n      <th>s7</th>\n      <th>s8</th>\n      <th>s9</th>\n      <th>...</th>\n      <th>s54</th>\n      <th>s55</th>\n      <th>s56</th>\n      <th>s57</th>\n      <th>s58</th>\n      <th>s59</th>\n      <th>s60</th>\n      <th>s61</th>\n      <th>s62</th>\n      <th>s63</th>\n    </tr>\n    <tr>\n      <th>Stati</th>\n      <th></th>\n      <th></th>\n      <th></th>\n      <th></th>\n      <th></th>\n      <th></th>\n      <th></th>\n      <th></th>\n      <th></th>\n      <th></th>\n      <th></th>\n      <th></th>\n      <th></th>\n      <th></th>\n      <th></th>\n      <th></th>\n      <th></th>\n      <th></th>\n      <th></th>\n      <th></th>\n      <th></th>\n    </tr>\n  </thead>\n  <tbody>\n    <tr>\n      <th>s0</th>\n      <td>0.0</td>\n      <td>0.0</td>\n      <td>0.0</td>\n      <td>0.0</td>\n      <td>0.0</td>\n      <td>0.0</td>\n      <td>0.0</td>\n      <td>0.0</td>\n      <td>0.0</td>\n      <td>0.0</td>\n      <td>...</td>\n      <td>0.0</td>\n      <td>0.0</td>\n      <td>0.0</td>\n      <td>0.0</td>\n      <td>0.0</td>\n      <td>0.0</td>\n      <td>0.0</td>\n      <td>0.0</td>\n      <td>0.0</td>\n      <td>0.0</td>\n    </tr>\n    <tr>\n      <th>s1</th>\n      <td>0.0</td>\n      <td>0.0</td>\n      <td>0.0</td>\n      <td>0.0</td>\n      <td>0.0</td>\n      <td>0.0</td>\n      <td>0.0</td>\n      <td>0.0</td>\n      <td>0.0</td>\n      <td>0.0</td>\n      <td>...</td>\n      <td>0.0</td>\n      <td>0.0</td>\n      <td>0.0</td>\n      <td>0.0</td>\n      <td>0.0</td>\n      <td>0.0</td>\n      <td>0.0</td>\n      <td>0.0</td>\n      <td>0.0</td>\n      <td>0.0</td>\n    </tr>\n    <tr>\n      <th>s2</th>\n      <td>0.0</td>\n      <td>0.0</td>\n      <td>0.0</td>\n      <td>0.0</td>\n      <td>0.0</td>\n      <td>0.0</td>\n      <td>0.0</td>\n      <td>0.0</td>\n      <td>0.0</td>\n      <td>0.0</td>\n      <td>...</td>\n      <td>0.0</td>\n      <td>0.0</td>\n      <td>0.0</td>\n      <td>0.0</td>\n      <td>0.0</td>\n      <td>0.0</td>\n      <td>0.0</td>\n      <td>0.0</td>\n      <td>0.0</td>\n      <td>0.0</td>\n    </tr>\n    <tr>\n      <th>s3</th>\n      <td>0.0</td>\n      <td>0.0</td>\n      <td>0.0</td>\n      <td>0.0</td>\n      <td>0.0</td>\n      <td>0.0</td>\n      <td>0.0</td>\n      <td>0.0</td>\n      <td>0.0</td>\n      <td>0.0</td>\n      <td>...</td>\n      <td>0.0</td>\n      <td>0.0</td>\n      <td>0.0</td>\n      <td>0.0</td>\n      <td>0.0</td>\n      <td>0.0</td>\n      <td>0.0</td>\n      <td>0.0</td>\n      <td>0.0</td>\n      <td>0.0</td>\n    </tr>\n    <tr>\n      <th>s4</th>\n      <td>0.0</td>\n      <td>0.0</td>\n      <td>0.0</td>\n      <td>0.0</td>\n      <td>0.0</td>\n      <td>0.0</td>\n      <td>0.0</td>\n      <td>0.0</td>\n      <td>0.0</td>\n      <td>0.0</td>\n      <td>...</td>\n      <td>0.0</td>\n      <td>0.0</td>\n      <td>0.0</td>\n      <td>0.0</td>\n      <td>0.0</td>\n      <td>0.0</td>\n      <td>0.0</td>\n      <td>0.0</td>\n      <td>0.0</td>\n      <td>0.0</td>\n    </tr>\n    <tr>\n      <th>...</th>\n      <td>...</td>\n      <td>...</td>\n      <td>...</td>\n      <td>...</td>\n      <td>...</td>\n      <td>...</td>\n      <td>...</td>\n      <td>...</td>\n      <td>...</td>\n      <td>...</td>\n      <td>...</td>\n      <td>...</td>\n      <td>...</td>\n      <td>...</td>\n      <td>...</td>\n      <td>...</td>\n      <td>...</td>\n      <td>...</td>\n      <td>...</td>\n      <td>...</td>\n      <td>...</td>\n    </tr>\n    <tr>\n      <th>s59</th>\n      <td>0.0</td>\n      <td>0.0</td>\n      <td>0.0</td>\n      <td>0.0</td>\n      <td>0.0</td>\n      <td>0.0</td>\n      <td>0.0</td>\n      <td>0.0</td>\n      <td>0.0</td>\n      <td>0.0</td>\n      <td>...</td>\n      <td>0.0</td>\n      <td>0.0</td>\n      <td>0.0</td>\n      <td>0.0</td>\n      <td>0.0</td>\n      <td>0.0</td>\n      <td>0.0</td>\n      <td>0.0</td>\n      <td>0.0</td>\n      <td>0.0</td>\n    </tr>\n    <tr>\n      <th>s60</th>\n      <td>0.0</td>\n      <td>0.0</td>\n      <td>0.0</td>\n      <td>0.0</td>\n      <td>0.0</td>\n      <td>0.0</td>\n      <td>0.0</td>\n      <td>0.0</td>\n      <td>0.0</td>\n      <td>0.0</td>\n      <td>...</td>\n      <td>0.0</td>\n      <td>0.0</td>\n      <td>0.0</td>\n      <td>0.0</td>\n      <td>0.0</td>\n      <td>0.0</td>\n      <td>0.0</td>\n      <td>0.0</td>\n      <td>0.0</td>\n      <td>0.0</td>\n    </tr>\n    <tr>\n      <th>s61</th>\n      <td>0.0</td>\n      <td>0.0</td>\n      <td>0.0</td>\n      <td>0.0</td>\n      <td>0.0</td>\n      <td>0.0</td>\n      <td>0.0</td>\n      <td>0.0</td>\n      <td>0.0</td>\n      <td>0.0</td>\n      <td>...</td>\n      <td>0.0</td>\n      <td>0.0</td>\n      <td>0.0</td>\n      <td>0.0</td>\n      <td>0.0</td>\n      <td>0.0</td>\n      <td>0.0</td>\n      <td>0.0</td>\n      <td>0.0</td>\n      <td>0.0</td>\n    </tr>\n    <tr>\n      <th>s62</th>\n      <td>0.0</td>\n      <td>0.0</td>\n      <td>0.0</td>\n      <td>0.0</td>\n      <td>0.0</td>\n      <td>0.0</td>\n      <td>0.0</td>\n      <td>0.0</td>\n      <td>0.0</td>\n      <td>0.0</td>\n      <td>...</td>\n      <td>0.0</td>\n      <td>0.0</td>\n      <td>0.0</td>\n      <td>0.0</td>\n      <td>0.0</td>\n      <td>0.0</td>\n      <td>0.0</td>\n      <td>0.0</td>\n      <td>0.0</td>\n      <td>0.0</td>\n    </tr>\n    <tr>\n      <th>s63</th>\n      <td>0.0</td>\n      <td>0.0</td>\n      <td>0.0</td>\n      <td>0.0</td>\n      <td>0.0</td>\n      <td>0.0</td>\n      <td>0.0</td>\n      <td>0.0</td>\n      <td>0.0</td>\n      <td>0.0</td>\n      <td>...</td>\n      <td>0.0</td>\n      <td>0.0</td>\n      <td>0.0</td>\n      <td>0.0</td>\n      <td>0.0</td>\n      <td>0.0</td>\n      <td>0.0</td>\n      <td>0.0</td>\n      <td>0.0</td>\n      <td>0.0</td>\n    </tr>\n  </tbody>\n</table>\n<p>64 rows × 64 columns</p>\n</div>"
     },
     "execution_count": 14,
     "metadata": {},
     "output_type": "execute_result"
    }
   ],
   "source": [
    "transition_go_right = print_transitions_matrix(p=P, action=go_right)\n",
    "transition_go_right.to_csv(\"transitions/transition_go_right.csv\")\n",
    "transition_go_right"
   ],
   "metadata": {
    "collapsed": false,
    "ExecuteTime": {
     "end_time": "2024-01-14T09:22:16.688529200Z",
     "start_time": "2024-01-14T09:22:16.509173800Z"
    }
   },
   "id": "3657697cefdc0519",
   "execution_count": 14
  },
  {
   "cell_type": "markdown",
   "source": [
    "<p>$P[go_left, S, S']$</p>"
   ],
   "metadata": {
    "collapsed": false
   },
   "id": "783cd99016d94185"
  },
  {
   "cell_type": "code",
   "outputs": [
    {
     "data": {
      "text/plain": "        s0   s1   s2   s3   s4   s5   s6   s7   s8   s9  ...  s54  s55  s56  \\\nStati                                                    ...                  \ns0     0.0  0.0  0.0  0.0  0.0  0.0  0.0  0.0  0.0  0.0  ...  0.0  0.0  0.0   \ns1     0.0  0.0  0.0  0.0  0.0  0.0  0.0  0.0  0.0  0.0  ...  0.0  0.0  0.0   \ns2     0.0  0.0  0.0  0.0  0.0  0.0  0.0  0.0  0.0  0.0  ...  0.0  0.0  0.0   \ns3     0.0  0.0  0.0  0.0  0.0  0.0  0.0  0.0  0.0  0.0  ...  0.0  0.0  0.0   \ns4     0.0  0.0  0.0  0.0  0.0  0.0  0.0  0.0  0.0  0.0  ...  0.0  0.0  0.0   \n...    ...  ...  ...  ...  ...  ...  ...  ...  ...  ...  ...  ...  ...  ...   \ns59    0.0  0.0  0.0  0.0  0.0  0.0  0.0  0.0  0.0  0.0  ...  0.0  0.0  0.0   \ns60    0.0  0.0  0.0  0.0  0.0  0.0  0.0  0.0  0.0  0.0  ...  0.0  0.0  0.0   \ns61    0.0  0.0  0.0  0.0  0.0  0.0  0.0  0.0  0.0  0.0  ...  0.0  0.0  0.0   \ns62    0.0  0.0  0.0  0.0  0.0  0.0  0.0  0.0  0.0  0.0  ...  0.0  0.0  0.0   \ns63    0.0  0.0  0.0  0.0  0.0  0.0  0.0  0.0  0.0  0.0  ...  0.0  0.0  0.0   \n\n       s57  s58  s59  s60  s61  s62  s63  \nStati                                     \ns0     0.0  0.0  0.0  0.0  0.0  0.0  0.0  \ns1     0.0  0.0  0.0  0.0  0.0  0.0  0.0  \ns2     0.0  0.0  0.0  0.0  0.0  0.0  0.0  \ns3     0.0  0.0  0.0  0.0  0.0  0.0  0.0  \ns4     0.0  0.0  0.0  0.0  0.0  0.0  0.0  \n...    ...  ...  ...  ...  ...  ...  ...  \ns59    0.0  0.0  0.0  0.0  0.0  0.0  0.0  \ns60    0.0  0.0  0.0  0.0  0.0  0.0  0.0  \ns61    0.0  0.0  0.0  0.0  0.0  0.0  0.0  \ns62    0.0  0.0  0.0  0.0  0.0  0.0  0.0  \ns63    0.0  0.0  0.0  0.0  0.0  0.0  0.0  \n\n[64 rows x 64 columns]",
      "text/html": "<div>\n<style scoped>\n    .dataframe tbody tr th:only-of-type {\n        vertical-align: middle;\n    }\n\n    .dataframe tbody tr th {\n        vertical-align: top;\n    }\n\n    .dataframe thead th {\n        text-align: right;\n    }\n</style>\n<table border=\"1\" class=\"dataframe\">\n  <thead>\n    <tr style=\"text-align: right;\">\n      <th></th>\n      <th>s0</th>\n      <th>s1</th>\n      <th>s2</th>\n      <th>s3</th>\n      <th>s4</th>\n      <th>s5</th>\n      <th>s6</th>\n      <th>s7</th>\n      <th>s8</th>\n      <th>s9</th>\n      <th>...</th>\n      <th>s54</th>\n      <th>s55</th>\n      <th>s56</th>\n      <th>s57</th>\n      <th>s58</th>\n      <th>s59</th>\n      <th>s60</th>\n      <th>s61</th>\n      <th>s62</th>\n      <th>s63</th>\n    </tr>\n    <tr>\n      <th>Stati</th>\n      <th></th>\n      <th></th>\n      <th></th>\n      <th></th>\n      <th></th>\n      <th></th>\n      <th></th>\n      <th></th>\n      <th></th>\n      <th></th>\n      <th></th>\n      <th></th>\n      <th></th>\n      <th></th>\n      <th></th>\n      <th></th>\n      <th></th>\n      <th></th>\n      <th></th>\n      <th></th>\n      <th></th>\n    </tr>\n  </thead>\n  <tbody>\n    <tr>\n      <th>s0</th>\n      <td>0.0</td>\n      <td>0.0</td>\n      <td>0.0</td>\n      <td>0.0</td>\n      <td>0.0</td>\n      <td>0.0</td>\n      <td>0.0</td>\n      <td>0.0</td>\n      <td>0.0</td>\n      <td>0.0</td>\n      <td>...</td>\n      <td>0.0</td>\n      <td>0.0</td>\n      <td>0.0</td>\n      <td>0.0</td>\n      <td>0.0</td>\n      <td>0.0</td>\n      <td>0.0</td>\n      <td>0.0</td>\n      <td>0.0</td>\n      <td>0.0</td>\n    </tr>\n    <tr>\n      <th>s1</th>\n      <td>0.0</td>\n      <td>0.0</td>\n      <td>0.0</td>\n      <td>0.0</td>\n      <td>0.0</td>\n      <td>0.0</td>\n      <td>0.0</td>\n      <td>0.0</td>\n      <td>0.0</td>\n      <td>0.0</td>\n      <td>...</td>\n      <td>0.0</td>\n      <td>0.0</td>\n      <td>0.0</td>\n      <td>0.0</td>\n      <td>0.0</td>\n      <td>0.0</td>\n      <td>0.0</td>\n      <td>0.0</td>\n      <td>0.0</td>\n      <td>0.0</td>\n    </tr>\n    <tr>\n      <th>s2</th>\n      <td>0.0</td>\n      <td>0.0</td>\n      <td>0.0</td>\n      <td>0.0</td>\n      <td>0.0</td>\n      <td>0.0</td>\n      <td>0.0</td>\n      <td>0.0</td>\n      <td>0.0</td>\n      <td>0.0</td>\n      <td>...</td>\n      <td>0.0</td>\n      <td>0.0</td>\n      <td>0.0</td>\n      <td>0.0</td>\n      <td>0.0</td>\n      <td>0.0</td>\n      <td>0.0</td>\n      <td>0.0</td>\n      <td>0.0</td>\n      <td>0.0</td>\n    </tr>\n    <tr>\n      <th>s3</th>\n      <td>0.0</td>\n      <td>0.0</td>\n      <td>0.0</td>\n      <td>0.0</td>\n      <td>0.0</td>\n      <td>0.0</td>\n      <td>0.0</td>\n      <td>0.0</td>\n      <td>0.0</td>\n      <td>0.0</td>\n      <td>...</td>\n      <td>0.0</td>\n      <td>0.0</td>\n      <td>0.0</td>\n      <td>0.0</td>\n      <td>0.0</td>\n      <td>0.0</td>\n      <td>0.0</td>\n      <td>0.0</td>\n      <td>0.0</td>\n      <td>0.0</td>\n    </tr>\n    <tr>\n      <th>s4</th>\n      <td>0.0</td>\n      <td>0.0</td>\n      <td>0.0</td>\n      <td>0.0</td>\n      <td>0.0</td>\n      <td>0.0</td>\n      <td>0.0</td>\n      <td>0.0</td>\n      <td>0.0</td>\n      <td>0.0</td>\n      <td>...</td>\n      <td>0.0</td>\n      <td>0.0</td>\n      <td>0.0</td>\n      <td>0.0</td>\n      <td>0.0</td>\n      <td>0.0</td>\n      <td>0.0</td>\n      <td>0.0</td>\n      <td>0.0</td>\n      <td>0.0</td>\n    </tr>\n    <tr>\n      <th>...</th>\n      <td>...</td>\n      <td>...</td>\n      <td>...</td>\n      <td>...</td>\n      <td>...</td>\n      <td>...</td>\n      <td>...</td>\n      <td>...</td>\n      <td>...</td>\n      <td>...</td>\n      <td>...</td>\n      <td>...</td>\n      <td>...</td>\n      <td>...</td>\n      <td>...</td>\n      <td>...</td>\n      <td>...</td>\n      <td>...</td>\n      <td>...</td>\n      <td>...</td>\n      <td>...</td>\n    </tr>\n    <tr>\n      <th>s59</th>\n      <td>0.0</td>\n      <td>0.0</td>\n      <td>0.0</td>\n      <td>0.0</td>\n      <td>0.0</td>\n      <td>0.0</td>\n      <td>0.0</td>\n      <td>0.0</td>\n      <td>0.0</td>\n      <td>0.0</td>\n      <td>...</td>\n      <td>0.0</td>\n      <td>0.0</td>\n      <td>0.0</td>\n      <td>0.0</td>\n      <td>0.0</td>\n      <td>0.0</td>\n      <td>0.0</td>\n      <td>0.0</td>\n      <td>0.0</td>\n      <td>0.0</td>\n    </tr>\n    <tr>\n      <th>s60</th>\n      <td>0.0</td>\n      <td>0.0</td>\n      <td>0.0</td>\n      <td>0.0</td>\n      <td>0.0</td>\n      <td>0.0</td>\n      <td>0.0</td>\n      <td>0.0</td>\n      <td>0.0</td>\n      <td>0.0</td>\n      <td>...</td>\n      <td>0.0</td>\n      <td>0.0</td>\n      <td>0.0</td>\n      <td>0.0</td>\n      <td>0.0</td>\n      <td>0.0</td>\n      <td>0.0</td>\n      <td>0.0</td>\n      <td>0.0</td>\n      <td>0.0</td>\n    </tr>\n    <tr>\n      <th>s61</th>\n      <td>0.0</td>\n      <td>0.0</td>\n      <td>0.0</td>\n      <td>0.0</td>\n      <td>0.0</td>\n      <td>0.0</td>\n      <td>0.0</td>\n      <td>0.0</td>\n      <td>0.0</td>\n      <td>0.0</td>\n      <td>...</td>\n      <td>0.0</td>\n      <td>0.0</td>\n      <td>0.0</td>\n      <td>0.0</td>\n      <td>0.0</td>\n      <td>0.0</td>\n      <td>0.0</td>\n      <td>0.0</td>\n      <td>0.0</td>\n      <td>0.0</td>\n    </tr>\n    <tr>\n      <th>s62</th>\n      <td>0.0</td>\n      <td>0.0</td>\n      <td>0.0</td>\n      <td>0.0</td>\n      <td>0.0</td>\n      <td>0.0</td>\n      <td>0.0</td>\n      <td>0.0</td>\n      <td>0.0</td>\n      <td>0.0</td>\n      <td>...</td>\n      <td>0.0</td>\n      <td>0.0</td>\n      <td>0.0</td>\n      <td>0.0</td>\n      <td>0.0</td>\n      <td>0.0</td>\n      <td>0.0</td>\n      <td>0.0</td>\n      <td>0.0</td>\n      <td>0.0</td>\n    </tr>\n    <tr>\n      <th>s63</th>\n      <td>0.0</td>\n      <td>0.0</td>\n      <td>0.0</td>\n      <td>0.0</td>\n      <td>0.0</td>\n      <td>0.0</td>\n      <td>0.0</td>\n      <td>0.0</td>\n      <td>0.0</td>\n      <td>0.0</td>\n      <td>...</td>\n      <td>0.0</td>\n      <td>0.0</td>\n      <td>0.0</td>\n      <td>0.0</td>\n      <td>0.0</td>\n      <td>0.0</td>\n      <td>0.0</td>\n      <td>0.0</td>\n      <td>0.0</td>\n      <td>0.0</td>\n    </tr>\n  </tbody>\n</table>\n<p>64 rows × 64 columns</p>\n</div>"
     },
     "execution_count": 15,
     "metadata": {},
     "output_type": "execute_result"
    }
   ],
   "source": [
    "transition_go_left = print_transitions_matrix(p=P, action=go_left)\n",
    "transition_go_left.to_csv(\"transitions/transition_go_left.csv\")\n",
    "transition_go_left"
   ],
   "metadata": {
    "collapsed": false,
    "ExecuteTime": {
     "end_time": "2024-01-14T09:22:16.689598400Z",
     "start_time": "2024-01-14T09:22:16.540765400Z"
    }
   },
   "id": "e0d42e9db68dddc7",
   "execution_count": 15
  },
  {
   "cell_type": "markdown",
   "source": [
    "<p>$P[cook, S, S']$</p>"
   ],
   "metadata": {
    "collapsed": false
   },
   "id": "e3600c785c5cca4f"
  },
  {
   "cell_type": "code",
   "outputs": [
    {
     "data": {
      "text/plain": "        s0   s1   s2   s3   s4   s5   s6   s7   s8   s9  ...  s54  s55  s56  \\\nStati                                                    ...                  \ns0     0.0  0.0  0.0  0.0  0.0  0.0  0.0  0.0  0.0  0.0  ...  0.0  0.0  0.0   \ns1     0.0  0.0  0.0  0.0  0.0  0.0  0.0  0.0  0.0  0.0  ...  0.0  0.0  0.0   \ns2     0.0  0.0  0.0  0.0  0.0  0.0  0.0  0.0  0.0  0.0  ...  0.0  0.0  0.0   \ns3     0.0  0.0  0.0  0.0  0.0  0.0  0.0  0.0  0.0  0.0  ...  0.0  0.0  0.0   \ns4     0.0  0.0  0.0  0.0  0.0  0.0  0.0  0.0  0.0  0.0  ...  0.0  0.0  0.0   \n...    ...  ...  ...  ...  ...  ...  ...  ...  ...  ...  ...  ...  ...  ...   \ns59    0.0  0.0  0.0  0.0  0.0  0.0  0.0  0.0  0.0  0.0  ...  0.0  0.0  0.0   \ns60    0.0  0.0  0.0  0.0  0.0  0.0  0.0  0.0  0.0  0.0  ...  0.0  0.0  0.0   \ns61    0.0  0.0  0.0  0.0  0.0  0.0  0.0  0.0  0.0  0.0  ...  0.0  0.0  0.0   \ns62    0.0  0.0  0.0  0.0  0.0  0.0  0.0  0.0  0.0  0.0  ...  0.0  0.0  0.0   \ns63    0.0  0.0  0.0  0.0  0.0  0.0  0.0  0.0  0.0  0.0  ...  0.0  0.0  0.0   \n\n       s57  s58  s59  s60  s61  s62  s63  \nStati                                     \ns0     0.0  0.0  0.0  0.0  0.0  0.0  0.0  \ns1     0.0  0.0  0.0  0.0  0.0  0.0  0.0  \ns2     0.0  0.0  0.0  0.0  0.0  0.0  0.0  \ns3     0.0  0.0  0.0  0.0  0.0  0.0  0.0  \ns4     0.0  0.0  0.0  0.0  0.0  0.0  0.0  \n...    ...  ...  ...  ...  ...  ...  ...  \ns59    0.0  0.0  0.0  0.0  0.0  0.0  0.0  \ns60    0.0  0.0  0.0  0.0  0.0  0.0  0.0  \ns61    0.0  0.0  0.0  0.0  0.0  0.0  0.0  \ns62    0.0  0.0  0.0  0.0  0.0  1.0  0.0  \ns63    0.0  0.0  0.0  0.0  0.0  0.0  0.0  \n\n[64 rows x 64 columns]",
      "text/html": "<div>\n<style scoped>\n    .dataframe tbody tr th:only-of-type {\n        vertical-align: middle;\n    }\n\n    .dataframe tbody tr th {\n        vertical-align: top;\n    }\n\n    .dataframe thead th {\n        text-align: right;\n    }\n</style>\n<table border=\"1\" class=\"dataframe\">\n  <thead>\n    <tr style=\"text-align: right;\">\n      <th></th>\n      <th>s0</th>\n      <th>s1</th>\n      <th>s2</th>\n      <th>s3</th>\n      <th>s4</th>\n      <th>s5</th>\n      <th>s6</th>\n      <th>s7</th>\n      <th>s8</th>\n      <th>s9</th>\n      <th>...</th>\n      <th>s54</th>\n      <th>s55</th>\n      <th>s56</th>\n      <th>s57</th>\n      <th>s58</th>\n      <th>s59</th>\n      <th>s60</th>\n      <th>s61</th>\n      <th>s62</th>\n      <th>s63</th>\n    </tr>\n    <tr>\n      <th>Stati</th>\n      <th></th>\n      <th></th>\n      <th></th>\n      <th></th>\n      <th></th>\n      <th></th>\n      <th></th>\n      <th></th>\n      <th></th>\n      <th></th>\n      <th></th>\n      <th></th>\n      <th></th>\n      <th></th>\n      <th></th>\n      <th></th>\n      <th></th>\n      <th></th>\n      <th></th>\n      <th></th>\n      <th></th>\n    </tr>\n  </thead>\n  <tbody>\n    <tr>\n      <th>s0</th>\n      <td>0.0</td>\n      <td>0.0</td>\n      <td>0.0</td>\n      <td>0.0</td>\n      <td>0.0</td>\n      <td>0.0</td>\n      <td>0.0</td>\n      <td>0.0</td>\n      <td>0.0</td>\n      <td>0.0</td>\n      <td>...</td>\n      <td>0.0</td>\n      <td>0.0</td>\n      <td>0.0</td>\n      <td>0.0</td>\n      <td>0.0</td>\n      <td>0.0</td>\n      <td>0.0</td>\n      <td>0.0</td>\n      <td>0.0</td>\n      <td>0.0</td>\n    </tr>\n    <tr>\n      <th>s1</th>\n      <td>0.0</td>\n      <td>0.0</td>\n      <td>0.0</td>\n      <td>0.0</td>\n      <td>0.0</td>\n      <td>0.0</td>\n      <td>0.0</td>\n      <td>0.0</td>\n      <td>0.0</td>\n      <td>0.0</td>\n      <td>...</td>\n      <td>0.0</td>\n      <td>0.0</td>\n      <td>0.0</td>\n      <td>0.0</td>\n      <td>0.0</td>\n      <td>0.0</td>\n      <td>0.0</td>\n      <td>0.0</td>\n      <td>0.0</td>\n      <td>0.0</td>\n    </tr>\n    <tr>\n      <th>s2</th>\n      <td>0.0</td>\n      <td>0.0</td>\n      <td>0.0</td>\n      <td>0.0</td>\n      <td>0.0</td>\n      <td>0.0</td>\n      <td>0.0</td>\n      <td>0.0</td>\n      <td>0.0</td>\n      <td>0.0</td>\n      <td>...</td>\n      <td>0.0</td>\n      <td>0.0</td>\n      <td>0.0</td>\n      <td>0.0</td>\n      <td>0.0</td>\n      <td>0.0</td>\n      <td>0.0</td>\n      <td>0.0</td>\n      <td>0.0</td>\n      <td>0.0</td>\n    </tr>\n    <tr>\n      <th>s3</th>\n      <td>0.0</td>\n      <td>0.0</td>\n      <td>0.0</td>\n      <td>0.0</td>\n      <td>0.0</td>\n      <td>0.0</td>\n      <td>0.0</td>\n      <td>0.0</td>\n      <td>0.0</td>\n      <td>0.0</td>\n      <td>...</td>\n      <td>0.0</td>\n      <td>0.0</td>\n      <td>0.0</td>\n      <td>0.0</td>\n      <td>0.0</td>\n      <td>0.0</td>\n      <td>0.0</td>\n      <td>0.0</td>\n      <td>0.0</td>\n      <td>0.0</td>\n    </tr>\n    <tr>\n      <th>s4</th>\n      <td>0.0</td>\n      <td>0.0</td>\n      <td>0.0</td>\n      <td>0.0</td>\n      <td>0.0</td>\n      <td>0.0</td>\n      <td>0.0</td>\n      <td>0.0</td>\n      <td>0.0</td>\n      <td>0.0</td>\n      <td>...</td>\n      <td>0.0</td>\n      <td>0.0</td>\n      <td>0.0</td>\n      <td>0.0</td>\n      <td>0.0</td>\n      <td>0.0</td>\n      <td>0.0</td>\n      <td>0.0</td>\n      <td>0.0</td>\n      <td>0.0</td>\n    </tr>\n    <tr>\n      <th>...</th>\n      <td>...</td>\n      <td>...</td>\n      <td>...</td>\n      <td>...</td>\n      <td>...</td>\n      <td>...</td>\n      <td>...</td>\n      <td>...</td>\n      <td>...</td>\n      <td>...</td>\n      <td>...</td>\n      <td>...</td>\n      <td>...</td>\n      <td>...</td>\n      <td>...</td>\n      <td>...</td>\n      <td>...</td>\n      <td>...</td>\n      <td>...</td>\n      <td>...</td>\n      <td>...</td>\n    </tr>\n    <tr>\n      <th>s59</th>\n      <td>0.0</td>\n      <td>0.0</td>\n      <td>0.0</td>\n      <td>0.0</td>\n      <td>0.0</td>\n      <td>0.0</td>\n      <td>0.0</td>\n      <td>0.0</td>\n      <td>0.0</td>\n      <td>0.0</td>\n      <td>...</td>\n      <td>0.0</td>\n      <td>0.0</td>\n      <td>0.0</td>\n      <td>0.0</td>\n      <td>0.0</td>\n      <td>0.0</td>\n      <td>0.0</td>\n      <td>0.0</td>\n      <td>0.0</td>\n      <td>0.0</td>\n    </tr>\n    <tr>\n      <th>s60</th>\n      <td>0.0</td>\n      <td>0.0</td>\n      <td>0.0</td>\n      <td>0.0</td>\n      <td>0.0</td>\n      <td>0.0</td>\n      <td>0.0</td>\n      <td>0.0</td>\n      <td>0.0</td>\n      <td>0.0</td>\n      <td>...</td>\n      <td>0.0</td>\n      <td>0.0</td>\n      <td>0.0</td>\n      <td>0.0</td>\n      <td>0.0</td>\n      <td>0.0</td>\n      <td>0.0</td>\n      <td>0.0</td>\n      <td>0.0</td>\n      <td>0.0</td>\n    </tr>\n    <tr>\n      <th>s61</th>\n      <td>0.0</td>\n      <td>0.0</td>\n      <td>0.0</td>\n      <td>0.0</td>\n      <td>0.0</td>\n      <td>0.0</td>\n      <td>0.0</td>\n      <td>0.0</td>\n      <td>0.0</td>\n      <td>0.0</td>\n      <td>...</td>\n      <td>0.0</td>\n      <td>0.0</td>\n      <td>0.0</td>\n      <td>0.0</td>\n      <td>0.0</td>\n      <td>0.0</td>\n      <td>0.0</td>\n      <td>0.0</td>\n      <td>0.0</td>\n      <td>0.0</td>\n    </tr>\n    <tr>\n      <th>s62</th>\n      <td>0.0</td>\n      <td>0.0</td>\n      <td>0.0</td>\n      <td>0.0</td>\n      <td>0.0</td>\n      <td>0.0</td>\n      <td>0.0</td>\n      <td>0.0</td>\n      <td>0.0</td>\n      <td>0.0</td>\n      <td>...</td>\n      <td>0.0</td>\n      <td>0.0</td>\n      <td>0.0</td>\n      <td>0.0</td>\n      <td>0.0</td>\n      <td>0.0</td>\n      <td>0.0</td>\n      <td>0.0</td>\n      <td>1.0</td>\n      <td>0.0</td>\n    </tr>\n    <tr>\n      <th>s63</th>\n      <td>0.0</td>\n      <td>0.0</td>\n      <td>0.0</td>\n      <td>0.0</td>\n      <td>0.0</td>\n      <td>0.0</td>\n      <td>0.0</td>\n      <td>0.0</td>\n      <td>0.0</td>\n      <td>0.0</td>\n      <td>...</td>\n      <td>0.0</td>\n      <td>0.0</td>\n      <td>0.0</td>\n      <td>0.0</td>\n      <td>0.0</td>\n      <td>0.0</td>\n      <td>0.0</td>\n      <td>0.0</td>\n      <td>0.0</td>\n      <td>0.0</td>\n    </tr>\n  </tbody>\n</table>\n<p>64 rows × 64 columns</p>\n</div>"
     },
     "execution_count": 16,
     "metadata": {},
     "output_type": "execute_result"
    }
   ],
   "source": [
    "transition_cook = print_transitions_matrix(p=P, action=cook)\n",
    "transition_cook.to_csv(\"transitions/transition_cook.csv\")\n",
    "transition_cook"
   ],
   "metadata": {
    "collapsed": false,
    "ExecuteTime": {
     "end_time": "2024-01-14T09:22:16.755677Z",
     "start_time": "2024-01-14T09:22:16.571350500Z"
    }
   },
   "id": "c1753be4bfae8bac",
   "execution_count": 16
  },
  {
   "cell_type": "markdown",
   "source": [
    "## Creazione Insieme di reward $R$\n",
    "### e) Describe a reward function $R : S × A × S$ and a value of $γ$ that will lead to an optimal policy\n",
    "\n",
    "Il nostro obbiettivo è cucinare il piatto **pudding eggs**.\n",
    "\n",
    "Un possibile approccio alla scelta dei rewards da assegnare all'agente per guidarlo nella risoluzione del problema è il seguente:\n",
    "- Premio per l'obbiettivo $+100$ cucinare il piatto **pudding eggs** allo stato 62\n",
    "- Premio per l'obbiettivo intermedio $+50$ prendere uno sbattitore posizionato allo stato **16** o **22**\n",
    "- Penalizzazione per un azione non valida $-1$\n",
    "- nei casi rimanenti il Premio sarà $0$"
   ],
   "metadata": {
    "collapsed": false
   },
   "id": "aa72c9751124cac9"
  },
  {
   "cell_type": "code",
   "outputs": [],
   "source": [
    "R = np.zeros(shape=(len(S), len(A), len(S)), dtype=np.float64)\n",
    "# Obbiettivo\n",
    "R[62, cook, 62] = 100\n",
    "R[56, cook, 56] = -1\n",
    "\n",
    "R[16, take_whiskr, 48] = 50\n",
    "R[22, take_whiskr, 54] = 50\n",
    "\n",
    "\n",
    "def probs(a: int, s: int):\n",
    "    return mapping[s, a]\n",
    "\n",
    "\n",
    "for s in S:\n",
    "    for a in A:\n",
    "        # settiamo il reward a -1 se l'azione `a` non è valida\n",
    "        # nello stato `s`\n",
    "        # (ovvero quando non è possibile eseguire l'azione\n",
    "        # `a` dallo stato `s`)\n",
    "        if probs(a, s) == 0.0:\n",
    "            R[s, a, s] = -1"
   ],
   "metadata": {
    "collapsed": false,
    "ExecuteTime": {
     "end_time": "2024-01-14T09:22:16.756731800Z",
     "start_time": "2024-01-14T09:22:16.600706800Z"
    }
   },
   "id": "714645970e096f3d",
   "execution_count": 17
  },
  {
   "cell_type": "markdown",
   "source": [
    "## implementazione scenario Model free\n",
    "\n",
    "### h) Now, considering the problem as a model-free scenario, provide a program (written in Python, possibly based on the labs) that can compute the optimal policy for this world by solely considering the pudding eggs scenario. Draw the computed policy in the grid by putting the optimal action in each cell. If multiple actions are possible, include the probability of each arrow. There may be multiple optimal policies; pick one to show it. Note that the model is not available for computation but must be encoded to be used as the \"real-world\" environment.\n",
    "\n",
    "In questo caso, non sarà possibile accedere al **transition model** e al **reward model** del problema.\n",
    "\n",
    "Per la specifica **Model-free**, consideriamo soltanto lo scenario **pudding eggs**.\n",
    "\n",
    "Definiamo una funzione di policy iniziale insieme a una funzione di generazione di episodi. Useremo e adatteremo il codice sviluppato durante il laboratorio."
   ],
   "metadata": {
    "collapsed": false
   },
   "id": "b4ea21049bea5e32"
  },
  {
   "cell_type": "code",
   "outputs": [],
   "source": [
    "def simple_policy(s: int):\n",
    "    return states_actions_mapping[s][0]\n",
    "\n",
    "STARTING_STATE_ID = 19\n",
    "DISCOUNT_FACTOR = 0.5 \n",
    "starting_state = S[STARTING_STATE_ID]\n",
    "states = [starting_state]\n",
    "policy = {}\n",
    "policy_function = simple_policy\n",
    "\n",
    "for action in A:\n",
    "    policy[(starting_state, action)] = 1 if action == policy_function(starting_state) else 0\n",
    "\n",
    "current_state = starting_state\n",
    "\n",
    "def generate_episode(length = 200, return_actions=False, first_state=None, first_action=None, random_first_state=False):\n",
    "    state = starting_state if first_state == None else first_state\n",
    "    if random_first_state:\n",
    "        initial_states = states[states < 32]\n",
    "        state = np.random.choice(initial_states)\n",
    "\n",
    "    action_state = []\n",
    "    episode_state = [state]\n",
    "\n",
    "    if first_action != None:\n",
    "        action_state.append(first_action)\n",
    "        state = next_state(state, first_action)\n",
    "        episode_state.append(state)\n",
    "\n",
    "    while len(episode_state) < length:\n",
    "        if state not in states:\n",
    "            states.append(state)\n",
    "            for action in A:\n",
    "                policy[(state, action)] = 0\n",
    "            policy[(state, policy_function(state))] = 1\n",
    "        \n",
    "        action_probabilities = [policy[(state, action)] for action in A]\n",
    "        action = np.random.choice(list(A), p=action_probabilities)\n",
    "        action_state.append(action)\n",
    "        state = next_state(state, action)\n",
    "        episode_state.append(state)\n",
    "        \n",
    "        if state == 62 and action == 7:\n",
    "            break\n",
    "            \n",
    "    action_probabilities = [policy[(current_state, action)] for action in A]\n",
    "    action = np.random.choice(list(A), p=action_probabilities)\n",
    "    action_state.append(action)\n",
    "    \n",
    "    state_action = []\n",
    "    for i in range(len(episode_state)):\n",
    "        state_action.append({'s': episode_state[i], 'a': action_state[i]})\n",
    "        \n",
    "    \n",
    "    return episode_state if not return_actions else state_action\n"
   ],
   "metadata": {
    "collapsed": false,
    "ExecuteTime": {
     "end_time": "2024-01-14T17:03:28.667124800Z",
     "start_time": "2024-01-14T17:03:28.664482100Z"
    }
   },
   "id": "1b5ba813e314042d",
   "execution_count": 74
  },
  {
   "cell_type": "code",
   "outputs": [
    {
     "data": {
      "text/plain": "[19,\n 18,\n 17,\n 18,\n 17,\n 18,\n 17,\n 18,\n 17,\n 18,\n 17,\n 18,\n 17,\n 18,\n 17,\n 18,\n 17,\n 18,\n 17,\n 18,\n 17,\n 18,\n 17,\n 18,\n 17,\n 18,\n 17,\n 18,\n 17,\n 18,\n 17,\n 18,\n 17,\n 18,\n 17,\n 18,\n 17,\n 18,\n 17,\n 18,\n 17,\n 18,\n 17,\n 18,\n 17,\n 18,\n 17,\n 18,\n 17,\n 18,\n 17,\n 18,\n 17,\n 18,\n 17,\n 18,\n 17,\n 18,\n 17,\n 18,\n 17,\n 18,\n 17,\n 18,\n 17,\n 18,\n 17,\n 18,\n 17,\n 18,\n 17,\n 18,\n 17,\n 18,\n 17,\n 18,\n 17,\n 18,\n 17,\n 18,\n 17,\n 18,\n 17,\n 18,\n 17,\n 18,\n 17,\n 18,\n 17,\n 18,\n 17,\n 18,\n 17,\n 18,\n 17,\n 18,\n 17,\n 18,\n 17,\n 18,\n 17,\n 18,\n 17,\n 18,\n 17,\n 18,\n 17,\n 18,\n 17,\n 18,\n 17,\n 18,\n 17,\n 18,\n 17,\n 18,\n 17,\n 18,\n 17,\n 18,\n 17,\n 18,\n 17,\n 18,\n 17,\n 18,\n 17,\n 18,\n 17,\n 18,\n 17,\n 18,\n 17,\n 18,\n 17,\n 18,\n 17,\n 18,\n 17,\n 18,\n 17,\n 18,\n 17,\n 18,\n 17,\n 18,\n 17,\n 18,\n 17,\n 18,\n 17,\n 18,\n 17,\n 18,\n 17,\n 18,\n 17,\n 18,\n 17,\n 18,\n 17,\n 18,\n 17,\n 18,\n 17,\n 18,\n 17,\n 18,\n 17,\n 18,\n 17,\n 18,\n 17,\n 18,\n 17,\n 18,\n 17,\n 18,\n 17,\n 18,\n 17,\n 18,\n 17,\n 18,\n 17,\n 18,\n 17,\n 18,\n 17,\n 18,\n 17,\n 18,\n 17,\n 18,\n 17,\n 18,\n 17,\n 18,\n 17,\n 18]"
     },
     "execution_count": 75,
     "metadata": {},
     "output_type": "execute_result"
    }
   ],
   "source": [
    "generate_episode()"
   ],
   "metadata": {
    "collapsed": false,
    "ExecuteTime": {
     "end_time": "2024-01-14T17:03:32.266933400Z",
     "start_time": "2024-01-14T17:03:32.254471200Z"
    }
   },
   "id": "a2c58c25f2936c7e",
   "execution_count": 75
  },
  {
   "cell_type": "markdown",
   "source": [
    "Definiamo una funzione che ci calcola una policy ottima, utilizzeremo la funzione vista in laboratorio."
   ],
   "metadata": {
    "collapsed": false
   },
   "id": "f8bece252aebf1e"
  },
  {
   "cell_type": "code",
   "outputs": [],
   "source": [
    "def compute_returns(episode, index):\n",
    "    if index == None:\n",
    "        return 0\n",
    "    episode = episode[index:]\n",
    "    sum_returns = 0\n",
    "    for i in range(0,len(episode)):\n",
    "        sum_returns += R[episode[i]['s'], episode[i]['a'], next_state(episode[i]['s'], episode[i]['a'])] * (DISCOUNT_FACTOR ** i)\n",
    "\n",
    "    return sum_returns\n",
    "\n",
    "def get_easy_policy():\n",
    "    pol = {}\n",
    "    for k,v in policy.items():\n",
    "        if v != 0:\n",
    "            pol[k[0]] = k[1]\n",
    "    return pol\n",
    "\n",
    "def get_state_action_from_episodes(episodes):\n",
    "    episode_state = []\n",
    "    action_state = []\n",
    "    for e in episodes:\n",
    "        episode_state.append(e['s'])\n",
    "        action_state.append(e['a'])\n",
    "    return (episode_state, action_state)\n",
    "\n",
    "def improve_policy():\n",
    "    n = {(state, action): 0 for state in states for action in A}\n",
    "    g = {(state, action): 0 for state in states for action in A}\n",
    "    q = {(state, action): 0 for state in states for action in A}\n",
    "    known_states = [state for state in states]\n",
    "    i=0\n",
    "    for i in range(10):\n",
    "        print(i)\n",
    "        i+=1\n",
    "        for state in states: #63\n",
    "            for action in A: #7\n",
    "                epi = generate_episode(return_actions=True, first_state = state, first_action = action) \n",
    "                episode, actions = get_state_action_from_episodes(epi)\n",
    "\n",
    "                #check if all states are known\n",
    "                for state_no in episode: #200\n",
    "                    if state_no not in known_states:\n",
    "                        known_states.append(state_no)\n",
    "                        for action in A: #7\n",
    "                            n[(state_no, action)] = 0\n",
    "                            g[(state_no, action)] = 0\n",
    "                            q[(state_no, action)] = 0 # 6.174.000\n",
    "\n",
    "                ## COMPUTATION OF Q-VALUES\n",
    "                for j in range(len(episode)): # 200\n",
    "                    n[(episode[j], actions[j])] += 1\n",
    "                    g[(episode[j], actions[j])] += compute_returns(epi, j)\n",
    "                    q[(episode[j], actions[j])] = g[(episode[j], actions[j])]/n[(episode[j], actions[j])] # 882.000\n",
    "                    \n",
    "\n",
    "    print(q)\n",
    "    ## POLICY IMPROVEMENT\n",
    "    \n",
    "    for state_no,ac in q.keys():\n",
    "\n",
    "        if state_no not in [s for s in states]:\n",
    "           states.append(state_no)\n",
    "\n",
    "        max_action = None\n",
    "        max_value = -np.inf\n",
    "        for action in A:\n",
    "            if q[(state_no, action)] > max_value:\n",
    "                max_value = q[(state_no, action)]\n",
    "                max_action = action\n",
    "\n",
    "\n",
    "        newpolicy = policy\n",
    "        for action in A:\n",
    "            newpolicy[(state_no, action)] = 1 if action == max_action else 0\n",
    "\n",
    "        policy = newpolicy\n",
    "\n",
    "    return policy"
   ],
   "metadata": {
    "collapsed": false,
    "ExecuteTime": {
     "end_time": "2024-01-14T17:03:54.696786200Z",
     "start_time": "2024-01-14T17:03:54.667654100Z"
    }
   },
   "id": "c2c79451d32988a7",
   "execution_count": 76
  },
  {
   "cell_type": "code",
   "outputs": [
    {
     "name": "stdout",
     "output_type": "stream",
     "text": [
      "{'s': 1, 'a': 1}\n",
      "[0, 1, 2, 3, 4]\n"
     ]
    },
    {
     "data": {
      "text/plain": "[0, 1, 2, 3, 4]"
     },
     "execution_count": 41,
     "metadata": {},
     "output_type": "execute_result"
    }
   ],
   "source": [
    "asdf  = []\n",
    "for i in range(5):\n",
    "    asdf.append({'s': i, 'a': i})\n",
    "\n",
    "print(asdf[1])\n",
    "\n",
    "sdf = []    \n",
    "sdfg = []\n",
    "for a in asdf:\n",
    "    sdf.append(a['s'])\n",
    "    sdfg.append(a['a'])\n",
    "print(sdfg)\n",
    "sdf"
   ],
   "metadata": {
    "collapsed": false,
    "ExecuteTime": {
     "end_time": "2024-01-14T16:46:20.650329200Z",
     "start_time": "2024-01-14T16:46:20.637051600Z"
    }
   },
   "id": "269c08d702327f22",
   "execution_count": 41
  },
  {
   "cell_type": "code",
   "outputs": [
    {
     "name": "stdout",
     "output_type": "stream",
     "text": [
      "0\n",
      "1\n",
      "2\n",
      "3\n",
      "4\n",
      "5\n",
      "6\n",
      "7\n",
      "8\n",
      "9\n",
      "{(19, 0): -2.212627654350628e-60, (19, 1): -1.0, (19, 2): 0.0, (19, 3): 0.0, (19, 4): -1.0, (19, 5): -1.0, (19, 6): -1.0, (19, 7): -1.0, (18, 0): -0.004472396925227082, (18, 1): -1.2446030555722283e-60, (18, 2): -1.2446030555722283e-60, (18, 3): -1.0, (18, 4): -1.0, (18, 5): -1.0, (18, 6): -1.0, (18, 7): -1.0, (17, 0): -1.0, (17, 1): -0.0022513015336991533, (17, 2): 0.0, (17, 3): -1.0, (17, 4): -1.0, (17, 5): -1.0, (17, 6): -1.0, (17, 7): -1.0, (27, 0): -1.3828922839691425e-61, (27, 1): -1.0, (27, 2): -1.0, (27, 3): -1.2446030555722283e-60, (27, 4): -1.0, (27, 5): -1.0, (27, 6): -1.0, (27, 7): -1.0, (26, 0): -1.1713911111268031e-60, (26, 1): 0.0, (26, 2): -1.0, (26, 3): 0.0, (26, 4): -1.0, (26, 5): -1.0, (26, 6): -1.0, (26, 7): -1.0, (25, 0): -0.003357465113839027, (25, 1): -1.2446030555722283e-60, (25, 2): -1.0, (25, 3): -1.2446030555722283e-60, (25, 4): -1.0, (25, 5): -1.0, (25, 6): -1.0, (25, 7): -1.0, (24, 0): -1.0, (24, 1): -0.0016915107305211844, (24, 2): -1.0, (24, 3): -1.0, (24, 4): -1.0, (24, 5): -1.0, (24, 6): -1.0, (24, 7): -1.0, (11, 0): -1.3828922839691425e-61, (11, 1): -1.0, (11, 2): -1.2446030555722283e-60, (11, 3): 0.0, (11, 4): -1.0, (11, 5): 0.0, (11, 6): -1.0, (11, 7): -1.0, (10, 0): -1.1713911111268031e-60, (10, 1): 0.0, (10, 2): -1.0, (10, 3): -1.0, (10, 4): -1.0, (10, 5): -1.0, (10, 6): -1.0, (10, 7): -1.0, (9, 0): -0.002756244616709713, (9, 1): -1.2446030555722283e-60, (9, 2): -1.0, (9, 3): -1.0, (9, 4): -1.0, (9, 5): -1.0, (9, 6): -1.0, (9, 7): -1.0, (8, 0): -1.0, (8, 1): -0.0013867221355520786, (8, 2): 0.0, (8, 3): -1.0, (8, 4): -1.0, (8, 5): -1.0, (8, 6): -1.0, (8, 7): -1.0, (3, 0): -1.3828922839691425e-61, (3, 1): -1.0, (3, 2): 0.0, (3, 3): -1.0, (3, 4): -1.0, (3, 5): -1.0, (3, 6): -1.0, (3, 7): -1.0, (2, 0): -1.1713911111268031e-60, (2, 1): 0.0, (2, 2): -1.0, (2, 3): -1.0, (2, 4): -1.0, (2, 5): -1.0, (2, 6): -1.0, (2, 7): -1.0, (1, 0): -0.003357465113839027, (1, 1): -1.2446030555722283e-60, (1, 2): -1.0, (1, 3): -1.0, (1, 4): -1.0, (1, 5): -1.0, (1, 6): -1.0, (1, 7): -1.0, (0, 0): -1.0, (0, 1): -0.0016915107305211844, (0, 2): -1.0, (0, 3): -1.0, (0, 4): -1.0, (0, 5): -1.0, (0, 6): -1.0, (0, 7): -1.0, (23, 0): -0.0031236055332440798, (23, 1): -1.0, (23, 2): -1.0, (23, 3): 0.0, (23, 4): -1.0, (23, 5): -1.0, (23, 6): 0.0, (23, 7): -1.0, (22, 0): -1.0, (22, 1): -0.0015702108568864924, (22, 2): -1.0, (22, 3): -1.2446030555722283e-60, (22, 4): 50.0, (22, 5): -1.0, (22, 6): -1.0, (22, 7): -1.0, (16, 0): -1.0, (16, 1): -1.0, (16, 2): -1.0, (16, 3): -1.5557538194652854e-61, (16, 4): 50.0, (16, 5): -1.0, (16, 6): -1.0, (16, 7): -1.0, (15, 0): -0.003347980749110684, (15, 1): -1.0, (15, 2): 0.0, (15, 3): 0.0, (15, 4): -1.0, (15, 5): -1.0, (15, 6): -1.0, (15, 7): -1.0, (14, 0): -1.0, (14, 1): -0.0016824395373291228, (14, 2): -1.2446030555722283e-60, (14, 3): -1.0, (14, 4): -1.0, (14, 5): -1.0, (14, 6): -1.0, (14, 7): -1.0, (54, 0): -1.0, (54, 1): -0.0017814726840855058, (54, 2): -1.0, (54, 3): -1.2446030555722283e-60, (54, 4): -1.0, (54, 5): -1.0, (54, 6): -1.0, (54, 7): -1.0, (55, 0): -0.0035460992907801322, (55, 1): -1.0, (55, 2): -1.0, (55, 3): 0.0, (55, 4): -1.0, (55, 5): -1.0, (55, 6): 0.0, (55, 7): -1.0, (48, 0): -1.0, (48, 1): -1.0, (48, 2): -1.0, (48, 3): -1.2446030555722284e-61, (48, 4): -1.0, (48, 5): -1.0, (48, 6): -1.0, (48, 7): -1.0, (40, 0): -1.0, (40, 1): -0.0013188262446422589, (40, 2): 0.0, (40, 3): -1.0, (40, 4): -1.0, (40, 5): -1.0, (40, 6): -1.0, (40, 7): -1.0, (41, 0): -0.00262209111766632, (41, 1): -1.2446030555722283e-60, (41, 2): -1.0, (41, 3): -1.0, (41, 4): -1.0, (41, 5): -1.0, (41, 6): -1.0, (41, 7): -1.0, (7, 0): -1.3828922839691425e-61, (7, 1): -1.0, (7, 2): 0.0, (7, 3): -1.0, (7, 4): -1.0, (7, 5): -1.0, (7, 6): -1.0, (7, 7): -1.0, (6, 0): -1.1713911111268031e-60, (6, 1): 0.0, (6, 2): -1.0, (6, 3): -1.0, (6, 4): -1.0, (6, 5): -1.0, (6, 6): -1.0, (6, 7): -1.0, (5, 0): -0.003357465113839027, (5, 1): -1.2446030555722283e-60, (5, 2): 0.0, (5, 3): -1.0, (5, 4): -1.0, (5, 5): -1.0, (5, 6): -1.0, (5, 7): -1.0, (4, 0): -1.0, (4, 1): -0.0016915107305211844, (4, 2): -1.2446030555722283e-60, (4, 3): -1.0, (4, 4): -1.0, (4, 5): -1.0, (4, 6): -1.0, (4, 7): -1.0, (46, 0): -1.0, (46, 1): -0.0016824395373291228, (46, 2): -1.2446030555722283e-60, (46, 3): -1.0, (46, 4): -1.0, (46, 5): -1.0, (46, 6): -1.0, (46, 7): -1.0, (47, 0): -0.003347980749110684, (47, 1): -1.0, (47, 2): 0.0, (47, 3): 0.0, (47, 4): -1.0, (47, 5): -1.0, (47, 6): -1.0, (47, 7): -1.0, (43, 0): -1.3828922839691425e-61, (43, 1): -1.0, (43, 2): -1.2446030555722283e-60, (43, 3): 0.0, (43, 4): -1.0, (43, 5): 0.0, (43, 6): -1.0, (43, 7): -1.0, (42, 0): -1.1713911111268031e-60, (42, 1): 0.0, (42, 2): -1.0, (42, 3): -1.0, (42, 4): -1.0, (42, 5): -1.0, (42, 6): -1.0, (42, 7): -1.0, (13, 0): -0.003347980749110684, (13, 1): -1.0, (13, 2): 0.0, (13, 3): 0.0, (13, 4): -1.0, (13, 5): -1.0, (13, 6): -1.0, (13, 7): -1.0, (12, 0): -1.0, (12, 1): -0.0016824395373291228, (12, 2): -1.2446030555722283e-60, (12, 3): -1.2446030555722283e-60, (12, 4): -1.0, (12, 5): -1.0, (12, 6): -1.0, (12, 7): -1.0, (39, 0): -1.3828922839691425e-61, (39, 1): -1.0, (39, 2): 0.0, (39, 3): -1.0, (39, 4): -1.0, (39, 5): -1.0, (39, 6): -1.0, (39, 7): -1.0, (38, 0): -1.1713911111268031e-60, (38, 1): 0.0, (38, 2): -1.0, (38, 3): -1.0, (38, 4): -1.0, (38, 5): -1.0, (38, 6): -1.0, (38, 7): -1.0, (37, 0): -0.003357465113839027, (37, 1): -1.2446030555722283e-60, (37, 2): 0.0, (37, 3): -1.0, (37, 4): -1.0, (37, 5): -1.0, (37, 6): -1.0, (37, 7): -1.0, (36, 0): -1.0, (36, 1): -0.0016915107305211844, (36, 2): -1.2446030555722283e-60, (36, 3): -1.0, (36, 4): -1.0, (36, 5): -1.0, (36, 6): -1.0, (36, 7): -1.0, (51, 0): -2.212627654350628e-60, (51, 1): -1.0, (51, 2): 0.0, (51, 3): 0.0, (51, 4): -1.0, (51, 5): -1.0, (51, 6): -1.0, (51, 7): -1.0, (50, 0): -0.004472396925227082, (50, 1): -1.2446030555722283e-60, (50, 2): -1.2446030555722283e-60, (50, 3): -1.0, (50, 4): -1.0, (50, 5): -1.0, (50, 6): -1.0, (50, 7): -1.0, (49, 0): -1.0, (49, 1): -0.0022513015336991533, (49, 2): 0.0, (49, 3): -1.0, (49, 4): -1.0, (49, 5): -1.0, (49, 6): -1.0, (49, 7): -1.0, (35, 0): -1.3828922839691425e-61, (35, 1): -1.0, (35, 2): 0.0, (35, 3): -1.0, (35, 4): -1.0, (35, 5): -1.0, (35, 6): -1.0, (35, 7): -1.0, (34, 0): -1.1713911111268031e-60, (34, 1): 0.0, (34, 2): -1.0, (34, 3): -1.0, (34, 4): -1.0, (34, 5): -1.0, (34, 6): -1.0, (34, 7): -1.0, (33, 0): -0.003357465113839027, (33, 1): -1.2446030555722283e-60, (33, 2): -1.0, (33, 3): -1.0, (33, 4): -1.0, (33, 5): -1.0, (33, 6): -1.0, (33, 7): -1.0, (32, 0): -1.0, (32, 1): -0.0016915107305211844, (32, 2): -1.0, (32, 3): -1.0, (32, 4): -1.0, (32, 5): -1.0, (32, 6): -1.0, (32, 7): -1.0, (21, 0): -0.003347980749110684, (21, 1): -1.0, (21, 2): 0.0, (21, 3): 0.0, (21, 4): -1.0, (21, 5): -1.0, (21, 6): -1.0, (21, 7): -1.0, (20, 0): -1.0, (20, 1): -0.0016824395373291228, (20, 2): -1.2446030555722283e-60, (20, 3): -1.2446030555722283e-60, (20, 4): -1.0, (20, 5): -1.0, (20, 6): -1.0, (20, 7): -1.0, (45, 0): -0.003347980749110684, (45, 1): -1.0, (45, 2): 0.0, (45, 3): 0.0, (45, 4): -1.0, (45, 5): -1.0, (45, 6): -1.0, (45, 7): -1.0, (44, 0): -1.0, (44, 1): -0.0016824395373291228, (44, 2): -1.2446030555722283e-60, (44, 3): -1.2446030555722283e-60, (44, 4): -1.0, (44, 5): -1.0, (44, 6): -1.0, (44, 7): -1.0, (59, 0): -1.3828922839691425e-61, (59, 1): -1.0, (59, 2): -1.0, (59, 3): -1.2446030555722283e-60, (59, 4): -1.0, (59, 5): -1.0, (59, 6): -1.0, (59, 7): -1.0, (58, 0): -1.1713911111268031e-60, (58, 1): 0.0, (58, 2): -1.0, (58, 3): 0.0, (58, 4): -1.0, (58, 5): -1.0, (58, 6): -1.0, (58, 7): -1.0, (57, 0): -0.003357465113839027, (57, 1): -1.2446030555722283e-60, (57, 2): -1.0, (57, 3): -1.2446030555722283e-60, (57, 4): -1.0, (57, 5): -1.0, (57, 6): -1.0, (57, 7): -1.0, (56, 0): -1.0, (56, 1): -0.0016915107305211844, (56, 2): -1.0, (56, 3): -1.0, (56, 4): -1.0, (56, 5): -1.0, (56, 6): -1.0, (56, 7): -1.0, (29, 0): -0.003357465113839027, (29, 1): -1.2446030555722283e-60, (29, 2): -1.0, (29, 3): 0.0, (29, 4): -1.0, (29, 5): -1.0, (29, 6): -1.0, (29, 7): -1.0, (28, 0): -1.0, (28, 1): -0.0016915107305211844, (28, 2): -1.0, (28, 3): -1.2446030555722283e-60, (28, 4): -1.0, (28, 5): -1.0, (28, 6): -1.0, (28, 7): -1.0, (53, 0): -0.003347980749110684, (53, 1): -1.0, (53, 2): 0.0, (53, 3): 0.0, (53, 4): -1.0, (53, 5): -1.0, (53, 6): -1.0, (53, 7): -1.0, (52, 0): -1.0, (52, 1): -0.0016824395373291228, (52, 2): -1.2446030555722283e-60, (52, 3): -1.2446030555722283e-60, (52, 4): -1.0, (52, 5): -1.0, (52, 6): -1.0, (52, 7): -1.0, (30, 0): -1.1713911111268031e-60, (30, 1): 0.0, (30, 2): -1.0, (30, 3): -1.0, (30, 4): -1.0, (30, 5): -1.0, (30, 6): -1.0, (30, 7): -1.0, (61, 0): -0.003357465113839027, (61, 1): -1.2446030555722283e-60, (61, 2): -1.0, (61, 3): 0.0, (61, 4): -1.0, (61, 5): -1.0, (61, 6): -1.0, (61, 7): -1.0, (60, 0): -1.0, (60, 1): -0.0016915107305211844, (60, 2): -1.0, (60, 3): -1.2446030555722283e-60, (60, 4): -1.0, (60, 5): -1.0, (60, 6): -1.0, (60, 7): -1.0, (31, 0): -1.3828922839691425e-61, (31, 1): -1.0, (31, 2): -1.0, (31, 3): -1.0, (31, 4): -1.0, (31, 5): -1.0, (31, 6): -1.0, (31, 7): -1.0, (62, 0): -1.1713911111268031e-60, (62, 1): 0.0, (62, 2): -1.0, (62, 3): -1.0, (62, 4): -1.0, (62, 5): -1.0, (62, 6): -1.0, (62, 7): 100.0, (63, 0): -1.3828922839691425e-61, (63, 1): -1.0, (63, 2): -1.0, (63, 3): -1.0, (63, 4): -1.0, (63, 5): -1.0, (63, 6): -1.0, (63, 7): -1.0}\n"
     ]
    },
    {
     "ename": "UnboundLocalError",
     "evalue": "cannot access local variable 'policy' where it is not associated with a value",
     "output_type": "error",
     "traceback": [
      "\u001B[1;31m---------------------------------------------------------------------------\u001B[0m",
      "\u001B[1;31mUnboundLocalError\u001B[0m                         Traceback (most recent call last)",
      "Cell \u001B[1;32mIn[77], line 1\u001B[0m\n\u001B[1;32m----> 1\u001B[0m \u001B[43mimprove_policy\u001B[49m\u001B[43m(\u001B[49m\u001B[43m)\u001B[49m\n",
      "Cell \u001B[1;32mIn[76], line 72\u001B[0m, in \u001B[0;36mimprove_policy\u001B[1;34m()\u001B[0m\n\u001B[0;32m     68\u001B[0m         max_value \u001B[38;5;241m=\u001B[39m q[(state_no, action)]\n\u001B[0;32m     69\u001B[0m         max_action \u001B[38;5;241m=\u001B[39m action\n\u001B[1;32m---> 72\u001B[0m newpolicy \u001B[38;5;241m=\u001B[39m \u001B[43mpolicy\u001B[49m\n\u001B[0;32m     73\u001B[0m \u001B[38;5;28;01mfor\u001B[39;00m action \u001B[38;5;129;01min\u001B[39;00m A:\n\u001B[0;32m     74\u001B[0m     newpolicy[(state_no, action)] \u001B[38;5;241m=\u001B[39m \u001B[38;5;241m1\u001B[39m \u001B[38;5;28;01mif\u001B[39;00m action \u001B[38;5;241m==\u001B[39m max_action \u001B[38;5;28;01melse\u001B[39;00m \u001B[38;5;241m0\u001B[39m\n",
      "\u001B[1;31mUnboundLocalError\u001B[0m: cannot access local variable 'policy' where it is not associated with a value"
     ]
    }
   ],
   "source": [
    "improve_policy()"
   ],
   "metadata": {
    "collapsed": false,
    "ExecuteTime": {
     "end_time": "2024-01-14T17:04:56.673746Z",
     "start_time": "2024-01-14T17:03:58.288984Z"
    }
   },
   "id": "662a06fa09ab3a26",
   "execution_count": 77
  },
  {
   "cell_type": "code",
   "outputs": [],
   "source": [],
   "metadata": {
    "collapsed": false
   },
   "id": "accdd3132a4fa55d"
  }
 ],
 "metadata": {
  "kernelspec": {
   "display_name": "Python 3 (ipykernel)",
   "language": "python",
   "name": "python3"
  },
  "language_info": {
   "codemirror_mode": {
    "name": "ipython",
    "version": 3
   },
   "file_extension": ".py",
   "mimetype": "text/x-python",
   "name": "python",
   "nbconvert_exporter": "python",
   "pygments_lexer": "ipython3",
   "version": "3.12.0"
  }
 },
 "nbformat": 4,
 "nbformat_minor": 5
}
