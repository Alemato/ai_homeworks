{
 "cells": [
  {
   "cell_type": "markdown",
   "id": "6c77a157ce5e76d",
   "metadata": {
    "collapsed": false
   },
   "source": [
    "## Homework 1\n",
    "**Student:** Alessandro Mattei\n",
    "\n",
    "**Matricola:** 295441\n",
    "\n",
    "**Email:** alessandro.mattei1@student.univaq.it\n",
    "\n",
    "## Introduzione\n",
    "Nel Homework 2 è stato richiesto di modificare l'algoritmo MinMaxAlphaBetaPruning in tre modi:\n",
    "- Utilizzando l'H0 cutoff\n",
    "- Utilizzando l'Hl cutoff\n",
    "- Utilizzando un regressore non lineare\n",
    "\n",
    "Tutto questo per verificare se con queste modifiche si migliorasse l'algoritmo MinMax Alpha Beta Pruning e se si riuscisse ad arrivare a profondità maggiori della prima sperimentazione effettuata nel primo Homework. \n",
    "\n",
    "\n",
    "Nel gioco troviamo una classe Agent generica che si può utilizzare per qualsiasi gioco che prende in input un **search_algorithm** e un **initial_state**.\n",
    "L'Agente tramite la funzione **do_action** ritornerà un nuovo stato di gioco tramite l'utilizzo del **search_algorithm** e di un euristica.\n",
    "L'Agente dopo n iterazioni risolverà entrami i giochi proposti.\n",
    "\n",
    "Più avanti verrà mostrato e descritto l'implementazione delle classi e delle funzioni scritte in Python, maggiori dettagli li troverete nel file:\n",
    "- AlessandroMattei_ChessGame.AIhw2.ipynb\n",
    "\n",
    "Nella fase finale viene mostrata e descritta una analisi statistica dei risultati delle varie sperimentazioni eseguite con istanze di diversi algoritmi di ricerca o configurazioni di essi."
   ]
  },
  {
   "cell_type": "markdown",
   "id": "8448953620641b24",
   "metadata": {
    "collapsed": false
   },
   "source": [
    "## Implementazione\n",
    "## Agente - Agent Class"
   ]
  },
  {
   "cell_type": "markdown",
   "id": "5e9e1287d395d237",
   "metadata": {
    "collapsed": false
   },
   "source": [
    "```python\n",
    "class Agent:\n",
    "    \"\"\"\n",
    "    Represents an agent that can act based on a given search algorithm and its current view of the world.\n",
    "\n",
    "    Attributes:\n",
    "        search_algorithm: A search algorithm that the agent uses to make decisions.\n",
    "        view: The agent's current view of the world.\n",
    "        old_view: The agent's previous view of the world.\n",
    "    \"\"\"\n",
    "\n",
    "    def __init__(self, search_algorithm, initial_state):\n",
    "        \"\"\"\n",
    "        Initializes the Agent with a search algorithm and an initial state.\n",
    "\n",
    "        :param search_algorithm: The search algorithm to be used by the agent.\n",
    "        :param initial_state: The initial state of the world as perceived by the agent.\n",
    "        \"\"\"\n",
    "        self.search_algorithm = search_algorithm\n",
    "        self.view = initial_state\n",
    "        self.old_view = None\n",
    "\n",
    "    def do_action(self, current_state_world):\n",
    "        \"\"\"\n",
    "        Updates the agent's view based on the current state of the world and the search algorithm.\n",
    "        :param current_state_world: The current state of the world.\n",
    "        :return: The updated view of the agent.\n",
    "        \"\"\"\n",
    "        self.view = self.search_algorithm.search(current_state_world)\n",
    "        self.old_view = current_state_world\n",
    "        return self.view\n",
    "\n",
    "```\n",
    "La classe agente è indipendente dal tipo di gioco o problema che si vuole risolvere.\n",
    "Si occupa di richiamare l’algoritmo di ricerca (**search_algorithm**), tramite il metodo **do_action**, il quale ritornerà uno stato successivo passando come parametro lo stato attuale.\n",
    "L’agente viene chiamato dalla funzione “main” a ogni mossa e restituisce lo stato successivo migliore (secondo l'euristica scelta) che verrà a sua volta impiegato nel successivo ciclo come parametro fino alla fine dell'esecuzione.\n"
   ]
  },
  {
   "cell_type": "markdown",
   "id": "357ad4de5b134851",
   "metadata": {
    "collapsed": false
   },
   "source": [
    "## Algoritmi di Ricerca Implementati"
   ]
  },
  {
   "cell_type": "markdown",
   "id": "f19756654010c5d",
   "metadata": {
    "collapsed": false
   },
   "source": [
    "## MinMaxAlpha-BetaPruning\n",
    "L'algoritmo MinMax con Alpha-Beta Pruning è una ottimizzazione dell'algoritmo MinMax tradizionale, utilizzato nei giochi a due giocatori come Scacchi.\n",
    "\n",
    "Il suo obiettivo principale è ridurre il numero di nodi valutati nell'albero di ricerca, \"tagliando\" rami che non influenzeranno la decisione finale.\n",
    "Questo permette di esplorare alberi più profondi in meno tempo, migliorando le prestazioni.\n",
    "\n",
    "La strategia si basa sull'utilizzo di due parametri chiave: alpha e beta. Immaginando che il giocatore 1 sia quello che mira a massimizzare il punteggio e il giocatore 2 a minimizzarlo:\n",
    "- Alpha simbolizza il punteggio minimo che il giocatore 1 può assicurarsi nella posizione attuale. Sebbene parta dal valore peggiore per il giocatore 1, si aggiorna costantemente in base alla mossa più vantaggiosa che il giocatore 1 potrebbe fare.\n",
    "- Beta, al contrario, rappresenta il punteggio ottimale che il giocatore 2 può aspirare a ottenere. Anch'esso inizia dal valore peggiore per il giocatore 2, ma si rinnova considerando la mossa migliore individuata per il giocatore 2 fino a quel punto.\n",
    "\n",
    "La dinamica procede seguendo la struttura della ricerca MinMax, con aggiornamenti continui di alpha e beta ad ogni nodo esaminato.\n",
    "Se, in una certa fase dell'analisi, alpha dovesse superare beta, l'esplorazione del ramo attuale viene interrotta, permettendo all'algoritmo di concentrarsi su percorsi alternativi. Così facendo, l'intero sotto-albero legato a nodi in cui i valori di alpha e beta si \"incrociano\" viene bypassato, ottimizzando l'efficienza dell'analisi.\n",
    "\n",
    "L’algoritmo per essere istanziato ha bisogno dell’euristica, del gioco e della profondità alla quale deve lavorare. La variabile *eval_count* è una variabile che conta il numero degli stati valutati utile per stampare i risultati e la variabile *prune_count* è una variabile che ci dice quanti elementi sono stati potati\n",
    "\n",
    "```python\n",
    "def __init__(self, game, heuristic, max_depth=1):\n",
    "    \"\"\"\n",
    "    Initializes an instance of the MinMaxAlphaBetaPruning class.\n",
    "    :param game: The game for which the search is performed.\n",
    "    :param heuristic: The heuristic to evaluate the game states.\n",
    "    :param max_depth: Maximum depth of the search. Default is 1.\n",
    "    \"\"\"\n",
    "    self.game = game\n",
    "    self.heuristic = heuristic\n",
    "    self.max_depth = max_depth\n",
    "    self.prune_count = 0\n",
    "    self.eval_count = 0\n",
    "```\n",
    "Come si può vedere dal file *AlessandroMattei_ChessGame.AIhw1.ipynb*, nel quale è contenuta l'intera implementazione, possiamo notare la presenza di tre metodi **__minmax_alpha_beta()**, **evaluate()**, **pick()** e **search()**.\n",
    "\n",
    "Di seguito possiamo vedere **pick()**:\n",
    "```python\n",
    "def pick(states, parent_turn):\n",
    "    \"\"\"\n",
    "    Picks the best state based on the heuristic values.\n",
    "\n",
    "    This function evaluates a list of game states and selects the state that optimizes\n",
    "    the current player's position.\n",
    "    If it is the maximizing player's turn (parent_turn is True), the state with the highest heuristic\n",
    "    value is chosen.\n",
    "    Otherwise, if it is the minimizing player's turn (parent_turn is False), the state with the lowest heuristic\n",
    "    value is chosen.\n",
    "\n",
    "    :param states: List of game states to pick from.\n",
    "    :param parent_turn: Indicates whose turn it is: True for maximizing player and False for minimizing player.\n",
    "    :return: The best state based on the heuristic value.\n",
    "    \"\"\"\n",
    "    if parent_turn:\n",
    "        # If it's the maximizing player's turn, select the state with the highest heuristic value.\n",
    "        return max(states, key=lambda state: state.h)\n",
    "    else:\n",
    "        # If it's the minimizing player's turn, select the state with the lowest heuristic value.\n",
    "        return min(states, key=lambda state: state.h)\n",
    "```\n",
    "La funzione pick() restituisce, in base al turno (True per giocatore 1 e False per giocatore 2), lo stato con valore estimate massimo o minimo tra gli stati neighbors per ogni mossa. È uguale alla funzione che troviamo nel MinMax\n",
    "\n",
    "Di seguito possiamo vedere **evaluate()**:\n",
    "```python\n",
    "def evaluate(self, states, parent_turn):\n",
    "    \"\"\"\n",
    "    Evaluates a list of states and updates their heuristic values.\n",
    "\n",
    "    :param states: A list of game states to evaluate.\n",
    "    :param parent_turn: A flag indicating if it's the parent player's turn.\n",
    "    \"\"\"\n",
    "    for state in states:\n",
    "        # If a draw can be claimed in the current state, set heuristic value to 0.0.\n",
    "        if state.game_board.can_claim_draw():\n",
    "            state.h = 0.0\n",
    "        else:\n",
    "            # Otherwise, evaluate the state using the Minimax algorithm with Alpha-Beta pruning.\n",
    "            state.h = self.__minmax_alpha_beta(state, self.max_depth - 1, float(\"-inf\"), float(\"inf\"),\n",
    "                                               not parent_turn)\n",
    "```\n",
    "La funzione evaluate() di MinMaxAlphaBetaPruning ha in più rispetto all’algoritmo MinMax le due variabili alpha e beta.\n",
    "\n",
    "Di seguito possiamo vedere la funzione helper **__minmax_alpha_beta()**:\n",
    "```python\n",
    "def __minmax_alpha_beta(self, state, depth, alpha, beta, turn):\n",
    "    \"\"\"\n",
    "    Private method implementing the Minimax algorithm with Alpha-Beta pruning.\n",
    "\n",
    "    :param state: The current game state.\n",
    "    :param depth: The current depth in the game tree.\n",
    "    :param alpha: The alpha value for Alpha-Beta pruning.\n",
    "    :param beta: The beta value for Alpha-Beta pruning.\n",
    "    :param turn: Flag indicating if it's the maximizing player's turn.\n",
    "    :return: The heuristic value of the state.\n",
    "    \"\"\"\n",
    "    self.eval_count += 1\n",
    "\n",
    "    # Base case: if maximum depth is reached or the game is over, return the heuristic value of the state.\n",
    "    if depth == 0 or state.game_board.is_game_over():\n",
    "        return self.heuristic.h(state)\n",
    "\n",
    "    # Generate all possible moves (neighbors) from the current state.\n",
    "    neighbors = self.game.neighbors(state)\n",
    "\n",
    "    if turn:  # If it's the maximizing player's turn.\n",
    "        value = float(\"-inf\")\n",
    "        for neighbor in neighbors:\n",
    "            # Recursively call the function to evaluate the neighbor state, updating the value and alpha.\n",
    "            value = max(value, self.__minmax_alpha_beta(neighbor, depth - 1, alpha, beta, False))\n",
    "            alpha = max(alpha, value)\n",
    "            # Alpha-Beta pruning: if alpha is greater or equal to beta, prune this branch.\n",
    "            if alpha >= beta:\n",
    "                self.prune_count += 1\n",
    "                break\n",
    "        return value\n",
    "    else:  # If it's the minimizing player's turn.\n",
    "        value = float(\"inf\")\n",
    "        for neighbor in neighbors:\n",
    "            # Similarly, for the minimizing player, update the value and beta.\n",
    "            value = min(value, self.__minmax_alpha_beta(neighbor, depth - 1, alpha, beta, True))\n",
    "            beta = min(beta, value)\n",
    "            # Alpha-Beta pruning: if beta is less or equal to alpha, prune this branch.\n",
    "            if beta <= alpha:\n",
    "                self.prune_count += 1\n",
    "                break\n",
    "        return value\n",
    "```\n",
    "Nella funzione helper **__minmax_alpha_beta()** dell'algoritmo MinMaxAlphaBetaPruning, viene integrata la fase di \"pruning\", che verifica la convenienza di uno stato. Se questo stato risulta non vantaggioso, l'analisi del ramo corrispondente viene interrotta. Le variabili *eval_count* e *prune_count* servono rispettivamente a monitorare il numero di stati esaminati e il numero di potature realizzate."
   ]
  },
  {
   "cell_type": "markdown",
   "id": "76112655360cf40a",
   "metadata": {
    "collapsed": false
   },
   "source": [
    "## MinMaxAlpha-BetaPruning H0 CutOff\n",
    "\n",
    "Questa versione di MinMax con Alpha-Beta Pruning è una delle tre versioni che ottimizzano i tempi di valutazione e che ha lo scopo di vedere in profondità in un breve periodo di tempo.\n",
    "\n",
    "Il suo obiettivo principale è ridurre il numero di nodi valutati nell'albero di ricerca, \"tagliando\" i primi rami usando una valutazione statica con un euristica H0, che nel mio caso è l'euristica SoftBoardEvaluationChessGame.\n",
    "\n",
    "Questo permette di esplorare alberi più profondi in meno tempo, migliorando le prestazioni di \"scoperta\".\n",
    "\n",
    "L’algoritmo per essere istanziato ha bisogno dell’euristica di evaluation, dell’euristica di taglio h0, del gioco e della profondità alla quale deve lavorare. La variabile *eval_count* è una variabile che conta il numero degli stati valutati dal semplice minmax alpha beta utile per stampare i risultati e la variabile *prune_count* è una variabile che ci dice quanti elementi sono stati potati dal semplice minmax alpha beta, abbiamo poi anche i valori *eval_h0_cut_count* e *eval_h0_cut_count* che svolgono la stessa funzione ma sono riferiti al processo h0.\n",
    "\n",
    "È importante notare che è stato introdotto un dizionario contenente le valutazioni già effettuate. Questo significa che se ci troviamo di fronte a uno stato e una profondità già calcolati in precedenza, eviteremo di ricalcolare la valutazione, ottimizzando così il processo.\n",
    "\n",
    "```python\n",
    "def __init__(self, game, heuristic, h0_cut, k=5, max_depth=1):\n",
    "    \"\"\"\n",
    "    Initializes the MinMaxAlphaBetaPruningH0Cut class with game settings, heuristics, and search parameters.\n",
    "\n",
    "    :param game: The current state of the chess game.\n",
    "    :param heuristic: Main heuristic function used for evaluating game states.\n",
    "    :param h0_cut: Secondary heuristic function used for h0 cutoff.\n",
    "    :param k: Number of states to consider after applying the h0 cutoff. Defaults to 5.\n",
    "    :param max_depth: Maximum depth for the Minimax search. Defaults to 1.\n",
    "    \"\"\"\n",
    "    self.game = game  # The current state of the chess game.\n",
    "    self.heuristic = heuristic  # Main heuristic function used to evaluate game states.\n",
    "    self.h0_cut = h0_cut  # Secondary heuristic used for the h0 cutoff.\n",
    "    self.k = k  # Number of states to consider after applying the h0 cutoff.\n",
    "    self.max_depth = max_depth  # Maximum depth for the Minimax search.\n",
    "    self.prune_count = 0  # Count of pruned branches in the main search.\n",
    "    self.eval_count = 0  # Count of evaluations in the main search.\n",
    "    self.eval_h0_cut_count = 0  # Count of evaluations for the h0 cutoff.\n",
    "    self.prune_h0_cut_count = 0  # Count of pruned branches due to the h0 cutoff.\n",
    "    self.memoization = {}  # Dictionary for storing previously calculated states.\n",
    "``` \n",
    "Come si può vedere dal file *AlessandroMattei_ChessGame.AIhw2.ipynb*, nel quale è contenuta l'intera implementazione, possiamo notare la presenza dei metodi **__minmax_alpha_beta()**, **__h0_cut()**, **evaluate()**, **pick()** e **search()**.\n",
    "\n",
    "Soffermiamoci a vedere solo le parti cambiate dal canonico MinMax Alpha-Beta. Gradiamo prima come è stato implementata la funzione **__h0_cut()**\n",
    "\n",
    "```python\n",
    "def __h0_cut(self, states, turn):\n",
    "    \"\"\"\n",
    "    Applies the h0 cutoff heuristic to limit the number of states considered.\n",
    "\n",
    "    :param states: A list of game states.\n",
    "    :param turn: Flag indicating the current player's turn.\n",
    "    :return: A list of states after applying the h0 cutoff.\n",
    "    \"\"\"\n",
    "    initial_count = len(states)\n",
    "    # Evaluate states using the h0 heuristic and count evaluations.\n",
    "    for state in states:\n",
    "        state.h0 = self.h0_cut.h(state)\n",
    "        self.eval_h0_cut_count += 1\n",
    "\n",
    "    # Sort and select the top k states based on the h0 heuristic value.\n",
    "    sorted_states = sorted(states, key=lambda state: state.h0, reverse=turn)[:self.k]\n",
    "    # Count how many states were pruned by this process.\n",
    "    self.prune_h0_cut_count += initial_count - len(sorted_states)\n",
    "\n",
    "    return sorted_states\n",
    "```\n",
    "Questo metodo è privato e applica la euristica h0 cutoff per limitare il numero di stati considerati durante la ricerca. Prende una lista di stati possibili **states** e una variabile **turn** che indica il turno del giocatore corrente. Per ciascuno degli stati nella lista, calcola un valore euristico h0 utilizzando la funzione **h0_cut.h(state)** e tiene traccia delle valutazioni tramite **eval_h0_cut_count**. Successivamente, ordina gli stati in base ai valori h0 in ordine decrescente (o crescente, a seconda del turno) e restituisce i primi k stati, dove k è il numero di stati da considerare dopo l'applicazione dell'h0 cutoff. Questo metodo tiene anche traccia del numero di stati che sono stati \"potati\" dalla lista iniziale tramite **prune_h0_cut_count**\n",
    "\n",
    "Guardiamo **__minmax_alpha_beta()**\n",
    "\n",
    "```python\n",
    "def __minmax_alpha_beta(self, state, depth, alpha, beta, turn):\n",
    "    \"\"\"\n",
    "    Private method implementing the Minimax algorithm with Alpha-Beta pruning and memoization.\n",
    "\n",
    "    :param state: The current game state.\n",
    "    :param depth: The current depth in the game tree.\n",
    "    :param alpha: The alpha value for Alpha-Beta pruning.\n",
    "    :param beta: The beta value for Alpha-Beta pruning.\n",
    "    :param turn: Flag indicating if it's the maximizing player's turn.\n",
    "    :return: The heuristic value of the state.\n",
    "    \"\"\"\n",
    "    self.eval_count += 1\n",
    "\n",
    "    # Check if the state is already evaluated and stored in memoization.\n",
    "    if (state, depth, turn) in self.memoization:\n",
    "        return self.memoization[(state, depth, turn)]\n",
    "\n",
    "    # Base case: if maximum depth is reached or the game is over, return the heuristic value.\n",
    "    if depth == 0 or state.game_board.is_game_over():\n",
    "        return self.heuristic.h(state)\n",
    "\n",
    "    # Generate possible moves (neighbors), applying the h0 cutoff.\n",
    "    neighbors = self.game.neighbors(state)\n",
    "    top_neighbors = self.__h0_cut(neighbors, state.game_board.turn)\n",
    "\n",
    "    if turn:  # Maximizing player's turn.\n",
    "        value = float(\"-inf\")\n",
    "        for neighbor in top_neighbors:\n",
    "            # Recursively evaluate the state, update value and alpha.\n",
    "            value = max(value, self.__minmax_alpha_beta(neighbor, depth - 1, alpha, beta, False))\n",
    "            alpha = max(alpha, value)\n",
    "            # Alpha-Beta pruning: prune if alpha >= beta.\n",
    "            if alpha >= beta:\n",
    "                self.prune_count += 1\n",
    "                break\n",
    "        self.memoization[(state, depth, turn)] = value\n",
    "        return value\n",
    "    else:  # Minimizing player's turn.\n",
    "        value = float(\"inf\")\n",
    "        for neighbor in top_neighbors:\n",
    "            # Similar evaluation for the minimizing player.\n",
    "            value = min(value, self.__minmax_alpha_beta(neighbor, depth - 1, alpha, beta, True))\n",
    "            beta = min(beta, value)\n",
    "            # Prune if beta <= alpha.\n",
    "            if beta <= alpha:\n",
    "                self.prune_count += 1\n",
    "                break\n",
    "        self.memoization[(state, depth, turn)] = value\n",
    "        return value\n",
    "```\n",
    "Questo metodo privato implementa l'algoritmo Minimax con potatura Alpha-Beta, con memorizzazione degli stati e depth valutati e utilizza __h0_cut per valutare ed esplorare solo gli stati più promettenti. Prende come argomenti lo stato corrente state, la profondità corrente nella ricerca depth, i valori alpha e beta per la potatura Alpha-Beta, e un flag turn che indica se è il turno del giocatore massimizzante. Questo metodo valuta ricorsivamente gli stati nel gioco, utilizzando la memorizzazione per evitare di valutare più volte gli stessi stati con la stessa depth. Applica la potatura Alpha-Beta per ridurre il numero di stati da considerare e calcola il valore euristico del miglior stato possibile. Questo metodo tiene traccia del numero di valutazioni effettuate tramite eval_count.\n",
    "\n",
    "Guardiamo **__search()**\n",
    "\n",
    "```python\n",
    "def search(self, state: StateChessGame):\n",
    "    \"\"\"\n",
    "    Public method to start the search with Alpha-Beta pruning and h0 cutoff.\n",
    "\n",
    "    :param state: The current state of the chess game.\n",
    "    :return: The best next state for the current player.\n",
    "    \"\"\"\n",
    "    # Generate possible moves, applying the h0 cutoff.\n",
    "    neighbors = self.game.neighbors(state)\n",
    "    top_neighbors = self.__h0_cut(neighbors, state.game_board.turn)\n",
    "    # Evaluate the top neighbors and choose the best move based on the player's turn.\n",
    "    self.evaluate(top_neighbors, state.game_board.turn)\n",
    "    return self.pick(top_neighbors, state.game_board.turn)\n",
    "```\n",
    "Questo metodo pubblico avvia la ricerca utilizzando l'algoritmo Minimax con potatura Alpha-Beta e l'h0 cutoff. Prende uno stato state come input, genera mosse possibili applicando l'h0 cutoff, quindi valuta queste mosse e restituisce la migliore mossa possibile in base al turno del giocatore corrente. La valutazione viene effettuata utilizzando il metodo evaluate, e la scelta della mossa migliore viene fatta utilizzando il metodo pick.\n",
    "\n",
    "I restanti metodi non sono cambiati."
   ]
  },
  {
   "cell_type": "markdown",
   "id": "44c75be234100c43",
   "metadata": {
    "collapsed": false
   },
   "source": [
    "## MinMaxAlpha-BetaPruning Hl CutOff\n",
    "\n",
    "Questa versione di MinMax con Alpha-Beta Pruning è una delle tre versioni che ottimizzano i tempi di valutazione e che ha lo scopo di vedere in profondità in un breve periodo di tempo.\n",
    "\n",
    "Il suo obiettivo principale è ridurre il numero di nodi valutati nell'albero di ricerca, \"tagliando\" i primi rami usando una valutazione dinamica hl cioè valutando i primi stati in profondità l, vine anche usato il \"taglio\" h0 che usa l'euristica SoftBoardEvaluationChessGame all'interno delle depth del minmax.\n",
    "\n",
    "Questo permette di esplorare alberi più profondi in meno tempo, migliorando le prestazioni di \"scoperta\".\n",
    "\n",
    "L’algoritmo per essere istanziato ha bisogno dell’euristica di evaluation, dell’euristica di taglio h0, del gioco e della profondità alla quale deve lavorare. La variabile *eval_count* è una variabile che conta il numero degli stati valutati dal semplice minmax alpha beta utile per stampare i risultati e la variabile *prune_count* è una variabile che ci dice quanti elementi sono stati potati dal semplice minmax alpha beta, abbiamo poi anche i valori *eval_h0_cut_count* e *eval_h0_cut_count* che svolgono la stessa funzione ma sono riferiti al processo h0 e *eval_hl_cut_count* e *eval_hl_cut_count* al processo hl.\n",
    "\n",
    "È importante notare che è stato introdotto un dizionario contenente le valutazioni già effettuate. Questo significa che se ci troviamo di fronte a uno stato e una profondità già calcolati in precedenza, eviteremo di ricalcolare la valutazione, ottimizzando così il processo.\n",
    "\n",
    "```python\n",
    "def __init__(self, game, heuristic, h0_cut, k=5, l=3, max_depth=1):\n",
    "    \"\"\"\n",
    "    Initializes the MinMaxAlphaBetaPruningHlCut class with game settings, heuristics, and search parameters.\n",
    "\n",
    "    :param game: The current state of the chess game.\n",
    "    :param heuristic: Main heuristic function used for evaluating game states.\n",
    "    :param h0_cut: Heuristic function used for the h0 cutoff.\n",
    "    :param k: Number of states to consider after applying the h0 and hl cutoffs. Defaults to 5.\n",
    "    :param l: Depth for the hl cutoff calculation. Defaults to 3.\n",
    "    :param max_depth: Maximum depth for the Minimax search. Defaults to 1.\n",
    "    \"\"\"\n",
    "    self.game = game  # The current state of the chess game.\n",
    "    self.heuristic = heuristic  # Main heuristic function for evaluating game states.\n",
    "    self.h0_cut = h0_cut  # Heuristic function used for the h0 cutoff.\n",
    "    self.k = k  # Number of states to consider after applying the h0 and hl cutoffs.\n",
    "    self.l = l  # Depth for the hl cutoff calculation.\n",
    "    self.max_depth = max_depth  # Maximum depth for the Minimax search.\n",
    "    self.prune_count = 0  # Count of pruned branches in the main search.\n",
    "    self.eval_count = 0  # Count of evaluations in the main search.\n",
    "    self.eval_h0_cut_count = 0  # Count of evaluations for the h0 cutoff.\n",
    "    self.prune_h0_cut_count = 0  # Count of pruned branches due to the h0 cutoff.\n",
    "    self.eval_hl_cut_count = 0  # Count of evaluations for the hl cutoff.\n",
    "    self.prune_hl_cut_count = 0  # Count of pruned branches due to the hl cutoff.\n",
    "    self.memoization = {}  # Dictionary for storing previously calculated states.\n",
    "```\n",
    "\n",
    "Come si può vedere dal file *AlessandroMattei_ChessGame.AIhw2.ipynb*, nel quale è contenuta l'intera implementazione, possiamo notare la presenza dei metodi **__minmax_alpha_beta()**, **__h0_cut()**, **__hl_cut()**, **__minmax_alpha_beta_hl()**, **evaluate()**, **pick()** e **search()**.\n",
    "\n",
    "Soffermiamoci a vedere solo le parti cambiate dal canonico MinMax Alpha-Beta. Analizziamo prima la funzione helper **__hl_cut()**:\n",
    "```python\n",
    "def __hl_cut(self, states, turn):\n",
    "    \"\"\"\n",
    "    Applies the hl cutoff heuristic to further limit the number of states considered.\n",
    "\n",
    "    :param states: A list of game states.\n",
    "    :param turn: Flag indicating the current player's turn.\n",
    "    :return: A list of states after applying the hl cutoff.\n",
    "    \"\"\"\n",
    "    initial_count = len(states)\n",
    "    # Evaluate states using a deeper level of the Minimax algorithm (hl cutoff).\n",
    "    for state in states:\n",
    "        state.hl = self.__minmax_alpha_beta_hl(state, self.l - 1, float(\"-inf\"), float(\"inf\"), not turn)\n",
    "    # Sort and select the top k states based on the hl heuristic value.\n",
    "    sorted_states = sorted(states, key=lambda state: state.hl, reverse=turn)[:self.k]\n",
    "    # Count how many states were pruned by this process.\n",
    "    self.prune_hl_cut_count += initial_count - len(sorted_states)\n",
    "    return sorted_states\n",
    "```\n",
    "Questo è un metodo privato che applica l'euristica di taglio hl per limitare ulteriormente il numero di stati considerati durante la ricerca. Prende una lista di stati possibili states e una variabile turn che indica il turno del giocatore corrente. Per ciascuno degli stati nella lista, calcola un valore euristico hl utilizzando il metodo __minmax_alpha_beta_hl(state, depth, alpha, beta, not turn). Questo valore hl viene utilizzato per valutare e ordinare gli stati. Successivamente, restituisce i primi k stati in base ai valori hl (in ordine decrescente o crescente, a seconda del turno) e tiene traccia del numero di stati che sono stati \"potati\" dalla lista iniziale tramite prune_hl_cut_count.\n",
    "\n",
    "Gradiamo ora il metodo **__minmax_alpha_beta_hl()**:\n",
    "```python\n",
    "def __minmax_alpha_beta_hl(self, state, depth, alpha, beta, turn):\n",
    "    \"\"\"\n",
    "    Implements a deeper level of the Minimax algorithm for the hl cutoff.\n",
    "\n",
    "    :param state: The current game state.\n",
    "    :param depth: The current depth in the game tree.\n",
    "    :param alpha: The alpha value for Alpha-Beta pruning.\n",
    "    :param beta: The beta value for Alpha-Beta pruning.\n",
    "    :param turn: Flag indicating if it's the maximizing player's turn.\n",
    "    :return: The heuristic value of the state.\n",
    "    \"\"\"\n",
    "    self.eval_hl_cut_count += 1\n",
    "\n",
    "    # Base case: if maximum depth is reached or the game is over, return the heuristic value from h0_cut.\n",
    "    if depth == 0 or state.game_board.is_game_over():\n",
    "        return self.h0_cut.h(state)\n",
    "\n",
    "    neighbors = self.game.neighbors(state)\n",
    "\n",
    "    if turn:  # Maximizing player's turn.\n",
    "        value = float(\"-inf\")\n",
    "        for neighbor in neighbors:\n",
    "            # Recursively evaluate the state for hl cutoff, update value and alpha.\n",
    "            value = max(value, self.__minmax_alpha_beta_hl(neighbor, depth - 1, alpha, beta, False))\n",
    "            alpha = max(alpha, value)\n",
    "            # Alpha-Beta pruning for hl cutoff.\n",
    "            if alpha >= beta:\n",
    "                self.prune_hl_cut_count += 1\n",
    "                break\n",
    "        return value\n",
    "    else:  # Minimizing player's turn.\n",
    "        value = float(\"inf\")\n",
    "        for neighbor in neighbors:\n",
    "            # Similar evaluation for the minimizing player for hl cutoff.\n",
    "            value = min(value, self.__minmax_alpha_beta_hl(neighbor, depth - 1, alpha, beta, True))\n",
    "            beta = min(beta, value)\n",
    "            # Prune if beta <= alpha in hl cutoff.\n",
    "            if beta <= alpha:\n",
    "                self.prune_hl_cut_count += 1\n",
    "                break\n",
    "        return value\n",
    "```\n",
    "Questo è un metodo privato che implementa una versione più profonda dell'algoritmo Minimax con potatura Alpha-Beta per il taglio hl. Prende come argomenti lo stato corrente state, la profondità corrente nella ricerca depth, i valori alpha e beta per la potatura Alpha-Beta, e un flag turn che indica se è il turno del giocatore massimizzante. Questo metodo valuta ricorsivamente gli stati nel gioco utilizzando la profondità specificata l e calcola il valore euristico del miglior stato possibile. Questo metodo tiene traccia del numero di valutazioni effettuate tramite eval_hl_cut_count.\n",
    "\n",
    "\n",
    "Analizziamo il metodo **__h0_cut()**:\n",
    "\n",
    "```python\n",
    "def __h0_cut(self, states, turn):\n",
    "    \"\"\"\n",
    "    Applies the h0 cutoff heuristic to limit the number of states considered.\n",
    "\n",
    "    :param states: A list of game states.\n",
    "    :param turn: Flag indicating the current player's turn.\n",
    "    :return: A list of states after applying the h0 cutoff.\n",
    "    \"\"\"\n",
    "    initial_count = len(states)\n",
    "    # Evaluate states using the h0 heuristic and count evaluations.\n",
    "    for state in states:\n",
    "        state.h0 = self.h0_cut.h(state)\n",
    "        self.eval_h0_cut_count += 1\n",
    "\n",
    "    # Sort and select the top k states based on the h0 heuristic value.\n",
    "    sorted_states = sorted(states, key=lambda state: state.h0, reverse=turn)[:self.k]\n",
    "    # Count how many states were pruned by this process.\n",
    "    self.prune_h0_cut_count += initial_count - len(sorted_states)\n",
    "\n",
    "    return sorted_states\n",
    "```\n",
    "Questo è un metodo privato che applica l'euristica di taglio h0 per limitare il numero di stati considerati durante la ricerca. Il suo funzionamento è simile al metodo __hl_cut, ma applica l'euristica h0 invece di hl e tiene traccia del numero di stati \"potati\" tramite prune_h0_cut_count.\n",
    "\n",
    "Guardiamo **__minmax_alpha_beta()**\n",
    "\n",
    "```python\n",
    "def __minmax_alpha_beta(self, state, depth, alpha, beta, turn):\n",
    "    \"\"\"\n",
    "    Private method implementing the Minimax algorithm with Alpha-Beta pruning and memoization.\n",
    "\n",
    "    :param state: The current game state.\n",
    "    :param depth: The current depth in the game tree.\n",
    "    :param alpha: The alpha value for Alpha-Beta pruning.\n",
    "    :param beta: The beta value for Alpha-Beta pruning.\n",
    "    :param turn: Flag indicating if it's the maximizing player's turn.\n",
    "    :return: The heuristic value of the state.\n",
    "    \"\"\"\n",
    "    self.eval_count += 1\n",
    "\n",
    "    # Check if the state is already evaluated and stored in memoization.\n",
    "    if (state, depth, turn) in self.memoization:\n",
    "        return self.memoization[(state, depth, turn)]\n",
    "\n",
    "    # Base case: if maximum depth is reached or the game is over, return the heuristic value.\n",
    "    if depth == 0 or state.game_board.is_game_over():\n",
    "        return self.heuristic.h(state)\n",
    "\n",
    "    # Generate possible moves (neighbors), applying the h0 cutoff.\n",
    "    neighbors = self.game.neighbors(state)\n",
    "    top_neighbors = self.__h0_cut(neighbors, state.game_board.turn)\n",
    "\n",
    "    if turn:  # Maximizing player's turn.\n",
    "        value = float(\"-inf\")\n",
    "        for neighbor in top_neighbors:\n",
    "            # Recursively evaluate the state, update value and alpha.\n",
    "            value = max(value, self.__minmax_alpha_beta(neighbor, depth - 1, alpha, beta, False))\n",
    "            alpha = max(alpha, value)\n",
    "            # Alpha-Beta pruning: prune if alpha >= beta.\n",
    "            if alpha >= beta:\n",
    "                self.prune_count += 1\n",
    "                break\n",
    "        self.memoization[(state, depth, turn)] = value\n",
    "        return value\n",
    "    else:  # Minimizing player's turn.\n",
    "        value = float(\"inf\")\n",
    "        for neighbor in top_neighbors:\n",
    "            # Similar evaluation for the minimizing player.\n",
    "            value = min(value, self.__minmax_alpha_beta(neighbor, depth - 1, alpha, beta, True))\n",
    "            beta = min(beta, value)\n",
    "            # Prune if beta <= alpha.\n",
    "            if beta <= alpha:\n",
    "                self.prune_count += 1\n",
    "                break\n",
    "        self.memoization[(state, depth, turn)] = value\n",
    "        return value\n",
    "```\n",
    "Questo metodo privato implementa l'algoritmo Minimax con potatura Alpha-Beta, con memorizzazione degli stati e depth valutati e utilizza __hl_cut e __h0_cut per valutare ed esplorare solo gli stati più promettenti. Prende come argomenti lo stato corrente state, la profondità corrente nella ricerca depth, i valori alpha e beta per la potatura Alpha-Beta, e un flag turn che indica se è il turno del giocatore massimizzante. Questo metodo valuta ricorsivamente gli stati nel gioco, utilizzando la memorizzazione per evitare di valutare più volte gli stessi stati con la stessa depth. Applica la potatura Alpha-Beta per ridurre il numero di stati da considerare e calcola il valore euristico del miglior stato possibile. Questo metodo tiene traccia del numero di valutazioni effettuate tramite eval_count.\n",
    "\n",
    "Guardiamo **__search()**\n",
    "\n",
    "```python\n",
    "def search(self, state: StateChessGame):\n",
    "    \"\"\"\n",
    "    Public method to start the search with Alpha-Beta pruning, h0, and hl cutoffs.\n",
    "\n",
    "    :param state: The current state of the chess game.\n",
    "    :return: The best next state for the current player.\n",
    "    \"\"\"\n",
    "    # Generate possible moves, applying the hl cutoff.\n",
    "    neighbors = self.game.neighbors(state)\n",
    "    top_neighbors = self.__hl_cut(neighbors, state.game_board.turn)\n",
    "    # Evaluate the top neighbors and choose the best move based on the player's turn.\n",
    "    self.evaluate(top_neighbors, state.game_board.turn)\n",
    "    return self.pick(top_neighbors, state.game_board.turn)\n",
    "```\n",
    "Questo è un metodo pubblico che avvia la ricerca utilizzando l'algoritmo Minimax con potatura Alpha-Beta, insieme alle euristiche di taglio hl e poi h0. Prende uno stato state come input, genera mosse possibili applicando il taglio hl, quindi valuta queste mosse e restituisce la migliore mossa possibile in base al turno del giocatore corrente. La valutazione viene effettuata utilizzando il metodo evaluate, e la scelta della mossa migliore viene fatta utilizzando il metodo pick.\n",
    "\n",
    "I restanti metodi non sono cambiati."
   ]
  },
  {
   "cell_type": "markdown",
   "id": "191e3cd41e2f484f",
   "metadata": {
    "collapsed": false
   },
   "source": [
    "## MinMaxAlpha-BetaPruning Hr CutOff (MLPRegressor)\n",
    "\n",
    "Questa versione di MinMax con Alpha-Beta Pruning è una delle tre versioni che ottimizzano i tempi di valutazione e che ha lo scopo di vedere in profondità in un breve periodo di tempo.\n",
    "\n",
    "Il suo obiettivo principale è ridurre il numero di nodi valutati nell'albero di ricerca, \"tagliando\" i primi rami usando un Regressore non-lineare per stabilire quali stati andranno esplorati.\n",
    "\n",
    "Questo permette di esplorare alberi più profondi in meno tempo, migliorando le prestazioni di \"scoperta\".\n",
    "\n",
    "L’algoritmo per essere istanziato ha bisogno dell’euristica di evaluation, dell’euristica di taglio h0, del gioco e della profondità alla quale deve lavorare. La variabile *eval_count* è una variabile che conta il numero degli stati valutati dal semplice minmax alpha beta utile per stampare i risultati e la variabile *prune_count* è una variabile che ci dice quanti elementi sono stati potati dal semplice minmax alpha beta, abbiamo poi anche i valori *eval_hr_cut_count* e *eval_hr_cut_count* che svolgono la stessa funzione ma sono riferiti al processo hr. Una nota importante è obbligatorio aver creato un modello prima di eseguire questo MinMax Alpha-Beta.\n",
    "\n",
    "È importante notare che è stato introdotto un dizionario contenente le valutazioni già effettuate. Questo significa che se ci troviamo di fronte a uno stato e una profondità già calcolati in precedenza, eviteremo di ricalcolare la valutazione, ottimizzando così il processo.\n",
    "\n",
    "```python\n",
    "def __init__(self, game, heuristic, k=5, max_depth=1):\n",
    "    \"\"\"\n",
    "    Initializes the MinMaxAlphaBetaPruningHrCut class with game settings, heuristics, and search parameters.\n",
    "\n",
    "    :param game: The current state of the chess game.\n",
    "    :param heuristic: Main heuristic function used for evaluating game states.\n",
    "    :param k: Number of states to consider after applying the hr cutoff. Defaults to 5.\n",
    "    :param max_depth: Maximum depth for the Minimax search. Defaults to 1.\n",
    "    \"\"\"\n",
    "    self.game = game  # The current state of the chess game.\n",
    "    self.heuristic = heuristic  # Main heuristic function used to evaluate game states.\n",
    "    self.k = k  # Number of states to consider after applying the h0 cutoff.\n",
    "    self.max_depth = max_depth  # Maximum depth for the Minimax search.\n",
    "    self.prune_count = 0  # Count of pruned branches in the main search.\n",
    "    self.eval_count = 0  # Count of evaluations in the main search.\n",
    "    self.eval_hr_cut_count = 0  # Count of evaluations for the h0 cutoff.\n",
    "    self.prune_hr_cut_count = 0  # Count of pruned branches due to the h0 cutoff.\n",
    "    self.memoization = {}  # Dictionary for storing previously calculated states.\n",
    "    self.mlp_regressor = joblib.load('./mlp_regressor_model.joblib')  # Load the ML regressor model.\n",
    "    self.observation = ObservationBoard(normalize_result=True)  # Initialize the observation board.\n",
    "```\n",
    "Come si può vedere dal file *AlessandroMattei_ChessGame.AIhw2.ipynb*, nel quale è contenuta l'intera implementazione, possiamo notare la presenza dei metodi **__minmax_alpha_beta()**, **__hr_cut()**, **__regressor_eval()**, **evaluate()**, **pick()** e **search()**.\n",
    "\n",
    "Soffermiamoci a vedere solo le parti cambiate dal canonico MinMax Alpha-Beta. Analizziamo prima la funzione helper **__hr_cut()**:\n",
    "```python\n",
    "def __hr_cut(self, states, turn):\n",
    "    \"\"\"\n",
    "    Applies the hr cutoff using the ML regressor to limit the number of states considered.\n",
    "\n",
    "    :param states: A list of game states.\n",
    "    :param turn: Flag indicating the current player's turn.\n",
    "    :return: A list of states after applying the hr cutoff.\n",
    "    \"\"\"\n",
    "    initial_count = len(states)\n",
    "\n",
    "    for state in states:\n",
    "        observations = self.observation.h_piccoli(state.game_board)  # Get observations from the board.\n",
    "        state.hr = self.__regressor_eval(observations)  # Evaluate state using the ML regressor.\n",
    "        self.eval_hr_cut_count += 1\n",
    "\n",
    "    # Sort and select the top k states based on the hr value.\n",
    "    sorted_states = sorted(states, key=lambda state: state.hr, reverse=turn)[:self.k]\n",
    "    # Count how many states were pruned by this process.\n",
    "    self.prune_hr_cut_count += initial_count - len(sorted_states)\n",
    "\n",
    "    return sorted_states\n",
    "```\n",
    "Questo è un metodo privato che applica l'euristica di taglio hr utilizzando un modello di regressione di machine learning per limitare il numero di stati considerati durante la ricerca. Prende una lista di stati possibili states e una variabile turn che indica il turno del giocatore corrente. Per ciascuno degli stati nella lista, estrae le osservazioni dalla scacchiera utilizzando l'oggetto ObservationBoard e quindi valuta lo stato utilizzando il metodo __regressor_eval(observations) per ottenere un valore hr. Successivamente, restituisce i primi k stati in base ai valori hr (in ordine decrescente o crescente, a seconda del turno) e tiene traccia del numero di stati che sono stati \"potati\" dalla lista iniziale tramite prune_hr_cut_count.\n",
    "\n",
    "Guardiamo **__regressor_eval()**\n",
    "```python\n",
    "def __regressor_eval(self, observations):\n",
    "    \"\"\"\n",
    "    Evaluates a state using the ML regressor.\n",
    "\n",
    "    :param observations: The observations extracted from the chess board.\n",
    "    :return: The predicted value from the ML regressor.\n",
    "    \"\"\"\n",
    "    colonne = ['h1', 'h2', 'h3', 'h4', 'h5', 'h6', 'h7', 'h8', 'h9', 'h10',\n",
    "               'h11', 'h12', 'h13', 'h14', 'h15', 'h16', 'h17', 'h18', 'h19',\n",
    "               'h20']\n",
    "    df = pd.DataFrame([observations], columns=colonne)\n",
    "    return self.mlp_regressor.predict(df)[0]  # Predict and return the first value.\n",
    "```\n",
    "Questo è un metodo privato che valuta uno stato utilizzando un modello di regressione di machine learning (ML). Prende le osservazioni estratte dalla scacchiera come input e restituisce il valore previsto dal modello di regressione per quel particolare stato.\n",
    "\n",
    "Guardiamo **__minmax_alpha_beta()**\n",
    "```python\n",
    "def __minmax_alpha_beta(self, state, depth, alpha, beta, turn):\n",
    "    \"\"\"\n",
    "    Private method implementing the Minimax algorithm with Alpha-Beta pruning.\n",
    "\n",
    "    :param state: The current game state.\n",
    "    :param depth: The current depth in the game tree.\n",
    "    :param alpha: The alpha value for Alpha-Beta pruning.\n",
    "    :param beta: The beta value for Alpha-Beta pruning.\n",
    "    :param turn: Flag indicating if it's the maximizing player's turn.\n",
    "    :return: The heuristic value of the state.\n",
    "    \"\"\"\n",
    "    self.eval_count += 1\n",
    "\n",
    "    # Check if the state is already evaluated and stored in memoization.\n",
    "    if (state, depth, turn) in self.memoization:\n",
    "        return self.memoization[(state, depth, turn)]\n",
    "\n",
    "    # Base case: if maximum depth is reached or the game is over, return the heuristic value.\n",
    "    if depth == 0 or state.game_board.is_game_over():\n",
    "        return self.heuristic.h(state)\n",
    "\n",
    "    # Generate possible moves (neighbors), applying the hr cutoff.\n",
    "    neighbors = self.game.neighbors(state)\n",
    "    top_neighbors = self.__hr_cut(neighbors, state.game_board.turn)\n",
    "\n",
    "    if turn:  # Maximizing player's turn.\n",
    "        value = float(\"-inf\")\n",
    "        for neighbor in top_neighbors:\n",
    "            # Recursively evaluate the state, update value and alpha.\n",
    "            value = max(value, self.__minmax_alpha_beta(neighbor, depth - 1, alpha, beta, False))\n",
    "            alpha = max(alpha, value)\n",
    "            # Alpha-Beta pruning: prune if alpha >= beta.\n",
    "            if alpha >= beta:\n",
    "                self.prune_count += 1\n",
    "                break\n",
    "        self.memoization[(state, depth, turn)] = value\n",
    "        return value\n",
    "    else:  # Minimizing player's turn.\n",
    "        value = float(\"inf\")\n",
    "        for neighbor in top_neighbors:\n",
    "            # Similar evaluation for the minimizing player.\n",
    "            value = min(value, self.__minmax_alpha_beta(neighbor, depth - 1, alpha, beta, True))\n",
    "            beta = min(beta, value)\n",
    "            # Prune if beta <= alpha.\n",
    "            if beta <= alpha:\n",
    "                self.prune_count += 1\n",
    "                break\n",
    "        self.memoization[(state, depth, turn)] = value\n",
    "        return value\n",
    "```\n",
    "Questo metodo privato implementa l'algoritmo Minimax con potatura Alpha-Beta, con memorizzazione degli stati e depth valutati e utilizza __hr_cut (un MPLRegressor) per valutare ed esplorare solo gli stati più promettenti. Prende come argomenti lo stato corrente state, la profondità corrente nella ricerca depth, i valori alpha e beta per la potatura Alpha-Beta, e un flag turn che indica se è il turno del giocatore massimizzante. Questo metodo valuta ricorsivamente gli stati nel gioco, utilizzando la memorizzazione per evitare di valutare più volte gli stessi stati con la stessa depth. Applica la potatura Alpha-Beta per ridurre il numero di stati da considerare e calcola il valore euristico del miglior stato possibile. Questo metodo tiene traccia del numero di valutazioni effettuate tramite eval_count.\n",
    "\n",
    "Guardiamo **__search()**\n",
    "```python\n",
    "def search(self, state: StateChessGame):\n",
    "    \"\"\"\n",
    "    Public method to start the search with Alpha-Beta pruning and hr cutoff.\n",
    "\n",
    "    :param state: The current state of the chess game.\n",
    "    :return: The best next state for the current player.\n",
    "    \"\"\"\n",
    "    # Generate possible moves, applying the h0 cutoff.\n",
    "    neighbors = self.game.neighbors(state)\n",
    "    top_neighbors = self.__hr_cut(neighbors, state.game_board.turn)\n",
    "    # Evaluate the top neighbors and choose the best move based on the player's turn.\n",
    "    self.evaluate(top_neighbors, state.game_board.turn)\n",
    "    return self.pick(top_neighbors, state.game_board.turn)\n",
    "```\n",
    "Questo è un metodo pubblico che avvia la ricerca utilizzando l'algoritmo Minimax con potatura Alpha-Beta, insieme all'euristica di taglio hr. Prende uno stato state come input, genera mosse possibili applicando il taglio hr, quindi valuta queste mosse e restituisce la migliore mossa possibile in base al turno del giocatore corrente. La valutazione viene effettuata utilizzando il metodo evaluate, e la scelta della mossa migliore viene fatta utilizzando il metodo pick."
   ]
  },
  {
   "cell_type": "markdown",
   "id": "683691ec33db3b69",
   "metadata": {
    "collapsed": false
   },
   "source": [
    "# HEURISTICS\n",
    "## HardBoardEvaluationChessGame - Complex Chess Board Evaluation\n",
    "\n",
    "Questa euristica combina varie euristiche. È l'euristica più complessa che è presente nel gioco.\n",
    "Ritorna la somma dei risultati delle singole euristiche.\n",
    "\n",
    "Euristica Combinate:\n",
    "   - evaluate_board_without_king: Componente di valutazione che si concentra sulla scacchiera senza considerare la posizione del re.\n",
    "   - evaluate_central_control_score: Componente di valutazione incentrata sul controllo delle caselle centrali.\n",
    "   - evaluate_king_safety: Componente di valutazione che si concentra sulla sicurezza del Re.\n",
    "   - evaluate_mobility: Componente di valutazione incentrata sulla mobilità dei pezzi.\n",
    "   - evaluate_pawn_structure: Componente di valutazione che si concentra sulla struttura dei pedoni.\n",
    "   - evaluate_piece_positions: Componente di valutazione che si concentra sulle posizioni di tutti i pezzi tranne il re.\n",
    "\n",
    "Per capire e vedere nel dettaglio come sono state implementate le singole euristiche vedere il file *AlessandroMattei_ChessGame.AIhw2.ipynb*"
   ]
  },
  {
   "cell_type": "markdown",
   "id": "cec7d9d78864aa50",
   "metadata": {
    "collapsed": false
   },
   "source": [
    "## SoftBoardEvaluationChessGame - Simple Chess Board Evaluation\n",
    "\n",
    "Questa euristica combina varie euristiche. È l'euristica più semplice che è presente per il gioco Scacchi e viene usata per tagliare gli stati in h0 e hl.\n",
    "Ritorna la somma dei risultati delle singole euristiche\n",
    "\n",
    "Euristica Combinate:\n",
    "   - evaluate_board_without_king: Componente di valutazione che si concentra sulla scacchiera senza considerare la posizione del re.\n",
    "   - evaluate_central_control_score: Componente di valutazione incentrata sul controllo delle caselle centrali.\n",
    "   - evaluate_king_safety: Componente di valutazione che si concentra sulla sicurezza del Re.\n",
    "   - evaluate_piece_positions: Componente di valutazione che si concentra sulle posizioni di tutti i pezzi tranne il re.\n",
    "\n",
    "Per capire e vedere nel dettaglio come sono state implementate le singole euristiche vedere il file *AlessandroMattei_ChessGame.AIhw2.ipynb*"
   ]
  },
  {
   "cell_type": "markdown",
   "id": "cc78d68850e28931",
   "metadata": {
    "collapsed": false
   },
   "source": [
    "# Creazione di un Regressore per il MinMax Alpha Beta con Hr CutOff\n",
    "## Creazione del dataset\n",
    "\n",
    "Prima di creare un regressore da utilizzare per il MinMax Alpha Beta, ho deciso di scaricare un dataset collaudato disponibile su Kaggle: [Chess Evaluations](https://www.kaggle.com/datasets/ronakbadhe/chess-evaluations).\n",
    "\n",
    "Questo dataset contiene oltre 12 milioni di righe e due colonne principali:\n",
    "- La colonna \"FEN\" che identifica la posizione della scacchiera in formato FEN.\n",
    "- La colonna \"Evaluation\" che rappresenta il valore calcolato utilizzando Stockfish 11 con profondità 22.\n",
    "\n",
    "Per velocizzare la computazione e semplificare il processo di debug, ho suddiviso il dataset totale in 130 file.\n",
    "\n",
    "Per creare il file CSV, è stata sviluppata una classe dedicata in grado di generare valutazioni a partire da una specifica configurazione della scacchiera. In totale, sono state generate 20 valutazioni per ciascuna configurazione. \n",
    "Il nuovo generatore CSV produce un dataset con 21 colonne:\n",
    "- Le colonne h1, h2, h3, h4, h5, h6, h7, h8, h9, h10, h11, h12, h13, h14, h15, h16, h17, h18, h19, h20 identificano le singole osservazioni.\n",
    "- La colonna \"HL\" identifica il valore calcolato da Stockfish.\n",
    "\n",
    "Questo dataset sarà fondamentale per addestrare il nostro regressore per il MinMax Alpha Beta.\n",
    "\n",
    "Vediamo il generatore:\n",
    "```python\n",
    "import os\n",
    "from concurrent.futures import ProcessPoolExecutor\n",
    "\n",
    "import chess\n",
    "import pandas as pd\n",
    "\n",
    "from chessgame.heuristics.ObservationBoard import ObservationBoard\n",
    "\n",
    "\n",
    "def eval_fen(csv_row):\n",
    "    fen = csv_row['FEN']\n",
    "    hl = csv_row['Evaluation']\n",
    "    observation = ObservationBoard(normalize_result=True)\n",
    "    evaluation = observation.h_piccoli(chess.Board(fen))\n",
    "    return evaluation + [hl]\n",
    "\n",
    "\n",
    "def generate_csv():\n",
    "    # Numero di lavoratori\n",
    "    number_of_workers = os.cpu_count()\n",
    "\n",
    "    heuristic_csv = pd.DataFrame(\n",
    "        columns=['h1', 'h2', 'h3', 'h4', 'h5', 'h6', 'h7', 'h8', 'h9', 'h10', 'h11', 'h12', 'h13', 'h14', 'h15', 'h16',\n",
    "                 'h17', 'h18', 'h19', 'h20', 'HL'])\n",
    "\n",
    "    csv_num_files = 130\n",
    "    # Percorso della cartella dove si trovano i file\n",
    "    directory = '../csv/chessdata'\n",
    "\n",
    "    for i in range(1, csv_num_files + 1):\n",
    "        csv_file = f\"{directory}/chessData_partizione_{i}.csv\"\n",
    "        df_chunk = pd.read_csv(csv_file)\n",
    "        print(f\"\\ncarico il csv: {csv_file}\")\n",
    "        # Processa il chunk\n",
    "        with ProcessPoolExecutor(max_workers=number_of_workers) as executor:\n",
    "            res = list(executor.map(eval_fen, df_chunk.to_dict('records')))\n",
    "\n",
    "        heuristic_csv = pd.concat([heuristic_csv, pd.DataFrame(res, columns=heuristic_csv.columns)])\n",
    "        print(\"file elaborato\")\n",
    "\n",
    "    print(f\"\\nelaborati tutti i {csv_num_files} file. Scrivo il csv finale\\n\")\n",
    "    # Salva il nuovo DataFrame in un file CSV\n",
    "    heuristic_csv.to_csv('../csv/eval_dataset.csv', index=False)\n",
    "    print(\"csv finale scritto\\n\")\n",
    "\n",
    "    # Mostra le prime righe del nuovo DataFrame\n",
    "    print(heuristic_csv.head())\n",
    "\n",
    "\n",
    "if __name__ == '__main__':\n",
    "    generate_csv()\n",
    "```\n",
    "Per capire e vedere nel dettaglio la generazione delle osservazioni e su come sono state implementate vedere il file *AlessandroMattei_ChessGame.AIhw2.ipynb*\n"
   ]
  },
  {
   "cell_type": "markdown",
   "id": "398ec98ccf237c5c",
   "metadata": {
    "collapsed": false
   },
   "source": [
    "## Addestramento di un Regressore MLP per Hr con dati da CSV\n",
    "\n",
    "In questo processo, ho adottato un approccio per addestrare un regressore basato su una rete neurale MLP (Multilayer Perceptron) per stimare Hr. ho utilizzato i dati dall file CSV generato prima che contiene osservazioni della scacchiera e le corrispondenti valutazioni HL ottenute da Stockfish.\n",
    "\n",
    "```python\n",
    "import datetime\n",
    "\n",
    "import joblib\n",
    "import pandas as pd\n",
    "from sklearn.metrics import mean_squared_error, r2_score\n",
    "from sklearn.model_selection import train_test_split\n",
    "from sklearn.neural_network import MLPRegressor\n",
    "\n",
    "\n",
    "def train_regressor():\n",
    "    df = pd.read_csv('../csv/eval_dataset.csv')\n",
    "    # Separare le features e il target\n",
    "    X = df.drop('HL', axis=1)  # Features: h1 a h20\n",
    "    y = df['HL']  # Target: HL\n",
    "\n",
    "    # Divisione del dataset in set di addestramento e di validazione\n",
    "    X_train, X_val, y_train, y_val = train_test_split(X, y, test_size=0.2, random_state=42)\n",
    "\n",
    "    # Creazione del modello MLPRegressor\n",
    "    mlp_regressor = MLPRegressor(hidden_layer_sizes=(100, 50),\n",
    "                                 activation='relu',\n",
    "                                 solver='adam',\n",
    "                                 alpha=0.0001,\n",
    "                                 learning_rate_init=0.001,\n",
    "                                 max_iter=500,\n",
    "                                 early_stopping=True,\n",
    "                                 validation_fraction=0.1,\n",
    "                                 n_iter_no_change=10,\n",
    "                                 random_state=42,\n",
    "                                 verbose=True)\n",
    "\n",
    "    # Addestramento del modello\n",
    "    mlp_regressor.fit(X_train, y_train)\n",
    "\n",
    "    # Valutazione del modello sul set di validazione\n",
    "    y_val_pred = mlp_regressor.predict(X_val)\n",
    "    mse = mean_squared_error(y_val, y_val_pred)\n",
    "    r2 = r2_score(y_val, y_val_pred)\n",
    "\n",
    "    print(f\"Errore Quadratico Medio sul set di validazione: {mse}\")\n",
    "    print(f\"Coefficiente di determinazione (R²) sul set di validazione: {r2}\")\n",
    "\n",
    "    # Salvare il modello addestrato\n",
    "    joblib.dump(mlp_regressor, 'mlp_regressor_model_c_64.joblib')\n",
    "\n",
    "if __name__ == '__main__':\n",
    "    start_time = datetime.datetime.now()\n",
    "    print(f\"Addestramento iniziato a: {start_time.strftime('%Y-%m-%d %H:%M:%S')}\")\n",
    "\n",
    "    train_regressor()\n",
    "\n",
    "    end_time = datetime.datetime.now()\n",
    "    print(f\"Addestramento terminato a: {end_time.strftime('%Y-%m-%d %H:%M:%S')}\")\n",
    "    print(f\"Durata totale: {end_time - start_time}\")\n",
    "```\n",
    "In Dettaglio:\n",
    "Questo programma legge un file CSV contenente dati strutturati, tra cui caratteristiche (features) e un obiettivo da predire (target). Le caratteristiche vengono estratte dal dataset, mentre il target viene isolato. Il dataset viene quindi diviso in due parti: un set di addestramento e un set di validazione per valutare le prestazioni del modello.\n",
    "\n",
    "Un regressore basato su una rete neurale MLP viene creato con parametri specifici, tra cui le dimensioni dei livelli nascosti, la funzione di attivazione, il metodo di ottimizzazione e altri. Il modello viene quindi addestrato utilizzando il set di addestramento per imparare la relazione tra le caratteristiche e il target.\n",
    "\n",
    "Dopo l'addestramento, il modello effettua previsioni sul set di validazione e calcola due metriche di valutazione principali: l'Errore Quadratico Medio (MSE) e il Coefficiente di Determinazione (R²). Queste metriche forniscono informazioni sulle prestazioni del modello nel predire il target in base ai dati di input.\n",
    "\n",
    "Infine, il modello addestrato viene salvato su disco utilizzando la libreria \"joblib\", e vengono registrati l'orario di inizio e di fine dell'addestramento, insieme alla durata totale dell'operazione."
   ]
  },
  {
   "cell_type": "markdown",
   "id": "13a053f036acb87c",
   "metadata": {
    "collapsed": false
   },
   "source": [
    "## ChessGame - Chess\n",
    "Il gioco degli scacchi, rinomato e antico, è uno degli esempi più pregevoli di strategia tra i giochi da tavolo.\n",
    "La partita si dispiega su una scacchiera composta da 64 caselle, disposte in un alternarsi di colori chiari e scuri (tipicamente bianche e nere). La scacchiera viene posizionata tra i contendenti in modo che la casella situata in basso a destra sia di colore chiaro.\n",
    "\n",
    "**Pezzi**\n",
    "Ogni giocatore inizia con 16 pezzi:\n",
    "- 1 Re: Si muove di una casella in qualsiasi direzione.\n",
    "- 1 Regina (o Dama): Si muove di qualsiasi numero di caselle in linea retta, sia in orizzontale, verticale, che diagonale.\n",
    "- 2 Torri: Si muovono in linea retta, ma solo in orizzontale o verticale.\n",
    "- 2 Cavalli: Si muovono in una forma a \"L\", ovvero due caselle in una direzione e una perpendicolare a quella.\n",
    "- 2 Alfieri: Si muovono di qualsiasi numero di caselle, ma solo in diagonale.\n",
    "- 8 Pedoni: Si muovono in avanti di una casella alla volta, con l'eccezione del primo movi\n",
    "\n",
    "### OBBIETTIVO\n",
    "L'obiettivo principale è mettere in \"scacco matto\" il re avversario, creando una condizione in cui il monarca è minacciato e non può evitare la cattura.\n",
    "Il gioco può finire in pareggio, o \"patta\", in diverse circostanze, come quando nessuno dei giocatori ha sufficienti pezzi per dare scacco matto, o se si verifica una posizione ripetuta tre volte.\n",
    "\n",
    "### MODALITÀ DI GIOCO\n",
    "Due agenti si sfidano spostando i pezzi sulla scacchiera, facendo un turno alla volta.\n",
    "\n",
    "#### CLASSE GIOCO\n",
    "All'interno del progetto per questo gioco troviamo una classe chiamata **ChessGame** che ha il compito di fornire i metodi per ottenere i vicini di un dato stato, che sono i possibili stati che possono essere raggiunti effettuando mosse valide dallo stato corrente.\n",
    "\n",
    "Di seguito possiamo vedere la funzione helper **neighbors()** presente nella classe **ChessGame**:\n",
    "\n",
    "```python\n",
    "def neighbors(self, state: StateChessGame):\n",
    "    \"\"\"\n",
    "    Generates all possible next states (neighbors) from a given state.\n",
    "\n",
    "    :param state: The current state of the chess game from which to compute neighbors.\n",
    "    :return: A list of StateChessGame objects representing possible next states.\n",
    "    \"\"\"\n",
    "    neighbors = []\n",
    "\n",
    "    # Iterate through all legal moves from the current state.\n",
    "    for legal_move in state.game_board.legal_moves:\n",
    "        # Copy the current game board and make the legal move.\n",
    "        new_game_board = state.game_board.copy()\n",
    "        new_game_board.push(legal_move)\n",
    "\n",
    "        # Create a new StateChessGame object for the resulting game state.\n",
    "        neighbor = StateChessGame(game_board=new_game_board, state_parent=state, move=legal_move)\n",
    "        neighbors.append(neighbor)\n",
    "    return neighbors\n",
    "```\n",
    "La funzione **neighbors()** restituisce gli stati adiacenti a quello fornito, rappresentando tutte le configurazioni possibili dei pezzi ottenibili mediante mosse legali, sfruttando la libreria \"chess\"."
   ]
  },
  {
   "cell_type": "markdown",
   "id": "fe0914dc6313fdbd",
   "metadata": {
    "collapsed": false
   },
   "source": [
    "# STATES\n",
    "\n",
    "Lo stato costituisce una chiave essenziale nel contesto del gioco o del problema, fungendo da fotografia istantanea della sua configurazione in un dato momento.\n",
    "All'interno dello stato, troviamo la rappresentazione dettagliata del tavolo da gioco o del contesto problematico, un riferimento al suo stato precedente o \"state_parent\", nonché una serie di parametri e valori numerici che forniscono una valutazione qualitativa e quantitativa di tale stato, aiutando nella sua interpretazione e nelle decisioni successive.\n",
    "\n",
    "## StateChessGame - STATE Chess\n",
    "\n",
    "```python\n",
    "def __init__(self, game_board=None, state_parent=None, move=None):\n",
    "    \"\"\"\n",
    "    Initializes a new game state.\n",
    "\n",
    "    :param game_board: The current chess board configuration. If None, initializes a new chess board.\n",
    "    :param state_parent: The parent state from which this state is derived.\n",
    "    :param move: The move that led to this state.\n",
    "    \"\"\"\n",
    "    self.game_board = game_board  # The current chess board (chess.Board object).\n",
    "    self.parent_state = state_parent  # The parent state from which this state is derived.\n",
    "    self.move = move  # The move that led to this state.\n",
    "    self.h = None  # General heuristic value for the state.\n",
    "    self.h0 = None  # Heuristic value used for h0 cutoff.\n",
    "    self.hl = None  # Heuristic value used for hl cutoff.\n",
    "    self.hr = None  # Heuristic value used for nonlinear regressor cutoff.\n",
    "\n",
    "    # If no game board is provided, initialize a new chess board.\n",
    "    if self.game_board is None:\n",
    "        self.game_board = chess.Board()\n",
    "```\n",
    "Per maggiori dettagli vedere il file *AlessandroMattei_ChessGame.AIhw2.ipynb*\n"
   ]
  },
  {
   "cell_type": "markdown",
   "id": "2ed06696ac8811db",
   "metadata": {
    "collapsed": false
   },
   "source": [
    "# Chess Game Report\n",
    "Vengono riportati i risultati dei test effettuati. (sono stati eseguiti 102 partite/test)\n",
    "\n",
    "I test sono stati effettuati su un mini-pc con le seguenti caratteristiche:\n",
    "\n",
    "- CPU Intel i7-12650H limitato in potenza a 50 Wat (Intel setta il limite di potenza a 125wat ma il pc in questione non supporta tale potenza)\n",
    "- Ram 35gb DDR4 3600Mhz"
   ]
  },
  {
   "cell_type": "code",
   "execution_count": 1,
   "id": "8fd74c01a565348f",
   "metadata": {
    "collapsed": false,
    "ExecuteTime": {
     "end_time": "2023-11-19T18:06:12.681698200Z",
     "start_time": "2023-11-19T18:06:12.261553300Z"
    }
   },
   "outputs": [],
   "source": [
    "import pandas as pd\n",
    "\n",
    "df_minmax_normal = pd.read_csv('csv/min_max_alpha_beta_pruning_games/result.csv')\n",
    "df_minmax_h0_cut = pd.read_csv('csv/min_max_alpha_beta_pruning_h0_cut_games/result.csv')\n",
    "df_minmax_hl_cut = pd.read_csv('csv/min_max_alpha_beta_pruning_hl_cut_games/result.csv')\n",
    "df_minmax_hr_cut = pd.read_csv('csv/min_max_alpha_beta_pruning_hr_cut_games/result.csv')\n",
    "df_minmax_h0_cut_vs_hl = pd.read_csv('csv/min_max_alpha_beta_pruning_h0_vs_hl_cut_games/result.csv')\n",
    "df_minmax_h0_cut_vs_hr = pd.read_csv('csv/min_max_alpha_beta_pruning_h0_vs_hr_cut_games/result.csv')\n",
    "df_minmax_h0_cut_vs_normal = pd.read_csv('csv/min_max_alpha_beta_pruning_h0_vs_normal_games/result.csv')\n",
    "df_minmax_hr_cut_vs_hl_cut = pd.read_csv('csv/min_max_alpha_beta_pruning_hr_vs_hl_cut_games/result.csv')\n",
    "df_minmax_hr_cut_vs_normal = pd.read_csv('csv/min_max_alpha_beta_pruning_hr_vs_normal_games/result.csv')\n",
    "df_minmax_normal_vs_hl_cut = pd.read_csv('csv/min_max_alpha_beta_pruning_vs_hl_cut_games/result.csv')"
   ]
  },
  {
   "cell_type": "markdown",
   "id": "1cb5e3993460c7f8",
   "metadata": {
    "collapsed": false
   },
   "source": [
    "## MinMax Alpha-Beta Pruning\n",
    "\n",
    "Sono riportati i test effettuati con l'algoritmo base MinMax Alpha-Beta Pruning.\n",
    "\n",
    "Dove Agent 1 ed Agent 2 si sfidano usando lo stesso algoritmo ed euristica ma con profondità diverse\n"
   ]
  },
  {
   "cell_type": "code",
   "execution_count": 2,
   "id": "1e4b5766fb67f791",
   "metadata": {
    "collapsed": false,
    "ExecuteTime": {
     "end_time": "2023-11-19T18:06:12.697811200Z",
     "start_time": "2023-11-19T18:06:12.682699300Z"
    }
   },
   "outputs": [
    {
     "data": {
      "text/plain": "                                                        0  \\\nAlgorithm Agent 1               MinMax Alpha Beta Pruning   \nAlgorithm Agent 2               MinMax Alpha Beta Pruning   \nHeuristic Agent 1            HardBoardEvaluationChessGame   \nHeuristic Agent 2            HardBoardEvaluationChessGame   \nMax Depth Agent 1                                       3   \nMax Depth Agent 2                                       3   \nOUTCOME                                         CHECKMATE   \nWinner                                              Black   \nTotal Time                                    130725.12ms   \nAVG Time Agent 1                                1213.28ms   \nAVG Time Agent 2                                1899.17ms   \nNumber of Moves Agent 1                                42   \nNumber of Moves Agent 2                                42   \nStates Evaluated Agent 1                           182614   \nStates Evaluated Agent 2                           285700   \nPruning carried out Agent 1                         19283   \nPruning carried out Agent 2                         19845   \n\n                                                        1  \\\nAlgorithm Agent 1               MinMax Alpha Beta Pruning   \nAlgorithm Agent 2               MinMax Alpha Beta Pruning   \nHeuristic Agent 1            HardBoardEvaluationChessGame   \nHeuristic Agent 2            HardBoardEvaluationChessGame   \nMax Depth Agent 1                                       3   \nMax Depth Agent 2                                       4   \nOUTCOME                                         CHECKMATE   \nWinner                                              Black   \nTotal Time                                   1309721.65ms   \nAVG Time Agent 1                                 883.14ms   \nAVG Time Agent 2                               11957.22ms   \nNumber of Moves Agent 1                               102   \nNumber of Moves Agent 2                               102   \nStates Evaluated Agent 1                           250043   \nStates Evaluated Agent 2                          4011648   \nPruning carried out Agent 1                         28829   \nPruning carried out Agent 2                        376326   \n\n                                                        2  \\\nAlgorithm Agent 1               MinMax Alpha Beta Pruning   \nAlgorithm Agent 2               MinMax Alpha Beta Pruning   \nHeuristic Agent 1            HardBoardEvaluationChessGame   \nHeuristic Agent 2            HardBoardEvaluationChessGame   \nMax Depth Agent 1                                       4   \nMax Depth Agent 2                                       3   \nOUTCOME                               FIVEFOLD_REPETITION   \nWinner                                                NaN   \nTotal Time                                   1105320.51ms   \nAVG Time Agent 1                               19000.20ms   \nAVG Time Agent 2                                1496.37ms   \nNumber of Moves Agent 1                                54   \nNumber of Moves Agent 2                                53   \nStates Evaluated Agent 1                          4663763   \nStates Evaluated Agent 2                           312121   \nPruning carried out Agent 1                        242417   \nPruning carried out Agent 2                         28087   \n\n                                                        3  \nAlgorithm Agent 1               MinMax Alpha Beta Pruning  \nAlgorithm Agent 2               MinMax Alpha Beta Pruning  \nHeuristic Agent 1            HardBoardEvaluationChessGame  \nHeuristic Agent 2            HardBoardEvaluationChessGame  \nMax Depth Agent 1                                       4  \nMax Depth Agent 2                                       4  \nOUTCOME                                         CHECKMATE  \nWinner                                              White  \nTotal Time                                   3404402.08ms  \nAVG Time Agent 1                               14242.34ms  \nAVG Time Agent 2                                6946.11ms  \nNumber of Moves Agent 1                               161  \nNumber of Moves Agent 2                               160  \nStates Evaluated Agent 1                          6109260  \nStates Evaluated Agent 2                          3936330  \nPruning carried out Agent 1                        676701  \nPruning carried out Agent 2                        119565  ",
      "text/html": "<div>\n<style scoped>\n    .dataframe tbody tr th:only-of-type {\n        vertical-align: middle;\n    }\n\n    .dataframe tbody tr th {\n        vertical-align: top;\n    }\n\n    .dataframe thead th {\n        text-align: right;\n    }\n</style>\n<table border=\"1\" class=\"dataframe\">\n  <thead>\n    <tr style=\"text-align: right;\">\n      <th></th>\n      <th>0</th>\n      <th>1</th>\n      <th>2</th>\n      <th>3</th>\n    </tr>\n  </thead>\n  <tbody>\n    <tr>\n      <th>Algorithm Agent 1</th>\n      <td>MinMax Alpha Beta Pruning</td>\n      <td>MinMax Alpha Beta Pruning</td>\n      <td>MinMax Alpha Beta Pruning</td>\n      <td>MinMax Alpha Beta Pruning</td>\n    </tr>\n    <tr>\n      <th>Algorithm Agent 2</th>\n      <td>MinMax Alpha Beta Pruning</td>\n      <td>MinMax Alpha Beta Pruning</td>\n      <td>MinMax Alpha Beta Pruning</td>\n      <td>MinMax Alpha Beta Pruning</td>\n    </tr>\n    <tr>\n      <th>Heuristic Agent 1</th>\n      <td>HardBoardEvaluationChessGame</td>\n      <td>HardBoardEvaluationChessGame</td>\n      <td>HardBoardEvaluationChessGame</td>\n      <td>HardBoardEvaluationChessGame</td>\n    </tr>\n    <tr>\n      <th>Heuristic Agent 2</th>\n      <td>HardBoardEvaluationChessGame</td>\n      <td>HardBoardEvaluationChessGame</td>\n      <td>HardBoardEvaluationChessGame</td>\n      <td>HardBoardEvaluationChessGame</td>\n    </tr>\n    <tr>\n      <th>Max Depth Agent 1</th>\n      <td>3</td>\n      <td>3</td>\n      <td>4</td>\n      <td>4</td>\n    </tr>\n    <tr>\n      <th>Max Depth Agent 2</th>\n      <td>3</td>\n      <td>4</td>\n      <td>3</td>\n      <td>4</td>\n    </tr>\n    <tr>\n      <th>OUTCOME</th>\n      <td>CHECKMATE</td>\n      <td>CHECKMATE</td>\n      <td>FIVEFOLD_REPETITION</td>\n      <td>CHECKMATE</td>\n    </tr>\n    <tr>\n      <th>Winner</th>\n      <td>Black</td>\n      <td>Black</td>\n      <td>NaN</td>\n      <td>White</td>\n    </tr>\n    <tr>\n      <th>Total Time</th>\n      <td>130725.12ms</td>\n      <td>1309721.65ms</td>\n      <td>1105320.51ms</td>\n      <td>3404402.08ms</td>\n    </tr>\n    <tr>\n      <th>AVG Time Agent 1</th>\n      <td>1213.28ms</td>\n      <td>883.14ms</td>\n      <td>19000.20ms</td>\n      <td>14242.34ms</td>\n    </tr>\n    <tr>\n      <th>AVG Time Agent 2</th>\n      <td>1899.17ms</td>\n      <td>11957.22ms</td>\n      <td>1496.37ms</td>\n      <td>6946.11ms</td>\n    </tr>\n    <tr>\n      <th>Number of Moves Agent 1</th>\n      <td>42</td>\n      <td>102</td>\n      <td>54</td>\n      <td>161</td>\n    </tr>\n    <tr>\n      <th>Number of Moves Agent 2</th>\n      <td>42</td>\n      <td>102</td>\n      <td>53</td>\n      <td>160</td>\n    </tr>\n    <tr>\n      <th>States Evaluated Agent 1</th>\n      <td>182614</td>\n      <td>250043</td>\n      <td>4663763</td>\n      <td>6109260</td>\n    </tr>\n    <tr>\n      <th>States Evaluated Agent 2</th>\n      <td>285700</td>\n      <td>4011648</td>\n      <td>312121</td>\n      <td>3936330</td>\n    </tr>\n    <tr>\n      <th>Pruning carried out Agent 1</th>\n      <td>19283</td>\n      <td>28829</td>\n      <td>242417</td>\n      <td>676701</td>\n    </tr>\n    <tr>\n      <th>Pruning carried out Agent 2</th>\n      <td>19845</td>\n      <td>376326</td>\n      <td>28087</td>\n      <td>119565</td>\n    </tr>\n  </tbody>\n</table>\n</div>"
     },
     "execution_count": 2,
     "metadata": {},
     "output_type": "execute_result"
    }
   ],
   "source": [
    "df_minmax_normal.drop(columns=['Title']).head().transpose()"
   ]
  },
  {
   "cell_type": "markdown",
   "id": "a63aeccbca851d69",
   "metadata": {
    "collapsed": false
   },
   "source": [
    "## MinMax Alpha-Beta Pruning H0 CutOff\n",
    "\n",
    "Sono riportati i test effettuati con l'algoritmo base MinMax Alpha-Beta Pruning con taglio tramite valutazione statica H0, si notino i tempi di esecuzione più basi rispetto alla versione classica dell'algoritmo (se confrontiamo con le stesse profondità con la versione classica).\n",
    "\n",
    "Dove abbiamo Agent 1 ed Agent 2 si sfidano usando lo stesso algoritmo ed euristica ma con profondità diverse e diversi parametri di taglio.\n",
    "\n",
    "Vediamo a profondità da 3 a 4 per entrambi gli Agenti, cosi da poterli confrontarli con il classico MinMax Alpha-Beta Pruning."
   ]
  },
  {
   "cell_type": "code",
   "execution_count": 3,
   "id": "39bd094adcec6eb1",
   "metadata": {
    "collapsed": false,
    "ExecuteTime": {
     "end_time": "2023-11-19T18:06:12.713768Z",
     "start_time": "2023-11-19T18:06:12.695684300Z"
    }
   },
   "outputs": [
    {
     "data": {
      "text/plain": "                                         0                  1            2  \\\nMax Depth Agent 1                        3                  3            4   \nNumber CutOff H0 Agent 1                 5                  5            5   \nMax Depth Agent 2                        3                  4            3   \nNumber CutOff H0 Agent 2                 5                  5            5   \nOUTCOME                          CHECKMATE  SEVENTYFIVE_MOVES    CHECKMATE   \nWinner                               Black                NaN        Black   \nTotal Time                      21242.10ms        479910.02ms  132536.65ms   \nAVG Time Agent 1                  252.97ms           317.58ms    1813.11ms   \nAVG Time Agent 2                  432.12ms          1281.98ms     641.14ms   \nNumber of Moves Agent 1                 31                300           54   \nNumber of Moves Agent 2                 31                300           54   \nStates Evaluated Agent 1              2350              21310        15458   \nStates Evaluated Agent 2              2365              83983         4855   \nPruning carried out Agent 1            511               2661         2221   \nPruning carried out Agent 2            536              10550          773   \nStates evaluated H0 Agent 1          18649              81330       158865   \nStates evaluated H0 Agent 2          31818             317249        55588   \nPruning H0 carried out Agent 1       14383              49886       135343   \nPruning H0 carried out Agent 2       27424             198485        47763   \n\n                                                  3           4           5  \\\nMax Depth Agent 1                                 4           3           3   \nNumber CutOff H0 Agent 1                          5           3           3   \nMax Depth Agent 2                                 4           3           4   \nNumber CutOff H0 Agent 2                          5           5           5   \nOUTCOME                         FIVEFOLD_REPETITION   CHECKMATE   CHECKMATE   \nWinner                                          NaN       Black       Black   \nTotal Time                              228288.65ms  15483.22ms  85548.29ms   \nAVG Time Agent 1                           934.12ms    101.52ms     98.56ms   \nAVG Time Agent 2                          1433.94ms    397.80ms    831.22ms   \nNumber of Moves Agent 1                          97          31          92   \nNumber of Moves Agent 2                          96          31          92   \nStates Evaluated Agent 1                      23539         840        2628   \nStates Evaluated Agent 2                      34783        2325       27003   \nPruning carried out Agent 1                    3852         142         358   \nPruning carried out Agent 2                    4233         500        3925   \nStates evaluated H0 Agent 1                  141488        7692       18513   \nStates evaluated H0 Agent 2                  204792       29660      148940   \nPruning H0 carried out Agent 1               103353        6610       15197   \nPruning H0 carried out Agent 2               155726       25460      108717   \n\n                                         6                    7  \nMax Depth Agent 1                        4                    4  \nNumber CutOff H0 Agent 1                 3                    3  \nMax Depth Agent 2                        3                    4  \nNumber CutOff H0 Agent 2                 5                    5  \nOUTCOME                          CHECKMATE  FIVEFOLD_REPETITION  \nWinner                               Black                  NaN  \nTotal Time                      38063.41ms           99226.66ms  \nAVG Time Agent 1                  450.65ms             388.48ms  \nAVG Time Agent 2                  525.26ms             929.02ms  \nNumber of Moves Agent 1                 39                   76  \nNumber of Moves Agent 2                 39                   75  \nStates Evaluated Agent 1              2422                 4850  \nStates Evaluated Agent 2              3066                23927  \nPruning carried out Agent 1            420                  719  \nPruning carried out Agent 2            630                 2916  \nStates evaluated H0 Agent 1          34699                52469  \nStates evaluated H0 Agent 2          40879               120305  \nPruning H0 carried out Agent 1       31516                46313  \nPruning H0 carried out Agent 2       35427                86610  ",
      "text/html": "<div>\n<style scoped>\n    .dataframe tbody tr th:only-of-type {\n        vertical-align: middle;\n    }\n\n    .dataframe tbody tr th {\n        vertical-align: top;\n    }\n\n    .dataframe thead th {\n        text-align: right;\n    }\n</style>\n<table border=\"1\" class=\"dataframe\">\n  <thead>\n    <tr style=\"text-align: right;\">\n      <th></th>\n      <th>0</th>\n      <th>1</th>\n      <th>2</th>\n      <th>3</th>\n      <th>4</th>\n      <th>5</th>\n      <th>6</th>\n      <th>7</th>\n    </tr>\n  </thead>\n  <tbody>\n    <tr>\n      <th>Max Depth Agent 1</th>\n      <td>3</td>\n      <td>3</td>\n      <td>4</td>\n      <td>4</td>\n      <td>3</td>\n      <td>3</td>\n      <td>4</td>\n      <td>4</td>\n    </tr>\n    <tr>\n      <th>Number CutOff H0 Agent 1</th>\n      <td>5</td>\n      <td>5</td>\n      <td>5</td>\n      <td>5</td>\n      <td>3</td>\n      <td>3</td>\n      <td>3</td>\n      <td>3</td>\n    </tr>\n    <tr>\n      <th>Max Depth Agent 2</th>\n      <td>3</td>\n      <td>4</td>\n      <td>3</td>\n      <td>4</td>\n      <td>3</td>\n      <td>4</td>\n      <td>3</td>\n      <td>4</td>\n    </tr>\n    <tr>\n      <th>Number CutOff H0 Agent 2</th>\n      <td>5</td>\n      <td>5</td>\n      <td>5</td>\n      <td>5</td>\n      <td>5</td>\n      <td>5</td>\n      <td>5</td>\n      <td>5</td>\n    </tr>\n    <tr>\n      <th>OUTCOME</th>\n      <td>CHECKMATE</td>\n      <td>SEVENTYFIVE_MOVES</td>\n      <td>CHECKMATE</td>\n      <td>FIVEFOLD_REPETITION</td>\n      <td>CHECKMATE</td>\n      <td>CHECKMATE</td>\n      <td>CHECKMATE</td>\n      <td>FIVEFOLD_REPETITION</td>\n    </tr>\n    <tr>\n      <th>Winner</th>\n      <td>Black</td>\n      <td>NaN</td>\n      <td>Black</td>\n      <td>NaN</td>\n      <td>Black</td>\n      <td>Black</td>\n      <td>Black</td>\n      <td>NaN</td>\n    </tr>\n    <tr>\n      <th>Total Time</th>\n      <td>21242.10ms</td>\n      <td>479910.02ms</td>\n      <td>132536.65ms</td>\n      <td>228288.65ms</td>\n      <td>15483.22ms</td>\n      <td>85548.29ms</td>\n      <td>38063.41ms</td>\n      <td>99226.66ms</td>\n    </tr>\n    <tr>\n      <th>AVG Time Agent 1</th>\n      <td>252.97ms</td>\n      <td>317.58ms</td>\n      <td>1813.11ms</td>\n      <td>934.12ms</td>\n      <td>101.52ms</td>\n      <td>98.56ms</td>\n      <td>450.65ms</td>\n      <td>388.48ms</td>\n    </tr>\n    <tr>\n      <th>AVG Time Agent 2</th>\n      <td>432.12ms</td>\n      <td>1281.98ms</td>\n      <td>641.14ms</td>\n      <td>1433.94ms</td>\n      <td>397.80ms</td>\n      <td>831.22ms</td>\n      <td>525.26ms</td>\n      <td>929.02ms</td>\n    </tr>\n    <tr>\n      <th>Number of Moves Agent 1</th>\n      <td>31</td>\n      <td>300</td>\n      <td>54</td>\n      <td>97</td>\n      <td>31</td>\n      <td>92</td>\n      <td>39</td>\n      <td>76</td>\n    </tr>\n    <tr>\n      <th>Number of Moves Agent 2</th>\n      <td>31</td>\n      <td>300</td>\n      <td>54</td>\n      <td>96</td>\n      <td>31</td>\n      <td>92</td>\n      <td>39</td>\n      <td>75</td>\n    </tr>\n    <tr>\n      <th>States Evaluated Agent 1</th>\n      <td>2350</td>\n      <td>21310</td>\n      <td>15458</td>\n      <td>23539</td>\n      <td>840</td>\n      <td>2628</td>\n      <td>2422</td>\n      <td>4850</td>\n    </tr>\n    <tr>\n      <th>States Evaluated Agent 2</th>\n      <td>2365</td>\n      <td>83983</td>\n      <td>4855</td>\n      <td>34783</td>\n      <td>2325</td>\n      <td>27003</td>\n      <td>3066</td>\n      <td>23927</td>\n    </tr>\n    <tr>\n      <th>Pruning carried out Agent 1</th>\n      <td>511</td>\n      <td>2661</td>\n      <td>2221</td>\n      <td>3852</td>\n      <td>142</td>\n      <td>358</td>\n      <td>420</td>\n      <td>719</td>\n    </tr>\n    <tr>\n      <th>Pruning carried out Agent 2</th>\n      <td>536</td>\n      <td>10550</td>\n      <td>773</td>\n      <td>4233</td>\n      <td>500</td>\n      <td>3925</td>\n      <td>630</td>\n      <td>2916</td>\n    </tr>\n    <tr>\n      <th>States evaluated H0 Agent 1</th>\n      <td>18649</td>\n      <td>81330</td>\n      <td>158865</td>\n      <td>141488</td>\n      <td>7692</td>\n      <td>18513</td>\n      <td>34699</td>\n      <td>52469</td>\n    </tr>\n    <tr>\n      <th>States evaluated H0 Agent 2</th>\n      <td>31818</td>\n      <td>317249</td>\n      <td>55588</td>\n      <td>204792</td>\n      <td>29660</td>\n      <td>148940</td>\n      <td>40879</td>\n      <td>120305</td>\n    </tr>\n    <tr>\n      <th>Pruning H0 carried out Agent 1</th>\n      <td>14383</td>\n      <td>49886</td>\n      <td>135343</td>\n      <td>103353</td>\n      <td>6610</td>\n      <td>15197</td>\n      <td>31516</td>\n      <td>46313</td>\n    </tr>\n    <tr>\n      <th>Pruning H0 carried out Agent 2</th>\n      <td>27424</td>\n      <td>198485</td>\n      <td>47763</td>\n      <td>155726</td>\n      <td>25460</td>\n      <td>108717</td>\n      <td>35427</td>\n      <td>86610</td>\n    </tr>\n  </tbody>\n</table>\n</div>"
     },
     "execution_count": 3,
     "metadata": {},
     "output_type": "execute_result"
    }
   ],
   "source": [
    "df_minmax_h0_cut.drop(\n",
    "    columns=['Title', 'Algorithm Agent 1', 'Algorithm Agent 2', 'Heuristic Agent 1', 'Heuristic Agent 2']).head(\n",
    "    8).transpose()"
   ]
  },
  {
   "cell_type": "markdown",
   "id": "7ccfa01aa6a602a9",
   "metadata": {
    "collapsed": false
   },
   "source": [
    "Vediamo a profondità maggiore di 4 per entrambi gli Agenti"
   ]
  },
  {
   "cell_type": "code",
   "execution_count": 4,
   "id": "bcb08c219f2b5dac",
   "metadata": {
    "collapsed": false,
    "ExecuteTime": {
     "end_time": "2023-11-19T18:06:12.768418300Z",
     "start_time": "2023-11-19T18:06:12.706761500Z"
    }
   },
   "outputs": [
    {
     "data": {
      "text/plain": "                                         8                    9   \\\nMax Depth Agent 1                         5                    6   \nNumber CutOff H0 Agent 1                  5                    5   \nMax Depth Agent 2                         5                    5   \nNumber CutOff H0 Agent 2                  5                    5   \nOUTCOME                           CHECKMATE  FIVEFOLD_REPETITION   \nWinner                                Black                  NaN   \nTotal Time                      280443.45ms         1365808.27ms   \nAVG Time Agent 1                  2791.97ms            5590.87ms   \nAVG Time Agent 2                  4587.96ms            2317.25ms   \nNumber of Moves Agent 1                  38                  173   \nNumber of Moves Agent 2                  38                  172   \nStates Evaluated Agent 1              22521               267648   \nStates Evaluated Agent 2              32235               107031   \nPruning carried out Agent 1            6029                54916   \nPruning carried out Agent 2            6559                22458   \nStates evaluated H0 Agent 1          201216              2050291   \nStates evaluated H0 Agent 2          346991               858434   \nPruning H0 carried out Agent 1       157102              1589502   \nPruning H0 carried out Agent 2       291977               669144   \n\n                                          10           11           12  \\\nMax Depth Agent 1                          5            6            7   \nNumber CutOff H0 Agent 1                   5            5            5   \nMax Depth Agent 2                          6            6            7   \nNumber CutOff H0 Agent 2                   5            5            5   \nOUTCOME                            CHECKMATE    CHECKMATE    CHECKMATE   \nWinner                                 Black        Black        Black   \nTotal Time                      1039865.00ms  433161.97ms  934196.32ms   \nAVG Time Agent 1                   3219.24ms    8165.26ms   11911.77ms   \nAVG Time Agent 2                  10112.12ms    9161.07ms   18223.53ms   \nNumber of Moves Agent 1                   78           25           31   \nNumber of Moves Agent 2                   78           25           31   \nStates Evaluated Agent 1               49268        52089       111781   \nStates Evaluated Agent 2              158864        70779       149704   \nPruning carried out Agent 1            12909        10826        33500   \nPruning carried out Agent 2            37746        14492        34936   \nStates evaluated H0 Agent 1           514334       542868      1104577   \nStates evaluated H0 Agent 2          1605858       596696      1722537   \nPruning H0 carried out Agent 1        419160       451037       874448   \nPruning H0 carried out Agent 2       1316516       475188      1448785   \n\n                                               13           14            15  \\\nMax Depth Agent 1                               8            9             8   \nNumber CutOff H0 Agent 1                        3            3             3   \nMax Depth Agent 2                               8            8             9   \nNumber CutOff H0 Agent 2                        3            3             3   \nOUTCOME                         SEVENTYFIVE_MOVES    CHECKMATE     CHECKMATE   \nWinner                                        NaN        Black         Black   \nTotal Time                           1592359.21ms  852883.62ms  1038700.11ms   \nAVG Time Agent 1                        3117.17ms   12628.93ms     6145.47ms   \nAVG Time Agent 2                        2902.54ms    6323.92ms    13452.54ms   \nNumber of Moves Agent 1                       265           45            53   \nNumber of Moves Agent 2                       264           45            53   \nStates Evaluated Agent 1                   215441       103912         61805   \nStates Evaluated Agent 2                   208335        55263        131150   \nPruning carried out Agent 1                 53167        30102         15518   \nPruning carried out Agent 2                 53580        14273         35503   \nStates evaluated H0 Agent 1               1556021      1357226        884997   \nStates evaluated H0 Agent 2               1448289       696348       1913666   \nPruning H0 carried out Agent 1            1246376      1200159        795721   \nPruning H0 carried out Agent 2            1146378       616025       1719287   \n\n                                         16           17           18  \\\nMax Depth Agent 1                         9            9           10   \nNumber CutOff H0 Agent 1                  3            3            3   \nMax Depth Agent 2                         9           10            9   \nNumber CutOff H0 Agent 2                  3            3            3   \nOUTCOME                           CHECKMATE    CHECKMATE    CHECKMATE   \nWinner                                Black        Black        Black   \nTotal Time                      673887.36ms  596961.34ms  736373.25ms   \nAVG Time Agent 1                 12466.97ms    9632.21ms   22616.90ms   \nAVG Time Agent 2                 16832.29ms   23532.20ms   12448.50ms   \nNumber of Moves Agent 1                  23           18           21   \nNumber of Moves Agent 2                  23           18           21   \nStates Evaluated Agent 1              62569        38770       109896   \nStates Evaluated Agent 2              75869        93565        63783   \nPruning carried out Agent 1           18021        11055        28183   \nPruning carried out Agent 2           20067        26701        16796   \nStates evaluated H0 Agent 1          795457       492100      1398582   \nStates evaluated H0 Agent 2         1051305      1194701       797128   \nPruning H0 carried out Agent 1       701259       433880      1239188   \nPruning H0 carried out Agent 2       940418      1054968       703726   \n\n                                               19  \nMax Depth Agent 1                              10  \nNumber CutOff H0 Agent 1                        3  \nMax Depth Agent 2                              10  \nNumber CutOff H0 Agent 2                        3  \nOUTCOME                         SEVENTYFIVE_MOVES  \nWinner                                        NaN  \nTotal Time                           1700247.30ms  \nAVG Time Agent 1                        7686.70ms  \nAVG Time Agent 2                        6970.43ms  \nNumber of Moves Agent 1                       116  \nNumber of Moves Agent 2                       116  \nStates Evaluated Agent 1                   357533  \nStates Evaluated Agent 2                   333774  \nPruning carried out Agent 1                 95795  \nPruning carried out Agent 2                 92114  \nStates evaluated H0 Agent 1               3301519  \nStates evaluated H0 Agent 2               3076692  \nPruning H0 carried out Agent 1            2772723  \nPruning H0 carried out Agent 2            2580965  ",
      "text/html": "<div>\n<style scoped>\n    .dataframe tbody tr th:only-of-type {\n        vertical-align: middle;\n    }\n\n    .dataframe tbody tr th {\n        vertical-align: top;\n    }\n\n    .dataframe thead th {\n        text-align: right;\n    }\n</style>\n<table border=\"1\" class=\"dataframe\">\n  <thead>\n    <tr style=\"text-align: right;\">\n      <th></th>\n      <th>8</th>\n      <th>9</th>\n      <th>10</th>\n      <th>11</th>\n      <th>12</th>\n      <th>13</th>\n      <th>14</th>\n      <th>15</th>\n      <th>16</th>\n      <th>17</th>\n      <th>18</th>\n      <th>19</th>\n    </tr>\n  </thead>\n  <tbody>\n    <tr>\n      <th>Max Depth Agent 1</th>\n      <td>5</td>\n      <td>6</td>\n      <td>5</td>\n      <td>6</td>\n      <td>7</td>\n      <td>8</td>\n      <td>9</td>\n      <td>8</td>\n      <td>9</td>\n      <td>9</td>\n      <td>10</td>\n      <td>10</td>\n    </tr>\n    <tr>\n      <th>Number CutOff H0 Agent 1</th>\n      <td>5</td>\n      <td>5</td>\n      <td>5</td>\n      <td>5</td>\n      <td>5</td>\n      <td>3</td>\n      <td>3</td>\n      <td>3</td>\n      <td>3</td>\n      <td>3</td>\n      <td>3</td>\n      <td>3</td>\n    </tr>\n    <tr>\n      <th>Max Depth Agent 2</th>\n      <td>5</td>\n      <td>5</td>\n      <td>6</td>\n      <td>6</td>\n      <td>7</td>\n      <td>8</td>\n      <td>8</td>\n      <td>9</td>\n      <td>9</td>\n      <td>10</td>\n      <td>9</td>\n      <td>10</td>\n    </tr>\n    <tr>\n      <th>Number CutOff H0 Agent 2</th>\n      <td>5</td>\n      <td>5</td>\n      <td>5</td>\n      <td>5</td>\n      <td>5</td>\n      <td>3</td>\n      <td>3</td>\n      <td>3</td>\n      <td>3</td>\n      <td>3</td>\n      <td>3</td>\n      <td>3</td>\n    </tr>\n    <tr>\n      <th>OUTCOME</th>\n      <td>CHECKMATE</td>\n      <td>FIVEFOLD_REPETITION</td>\n      <td>CHECKMATE</td>\n      <td>CHECKMATE</td>\n      <td>CHECKMATE</td>\n      <td>SEVENTYFIVE_MOVES</td>\n      <td>CHECKMATE</td>\n      <td>CHECKMATE</td>\n      <td>CHECKMATE</td>\n      <td>CHECKMATE</td>\n      <td>CHECKMATE</td>\n      <td>SEVENTYFIVE_MOVES</td>\n    </tr>\n    <tr>\n      <th>Winner</th>\n      <td>Black</td>\n      <td>NaN</td>\n      <td>Black</td>\n      <td>Black</td>\n      <td>Black</td>\n      <td>NaN</td>\n      <td>Black</td>\n      <td>Black</td>\n      <td>Black</td>\n      <td>Black</td>\n      <td>Black</td>\n      <td>NaN</td>\n    </tr>\n    <tr>\n      <th>Total Time</th>\n      <td>280443.45ms</td>\n      <td>1365808.27ms</td>\n      <td>1039865.00ms</td>\n      <td>433161.97ms</td>\n      <td>934196.32ms</td>\n      <td>1592359.21ms</td>\n      <td>852883.62ms</td>\n      <td>1038700.11ms</td>\n      <td>673887.36ms</td>\n      <td>596961.34ms</td>\n      <td>736373.25ms</td>\n      <td>1700247.30ms</td>\n    </tr>\n    <tr>\n      <th>AVG Time Agent 1</th>\n      <td>2791.97ms</td>\n      <td>5590.87ms</td>\n      <td>3219.24ms</td>\n      <td>8165.26ms</td>\n      <td>11911.77ms</td>\n      <td>3117.17ms</td>\n      <td>12628.93ms</td>\n      <td>6145.47ms</td>\n      <td>12466.97ms</td>\n      <td>9632.21ms</td>\n      <td>22616.90ms</td>\n      <td>7686.70ms</td>\n    </tr>\n    <tr>\n      <th>AVG Time Agent 2</th>\n      <td>4587.96ms</td>\n      <td>2317.25ms</td>\n      <td>10112.12ms</td>\n      <td>9161.07ms</td>\n      <td>18223.53ms</td>\n      <td>2902.54ms</td>\n      <td>6323.92ms</td>\n      <td>13452.54ms</td>\n      <td>16832.29ms</td>\n      <td>23532.20ms</td>\n      <td>12448.50ms</td>\n      <td>6970.43ms</td>\n    </tr>\n    <tr>\n      <th>Number of Moves Agent 1</th>\n      <td>38</td>\n      <td>173</td>\n      <td>78</td>\n      <td>25</td>\n      <td>31</td>\n      <td>265</td>\n      <td>45</td>\n      <td>53</td>\n      <td>23</td>\n      <td>18</td>\n      <td>21</td>\n      <td>116</td>\n    </tr>\n    <tr>\n      <th>Number of Moves Agent 2</th>\n      <td>38</td>\n      <td>172</td>\n      <td>78</td>\n      <td>25</td>\n      <td>31</td>\n      <td>264</td>\n      <td>45</td>\n      <td>53</td>\n      <td>23</td>\n      <td>18</td>\n      <td>21</td>\n      <td>116</td>\n    </tr>\n    <tr>\n      <th>States Evaluated Agent 1</th>\n      <td>22521</td>\n      <td>267648</td>\n      <td>49268</td>\n      <td>52089</td>\n      <td>111781</td>\n      <td>215441</td>\n      <td>103912</td>\n      <td>61805</td>\n      <td>62569</td>\n      <td>38770</td>\n      <td>109896</td>\n      <td>357533</td>\n    </tr>\n    <tr>\n      <th>States Evaluated Agent 2</th>\n      <td>32235</td>\n      <td>107031</td>\n      <td>158864</td>\n      <td>70779</td>\n      <td>149704</td>\n      <td>208335</td>\n      <td>55263</td>\n      <td>131150</td>\n      <td>75869</td>\n      <td>93565</td>\n      <td>63783</td>\n      <td>333774</td>\n    </tr>\n    <tr>\n      <th>Pruning carried out Agent 1</th>\n      <td>6029</td>\n      <td>54916</td>\n      <td>12909</td>\n      <td>10826</td>\n      <td>33500</td>\n      <td>53167</td>\n      <td>30102</td>\n      <td>15518</td>\n      <td>18021</td>\n      <td>11055</td>\n      <td>28183</td>\n      <td>95795</td>\n    </tr>\n    <tr>\n      <th>Pruning carried out Agent 2</th>\n      <td>6559</td>\n      <td>22458</td>\n      <td>37746</td>\n      <td>14492</td>\n      <td>34936</td>\n      <td>53580</td>\n      <td>14273</td>\n      <td>35503</td>\n      <td>20067</td>\n      <td>26701</td>\n      <td>16796</td>\n      <td>92114</td>\n    </tr>\n    <tr>\n      <th>States evaluated H0 Agent 1</th>\n      <td>201216</td>\n      <td>2050291</td>\n      <td>514334</td>\n      <td>542868</td>\n      <td>1104577</td>\n      <td>1556021</td>\n      <td>1357226</td>\n      <td>884997</td>\n      <td>795457</td>\n      <td>492100</td>\n      <td>1398582</td>\n      <td>3301519</td>\n    </tr>\n    <tr>\n      <th>States evaluated H0 Agent 2</th>\n      <td>346991</td>\n      <td>858434</td>\n      <td>1605858</td>\n      <td>596696</td>\n      <td>1722537</td>\n      <td>1448289</td>\n      <td>696348</td>\n      <td>1913666</td>\n      <td>1051305</td>\n      <td>1194701</td>\n      <td>797128</td>\n      <td>3076692</td>\n    </tr>\n    <tr>\n      <th>Pruning H0 carried out Agent 1</th>\n      <td>157102</td>\n      <td>1589502</td>\n      <td>419160</td>\n      <td>451037</td>\n      <td>874448</td>\n      <td>1246376</td>\n      <td>1200159</td>\n      <td>795721</td>\n      <td>701259</td>\n      <td>433880</td>\n      <td>1239188</td>\n      <td>2772723</td>\n    </tr>\n    <tr>\n      <th>Pruning H0 carried out Agent 2</th>\n      <td>291977</td>\n      <td>669144</td>\n      <td>1316516</td>\n      <td>475188</td>\n      <td>1448785</td>\n      <td>1146378</td>\n      <td>616025</td>\n      <td>1719287</td>\n      <td>940418</td>\n      <td>1054968</td>\n      <td>703726</td>\n      <td>2580965</td>\n    </tr>\n  </tbody>\n</table>\n</div>"
     },
     "execution_count": 4,
     "metadata": {},
     "output_type": "execute_result"
    }
   ],
   "source": [
    "df_minmax_h0_cut.drop(\n",
    "    columns=['Title', 'Algorithm Agent 1', 'Algorithm Agent 2', 'Heuristic Agent 1', 'Heuristic Agent 2']).iloc[\n",
    "8:20].transpose()"
   ]
  },
  {
   "cell_type": "markdown",
   "id": "220cf8d5db8380a3",
   "metadata": {
    "collapsed": false
   },
   "source": [
    "## MinMax Alpha-Beta Pruning Hl CutOff\n",
    "\n",
    "Sono riportati i test effettuati con l'algoritmo base MinMax Alpha-Beta Pruning con taglio con valutazione Hl, si notino i tempi di esecuzione più basi rispetto alla versione classica dell'algoritmo (se confrontiamo con le stesse profondità con la versione classica).\n",
    "Dove abbiamo Agent 1 ed Agent 2 si sfidano usando lo stesso algoritmo ed euristica ma con profondità diverse e diversi parametri di taglio.\n",
    "\n",
    "Vediamo a profondità da 3 a 4 per entrambi gli Agenti e con profondità l da 2 a 3, cosi da poterli confrontarli con il classico MinMax Alpha-Beta Pruning."
   ]
  },
  {
   "cell_type": "code",
   "execution_count": 5,
   "id": "d2562df6e2bc0222",
   "metadata": {
    "collapsed": false,
    "ExecuteTime": {
     "end_time": "2023-11-19T18:06:12.838935900Z",
     "start_time": "2023-11-19T18:06:12.726881500Z"
    }
   },
   "outputs": [
    {
     "data": {
      "text/plain": "                                        0                  1           2   \\\nMax Depth Agent 1                        3                  3           4   \nNumber CutOff Agent 1                    5                  5           5   \nNumber of l Agent 1                      2                  2           2   \nMax Depth Agent 2                        3                  4           3   \nNumber CutOff Agent 2                    5                  5           5   \nNumber of l Agent 2                      2                  2           2   \nOUTCOME                          CHECKMATE  SEVENTYFIVE_MOVES   CHECKMATE   \nWinner                               Black                NaN       Black   \nTotal Time                      26616.84ms        334068.54ms  59083.67ms   \nAVG Time Agent 1                  338.93ms           466.52ms   1023.45ms   \nAVG Time Agent 2                  467.49ms          1348.81ms    383.21ms   \nNumber of Moves Agent 1                 33                184          42   \nNumber of Moves Agent 2                 33                184          42   \nStates Evaluated Agent 1              2920              15720       13368   \nStates Evaluated Agent 2              2675              63037        3687   \nPruning carried out Agent 1            346               1526        1781   \nPruning carried out Agent 2            464               6573         557   \nStates evaluated H0 Agent 1          16711              56883       90980   \nStates evaluated H0 Agent 2          22831             227213       24073   \nPruning H0 carried out Agent 1       12628              36025       71587   \nPruning H0 carried out Agent 2       18465             144387       18383   \nStates evaluated Hl Agent 1          13635              38057       22050   \nStates evaluated Hl Agent 2          14656              36294       20942   \nPruning Hl carried out Agent 1         365               1209         665   \nPruning Hl carried out Agent 2         766               2014         689   \n\n                                                 3             4   \\\nMax Depth Agent 1                                 4             3   \nNumber CutOff Agent 1                             5             5   \nNumber of l Agent 1                               2             3   \nMax Depth Agent 2                                 4             3   \nNumber CutOff Agent 2                             5             5   \nNumber of l Agent 2                               2             3   \nOUTCOME                         FIVEFOLD_REPETITION     CHECKMATE   \nWinner                                          NaN         Black   \nTotal Time                              207182.49ms  4586132.50ms   \nAVG Time Agent 1                          1772.09ms     1025.19ms   \nAVG Time Agent 2                          1680.80ms    10948.64ms   \nNumber of Moves Agent 1                          60           383   \nNumber of Moves Agent 2                          60           383   \nStates Evaluated Agent 1                      19722          4517   \nStates Evaluated Agent 2                      23775         11645   \nPruning carried out Agent 1                    2930          1496   \nPruning carried out Agent 2                    3007          4710   \nStates evaluated H0 Agent 1                  154544         77297   \nStates evaluated H0 Agent 2                  161020        260490   \nPruning H0 carried out Agent 1               124654         68101   \nPruning H0 carried out Agent 2               127609        231220   \nStates evaluated Hl Agent 1                   31998        262020   \nStates evaluated Hl Agent 2                   27079       2697872   \nPruning Hl carried out Agent 1                 1110         55610   \nPruning Hl carried out Agent 2                  767        106826   \n\n                                          5             6             7   \\\nMax Depth Agent 1                          3             4             4   \nNumber CutOff Agent 1                      5             5             5   \nNumber of l Agent 1                        3             3             3   \nMax Depth Agent 2                          4             3             4   \nNumber CutOff Agent 2                      5             5             5   \nNumber of l Agent 2                        3             3             3   \nOUTCOME                            CHECKMATE     CHECKMATE     CHECKMATE   \nWinner                                 Black         Black         Black   \nTotal Time                      1258624.10ms  1109962.76ms  1140042.33ms   \nAVG Time Agent 1                   1194.32ms     1914.36ms     6733.92ms   \nAVG Time Agent 2                   5066.60ms     4021.05ms    11653.67ms   \nNumber of Moves Agent 1                  201           187            62   \nNumber of Moves Agent 2                  201           187            62   \nStates Evaluated Agent 1                4868         32146         18175   \nStates Evaluated Agent 2               17999         11424         17467   \nPruning carried out Agent 1              985          4796          2356   \nPruning carried out Agent 2             3458          1847          2547   \nStates evaluated H0 Agent 1            39692        193724        148964   \nStates evaluated H0 Agent 2           147983         77350        122907   \nPruning H0 carried out Agent 1         31485        145628        122421   \nPruning H0 carried out Agent 2        117801         59449         96166   \nStates evaluated Hl Agent 1           243988        266944        295933   \nStates evaluated Hl Agent 2           645620        496529        644594   \nPruning Hl carried out Agent 1         34897         31620         35334   \nPruning Hl carried out Agent 2         42599         34587         37217   \n\n                                        8           9           10  \\\nMax Depth Agent 1                        3           3           4   \nNumber CutOff Agent 1                    3           3           3   \nNumber of l Agent 1                      2           2           2   \nMax Depth Agent 2                        3           4           3   \nNumber CutOff Agent 2                    5           5           5   \nNumber of l Agent 2                      2           2           2   \nOUTCOME                          CHECKMATE   CHECKMATE   CHECKMATE   \nWinner                               White       White       Black   \nTotal Time                      48299.97ms  53666.30ms  30131.44ms   \nAVG Time Agent 1                  426.46ms    378.18ms    598.02ms   \nAVG Time Agent 2                  459.96ms   1524.83ms    560.71ms   \nNumber of Moves Agent 1                 55          29          26   \nNumber of Moves Agent 2                 54          28          26   \nStates Evaluated Agent 1              1596         835        1846   \nStates Evaluated Agent 2              3861       10243        2174   \nPruning carried out Agent 1            191          94         283   \nPruning carried out Agent 2            670        1230         359   \nStates evaluated H0 Agent 1          19082       10664       21490   \nStates evaluated H0 Agent 2          28268      100954       17756   \nPruning H0 carried out Agent 1       17281        9739       19226   \nPruning H0 carried out Agent 2       22107       86777       14298   \nStates evaluated Hl Agent 1          39287       21250       16505   \nStates evaluated Hl Agent 2          31078       18748       16718   \nPruning Hl carried out Agent 1        1914         962         654   \nPruning Hl carried out Agent 2         593         355         458   \n\n                                         11           12           13  \\\nMax Depth Agent 1                         4            3            3   \nNumber CutOff Agent 1                     3            3            3   \nNumber of l Agent 1                       2            3            3   \nMax Depth Agent 2                         4            3            4   \nNumber CutOff Agent 2                     5            5            5   \nNumber of l Agent 2                       2            3            3   \nOUTCOME                           CHECKMATE    CHECKMATE    CHECKMATE   \nWinner                                White        Black        Black   \nTotal Time                      215182.08ms  378455.77ms  142967.78ms   \nAVG Time Agent 1                   601.73ms    4241.87ms    2922.70ms   \nAVG Time Agent 2                  1705.45ms   10313.97ms    5487.05ms   \nNumber of Moves Agent 1                  94           26           17   \nNumber of Moves Agent 2                  93           26           17   \nStates Evaluated Agent 1               7115          754          469   \nStates Evaluated Agent 2              33538         1992         4906   \nPruning carried out Agent 1             916           87           67   \nPruning carried out Agent 2            3929          428          818   \nStates evaluated H0 Agent 1           56289         7041         4140   \nStates evaluated H0 Agent 2          241845        26612        37776   \nPruning H0 carried out Agent 1        47856         6201         3586   \nPruning H0 carried out Agent 2       195971        23064        30006   \nStates evaluated Hl Agent 1           44153       142058        80135   \nStates evaluated Hl Agent 2           39160       365241       126271   \nPruning Hl carried out Agent 1         2176        18271         8762   \nPruning Hl carried out Agent 2          831        19476         9260   \n\n                                          14                   15  \\\nMax Depth Agent 1                          4                    4   \nNumber CutOff Agent 1                      3                    3   \nNumber of l Agent 1                        3                    3   \nMax Depth Agent 2                          3                    4   \nNumber CutOff Agent 2                      5                    5   \nNumber of l Agent 2                        3                    3   \nOUTCOME                            CHECKMATE  FIVEFOLD_REPETITION   \nWinner                                 Black                  NaN   \nTotal Time                      1413181.54ms          437384.41ms   \nAVG Time Agent 1                    946.45ms            2682.93ms   \nAVG Time Agent 2                   6530.39ms            5220.57ms   \nNumber of Moves Agent 1                  189                   56   \nNumber of Moves Agent 2                  189                   55   \nStates Evaluated Agent 1                4713                 3760   \nStates Evaluated Agent 2                7568                14691   \nPruning carried out Agent 1              750                  593   \nPruning carried out Agent 2             1232                 2082   \nStates evaluated H0 Agent 1            52091                37759   \nStates evaluated H0 Agent 2            77471                95188   \nPruning H0 carried out Agent 1         46365                33102   \nPruning H0 carried out Agent 2         65761                73482   \nStates evaluated Hl Agent 1           148954               177686   \nStates evaluated Hl Agent 2           828620               363910   \nPruning Hl carried out Agent 1         26351                19749   \nPruning Hl carried out Agent 2         35133                20927   \n\n                                         16            17  \nMax Depth Agent 1                         4             4  \nNumber CutOff Agent 1                     5             5  \nNumber of l Agent 1                       2             3  \nMax Depth Agent 2                         4             4  \nNumber CutOff Agent 2                     5             5  \nNumber of l Agent 2                       3             3  \nOUTCOME                           CHECKMATE     CHECKMATE  \nWinner                                White         Black  \nTotal Time                      169348.18ms  1143032.63ms  \nAVG Time Agent 1                  1113.27ms     7155.60ms  \nAVG Time Agent 2                  4313.60ms    11280.24ms  \nNumber of Moves Agent 1                  32            62  \nNumber of Moves Agent 2                  31            62  \nStates Evaluated Agent 1               8301         18175  \nStates Evaluated Agent 2              11415         17467  \nPruning carried out Agent 1            1290          2356  \nPruning carried out Agent 2            1272          2547  \nStates evaluated H0 Agent 1           71368        148964  \nStates evaluated H0 Agent 2          122820        122907  \nPruning H0 carried out Agent 1        58519        122421  \nPruning H0 carried out Agent 2       107374         96166  \nStates evaluated Hl Agent 1           28543        295933  \nStates evaluated Hl Agent 2          126959        644594  \nPruning Hl carried out Agent 1         1226         35334  \nPruning Hl carried out Agent 2        20721         37217  ",
      "text/html": "<div>\n<style scoped>\n    .dataframe tbody tr th:only-of-type {\n        vertical-align: middle;\n    }\n\n    .dataframe tbody tr th {\n        vertical-align: top;\n    }\n\n    .dataframe thead th {\n        text-align: right;\n    }\n</style>\n<table border=\"1\" class=\"dataframe\">\n  <thead>\n    <tr style=\"text-align: right;\">\n      <th></th>\n      <th>0</th>\n      <th>1</th>\n      <th>2</th>\n      <th>3</th>\n      <th>4</th>\n      <th>5</th>\n      <th>6</th>\n      <th>7</th>\n      <th>8</th>\n      <th>9</th>\n      <th>10</th>\n      <th>11</th>\n      <th>12</th>\n      <th>13</th>\n      <th>14</th>\n      <th>15</th>\n      <th>16</th>\n      <th>17</th>\n    </tr>\n  </thead>\n  <tbody>\n    <tr>\n      <th>Max Depth Agent 1</th>\n      <td>3</td>\n      <td>3</td>\n      <td>4</td>\n      <td>4</td>\n      <td>3</td>\n      <td>3</td>\n      <td>4</td>\n      <td>4</td>\n      <td>3</td>\n      <td>3</td>\n      <td>4</td>\n      <td>4</td>\n      <td>3</td>\n      <td>3</td>\n      <td>4</td>\n      <td>4</td>\n      <td>4</td>\n      <td>4</td>\n    </tr>\n    <tr>\n      <th>Number CutOff Agent 1</th>\n      <td>5</td>\n      <td>5</td>\n      <td>5</td>\n      <td>5</td>\n      <td>5</td>\n      <td>5</td>\n      <td>5</td>\n      <td>5</td>\n      <td>3</td>\n      <td>3</td>\n      <td>3</td>\n      <td>3</td>\n      <td>3</td>\n      <td>3</td>\n      <td>3</td>\n      <td>3</td>\n      <td>5</td>\n      <td>5</td>\n    </tr>\n    <tr>\n      <th>Number of l Agent 1</th>\n      <td>2</td>\n      <td>2</td>\n      <td>2</td>\n      <td>2</td>\n      <td>3</td>\n      <td>3</td>\n      <td>3</td>\n      <td>3</td>\n      <td>2</td>\n      <td>2</td>\n      <td>2</td>\n      <td>2</td>\n      <td>3</td>\n      <td>3</td>\n      <td>3</td>\n      <td>3</td>\n      <td>2</td>\n      <td>3</td>\n    </tr>\n    <tr>\n      <th>Max Depth Agent 2</th>\n      <td>3</td>\n      <td>4</td>\n      <td>3</td>\n      <td>4</td>\n      <td>3</td>\n      <td>4</td>\n      <td>3</td>\n      <td>4</td>\n      <td>3</td>\n      <td>4</td>\n      <td>3</td>\n      <td>4</td>\n      <td>3</td>\n      <td>4</td>\n      <td>3</td>\n      <td>4</td>\n      <td>4</td>\n      <td>4</td>\n    </tr>\n    <tr>\n      <th>Number CutOff Agent 2</th>\n      <td>5</td>\n      <td>5</td>\n      <td>5</td>\n      <td>5</td>\n      <td>5</td>\n      <td>5</td>\n      <td>5</td>\n      <td>5</td>\n      <td>5</td>\n      <td>5</td>\n      <td>5</td>\n      <td>5</td>\n      <td>5</td>\n      <td>5</td>\n      <td>5</td>\n      <td>5</td>\n      <td>5</td>\n      <td>5</td>\n    </tr>\n    <tr>\n      <th>Number of l Agent 2</th>\n      <td>2</td>\n      <td>2</td>\n      <td>2</td>\n      <td>2</td>\n      <td>3</td>\n      <td>3</td>\n      <td>3</td>\n      <td>3</td>\n      <td>2</td>\n      <td>2</td>\n      <td>2</td>\n      <td>2</td>\n      <td>3</td>\n      <td>3</td>\n      <td>3</td>\n      <td>3</td>\n      <td>3</td>\n      <td>3</td>\n    </tr>\n    <tr>\n      <th>OUTCOME</th>\n      <td>CHECKMATE</td>\n      <td>SEVENTYFIVE_MOVES</td>\n      <td>CHECKMATE</td>\n      <td>FIVEFOLD_REPETITION</td>\n      <td>CHECKMATE</td>\n      <td>CHECKMATE</td>\n      <td>CHECKMATE</td>\n      <td>CHECKMATE</td>\n      <td>CHECKMATE</td>\n      <td>CHECKMATE</td>\n      <td>CHECKMATE</td>\n      <td>CHECKMATE</td>\n      <td>CHECKMATE</td>\n      <td>CHECKMATE</td>\n      <td>CHECKMATE</td>\n      <td>FIVEFOLD_REPETITION</td>\n      <td>CHECKMATE</td>\n      <td>CHECKMATE</td>\n    </tr>\n    <tr>\n      <th>Winner</th>\n      <td>Black</td>\n      <td>NaN</td>\n      <td>Black</td>\n      <td>NaN</td>\n      <td>Black</td>\n      <td>Black</td>\n      <td>Black</td>\n      <td>Black</td>\n      <td>White</td>\n      <td>White</td>\n      <td>Black</td>\n      <td>White</td>\n      <td>Black</td>\n      <td>Black</td>\n      <td>Black</td>\n      <td>NaN</td>\n      <td>White</td>\n      <td>Black</td>\n    </tr>\n    <tr>\n      <th>Total Time</th>\n      <td>26616.84ms</td>\n      <td>334068.54ms</td>\n      <td>59083.67ms</td>\n      <td>207182.49ms</td>\n      <td>4586132.50ms</td>\n      <td>1258624.10ms</td>\n      <td>1109962.76ms</td>\n      <td>1140042.33ms</td>\n      <td>48299.97ms</td>\n      <td>53666.30ms</td>\n      <td>30131.44ms</td>\n      <td>215182.08ms</td>\n      <td>378455.77ms</td>\n      <td>142967.78ms</td>\n      <td>1413181.54ms</td>\n      <td>437384.41ms</td>\n      <td>169348.18ms</td>\n      <td>1143032.63ms</td>\n    </tr>\n    <tr>\n      <th>AVG Time Agent 1</th>\n      <td>338.93ms</td>\n      <td>466.52ms</td>\n      <td>1023.45ms</td>\n      <td>1772.09ms</td>\n      <td>1025.19ms</td>\n      <td>1194.32ms</td>\n      <td>1914.36ms</td>\n      <td>6733.92ms</td>\n      <td>426.46ms</td>\n      <td>378.18ms</td>\n      <td>598.02ms</td>\n      <td>601.73ms</td>\n      <td>4241.87ms</td>\n      <td>2922.70ms</td>\n      <td>946.45ms</td>\n      <td>2682.93ms</td>\n      <td>1113.27ms</td>\n      <td>7155.60ms</td>\n    </tr>\n    <tr>\n      <th>AVG Time Agent 2</th>\n      <td>467.49ms</td>\n      <td>1348.81ms</td>\n      <td>383.21ms</td>\n      <td>1680.80ms</td>\n      <td>10948.64ms</td>\n      <td>5066.60ms</td>\n      <td>4021.05ms</td>\n      <td>11653.67ms</td>\n      <td>459.96ms</td>\n      <td>1524.83ms</td>\n      <td>560.71ms</td>\n      <td>1705.45ms</td>\n      <td>10313.97ms</td>\n      <td>5487.05ms</td>\n      <td>6530.39ms</td>\n      <td>5220.57ms</td>\n      <td>4313.60ms</td>\n      <td>11280.24ms</td>\n    </tr>\n    <tr>\n      <th>Number of Moves Agent 1</th>\n      <td>33</td>\n      <td>184</td>\n      <td>42</td>\n      <td>60</td>\n      <td>383</td>\n      <td>201</td>\n      <td>187</td>\n      <td>62</td>\n      <td>55</td>\n      <td>29</td>\n      <td>26</td>\n      <td>94</td>\n      <td>26</td>\n      <td>17</td>\n      <td>189</td>\n      <td>56</td>\n      <td>32</td>\n      <td>62</td>\n    </tr>\n    <tr>\n      <th>Number of Moves Agent 2</th>\n      <td>33</td>\n      <td>184</td>\n      <td>42</td>\n      <td>60</td>\n      <td>383</td>\n      <td>201</td>\n      <td>187</td>\n      <td>62</td>\n      <td>54</td>\n      <td>28</td>\n      <td>26</td>\n      <td>93</td>\n      <td>26</td>\n      <td>17</td>\n      <td>189</td>\n      <td>55</td>\n      <td>31</td>\n      <td>62</td>\n    </tr>\n    <tr>\n      <th>States Evaluated Agent 1</th>\n      <td>2920</td>\n      <td>15720</td>\n      <td>13368</td>\n      <td>19722</td>\n      <td>4517</td>\n      <td>4868</td>\n      <td>32146</td>\n      <td>18175</td>\n      <td>1596</td>\n      <td>835</td>\n      <td>1846</td>\n      <td>7115</td>\n      <td>754</td>\n      <td>469</td>\n      <td>4713</td>\n      <td>3760</td>\n      <td>8301</td>\n      <td>18175</td>\n    </tr>\n    <tr>\n      <th>States Evaluated Agent 2</th>\n      <td>2675</td>\n      <td>63037</td>\n      <td>3687</td>\n      <td>23775</td>\n      <td>11645</td>\n      <td>17999</td>\n      <td>11424</td>\n      <td>17467</td>\n      <td>3861</td>\n      <td>10243</td>\n      <td>2174</td>\n      <td>33538</td>\n      <td>1992</td>\n      <td>4906</td>\n      <td>7568</td>\n      <td>14691</td>\n      <td>11415</td>\n      <td>17467</td>\n    </tr>\n    <tr>\n      <th>Pruning carried out Agent 1</th>\n      <td>346</td>\n      <td>1526</td>\n      <td>1781</td>\n      <td>2930</td>\n      <td>1496</td>\n      <td>985</td>\n      <td>4796</td>\n      <td>2356</td>\n      <td>191</td>\n      <td>94</td>\n      <td>283</td>\n      <td>916</td>\n      <td>87</td>\n      <td>67</td>\n      <td>750</td>\n      <td>593</td>\n      <td>1290</td>\n      <td>2356</td>\n    </tr>\n    <tr>\n      <th>Pruning carried out Agent 2</th>\n      <td>464</td>\n      <td>6573</td>\n      <td>557</td>\n      <td>3007</td>\n      <td>4710</td>\n      <td>3458</td>\n      <td>1847</td>\n      <td>2547</td>\n      <td>670</td>\n      <td>1230</td>\n      <td>359</td>\n      <td>3929</td>\n      <td>428</td>\n      <td>818</td>\n      <td>1232</td>\n      <td>2082</td>\n      <td>1272</td>\n      <td>2547</td>\n    </tr>\n    <tr>\n      <th>States evaluated H0 Agent 1</th>\n      <td>16711</td>\n      <td>56883</td>\n      <td>90980</td>\n      <td>154544</td>\n      <td>77297</td>\n      <td>39692</td>\n      <td>193724</td>\n      <td>148964</td>\n      <td>19082</td>\n      <td>10664</td>\n      <td>21490</td>\n      <td>56289</td>\n      <td>7041</td>\n      <td>4140</td>\n      <td>52091</td>\n      <td>37759</td>\n      <td>71368</td>\n      <td>148964</td>\n    </tr>\n    <tr>\n      <th>States evaluated H0 Agent 2</th>\n      <td>22831</td>\n      <td>227213</td>\n      <td>24073</td>\n      <td>161020</td>\n      <td>260490</td>\n      <td>147983</td>\n      <td>77350</td>\n      <td>122907</td>\n      <td>28268</td>\n      <td>100954</td>\n      <td>17756</td>\n      <td>241845</td>\n      <td>26612</td>\n      <td>37776</td>\n      <td>77471</td>\n      <td>95188</td>\n      <td>122820</td>\n      <td>122907</td>\n    </tr>\n    <tr>\n      <th>Pruning H0 carried out Agent 1</th>\n      <td>12628</td>\n      <td>36025</td>\n      <td>71587</td>\n      <td>124654</td>\n      <td>68101</td>\n      <td>31485</td>\n      <td>145628</td>\n      <td>122421</td>\n      <td>17281</td>\n      <td>9739</td>\n      <td>19226</td>\n      <td>47856</td>\n      <td>6201</td>\n      <td>3586</td>\n      <td>46365</td>\n      <td>33102</td>\n      <td>58519</td>\n      <td>122421</td>\n    </tr>\n    <tr>\n      <th>Pruning H0 carried out Agent 2</th>\n      <td>18465</td>\n      <td>144387</td>\n      <td>18383</td>\n      <td>127609</td>\n      <td>231220</td>\n      <td>117801</td>\n      <td>59449</td>\n      <td>96166</td>\n      <td>22107</td>\n      <td>86777</td>\n      <td>14298</td>\n      <td>195971</td>\n      <td>23064</td>\n      <td>30006</td>\n      <td>65761</td>\n      <td>73482</td>\n      <td>107374</td>\n      <td>96166</td>\n    </tr>\n    <tr>\n      <th>States evaluated Hl Agent 1</th>\n      <td>13635</td>\n      <td>38057</td>\n      <td>22050</td>\n      <td>31998</td>\n      <td>262020</td>\n      <td>243988</td>\n      <td>266944</td>\n      <td>295933</td>\n      <td>39287</td>\n      <td>21250</td>\n      <td>16505</td>\n      <td>44153</td>\n      <td>142058</td>\n      <td>80135</td>\n      <td>148954</td>\n      <td>177686</td>\n      <td>28543</td>\n      <td>295933</td>\n    </tr>\n    <tr>\n      <th>States evaluated Hl Agent 2</th>\n      <td>14656</td>\n      <td>36294</td>\n      <td>20942</td>\n      <td>27079</td>\n      <td>2697872</td>\n      <td>645620</td>\n      <td>496529</td>\n      <td>644594</td>\n      <td>31078</td>\n      <td>18748</td>\n      <td>16718</td>\n      <td>39160</td>\n      <td>365241</td>\n      <td>126271</td>\n      <td>828620</td>\n      <td>363910</td>\n      <td>126959</td>\n      <td>644594</td>\n    </tr>\n    <tr>\n      <th>Pruning Hl carried out Agent 1</th>\n      <td>365</td>\n      <td>1209</td>\n      <td>665</td>\n      <td>1110</td>\n      <td>55610</td>\n      <td>34897</td>\n      <td>31620</td>\n      <td>35334</td>\n      <td>1914</td>\n      <td>962</td>\n      <td>654</td>\n      <td>2176</td>\n      <td>18271</td>\n      <td>8762</td>\n      <td>26351</td>\n      <td>19749</td>\n      <td>1226</td>\n      <td>35334</td>\n    </tr>\n    <tr>\n      <th>Pruning Hl carried out Agent 2</th>\n      <td>766</td>\n      <td>2014</td>\n      <td>689</td>\n      <td>767</td>\n      <td>106826</td>\n      <td>42599</td>\n      <td>34587</td>\n      <td>37217</td>\n      <td>593</td>\n      <td>355</td>\n      <td>458</td>\n      <td>831</td>\n      <td>19476</td>\n      <td>9260</td>\n      <td>35133</td>\n      <td>20927</td>\n      <td>20721</td>\n      <td>37217</td>\n    </tr>\n  </tbody>\n</table>\n</div>"
     },
     "execution_count": 5,
     "metadata": {},
     "output_type": "execute_result"
    }
   ],
   "source": [
    "df_minmax_hl_cut.drop(\n",
    "    columns=['Title', 'Algorithm Agent 1', 'Algorithm Agent 2', 'Heuristic Agent 1', 'Heuristic Agent 2']).head(\n",
    "    18).transpose()"
   ]
  },
  {
   "cell_type": "markdown",
   "id": "e35128b3385951a0",
   "metadata": {
    "collapsed": false
   },
   "source": [
    "Vediamo a profondità maggiore di 4 per entrambi gli Agenti e con profondità l da 2 a 3"
   ]
  },
  {
   "cell_type": "code",
   "execution_count": 6,
   "id": "8ecdadfd8e8b75e4",
   "metadata": {
    "collapsed": false,
    "ExecuteTime": {
     "end_time": "2023-11-19T18:06:12.862807900Z",
     "start_time": "2023-11-19T18:06:12.745125600Z"
    }
   },
   "outputs": [
    {
     "data": {
      "text/plain": "                                         18           19            20  \\\nMax Depth Agent 1                         5            6             5   \nNumber CutOff Agent 1                     5            5             5   \nNumber of l Agent 1                       2            2             2   \nMax Depth Agent 2                         5            5             6   \nNumber CutOff Agent 2                     5            5             5   \nNumber of l Agent 2                       2            2             2   \nOUTCOME                           CHECKMATE    CHECKMATE     CHECKMATE   \nWinner                                Black        White         White   \nTotal Time                      254844.40ms  507903.08ms  1294699.54ms   \nAVG Time Agent 1                  5328.36ms    7705.56ms     6812.01ms   \nAVG Time Agent 2                  5290.09ms    2102.09ms    22458.08ms   \nNumber of Moves Agent 1                  24           52            45   \nNumber of Moves Agent 2                  24           51            44   \nStates Evaluated Agent 1              21571       115812         51284   \nStates Evaluated Agent 2              24140        36620        169229   \nPruning carried out Agent 1            4996        23250         10100   \nPruning carried out Agent 2            5700         7478         32937   \nStates evaluated H0 Agent 1          232967       793773        555793   \nStates evaluated H0 Agent 2          243064       246628       1793652   \nPruning H0 carried out Agent 1       193228       601544        468689   \nPruning H0 carried out Agent 2       198502       184119       1512497   \nStates evaluated Hl Agent 1           14968        18388         22638   \nStates evaluated Hl Agent 2           14704        15453         22837   \nPruning Hl carried out Agent 1          487          907          1190   \nPruning Hl carried out Agent 2          440          409           432   \n\n                                          21            22            23  \\\nMax Depth Agent 1                          6             7             8   \nNumber CutOff Agent 1                      5             5             3   \nNumber of l Agent 1                        2             2             2   \nMax Depth Agent 2                          6             7             8   \nNumber CutOff Agent 2                      5             5             3   \nNumber of l Agent 2                        2             2             2   \nOUTCOME                            CHECKMATE     CHECKMATE     CHECKMATE   \nWinner                                 White         Black         Black   \nTotal Time                      1805126.84ms  2493912.13ms  1343823.05ms   \nAVG Time Agent 1                  12626.91ms    34141.44ms    10801.13ms   \nAVG Time Agent 2                  20567.40ms    21278.37ms    10195.67ms   \nNumber of Moves Agent 1                   55            45            64   \nNumber of Moves Agent 2                   54            45            64   \nStates Evaluated Agent 1              143416        367592         92804   \nStates Evaluated Agent 2              215796        258506        106838   \nPruning carried out Agent 1            29365         92158         22476   \nPruning carried out Agent 2            43247         71351         25900   \nStates evaluated H0 Agent 1          1345614       4007867       1152781   \nStates evaluated H0 Agent 2          2228881       2474150       1097513   \nPruning H0 carried out Agent 1       1098134       3312270       1021060   \nPruning H0 carried out Agent 2       1867295       1953361        947138   \nStates evaluated Hl Agent 1            32582         24988         26064   \nStates evaluated Hl Agent 2            29912         25552         25859   \nPruning Hl carried out Agent 1          1506          1118           893   \nPruning Hl carried out Agent 2           634           552          1296   \n\n                                          24                 25            26  \\\nMax Depth Agent 1                          9                  8             9   \nNumber CutOff Agent 1                      3                  3             3   \nNumber of l Agent 1                        2                  2             2   \nMax Depth Agent 2                          8                  9             9   \nNumber CutOff Agent 2                      3                  3             3   \nNumber of l Agent 2                        2                  2             2   \nOUTCOME                            CHECKMATE  SEVENTYFIVE_MOVES     CHECKMATE   \nWinner                                 White                NaN         Black   \nTotal Time                      2856083.16ms       4833464.86ms  1119994.20ms   \nAVG Time Agent 1                  17651.79ms          8244.42ms    17556.54ms   \nAVG Time Agent 2                   8629.81ms         16373.94ms    18572.24ms   \nNumber of Moves Agent 1                  109                197            31   \nNumber of Moves Agent 2                  108                196            31   \nStates Evaluated Agent 1              348279             299619         90891   \nStates Evaluated Agent 2              171817             578332         81585   \nPruning carried out Agent 1            91895              70340         25930   \nPruning carried out Agent 2            40513             154987         23183   \nStates evaluated H0 Agent 1          3698823            3114624       1232041   \nStates evaluated H0 Agent 2          1764896            6245151       1220419   \nPruning H0 carried out Agent 1       3195523            2696885       1096005   \nPruning H0 carried out Agent 2       1526104            5400478       1097147   \nStates evaluated Hl Agent 1            37503              74020         15079   \nStates evaluated Hl Agent 2            30219              52701         17272   \nPruning Hl carried out Agent 1          2569               2929           526   \nPruning Hl carried out Agent 2           784               2396           672   \n\n                                          27                 28            29  \nMax Depth Agent 1                          9                 10            10  \nNumber CutOff Agent 1                      3                  3             3  \nNumber of l Agent 1                        2                  2             2  \nMax Depth Agent 2                         10                  9            10  \nNumber CutOff Agent 2                      3                  3             3  \nNumber of l Agent 2                        2                  2             2  \nOUTCOME                            CHECKMATE  SEVENTYFIVE_MOVES     CHECKMATE  \nWinner                                 Black                NaN         White  \nTotal Time                      3075336.30ms       3508353.95ms  4227955.24ms  \nAVG Time Agent 1                  17599.17ms         13537.07ms    20199.39ms  \nAVG Time Agent 2                  38316.00ms          5878.41ms    21878.07ms  \nNumber of Moves Agent 1                   55                181           101  \nNumber of Moves Agent 2                   55                180           100  \nStates Evaluated Agent 1              191590             666741        523461  \nStates Evaluated Agent 2              457841             325113        558973  \nPruning carried out Agent 1            53083             181898        146299  \nPruning carried out Agent 2           126200              90454        146019  \nStates evaluated H0 Agent 1          2614068            5926868       5859323  \nStates evaluated H0 Agent 2          6021071            2767842       6525733  \nPruning H0 carried out Agent 1       2330919            4948513       5080833  \nPruning H0 carried out Agent 2       5348263            2288049       5722693  \nStates evaluated Hl Agent 1            30203              48914         43627  \nStates evaluated Hl Agent 2            29874              43200         36196  \nPruning Hl carried out Agent 1          1206               3689          2746  \nPruning Hl carried out Agent 2          1048               1022           774  ",
      "text/html": "<div>\n<style scoped>\n    .dataframe tbody tr th:only-of-type {\n        vertical-align: middle;\n    }\n\n    .dataframe tbody tr th {\n        vertical-align: top;\n    }\n\n    .dataframe thead th {\n        text-align: right;\n    }\n</style>\n<table border=\"1\" class=\"dataframe\">\n  <thead>\n    <tr style=\"text-align: right;\">\n      <th></th>\n      <th>18</th>\n      <th>19</th>\n      <th>20</th>\n      <th>21</th>\n      <th>22</th>\n      <th>23</th>\n      <th>24</th>\n      <th>25</th>\n      <th>26</th>\n      <th>27</th>\n      <th>28</th>\n      <th>29</th>\n    </tr>\n  </thead>\n  <tbody>\n    <tr>\n      <th>Max Depth Agent 1</th>\n      <td>5</td>\n      <td>6</td>\n      <td>5</td>\n      <td>6</td>\n      <td>7</td>\n      <td>8</td>\n      <td>9</td>\n      <td>8</td>\n      <td>9</td>\n      <td>9</td>\n      <td>10</td>\n      <td>10</td>\n    </tr>\n    <tr>\n      <th>Number CutOff Agent 1</th>\n      <td>5</td>\n      <td>5</td>\n      <td>5</td>\n      <td>5</td>\n      <td>5</td>\n      <td>3</td>\n      <td>3</td>\n      <td>3</td>\n      <td>3</td>\n      <td>3</td>\n      <td>3</td>\n      <td>3</td>\n    </tr>\n    <tr>\n      <th>Number of l Agent 1</th>\n      <td>2</td>\n      <td>2</td>\n      <td>2</td>\n      <td>2</td>\n      <td>2</td>\n      <td>2</td>\n      <td>2</td>\n      <td>2</td>\n      <td>2</td>\n      <td>2</td>\n      <td>2</td>\n      <td>2</td>\n    </tr>\n    <tr>\n      <th>Max Depth Agent 2</th>\n      <td>5</td>\n      <td>5</td>\n      <td>6</td>\n      <td>6</td>\n      <td>7</td>\n      <td>8</td>\n      <td>8</td>\n      <td>9</td>\n      <td>9</td>\n      <td>10</td>\n      <td>9</td>\n      <td>10</td>\n    </tr>\n    <tr>\n      <th>Number CutOff Agent 2</th>\n      <td>5</td>\n      <td>5</td>\n      <td>5</td>\n      <td>5</td>\n      <td>5</td>\n      <td>3</td>\n      <td>3</td>\n      <td>3</td>\n      <td>3</td>\n      <td>3</td>\n      <td>3</td>\n      <td>3</td>\n    </tr>\n    <tr>\n      <th>Number of l Agent 2</th>\n      <td>2</td>\n      <td>2</td>\n      <td>2</td>\n      <td>2</td>\n      <td>2</td>\n      <td>2</td>\n      <td>2</td>\n      <td>2</td>\n      <td>2</td>\n      <td>2</td>\n      <td>2</td>\n      <td>2</td>\n    </tr>\n    <tr>\n      <th>OUTCOME</th>\n      <td>CHECKMATE</td>\n      <td>CHECKMATE</td>\n      <td>CHECKMATE</td>\n      <td>CHECKMATE</td>\n      <td>CHECKMATE</td>\n      <td>CHECKMATE</td>\n      <td>CHECKMATE</td>\n      <td>SEVENTYFIVE_MOVES</td>\n      <td>CHECKMATE</td>\n      <td>CHECKMATE</td>\n      <td>SEVENTYFIVE_MOVES</td>\n      <td>CHECKMATE</td>\n    </tr>\n    <tr>\n      <th>Winner</th>\n      <td>Black</td>\n      <td>White</td>\n      <td>White</td>\n      <td>White</td>\n      <td>Black</td>\n      <td>Black</td>\n      <td>White</td>\n      <td>NaN</td>\n      <td>Black</td>\n      <td>Black</td>\n      <td>NaN</td>\n      <td>White</td>\n    </tr>\n    <tr>\n      <th>Total Time</th>\n      <td>254844.40ms</td>\n      <td>507903.08ms</td>\n      <td>1294699.54ms</td>\n      <td>1805126.84ms</td>\n      <td>2493912.13ms</td>\n      <td>1343823.05ms</td>\n      <td>2856083.16ms</td>\n      <td>4833464.86ms</td>\n      <td>1119994.20ms</td>\n      <td>3075336.30ms</td>\n      <td>3508353.95ms</td>\n      <td>4227955.24ms</td>\n    </tr>\n    <tr>\n      <th>AVG Time Agent 1</th>\n      <td>5328.36ms</td>\n      <td>7705.56ms</td>\n      <td>6812.01ms</td>\n      <td>12626.91ms</td>\n      <td>34141.44ms</td>\n      <td>10801.13ms</td>\n      <td>17651.79ms</td>\n      <td>8244.42ms</td>\n      <td>17556.54ms</td>\n      <td>17599.17ms</td>\n      <td>13537.07ms</td>\n      <td>20199.39ms</td>\n    </tr>\n    <tr>\n      <th>AVG Time Agent 2</th>\n      <td>5290.09ms</td>\n      <td>2102.09ms</td>\n      <td>22458.08ms</td>\n      <td>20567.40ms</td>\n      <td>21278.37ms</td>\n      <td>10195.67ms</td>\n      <td>8629.81ms</td>\n      <td>16373.94ms</td>\n      <td>18572.24ms</td>\n      <td>38316.00ms</td>\n      <td>5878.41ms</td>\n      <td>21878.07ms</td>\n    </tr>\n    <tr>\n      <th>Number of Moves Agent 1</th>\n      <td>24</td>\n      <td>52</td>\n      <td>45</td>\n      <td>55</td>\n      <td>45</td>\n      <td>64</td>\n      <td>109</td>\n      <td>197</td>\n      <td>31</td>\n      <td>55</td>\n      <td>181</td>\n      <td>101</td>\n    </tr>\n    <tr>\n      <th>Number of Moves Agent 2</th>\n      <td>24</td>\n      <td>51</td>\n      <td>44</td>\n      <td>54</td>\n      <td>45</td>\n      <td>64</td>\n      <td>108</td>\n      <td>196</td>\n      <td>31</td>\n      <td>55</td>\n      <td>180</td>\n      <td>100</td>\n    </tr>\n    <tr>\n      <th>States Evaluated Agent 1</th>\n      <td>21571</td>\n      <td>115812</td>\n      <td>51284</td>\n      <td>143416</td>\n      <td>367592</td>\n      <td>92804</td>\n      <td>348279</td>\n      <td>299619</td>\n      <td>90891</td>\n      <td>191590</td>\n      <td>666741</td>\n      <td>523461</td>\n    </tr>\n    <tr>\n      <th>States Evaluated Agent 2</th>\n      <td>24140</td>\n      <td>36620</td>\n      <td>169229</td>\n      <td>215796</td>\n      <td>258506</td>\n      <td>106838</td>\n      <td>171817</td>\n      <td>578332</td>\n      <td>81585</td>\n      <td>457841</td>\n      <td>325113</td>\n      <td>558973</td>\n    </tr>\n    <tr>\n      <th>Pruning carried out Agent 1</th>\n      <td>4996</td>\n      <td>23250</td>\n      <td>10100</td>\n      <td>29365</td>\n      <td>92158</td>\n      <td>22476</td>\n      <td>91895</td>\n      <td>70340</td>\n      <td>25930</td>\n      <td>53083</td>\n      <td>181898</td>\n      <td>146299</td>\n    </tr>\n    <tr>\n      <th>Pruning carried out Agent 2</th>\n      <td>5700</td>\n      <td>7478</td>\n      <td>32937</td>\n      <td>43247</td>\n      <td>71351</td>\n      <td>25900</td>\n      <td>40513</td>\n      <td>154987</td>\n      <td>23183</td>\n      <td>126200</td>\n      <td>90454</td>\n      <td>146019</td>\n    </tr>\n    <tr>\n      <th>States evaluated H0 Agent 1</th>\n      <td>232967</td>\n      <td>793773</td>\n      <td>555793</td>\n      <td>1345614</td>\n      <td>4007867</td>\n      <td>1152781</td>\n      <td>3698823</td>\n      <td>3114624</td>\n      <td>1232041</td>\n      <td>2614068</td>\n      <td>5926868</td>\n      <td>5859323</td>\n    </tr>\n    <tr>\n      <th>States evaluated H0 Agent 2</th>\n      <td>243064</td>\n      <td>246628</td>\n      <td>1793652</td>\n      <td>2228881</td>\n      <td>2474150</td>\n      <td>1097513</td>\n      <td>1764896</td>\n      <td>6245151</td>\n      <td>1220419</td>\n      <td>6021071</td>\n      <td>2767842</td>\n      <td>6525733</td>\n    </tr>\n    <tr>\n      <th>Pruning H0 carried out Agent 1</th>\n      <td>193228</td>\n      <td>601544</td>\n      <td>468689</td>\n      <td>1098134</td>\n      <td>3312270</td>\n      <td>1021060</td>\n      <td>3195523</td>\n      <td>2696885</td>\n      <td>1096005</td>\n      <td>2330919</td>\n      <td>4948513</td>\n      <td>5080833</td>\n    </tr>\n    <tr>\n      <th>Pruning H0 carried out Agent 2</th>\n      <td>198502</td>\n      <td>184119</td>\n      <td>1512497</td>\n      <td>1867295</td>\n      <td>1953361</td>\n      <td>947138</td>\n      <td>1526104</td>\n      <td>5400478</td>\n      <td>1097147</td>\n      <td>5348263</td>\n      <td>2288049</td>\n      <td>5722693</td>\n    </tr>\n    <tr>\n      <th>States evaluated Hl Agent 1</th>\n      <td>14968</td>\n      <td>18388</td>\n      <td>22638</td>\n      <td>32582</td>\n      <td>24988</td>\n      <td>26064</td>\n      <td>37503</td>\n      <td>74020</td>\n      <td>15079</td>\n      <td>30203</td>\n      <td>48914</td>\n      <td>43627</td>\n    </tr>\n    <tr>\n      <th>States evaluated Hl Agent 2</th>\n      <td>14704</td>\n      <td>15453</td>\n      <td>22837</td>\n      <td>29912</td>\n      <td>25552</td>\n      <td>25859</td>\n      <td>30219</td>\n      <td>52701</td>\n      <td>17272</td>\n      <td>29874</td>\n      <td>43200</td>\n      <td>36196</td>\n    </tr>\n    <tr>\n      <th>Pruning Hl carried out Agent 1</th>\n      <td>487</td>\n      <td>907</td>\n      <td>1190</td>\n      <td>1506</td>\n      <td>1118</td>\n      <td>893</td>\n      <td>2569</td>\n      <td>2929</td>\n      <td>526</td>\n      <td>1206</td>\n      <td>3689</td>\n      <td>2746</td>\n    </tr>\n    <tr>\n      <th>Pruning Hl carried out Agent 2</th>\n      <td>440</td>\n      <td>409</td>\n      <td>432</td>\n      <td>634</td>\n      <td>552</td>\n      <td>1296</td>\n      <td>784</td>\n      <td>2396</td>\n      <td>672</td>\n      <td>1048</td>\n      <td>1022</td>\n      <td>774</td>\n    </tr>\n  </tbody>\n</table>\n</div>"
     },
     "execution_count": 6,
     "metadata": {},
     "output_type": "execute_result"
    }
   ],
   "source": [
    "df_minmax_hl_cut.drop(\n",
    "    columns=['Title', 'Algorithm Agent 1', 'Algorithm Agent 2', 'Heuristic Agent 1', 'Heuristic Agent 2']).iloc[\n",
    "18:].transpose()"
   ]
  },
  {
   "cell_type": "markdown",
   "id": "757b71f6dbfbec0b",
   "metadata": {
    "collapsed": false
   },
   "source": [
    "## MinMax Alpha-Beta Pruning Hr CutOff (MPLRegressor)\n",
    "\n",
    "Sono riportati i test effettuati con l'algoritmo MinMax Alpha-Beta Pruning con taglio con valutazione Hr (tramite il regressore). Si Noti che a basse profondità abbiamo molte partite che finiscono in pareggio.\n",
    "\n",
    "Dove abbiamo Agent 1 ed Agent 2 si sfidano usando lo stesso algoritmo ed euristica ma con profondità diverse e diversi parametri di taglio.\n",
    "\n",
    "Vediamo a profondità da 3 a 4 per entrambi gli Agenti, cosi da poterli confrontarli con il classico MinMax Alpha-Beta Pruning."
   ]
  },
  {
   "cell_type": "code",
   "execution_count": 7,
   "id": "246c13a27f158c7b",
   "metadata": {
    "collapsed": false,
    "ExecuteTime": {
     "end_time": "2023-11-19T18:06:12.885083900Z",
     "start_time": "2023-11-19T18:06:12.764899700Z"
    }
   },
   "outputs": [
    {
     "data": {
      "text/plain": "                                                    0                    1  \\\nMax Depth Agent 1                                   3                    3   \nNumber CutOff Hr Agent 1                            5                    5   \nMax Depth Agent 2                                   3                    4   \nNumber CutOff Hr Agent 2                            5                    5   \nOUTCOME                         INSUFFICIENT_MATERIAL  FIVEFOLD_REPETITION   \nWinner                                            NaN                  NaN   \nTotal Time                                501344.70ms          431826.08ms   \nAVG Time Agent 1                            1046.43ms             670.20ms   \nAVG Time Agent 2                             445.57ms            1647.75ms   \nNumber of Moves Agent 1                           336                  187   \nNumber of Moves Agent 2                           336                  186   \nStates Evaluated Agent 1                        27452                15447   \nStates Evaluated Agent 2                        30110                41884   \nPruning carried out Agent 1                      4406                 2503   \nPruning carried out Agent 2                      3728                 5677   \nStates evaluated Hr Agent 1                    205456                87042   \nStates evaluated Hr Agent 2                     90636               216164   \nPruning Hr carried out Agent 1                 162018                63793   \nPruning Hr carried out Agent 2                  52177               157592   \n\n                                          2                    3  \\\nMax Depth Agent 1                         4                    4   \nNumber CutOff Hr Agent 1                  5                    5   \nMax Depth Agent 2                         3                    4   \nNumber CutOff Hr Agent 2                  5                    5   \nOUTCOME                           CHECKMATE  FIVEFOLD_REPETITION   \nWinner                                White                  NaN   \nTotal Time                      366489.69ms          701824.91ms   \nAVG Time Agent 1                  3013.14ms            1408.16ms   \nAVG Time Agent 2                   772.92ms            1327.77ms   \nNumber of Moves Agent 1                  97                  257   \nNumber of Moves Agent 2                  96                  256   \nStates Evaluated Agent 1              31351                73502   \nStates Evaluated Agent 2               8106                61096   \nPruning carried out Agent 1            3670                10019   \nPruning carried out Agent 2            1003                 7618   \nStates evaluated Hr Agent 1          203615               284831   \nStates evaluated Hr Agent 2           52838               272582   \nPruning Hr carried out Agent 1       161809               183048   \nPruning Hr carried out Agent 2        41694               191290   \n\n                                                  4  \nMax Depth Agent 1                                 5  \nNumber CutOff Hr Agent 1                          3  \nMax Depth Agent 2                                 5  \nNumber CutOff Hr Agent 2                          3  \nOUTCOME                         FIVEFOLD_REPETITION  \nWinner                                          NaN  \nTotal Time                              372908.43ms  \nAVG Time Agent 1                          1296.12ms  \nAVG Time Agent 2                          2051.68ms  \nNumber of Moves Agent 1                         112  \nNumber of Moves Agent 2                         111  \nStates Evaluated Agent 1                      15966  \nStates Evaluated Agent 2                      16889  \nPruning carried out Agent 1                    3008  \nPruning carried out Agent 2                    3013  \nStates evaluated Hr Agent 1                  103984  \nStates evaluated Hr Agent 2                  162239  \nPruning Hr carried out Agent 1                83424  \nPruning Hr carried out Agent 2               140882  ",
      "text/html": "<div>\n<style scoped>\n    .dataframe tbody tr th:only-of-type {\n        vertical-align: middle;\n    }\n\n    .dataframe tbody tr th {\n        vertical-align: top;\n    }\n\n    .dataframe thead th {\n        text-align: right;\n    }\n</style>\n<table border=\"1\" class=\"dataframe\">\n  <thead>\n    <tr style=\"text-align: right;\">\n      <th></th>\n      <th>0</th>\n      <th>1</th>\n      <th>2</th>\n      <th>3</th>\n      <th>4</th>\n    </tr>\n  </thead>\n  <tbody>\n    <tr>\n      <th>Max Depth Agent 1</th>\n      <td>3</td>\n      <td>3</td>\n      <td>4</td>\n      <td>4</td>\n      <td>5</td>\n    </tr>\n    <tr>\n      <th>Number CutOff Hr Agent 1</th>\n      <td>5</td>\n      <td>5</td>\n      <td>5</td>\n      <td>5</td>\n      <td>3</td>\n    </tr>\n    <tr>\n      <th>Max Depth Agent 2</th>\n      <td>3</td>\n      <td>4</td>\n      <td>3</td>\n      <td>4</td>\n      <td>5</td>\n    </tr>\n    <tr>\n      <th>Number CutOff Hr Agent 2</th>\n      <td>5</td>\n      <td>5</td>\n      <td>5</td>\n      <td>5</td>\n      <td>3</td>\n    </tr>\n    <tr>\n      <th>OUTCOME</th>\n      <td>INSUFFICIENT_MATERIAL</td>\n      <td>FIVEFOLD_REPETITION</td>\n      <td>CHECKMATE</td>\n      <td>FIVEFOLD_REPETITION</td>\n      <td>FIVEFOLD_REPETITION</td>\n    </tr>\n    <tr>\n      <th>Winner</th>\n      <td>NaN</td>\n      <td>NaN</td>\n      <td>White</td>\n      <td>NaN</td>\n      <td>NaN</td>\n    </tr>\n    <tr>\n      <th>Total Time</th>\n      <td>501344.70ms</td>\n      <td>431826.08ms</td>\n      <td>366489.69ms</td>\n      <td>701824.91ms</td>\n      <td>372908.43ms</td>\n    </tr>\n    <tr>\n      <th>AVG Time Agent 1</th>\n      <td>1046.43ms</td>\n      <td>670.20ms</td>\n      <td>3013.14ms</td>\n      <td>1408.16ms</td>\n      <td>1296.12ms</td>\n    </tr>\n    <tr>\n      <th>AVG Time Agent 2</th>\n      <td>445.57ms</td>\n      <td>1647.75ms</td>\n      <td>772.92ms</td>\n      <td>1327.77ms</td>\n      <td>2051.68ms</td>\n    </tr>\n    <tr>\n      <th>Number of Moves Agent 1</th>\n      <td>336</td>\n      <td>187</td>\n      <td>97</td>\n      <td>257</td>\n      <td>112</td>\n    </tr>\n    <tr>\n      <th>Number of Moves Agent 2</th>\n      <td>336</td>\n      <td>186</td>\n      <td>96</td>\n      <td>256</td>\n      <td>111</td>\n    </tr>\n    <tr>\n      <th>States Evaluated Agent 1</th>\n      <td>27452</td>\n      <td>15447</td>\n      <td>31351</td>\n      <td>73502</td>\n      <td>15966</td>\n    </tr>\n    <tr>\n      <th>States Evaluated Agent 2</th>\n      <td>30110</td>\n      <td>41884</td>\n      <td>8106</td>\n      <td>61096</td>\n      <td>16889</td>\n    </tr>\n    <tr>\n      <th>Pruning carried out Agent 1</th>\n      <td>4406</td>\n      <td>2503</td>\n      <td>3670</td>\n      <td>10019</td>\n      <td>3008</td>\n    </tr>\n    <tr>\n      <th>Pruning carried out Agent 2</th>\n      <td>3728</td>\n      <td>5677</td>\n      <td>1003</td>\n      <td>7618</td>\n      <td>3013</td>\n    </tr>\n    <tr>\n      <th>States evaluated Hr Agent 1</th>\n      <td>205456</td>\n      <td>87042</td>\n      <td>203615</td>\n      <td>284831</td>\n      <td>103984</td>\n    </tr>\n    <tr>\n      <th>States evaluated Hr Agent 2</th>\n      <td>90636</td>\n      <td>216164</td>\n      <td>52838</td>\n      <td>272582</td>\n      <td>162239</td>\n    </tr>\n    <tr>\n      <th>Pruning Hr carried out Agent 1</th>\n      <td>162018</td>\n      <td>63793</td>\n      <td>161809</td>\n      <td>183048</td>\n      <td>83424</td>\n    </tr>\n    <tr>\n      <th>Pruning Hr carried out Agent 2</th>\n      <td>52177</td>\n      <td>157592</td>\n      <td>41694</td>\n      <td>191290</td>\n      <td>140882</td>\n    </tr>\n  </tbody>\n</table>\n</div>"
     },
     "execution_count": 7,
     "metadata": {},
     "output_type": "execute_result"
    }
   ],
   "source": [
    "df_minmax_hr_cut.drop(\n",
    "    columns=['Title', 'Algorithm Agent 1', 'Algorithm Agent 2', 'Heuristic Agent 1', 'Heuristic Agent 2']).head(\n",
    "    5).transpose()"
   ]
  },
  {
   "cell_type": "markdown",
   "id": "827a95e539bf00f7",
   "metadata": {
    "collapsed": false
   },
   "source": [
    "Vediamo i restanti due test:\n",
    "   - Il primo a profondità 6 e 6\n",
    "   - Il secondo a profondità 10 e 10\n",
    "\n",
    "Altri test purtroppo per mancanza ti tempo no sono stati effettuati. \n",
    "Da notare che ha profondità 10 e 10 abbiamo un tempo totale di 6279055.89ms ~ 1.74 ore contro i 4227955.24ms ~ 1.17 ore della versione Hl contro i 1700247.30ms ~ 28.33 Minuti della versione H0.\n",
    "\n",
    "Hr risulta essere il peggiore per quanto riguarda i tempi di esecuzione. E più avanti ci accorgermemo che sarà il pegiore pure nel scegliere le mosse."
   ]
  },
  {
   "cell_type": "code",
   "execution_count": 8,
   "id": "4c75ee1472e2ad07",
   "metadata": {
    "collapsed": false,
    "ExecuteTime": {
     "end_time": "2023-11-19T18:06:12.889594800Z",
     "start_time": "2023-11-19T18:06:12.778233300Z"
    }
   },
   "outputs": [
    {
     "data": {
      "text/plain": "                                                  5             6\nMax Depth Agent 1                                 6            10\nNumber CutOff Hr Agent 1                          3             3\nMax Depth Agent 2                                 6            10\nNumber CutOff Hr Agent 2                          3             3\nOUTCOME                         FIVEFOLD_REPETITION     CHECKMATE\nWinner                                          NaN         White\nTotal Time                              817093.23ms  6279055.89ms\nAVG Time Agent 1                          2819.90ms    48008.13ms\nAVG Time Agent 2                          3613.80ms    54927.21ms\nNumber of Moves Agent 1                         127            61\nNumber of Moves Agent 2                         127            61\nStates Evaluated Agent 1                      44091        345956\nStates Evaluated Agent 2                      43411        301017\nPruning carried out Agent 1                    8277         89961\nPruning carried out Agent 2                    7914         73561\nStates evaluated Hr Agent 1                  336935       3824257\nStates evaluated Hr Agent 2                  430877       4416521\nPruning Hr carried out Agent 1               280603       3349983\nPruning Hr carried out Agent 2               375731       4008184",
      "text/html": "<div>\n<style scoped>\n    .dataframe tbody tr th:only-of-type {\n        vertical-align: middle;\n    }\n\n    .dataframe tbody tr th {\n        vertical-align: top;\n    }\n\n    .dataframe thead th {\n        text-align: right;\n    }\n</style>\n<table border=\"1\" class=\"dataframe\">\n  <thead>\n    <tr style=\"text-align: right;\">\n      <th></th>\n      <th>5</th>\n      <th>6</th>\n    </tr>\n  </thead>\n  <tbody>\n    <tr>\n      <th>Max Depth Agent 1</th>\n      <td>6</td>\n      <td>10</td>\n    </tr>\n    <tr>\n      <th>Number CutOff Hr Agent 1</th>\n      <td>3</td>\n      <td>3</td>\n    </tr>\n    <tr>\n      <th>Max Depth Agent 2</th>\n      <td>6</td>\n      <td>10</td>\n    </tr>\n    <tr>\n      <th>Number CutOff Hr Agent 2</th>\n      <td>3</td>\n      <td>3</td>\n    </tr>\n    <tr>\n      <th>OUTCOME</th>\n      <td>FIVEFOLD_REPETITION</td>\n      <td>CHECKMATE</td>\n    </tr>\n    <tr>\n      <th>Winner</th>\n      <td>NaN</td>\n      <td>White</td>\n    </tr>\n    <tr>\n      <th>Total Time</th>\n      <td>817093.23ms</td>\n      <td>6279055.89ms</td>\n    </tr>\n    <tr>\n      <th>AVG Time Agent 1</th>\n      <td>2819.90ms</td>\n      <td>48008.13ms</td>\n    </tr>\n    <tr>\n      <th>AVG Time Agent 2</th>\n      <td>3613.80ms</td>\n      <td>54927.21ms</td>\n    </tr>\n    <tr>\n      <th>Number of Moves Agent 1</th>\n      <td>127</td>\n      <td>61</td>\n    </tr>\n    <tr>\n      <th>Number of Moves Agent 2</th>\n      <td>127</td>\n      <td>61</td>\n    </tr>\n    <tr>\n      <th>States Evaluated Agent 1</th>\n      <td>44091</td>\n      <td>345956</td>\n    </tr>\n    <tr>\n      <th>States Evaluated Agent 2</th>\n      <td>43411</td>\n      <td>301017</td>\n    </tr>\n    <tr>\n      <th>Pruning carried out Agent 1</th>\n      <td>8277</td>\n      <td>89961</td>\n    </tr>\n    <tr>\n      <th>Pruning carried out Agent 2</th>\n      <td>7914</td>\n      <td>73561</td>\n    </tr>\n    <tr>\n      <th>States evaluated Hr Agent 1</th>\n      <td>336935</td>\n      <td>3824257</td>\n    </tr>\n    <tr>\n      <th>States evaluated Hr Agent 2</th>\n      <td>430877</td>\n      <td>4416521</td>\n    </tr>\n    <tr>\n      <th>Pruning Hr carried out Agent 1</th>\n      <td>280603</td>\n      <td>3349983</td>\n    </tr>\n    <tr>\n      <th>Pruning Hr carried out Agent 2</th>\n      <td>375731</td>\n      <td>4008184</td>\n    </tr>\n  </tbody>\n</table>\n</div>"
     },
     "execution_count": 8,
     "metadata": {},
     "output_type": "execute_result"
    }
   ],
   "source": [
    "df_minmax_hr_cut.drop(\n",
    "    columns=['Title', 'Algorithm Agent 1', 'Algorithm Agent 2', 'Heuristic Agent 1', 'Heuristic Agent 2']).iloc[\n",
    "5:].transpose()"
   ]
  },
  {
   "cell_type": "markdown",
   "id": "e5c996151f5a0366",
   "metadata": {
    "collapsed": false
   },
   "source": [
    "## MinMax Alpha-Beta Pruning H0 CutOff Vs MinMax Alpha-Beta Pruning Hl CutOff\n",
    "\n",
    "Sono riportati i test effettuati con l'algoritmo MinMax Alpha-Beta Pruning con taglio e valutazione H0 contro l'algoritmo MinMax Alpha-Beta Pruning con taglio e valutazione Hl.\n"
   ]
  },
  {
   "cell_type": "code",
   "execution_count": 9,
   "id": "c0b9266857dd6f95",
   "metadata": {
    "collapsed": false,
    "ExecuteTime": {
     "end_time": "2023-11-19T18:06:12.973993200Z",
     "start_time": "2023-11-19T18:06:12.792831600Z"
    }
   },
   "outputs": [
    {
     "data": {
      "text/plain": "                                                                  0  \\\nAlgorithm Agent 1               MinMax Alpha Beta Pruning H0 CutOff   \nAlgorithm Agent 2               MinMax Alpha Beta Pruning Hl CutOff   \nMax Depth Agent 1                                                 3   \nNumber CutOff Agent 1                                             5   \nMax Depth Agent 2                                                 3   \nNumber CutOff Agent 2                                             5   \nNumber of l Agent 2                                               3   \nOUTCOME                                                   CHECKMATE   \nWinner                                                        Black   \nTotal Time                                               95360.93ms   \nAVG Time Agent 1                                           222.48ms   \nAVG Time Agent 2                                          4796.41ms   \nNumber of Moves Agent 1                                          19   \nNumber of Moves Agent 2                                          19   \nStates Evaluated Agent 1                                       1483   \nStates Evaluated Agent 2                                       1474   \nPruning carried out Agent 1                                     256   \nPruning carried out Agent 2                                     330   \nStates evaluated H0 Agent 1                                   10424   \nStates evaluated H0 Agent 2                                   17410   \nPruning H0 carried out Agent 1                                 7954   \nPruning H0 carried out Agent 2                                14763   \nStates evaluated Hl Agent 2                                  124640   \nPruning Hl carried out Agent 2                                11261   \n\n                                                                  1  \\\nAlgorithm Agent 1               MinMax Alpha Beta Pruning H0 CutOff   \nAlgorithm Agent 2               MinMax Alpha Beta Pruning Hl CutOff   \nMax Depth Agent 1                                                 3   \nNumber CutOff Agent 1                                             5   \nMax Depth Agent 2                                                 4   \nNumber CutOff Agent 2                                             5   \nNumber of l Agent 2                                               3   \nOUTCOME                                           SEVENTYFIVE_MOVES   \nWinner                                                          NaN   \nTotal Time                                              714725.30ms   \nAVG Time Agent 1                                           375.28ms   \nAVG Time Agent 2                                          3160.77ms   \nNumber of Moves Agent 1                                         203   \nNumber of Moves Agent 2                                         202   \nStates Evaluated Agent 1                                      13777   \nStates Evaluated Agent 2                                      49175   \nPruning carried out Agent 1                                    1831   \nPruning carried out Agent 2                                    5770   \nStates evaluated H0 Agent 1                                   91865   \nStates evaluated H0 Agent 2                                  285342   \nPruning H0 carried out Agent 1                                70522   \nPruning H0 carried out Agent 2                               217797   \nStates evaluated Hl Agent 2                                  385798   \nPruning Hl carried out Agent 2                                47333   \n\n                                                                  2  \\\nAlgorithm Agent 1               MinMax Alpha Beta Pruning H0 CutOff   \nAlgorithm Agent 2               MinMax Alpha Beta Pruning Hl CutOff   \nMax Depth Agent 1                                                 4   \nNumber CutOff Agent 1                                             5   \nMax Depth Agent 2                                                 3   \nNumber CutOff Agent 2                                             5   \nNumber of l Agent 2                                               3   \nOUTCOME                                                   CHECKMATE   \nWinner                                                        Black   \nTotal Time                                              259116.41ms   \nAVG Time Agent 1                                           994.12ms   \nAVG Time Agent 2                                          7364.39ms   \nNumber of Moves Agent 1                                          31   \nNumber of Moves Agent 2                                          31   \nStates Evaluated Agent 1                                       6764   \nStates Evaluated Agent 2                                       2283   \nPruning carried out Agent 1                                    1225   \nPruning carried out Agent 2                                     459   \nStates evaluated H0 Agent 1                                   72736   \nStates evaluated H0 Agent 2                                   27865   \nPruning H0 carried out Agent 1                                61426   \nPruning H0 carried out Agent 2                                23960   \nStates evaluated Hl Agent 2                                  266399   \nPruning Hl carried out Agent 2                                18462   \n\n                                                                  3  \\\nAlgorithm Agent 1               MinMax Alpha Beta Pruning H0 CutOff   \nAlgorithm Agent 2               MinMax Alpha Beta Pruning Hl CutOff   \nMax Depth Agent 1                                                 4   \nNumber CutOff Agent 1                                             5   \nMax Depth Agent 2                                                 4   \nNumber CutOff Agent 2                                             5   \nNumber of l Agent 2                                               3   \nOUTCOME                                                   CHECKMATE   \nWinner                                                        Black   \nTotal Time                                              409949.13ms   \nAVG Time Agent 1                                           925.44ms   \nAVG Time Agent 2                                          6022.81ms   \nNumber of Moves Agent 1                                          59   \nNumber of Moves Agent 2                                          59   \nStates Evaluated Agent 1                                      14222   \nStates Evaluated Agent 2                                      15643   \nPruning carried out Agent 1                                    1919   \nPruning carried out Agent 2                                    2284   \nStates evaluated H0 Agent 1                                  113068   \nStates evaluated H0 Agent 2                                  100606   \nPruning H0 carried out Agent 1                                92101   \nPruning H0 carried out Agent 2                                77286   \nStates evaluated Hl Agent 2                                  370148   \nPruning Hl carried out Agent 2                                29127   \n\n                                                                  4  \nAlgorithm Agent 1               MinMax Alpha Beta Pruning H0 CutOff  \nAlgorithm Agent 2               MinMax Alpha Beta Pruning Hl CutOff  \nMax Depth Agent 1                                                 5  \nNumber CutOff Agent 1                                             5  \nMax Depth Agent 2                                                 5  \nNumber CutOff Agent 2                                             5  \nNumber of l Agent 2                                               3  \nOUTCOME                                                   CHECKMATE  \nWinner                                                        Black  \nTotal Time                                              524009.38ms  \nAVG Time Agent 1                                          2357.57ms  \nAVG Time Agent 2                                         13521.41ms  \nNumber of Moves Agent 1                                          33  \nNumber of Moves Agent 2                                          33  \nStates Evaluated Agent 1                                      18089  \nStates Evaluated Agent 2                                      25693  \nPruning carried out Agent 1                                    4818  \nPruning carried out Agent 2                                    5295  \nStates evaluated H0 Agent 1                                  177996  \nStates evaluated H0 Agent 2                                  319823  \nPruning H0 carried out Agent 1                               142118  \nPruning H0 carried out Agent 2                               274871  \nStates evaluated Hl Agent 2                                  449458  \nPruning Hl carried out Agent 2                                26568  ",
      "text/html": "<div>\n<style scoped>\n    .dataframe tbody tr th:only-of-type {\n        vertical-align: middle;\n    }\n\n    .dataframe tbody tr th {\n        vertical-align: top;\n    }\n\n    .dataframe thead th {\n        text-align: right;\n    }\n</style>\n<table border=\"1\" class=\"dataframe\">\n  <thead>\n    <tr style=\"text-align: right;\">\n      <th></th>\n      <th>0</th>\n      <th>1</th>\n      <th>2</th>\n      <th>3</th>\n      <th>4</th>\n    </tr>\n  </thead>\n  <tbody>\n    <tr>\n      <th>Algorithm Agent 1</th>\n      <td>MinMax Alpha Beta Pruning H0 CutOff</td>\n      <td>MinMax Alpha Beta Pruning H0 CutOff</td>\n      <td>MinMax Alpha Beta Pruning H0 CutOff</td>\n      <td>MinMax Alpha Beta Pruning H0 CutOff</td>\n      <td>MinMax Alpha Beta Pruning H0 CutOff</td>\n    </tr>\n    <tr>\n      <th>Algorithm Agent 2</th>\n      <td>MinMax Alpha Beta Pruning Hl CutOff</td>\n      <td>MinMax Alpha Beta Pruning Hl CutOff</td>\n      <td>MinMax Alpha Beta Pruning Hl CutOff</td>\n      <td>MinMax Alpha Beta Pruning Hl CutOff</td>\n      <td>MinMax Alpha Beta Pruning Hl CutOff</td>\n    </tr>\n    <tr>\n      <th>Max Depth Agent 1</th>\n      <td>3</td>\n      <td>3</td>\n      <td>4</td>\n      <td>4</td>\n      <td>5</td>\n    </tr>\n    <tr>\n      <th>Number CutOff Agent 1</th>\n      <td>5</td>\n      <td>5</td>\n      <td>5</td>\n      <td>5</td>\n      <td>5</td>\n    </tr>\n    <tr>\n      <th>Max Depth Agent 2</th>\n      <td>3</td>\n      <td>4</td>\n      <td>3</td>\n      <td>4</td>\n      <td>5</td>\n    </tr>\n    <tr>\n      <th>Number CutOff Agent 2</th>\n      <td>5</td>\n      <td>5</td>\n      <td>5</td>\n      <td>5</td>\n      <td>5</td>\n    </tr>\n    <tr>\n      <th>Number of l Agent 2</th>\n      <td>3</td>\n      <td>3</td>\n      <td>3</td>\n      <td>3</td>\n      <td>3</td>\n    </tr>\n    <tr>\n      <th>OUTCOME</th>\n      <td>CHECKMATE</td>\n      <td>SEVENTYFIVE_MOVES</td>\n      <td>CHECKMATE</td>\n      <td>CHECKMATE</td>\n      <td>CHECKMATE</td>\n    </tr>\n    <tr>\n      <th>Winner</th>\n      <td>Black</td>\n      <td>NaN</td>\n      <td>Black</td>\n      <td>Black</td>\n      <td>Black</td>\n    </tr>\n    <tr>\n      <th>Total Time</th>\n      <td>95360.93ms</td>\n      <td>714725.30ms</td>\n      <td>259116.41ms</td>\n      <td>409949.13ms</td>\n      <td>524009.38ms</td>\n    </tr>\n    <tr>\n      <th>AVG Time Agent 1</th>\n      <td>222.48ms</td>\n      <td>375.28ms</td>\n      <td>994.12ms</td>\n      <td>925.44ms</td>\n      <td>2357.57ms</td>\n    </tr>\n    <tr>\n      <th>AVG Time Agent 2</th>\n      <td>4796.41ms</td>\n      <td>3160.77ms</td>\n      <td>7364.39ms</td>\n      <td>6022.81ms</td>\n      <td>13521.41ms</td>\n    </tr>\n    <tr>\n      <th>Number of Moves Agent 1</th>\n      <td>19</td>\n      <td>203</td>\n      <td>31</td>\n      <td>59</td>\n      <td>33</td>\n    </tr>\n    <tr>\n      <th>Number of Moves Agent 2</th>\n      <td>19</td>\n      <td>202</td>\n      <td>31</td>\n      <td>59</td>\n      <td>33</td>\n    </tr>\n    <tr>\n      <th>States Evaluated Agent 1</th>\n      <td>1483</td>\n      <td>13777</td>\n      <td>6764</td>\n      <td>14222</td>\n      <td>18089</td>\n    </tr>\n    <tr>\n      <th>States Evaluated Agent 2</th>\n      <td>1474</td>\n      <td>49175</td>\n      <td>2283</td>\n      <td>15643</td>\n      <td>25693</td>\n    </tr>\n    <tr>\n      <th>Pruning carried out Agent 1</th>\n      <td>256</td>\n      <td>1831</td>\n      <td>1225</td>\n      <td>1919</td>\n      <td>4818</td>\n    </tr>\n    <tr>\n      <th>Pruning carried out Agent 2</th>\n      <td>330</td>\n      <td>5770</td>\n      <td>459</td>\n      <td>2284</td>\n      <td>5295</td>\n    </tr>\n    <tr>\n      <th>States evaluated H0 Agent 1</th>\n      <td>10424</td>\n      <td>91865</td>\n      <td>72736</td>\n      <td>113068</td>\n      <td>177996</td>\n    </tr>\n    <tr>\n      <th>States evaluated H0 Agent 2</th>\n      <td>17410</td>\n      <td>285342</td>\n      <td>27865</td>\n      <td>100606</td>\n      <td>319823</td>\n    </tr>\n    <tr>\n      <th>Pruning H0 carried out Agent 1</th>\n      <td>7954</td>\n      <td>70522</td>\n      <td>61426</td>\n      <td>92101</td>\n      <td>142118</td>\n    </tr>\n    <tr>\n      <th>Pruning H0 carried out Agent 2</th>\n      <td>14763</td>\n      <td>217797</td>\n      <td>23960</td>\n      <td>77286</td>\n      <td>274871</td>\n    </tr>\n    <tr>\n      <th>States evaluated Hl Agent 2</th>\n      <td>124640</td>\n      <td>385798</td>\n      <td>266399</td>\n      <td>370148</td>\n      <td>449458</td>\n    </tr>\n    <tr>\n      <th>Pruning Hl carried out Agent 2</th>\n      <td>11261</td>\n      <td>47333</td>\n      <td>18462</td>\n      <td>29127</td>\n      <td>26568</td>\n    </tr>\n  </tbody>\n</table>\n</div>"
     },
     "execution_count": 9,
     "metadata": {},
     "output_type": "execute_result"
    }
   ],
   "source": [
    "df_minmax_h0_cut_vs_hl.drop(columns=['Title', 'Heuristic Agent 1', 'Heuristic Agent 2']).head(5).transpose()"
   ]
  },
  {
   "cell_type": "code",
   "execution_count": 10,
   "id": "62c668ad8eba21a1",
   "metadata": {
    "collapsed": false,
    "ExecuteTime": {
     "end_time": "2023-11-19T18:06:12.974993100Z",
     "start_time": "2023-11-19T18:06:12.807369200Z"
    }
   },
   "outputs": [
    {
     "data": {
      "text/plain": "                                                                  5  \\\nAlgorithm Agent 1               MinMax Alpha Beta Pruning H0 CutOff   \nAlgorithm Agent 2               MinMax Alpha Beta Pruning Hl CutOff   \nMax Depth Agent 1                                                 6   \nNumber CutOff Agent 1                                             5   \nMax Depth Agent 2                                                 5   \nNumber CutOff Agent 2                                             5   \nNumber of l Agent 2                                               3   \nOUTCOME                                                   CHECKMATE   \nWinner                                                        Black   \nTotal Time                                              464246.86ms   \nAVG Time Agent 1                                          9959.99ms   \nAVG Time Agent 2                                         12146.91ms   \nNumber of Moves Agent 1                                          21   \nNumber of Moves Agent 2                                          21   \nStates Evaluated Agent 1                                      48762   \nStates Evaluated Agent 2                                      22091   \nPruning carried out Agent 1                                    9635   \nPruning carried out Agent 2                                    4256   \nStates evaluated H0 Agent 1                                  529913   \nStates evaluated H0 Agent 2                                  263997   \nPruning H0 carried out Agent 1                               447319   \nPruning H0 carried out Agent 2                               226407   \nStates evaluated Hl Agent 2                                  280669   \nPruning Hl carried out Agent 2                                16143   \n\n                                                                  6  \\\nAlgorithm Agent 1               MinMax Alpha Beta Pruning H0 CutOff   \nAlgorithm Agent 2               MinMax Alpha Beta Pruning Hl CutOff   \nMax Depth Agent 1                                                 5   \nNumber CutOff Agent 1                                             5   \nMax Depth Agent 2                                                 6   \nNumber CutOff Agent 2                                             5   \nNumber of l Agent 2                                               3   \nOUTCOME                                                   CHECKMATE   \nWinner                                                        Black   \nTotal Time                                              414618.98ms   \nAVG Time Agent 1                                          2145.72ms   \nAVG Time Agent 2                                         13801.06ms   \nNumber of Moves Agent 1                                          26   \nNumber of Moves Agent 2                                          26   \nStates Evaluated Agent 1                                      14371   \nStates Evaluated Agent 2                                      49934   \nPruning carried out Agent 1                                    3541   \nPruning carried out Agent 2                                   10706   \nStates evaluated H0 Agent 1                                  132797   \nStates evaluated H0 Agent 2                                  441109   \nPruning H0 carried out Agent 1                               105122   \nPruning H0 carried out Agent 2                               352812   \nStates evaluated Hl Agent 2                                  216425   \nPruning Hl carried out Agent 2                                16284   \n\n                                                                  7  \\\nAlgorithm Agent 1               MinMax Alpha Beta Pruning H0 CutOff   \nAlgorithm Agent 2               MinMax Alpha Beta Pruning Hl CutOff   \nMax Depth Agent 1                                                 6   \nNumber CutOff Agent 1                                             5   \nMax Depth Agent 2                                                 6   \nNumber CutOff Agent 2                                             5   \nNumber of l Agent 2                                               3   \nOUTCOME                                                   CHECKMATE   \nWinner                                                        Black   \nTotal Time                                             1045058.47ms   \nAVG Time Agent 1                                          2264.87ms   \nAVG Time Agent 2                                          4434.07ms   \nNumber of Moves Agent 1                                         156   \nNumber of Moves Agent 2                                         156   \nStates Evaluated Agent 1                                     107871   \nStates Evaluated Agent 2                                     141840   \nPruning carried out Agent 1                                   21445   \nPruning carried out Agent 2                                   29922   \nStates evaluated H0 Agent 1                                  949247   \nStates evaluated H0 Agent 2                                  967881   \nPruning H0 carried out Agent 1                               764094   \nPruning H0 carried out Agent 2                               723184   \nStates evaluated Hl Agent 2                                  474921   \nPruning Hl carried out Agent 2                                31827   \n\n                                                                  8  \\\nAlgorithm Agent 1               MinMax Alpha Beta Pruning H0 CutOff   \nAlgorithm Agent 2               MinMax Alpha Beta Pruning Hl CutOff   \nMax Depth Agent 1                                                 7   \nNumber CutOff Agent 1                                             5   \nMax Depth Agent 2                                                 7   \nNumber CutOff Agent 2                                             5   \nNumber of l Agent 2                                               2   \nOUTCOME                                                   CHECKMATE   \nWinner                                                        Black   \nTotal Time                                             1068613.62ms   \nAVG Time Agent 1                                         16908.09ms   \nAVG Time Agent 2                                         15474.11ms   \nNumber of Moves Agent 1                                          33   \nNumber of Moves Agent 2                                          33   \nStates Evaluated Agent 1                                     203735   \nStates Evaluated Agent 2                                     175735   \nPruning carried out Agent 1                                   55771   \nPruning carried out Agent 2                                   44464   \nStates evaluated H0 Agent 1                                 1902516   \nStates evaluated H0 Agent 2                                 1872862   \nPruning H0 carried out Agent 1                              1499492   \nPruning H0 carried out Agent 2                              1530924   \nStates evaluated Hl Agent 2                                   19976   \nPruning Hl carried out Agent 2                                  798   \n\n                                                                  9  \nAlgorithm Agent 1               MinMax Alpha Beta Pruning H0 CutOff  \nAlgorithm Agent 2               MinMax Alpha Beta Pruning Hl CutOff  \nMax Depth Agent 1                                                 8  \nNumber CutOff Agent 1                                             3  \nMax Depth Agent 2                                                 8  \nNumber CutOff Agent 2                                             3  \nNumber of l Agent 2                                               2  \nOUTCOME                                         FIVEFOLD_REPETITION  \nWinner                                                          NaN  \nTotal Time                                              713133.09ms  \nAVG Time Agent 1                                          7275.24ms  \nAVG Time Agent 2                                          8932.24ms  \nNumber of Moves Agent 1                                          44  \nNumber of Moves Agent 2                                          44  \nStates Evaluated Agent 1                                      55755  \nStates Evaluated Agent 2                                      72428  \nPruning carried out Agent 1                                   13810  \nPruning carried out Agent 2                                   18245  \nStates evaluated H0 Agent 1                                  697904  \nStates evaluated H0 Agent 2                                  824035  \nPruning H0 carried out Agent 1                               617838  \nPruning H0 carried out Agent 2                               721660  \nStates evaluated Hl Agent 2                                   25595  \nPruning Hl carried out Agent 2                                  892  ",
      "text/html": "<div>\n<style scoped>\n    .dataframe tbody tr th:only-of-type {\n        vertical-align: middle;\n    }\n\n    .dataframe tbody tr th {\n        vertical-align: top;\n    }\n\n    .dataframe thead th {\n        text-align: right;\n    }\n</style>\n<table border=\"1\" class=\"dataframe\">\n  <thead>\n    <tr style=\"text-align: right;\">\n      <th></th>\n      <th>5</th>\n      <th>6</th>\n      <th>7</th>\n      <th>8</th>\n      <th>9</th>\n    </tr>\n  </thead>\n  <tbody>\n    <tr>\n      <th>Algorithm Agent 1</th>\n      <td>MinMax Alpha Beta Pruning H0 CutOff</td>\n      <td>MinMax Alpha Beta Pruning H0 CutOff</td>\n      <td>MinMax Alpha Beta Pruning H0 CutOff</td>\n      <td>MinMax Alpha Beta Pruning H0 CutOff</td>\n      <td>MinMax Alpha Beta Pruning H0 CutOff</td>\n    </tr>\n    <tr>\n      <th>Algorithm Agent 2</th>\n      <td>MinMax Alpha Beta Pruning Hl CutOff</td>\n      <td>MinMax Alpha Beta Pruning Hl CutOff</td>\n      <td>MinMax Alpha Beta Pruning Hl CutOff</td>\n      <td>MinMax Alpha Beta Pruning Hl CutOff</td>\n      <td>MinMax Alpha Beta Pruning Hl CutOff</td>\n    </tr>\n    <tr>\n      <th>Max Depth Agent 1</th>\n      <td>6</td>\n      <td>5</td>\n      <td>6</td>\n      <td>7</td>\n      <td>8</td>\n    </tr>\n    <tr>\n      <th>Number CutOff Agent 1</th>\n      <td>5</td>\n      <td>5</td>\n      <td>5</td>\n      <td>5</td>\n      <td>3</td>\n    </tr>\n    <tr>\n      <th>Max Depth Agent 2</th>\n      <td>5</td>\n      <td>6</td>\n      <td>6</td>\n      <td>7</td>\n      <td>8</td>\n    </tr>\n    <tr>\n      <th>Number CutOff Agent 2</th>\n      <td>5</td>\n      <td>5</td>\n      <td>5</td>\n      <td>5</td>\n      <td>3</td>\n    </tr>\n    <tr>\n      <th>Number of l Agent 2</th>\n      <td>3</td>\n      <td>3</td>\n      <td>3</td>\n      <td>2</td>\n      <td>2</td>\n    </tr>\n    <tr>\n      <th>OUTCOME</th>\n      <td>CHECKMATE</td>\n      <td>CHECKMATE</td>\n      <td>CHECKMATE</td>\n      <td>CHECKMATE</td>\n      <td>FIVEFOLD_REPETITION</td>\n    </tr>\n    <tr>\n      <th>Winner</th>\n      <td>Black</td>\n      <td>Black</td>\n      <td>Black</td>\n      <td>Black</td>\n      <td>NaN</td>\n    </tr>\n    <tr>\n      <th>Total Time</th>\n      <td>464246.86ms</td>\n      <td>414618.98ms</td>\n      <td>1045058.47ms</td>\n      <td>1068613.62ms</td>\n      <td>713133.09ms</td>\n    </tr>\n    <tr>\n      <th>AVG Time Agent 1</th>\n      <td>9959.99ms</td>\n      <td>2145.72ms</td>\n      <td>2264.87ms</td>\n      <td>16908.09ms</td>\n      <td>7275.24ms</td>\n    </tr>\n    <tr>\n      <th>AVG Time Agent 2</th>\n      <td>12146.91ms</td>\n      <td>13801.06ms</td>\n      <td>4434.07ms</td>\n      <td>15474.11ms</td>\n      <td>8932.24ms</td>\n    </tr>\n    <tr>\n      <th>Number of Moves Agent 1</th>\n      <td>21</td>\n      <td>26</td>\n      <td>156</td>\n      <td>33</td>\n      <td>44</td>\n    </tr>\n    <tr>\n      <th>Number of Moves Agent 2</th>\n      <td>21</td>\n      <td>26</td>\n      <td>156</td>\n      <td>33</td>\n      <td>44</td>\n    </tr>\n    <tr>\n      <th>States Evaluated Agent 1</th>\n      <td>48762</td>\n      <td>14371</td>\n      <td>107871</td>\n      <td>203735</td>\n      <td>55755</td>\n    </tr>\n    <tr>\n      <th>States Evaluated Agent 2</th>\n      <td>22091</td>\n      <td>49934</td>\n      <td>141840</td>\n      <td>175735</td>\n      <td>72428</td>\n    </tr>\n    <tr>\n      <th>Pruning carried out Agent 1</th>\n      <td>9635</td>\n      <td>3541</td>\n      <td>21445</td>\n      <td>55771</td>\n      <td>13810</td>\n    </tr>\n    <tr>\n      <th>Pruning carried out Agent 2</th>\n      <td>4256</td>\n      <td>10706</td>\n      <td>29922</td>\n      <td>44464</td>\n      <td>18245</td>\n    </tr>\n    <tr>\n      <th>States evaluated H0 Agent 1</th>\n      <td>529913</td>\n      <td>132797</td>\n      <td>949247</td>\n      <td>1902516</td>\n      <td>697904</td>\n    </tr>\n    <tr>\n      <th>States evaluated H0 Agent 2</th>\n      <td>263997</td>\n      <td>441109</td>\n      <td>967881</td>\n      <td>1872862</td>\n      <td>824035</td>\n    </tr>\n    <tr>\n      <th>Pruning H0 carried out Agent 1</th>\n      <td>447319</td>\n      <td>105122</td>\n      <td>764094</td>\n      <td>1499492</td>\n      <td>617838</td>\n    </tr>\n    <tr>\n      <th>Pruning H0 carried out Agent 2</th>\n      <td>226407</td>\n      <td>352812</td>\n      <td>723184</td>\n      <td>1530924</td>\n      <td>721660</td>\n    </tr>\n    <tr>\n      <th>States evaluated Hl Agent 2</th>\n      <td>280669</td>\n      <td>216425</td>\n      <td>474921</td>\n      <td>19976</td>\n      <td>25595</td>\n    </tr>\n    <tr>\n      <th>Pruning Hl carried out Agent 2</th>\n      <td>16143</td>\n      <td>16284</td>\n      <td>31827</td>\n      <td>798</td>\n      <td>892</td>\n    </tr>\n  </tbody>\n</table>\n</div>"
     },
     "execution_count": 10,
     "metadata": {},
     "output_type": "execute_result"
    }
   ],
   "source": [
    "df_minmax_h0_cut_vs_hl.drop(columns=['Title', 'Heuristic Agent 1', 'Heuristic Agent 2']).iloc[5:10].transpose()"
   ]
  },
  {
   "cell_type": "code",
   "execution_count": 11,
   "id": "967f7406d68fcae",
   "metadata": {
    "collapsed": false,
    "ExecuteTime": {
     "end_time": "2023-11-19T18:06:12.976992800Z",
     "start_time": "2023-11-19T18:06:12.823596300Z"
    }
   },
   "outputs": [
    {
     "data": {
      "text/plain": "                                                                 10  \\\nAlgorithm Agent 1               MinMax Alpha Beta Pruning H0 CutOff   \nAlgorithm Agent 2               MinMax Alpha Beta Pruning Hl CutOff   \nMax Depth Agent 1                                                 9   \nNumber CutOff Agent 1                                             3   \nMax Depth Agent 2                                                 8   \nNumber CutOff Agent 2                                             3   \nNumber of l Agent 2                                               2   \nOUTCOME                                           SEVENTYFIVE_MOVES   \nWinner                                                          NaN   \nTotal Time                                             2302339.93ms   \nAVG Time Agent 1                                          4223.36ms   \nAVG Time Agent 2                                          3237.96ms   \nNumber of Moves Agent 1                                         309   \nNumber of Moves Agent 2                                         308   \nStates Evaluated Agent 1                                     400600   \nStates Evaluated Agent 2                                     336338   \nPruning carried out Agent 1                                  117928   \nPruning carried out Agent 2                                   84576   \nStates evaluated H0 Agent 1                                 2666890   \nStates evaluated H0 Agent 2                                 2011525   \nPruning H0 carried out Agent 1                              2069775   \nPruning H0 carried out Agent 2                              1541780   \nStates evaluated Hl Agent 2                                   51434   \nPruning Hl carried out Agent 2                                 3589   \n\n                                                                 11  \\\nAlgorithm Agent 1               MinMax Alpha Beta Pruning H0 CutOff   \nAlgorithm Agent 2               MinMax Alpha Beta Pruning Hl CutOff   \nMax Depth Agent 1                                                 8   \nNumber CutOff Agent 1                                             3   \nMax Depth Agent 2                                                 9   \nNumber CutOff Agent 2                                             3   \nNumber of l Agent 2                                               2   \nOUTCOME                                                   CHECKMATE   \nWinner                                                        Black   \nTotal Time                                              231860.61ms   \nAVG Time Agent 1                                          4396.69ms   \nAVG Time Agent 2                                         13438.58ms   \nNumber of Moves Agent 1                                          13   \nNumber of Moves Agent 2                                          13   \nStates Evaluated Agent 1                                      10811   \nStates Evaluated Agent 2                                      33118   \nPruning carried out Agent 1                                    2641   \nPruning carried out Agent 2                                    8351   \nStates evaluated H0 Agent 1                                  139247   \nStates evaluated H0 Agent 2                                  443234   \nPruning H0 carried out Agent 1                               123830   \nPruning H0 carried out Agent 2                               395955   \nStates evaluated Hl Agent 2                                    6917   \nPruning Hl carried out Agent 2                                  330   \n\n                                                                 12  \\\nAlgorithm Agent 1               MinMax Alpha Beta Pruning H0 CutOff   \nAlgorithm Agent 2               MinMax Alpha Beta Pruning Hl CutOff   \nMax Depth Agent 1                                                 9   \nNumber CutOff Agent 1                                             3   \nMax Depth Agent 2                                                 9   \nNumber CutOff Agent 2                                             3   \nNumber of l Agent 2                                               2   \nOUTCOME                                                   CHECKMATE   \nWinner                                                        Black   \nTotal Time                                              698797.37ms   \nAVG Time Agent 1                                          7961.92ms   \nAVG Time Agent 2                                         13875.40ms   \nNumber of Moves Agent 1                                          32   \nNumber of Moves Agent 2                                          32   \nStates Evaluated Agent 1                                      52025   \nStates Evaluated Agent 2                                      77072   \nPruning carried out Agent 1                                   16260   \nPruning carried out Agent 2                                   20168   \nStates evaluated H0 Agent 1                                  661108   \nStates evaluated H0 Agent 2                                 1154224   \nPruning H0 carried out Agent 1                               580171   \nPruning H0 carried out Agent 2                              1041957   \nStates evaluated Hl Agent 2                                   19697   \nPruning Hl carried out Agent 2                                  960   \n\n                                                                 13  \\\nAlgorithm Agent 1               MinMax Alpha Beta Pruning H0 CutOff   \nAlgorithm Agent 2               MinMax Alpha Beta Pruning Hl CutOff   \nMax Depth Agent 1                                                 9   \nNumber CutOff Agent 1                                             3   \nMax Depth Agent 2                                                10   \nNumber CutOff Agent 2                                             3   \nNumber of l Agent 2                                               2   \nOUTCOME                                                   CHECKMATE   \nWinner                                                        Black   \nTotal Time                                             1006601.33ms   \nAVG Time Agent 1                                          7431.49ms   \nAVG Time Agent 2                                         20529.54ms   \nNumber of Moves Agent 1                                          36   \nNumber of Moves Agent 2                                          36   \nStates Evaluated Agent 1                                      67210   \nStates Evaluated Agent 2                                     185626   \nPruning carried out Agent 1                                   20677   \nPruning carried out Agent 2                                   54816   \nStates evaluated H0 Agent 1                                  859254   \nStates evaluated H0 Agent 2                                 2340115   \nPruning H0 carried out Agent 1                               755804   \nPruning H0 carried out Agent 2                              2059889   \nStates evaluated Hl Agent 2                                   23455   \nPruning Hl carried out Agent 2                                  972   \n\n                                                                 14  \\\nAlgorithm Agent 1               MinMax Alpha Beta Pruning H0 CutOff   \nAlgorithm Agent 2               MinMax Alpha Beta Pruning Hl CutOff   \nMax Depth Agent 1                                                10   \nNumber CutOff Agent 1                                             3   \nMax Depth Agent 2                                                 9   \nNumber CutOff Agent 2                                             3   \nNumber of l Agent 2                                               2   \nOUTCOME                                                   CHECKMATE   \nWinner                                                        Black   \nTotal Time                                              845928.87ms   \nAVG Time Agent 1                                         17057.14ms   \nAVG Time Agent 2                                         12112.75ms   \nNumber of Moves Agent 1                                          29   \nNumber of Moves Agent 2                                          29   \nStates Evaluated Agent 1                                     104275   \nStates Evaluated Agent 2                                      74680   \nPruning carried out Agent 1                                   26795   \nPruning carried out Agent 2                                   19573   \nStates evaluated H0 Agent 1                                 1408235   \nStates evaluated H0 Agent 2                                 1028538   \nPruning H0 carried out Agent 1                              1256295   \nPruning H0 carried out Agent 2                               918918   \nStates evaluated Hl Agent 2                                   16229   \nPruning Hl carried out Agent 2                                  623   \n\n                                                                 15  \nAlgorithm Agent 1               MinMax Alpha Beta Pruning H0 CutOff  \nAlgorithm Agent 2               MinMax Alpha Beta Pruning Hl CutOff  \nMax Depth Agent 1                                                10  \nNumber CutOff Agent 1                                             3  \nMax Depth Agent 2                                                10  \nNumber CutOff Agent 2                                             3  \nNumber of l Agent 2                                               2  \nOUTCOME                                         FIVEFOLD_REPETITION  \nWinner                                                          NaN  \nTotal Time                                             2603557.81ms  \nAVG Time Agent 1                                          6226.41ms  \nAVG Time Agent 2                                          6631.56ms  \nNumber of Moves Agent 1                                         203  \nNumber of Moves Agent 2                                         202  \nStates Evaluated Agent 1                                     519031  \nStates Evaluated Agent 2                                     591049  \nPruning carried out Agent 1                                  143424  \nPruning carried out Agent 2                                  166332  \nStates evaluated H0 Agent 1                                 4042817  \nStates evaluated H0 Agent 2                                 4375924  \nPruning H0 carried out Agent 1                              3265353  \nPruning H0 carried out Agent 2                              3495986  \nStates evaluated Hl Agent 2                                   32451  \nPruning Hl carried out Agent 2                                 1248  ",
      "text/html": "<div>\n<style scoped>\n    .dataframe tbody tr th:only-of-type {\n        vertical-align: middle;\n    }\n\n    .dataframe tbody tr th {\n        vertical-align: top;\n    }\n\n    .dataframe thead th {\n        text-align: right;\n    }\n</style>\n<table border=\"1\" class=\"dataframe\">\n  <thead>\n    <tr style=\"text-align: right;\">\n      <th></th>\n      <th>10</th>\n      <th>11</th>\n      <th>12</th>\n      <th>13</th>\n      <th>14</th>\n      <th>15</th>\n    </tr>\n  </thead>\n  <tbody>\n    <tr>\n      <th>Algorithm Agent 1</th>\n      <td>MinMax Alpha Beta Pruning H0 CutOff</td>\n      <td>MinMax Alpha Beta Pruning H0 CutOff</td>\n      <td>MinMax Alpha Beta Pruning H0 CutOff</td>\n      <td>MinMax Alpha Beta Pruning H0 CutOff</td>\n      <td>MinMax Alpha Beta Pruning H0 CutOff</td>\n      <td>MinMax Alpha Beta Pruning H0 CutOff</td>\n    </tr>\n    <tr>\n      <th>Algorithm Agent 2</th>\n      <td>MinMax Alpha Beta Pruning Hl CutOff</td>\n      <td>MinMax Alpha Beta Pruning Hl CutOff</td>\n      <td>MinMax Alpha Beta Pruning Hl CutOff</td>\n      <td>MinMax Alpha Beta Pruning Hl CutOff</td>\n      <td>MinMax Alpha Beta Pruning Hl CutOff</td>\n      <td>MinMax Alpha Beta Pruning Hl CutOff</td>\n    </tr>\n    <tr>\n      <th>Max Depth Agent 1</th>\n      <td>9</td>\n      <td>8</td>\n      <td>9</td>\n      <td>9</td>\n      <td>10</td>\n      <td>10</td>\n    </tr>\n    <tr>\n      <th>Number CutOff Agent 1</th>\n      <td>3</td>\n      <td>3</td>\n      <td>3</td>\n      <td>3</td>\n      <td>3</td>\n      <td>3</td>\n    </tr>\n    <tr>\n      <th>Max Depth Agent 2</th>\n      <td>8</td>\n      <td>9</td>\n      <td>9</td>\n      <td>10</td>\n      <td>9</td>\n      <td>10</td>\n    </tr>\n    <tr>\n      <th>Number CutOff Agent 2</th>\n      <td>3</td>\n      <td>3</td>\n      <td>3</td>\n      <td>3</td>\n      <td>3</td>\n      <td>3</td>\n    </tr>\n    <tr>\n      <th>Number of l Agent 2</th>\n      <td>2</td>\n      <td>2</td>\n      <td>2</td>\n      <td>2</td>\n      <td>2</td>\n      <td>2</td>\n    </tr>\n    <tr>\n      <th>OUTCOME</th>\n      <td>SEVENTYFIVE_MOVES</td>\n      <td>CHECKMATE</td>\n      <td>CHECKMATE</td>\n      <td>CHECKMATE</td>\n      <td>CHECKMATE</td>\n      <td>FIVEFOLD_REPETITION</td>\n    </tr>\n    <tr>\n      <th>Winner</th>\n      <td>NaN</td>\n      <td>Black</td>\n      <td>Black</td>\n      <td>Black</td>\n      <td>Black</td>\n      <td>NaN</td>\n    </tr>\n    <tr>\n      <th>Total Time</th>\n      <td>2302339.93ms</td>\n      <td>231860.61ms</td>\n      <td>698797.37ms</td>\n      <td>1006601.33ms</td>\n      <td>845928.87ms</td>\n      <td>2603557.81ms</td>\n    </tr>\n    <tr>\n      <th>AVG Time Agent 1</th>\n      <td>4223.36ms</td>\n      <td>4396.69ms</td>\n      <td>7961.92ms</td>\n      <td>7431.49ms</td>\n      <td>17057.14ms</td>\n      <td>6226.41ms</td>\n    </tr>\n    <tr>\n      <th>AVG Time Agent 2</th>\n      <td>3237.96ms</td>\n      <td>13438.58ms</td>\n      <td>13875.40ms</td>\n      <td>20529.54ms</td>\n      <td>12112.75ms</td>\n      <td>6631.56ms</td>\n    </tr>\n    <tr>\n      <th>Number of Moves Agent 1</th>\n      <td>309</td>\n      <td>13</td>\n      <td>32</td>\n      <td>36</td>\n      <td>29</td>\n      <td>203</td>\n    </tr>\n    <tr>\n      <th>Number of Moves Agent 2</th>\n      <td>308</td>\n      <td>13</td>\n      <td>32</td>\n      <td>36</td>\n      <td>29</td>\n      <td>202</td>\n    </tr>\n    <tr>\n      <th>States Evaluated Agent 1</th>\n      <td>400600</td>\n      <td>10811</td>\n      <td>52025</td>\n      <td>67210</td>\n      <td>104275</td>\n      <td>519031</td>\n    </tr>\n    <tr>\n      <th>States Evaluated Agent 2</th>\n      <td>336338</td>\n      <td>33118</td>\n      <td>77072</td>\n      <td>185626</td>\n      <td>74680</td>\n      <td>591049</td>\n    </tr>\n    <tr>\n      <th>Pruning carried out Agent 1</th>\n      <td>117928</td>\n      <td>2641</td>\n      <td>16260</td>\n      <td>20677</td>\n      <td>26795</td>\n      <td>143424</td>\n    </tr>\n    <tr>\n      <th>Pruning carried out Agent 2</th>\n      <td>84576</td>\n      <td>8351</td>\n      <td>20168</td>\n      <td>54816</td>\n      <td>19573</td>\n      <td>166332</td>\n    </tr>\n    <tr>\n      <th>States evaluated H0 Agent 1</th>\n      <td>2666890</td>\n      <td>139247</td>\n      <td>661108</td>\n      <td>859254</td>\n      <td>1408235</td>\n      <td>4042817</td>\n    </tr>\n    <tr>\n      <th>States evaluated H0 Agent 2</th>\n      <td>2011525</td>\n      <td>443234</td>\n      <td>1154224</td>\n      <td>2340115</td>\n      <td>1028538</td>\n      <td>4375924</td>\n    </tr>\n    <tr>\n      <th>Pruning H0 carried out Agent 1</th>\n      <td>2069775</td>\n      <td>123830</td>\n      <td>580171</td>\n      <td>755804</td>\n      <td>1256295</td>\n      <td>3265353</td>\n    </tr>\n    <tr>\n      <th>Pruning H0 carried out Agent 2</th>\n      <td>1541780</td>\n      <td>395955</td>\n      <td>1041957</td>\n      <td>2059889</td>\n      <td>918918</td>\n      <td>3495986</td>\n    </tr>\n    <tr>\n      <th>States evaluated Hl Agent 2</th>\n      <td>51434</td>\n      <td>6917</td>\n      <td>19697</td>\n      <td>23455</td>\n      <td>16229</td>\n      <td>32451</td>\n    </tr>\n    <tr>\n      <th>Pruning Hl carried out Agent 2</th>\n      <td>3589</td>\n      <td>330</td>\n      <td>960</td>\n      <td>972</td>\n      <td>623</td>\n      <td>1248</td>\n    </tr>\n  </tbody>\n</table>\n</div>"
     },
     "execution_count": 11,
     "metadata": {},
     "output_type": "execute_result"
    }
   ],
   "source": [
    "df_minmax_h0_cut_vs_hl.drop(columns=['Title', 'Heuristic Agent 1', 'Heuristic Agent 2']).iloc[10:].transpose()"
   ]
  },
  {
   "cell_type": "markdown",
   "id": "9b16a675cb24d517",
   "metadata": {
    "collapsed": false
   },
   "source": [
    "Come possiamo notare l'Agente che usa Hl vince più spesso dell'agente che usa H0 a discapito però del tempo di esecuzione per mossa che per l'Agente H0 è migliore."
   ]
  },
  {
   "cell_type": "markdown",
   "id": "c7cfba5703fa37e7",
   "metadata": {
    "collapsed": false
   },
   "source": [
    "## MinMax Alpha-Beta Pruning H0 CutOff Vs MinMax Alpha-Beta Pruning Hr CutOff (MPLRegressor)\n",
    "\n",
    "Sono riportati i test effettuati con l'algoritmo MinMax Alpha-Beta Pruning con taglio e valutazione Hl contro l'algoritmo MinMax Alpha-Beta Pruning con taglio Hr."
   ]
  },
  {
   "cell_type": "code",
   "execution_count": 12,
   "id": "cfefe65e70d90ceb",
   "metadata": {
    "collapsed": false,
    "ExecuteTime": {
     "end_time": "2023-11-19T18:06:12.976992800Z",
     "start_time": "2023-11-19T18:06:12.840934200Z"
    }
   },
   "outputs": [
    {
     "data": {
      "text/plain": "                                                                  0  \\\nAlgorithm Agent 1               MinMax Alpha Beta Pruning H0 CutOff   \nAlgorithm Agent 2               MinMax Alpha Beta Pruning Hr CutOff   \nMax Depth Agent 1                                                 3   \nNumber CutOff Agent 1                                             5   \nMax Depth Agent 2                                                 3   \nNumber CutOff Agent 2                                             5   \nOUTCOME                                                   CHECKMATE   \nWinner                                                        White   \nTotal Time                                               48805.98ms   \nAVG Time Agent 1                                           122.16ms   \nAVG Time Agent 2                                           936.08ms   \nNumber of Moves Agent 1                                          47   \nNumber of Moves Agent 2                                          46   \nStates Evaluated Agent 1                                       4236   \nStates Evaluated Agent 2                                       4472   \nPruning carried out Agent 1                                     606   \nPruning carried out Agent 2                                     538   \nStates evaluated H0 Agent 1                                   29960   \nStates evaluated Hr Agent 2                                   40761   \nPruning H0 carried out Agent 1                                23505   \nPruning Hr carried out Agent 2                                34374   \n\n                                                                  1  \\\nAlgorithm Agent 1               MinMax Alpha Beta Pruning H0 CutOff   \nAlgorithm Agent 2               MinMax Alpha Beta Pruning Hr CutOff   \nMax Depth Agent 1                                                 3   \nNumber CutOff Agent 1                                             5   \nMax Depth Agent 2                                                 4   \nNumber CutOff Agent 2                                             5   \nOUTCOME                                         FIVEFOLD_REPETITION   \nWinner                                                          NaN   \nTotal Time                                               38457.12ms   \nAVG Time Agent 1                                            70.35ms   \nAVG Time Agent 2                                          2676.51ms   \nNumber of Moves Agent 1                                          14   \nNumber of Moves Agent 2                                          14   \nStates Evaluated Agent 1                                        967   \nStates Evaluated Agent 2                                       6314   \nPruning carried out Agent 1                                     229   \nPruning carried out Agent 2                                     500   \nStates evaluated H0 Agent 1                                    7195   \nStates evaluated Hr Agent 2                                   35108   \nPruning H0 carried out Agent 1                                 5315   \nPruning Hr carried out Agent 2                                27465   \n\n                                                                  2  \\\nAlgorithm Agent 1               MinMax Alpha Beta Pruning H0 CutOff   \nAlgorithm Agent 2               MinMax Alpha Beta Pruning Hr CutOff   \nMax Depth Agent 1                                                 4   \nNumber CutOff Agent 1                                             5   \nMax Depth Agent 2                                                 3   \nNumber CutOff Agent 2                                             5   \nOUTCOME                                         FIVEFOLD_REPETITION   \nWinner                                                          NaN   \nTotal Time                                              246826.98ms   \nAVG Time Agent 1                                           641.54ms   \nAVG Time Agent 2                                           640.63ms   \nNumber of Moves Agent 1                                         193   \nNumber of Moves Agent 2                                         192   \nStates Evaluated Agent 1                                      52457   \nStates Evaluated Agent 2                                      19540   \nPruning carried out Agent 1                                    7088   \nPruning carried out Agent 2                                    2206   \nStates evaluated H0 Agent 1                                  365303   \nStates evaluated Hr Agent 2                                  122470   \nPruning H0 carried out Agent 1                               288268   \nPruning Hr carried out Agent 2                                96011   \n\n                                                                  3  \\\nAlgorithm Agent 1               MinMax Alpha Beta Pruning H0 CutOff   \nAlgorithm Agent 2               MinMax Alpha Beta Pruning Hr CutOff   \nMax Depth Agent 1                                                 4   \nNumber CutOff Agent 1                                             5   \nMax Depth Agent 2                                                 4   \nNumber CutOff Agent 2                                             5   \nOUTCOME                                                   CHECKMATE   \nWinner                                                        Black   \nTotal Time                                               54689.18ms   \nAVG Time Agent 1                                           305.16ms   \nAVG Time Agent 2                                          2573.22ms   \nNumber of Moves Agent 1                                          19   \nNumber of Moves Agent 2                                          19   \nStates Evaluated Agent 1                                       4840   \nStates Evaluated Agent 2                                       7313   \nPruning carried out Agent 1                                     828   \nPruning carried out Agent 2                                     841   \nStates evaluated H0 Agent 1                                   43328   \nStates evaluated Hr Agent 2                                   49655   \nPruning H0 carried out Agent 1                                35397   \nPruning Hr carried out Agent 2                                39736   \n\n                                                                  4  \\\nAlgorithm Agent 1               MinMax Alpha Beta Pruning H0 CutOff   \nAlgorithm Agent 2               MinMax Alpha Beta Pruning Hr CutOff   \nMax Depth Agent 1                                                 5   \nNumber CutOff Agent 1                                             3   \nMax Depth Agent 2                                                 5   \nNumber CutOff Agent 2                                             3   \nOUTCOME                                         FIVEFOLD_REPETITION   \nWinner                                                          NaN   \nTotal Time                                              214169.30ms   \nAVG Time Agent 1                                           206.28ms   \nAVG Time Agent 2                                          1140.61ms   \nNumber of Moves Agent 1                                         159   \nNumber of Moves Agent 2                                         159   \nStates Evaluated Agent 1                                      18630   \nStates Evaluated Agent 2                                      24720   \nPruning carried out Agent 1                                    4146   \nPruning carried out Agent 2                                    4257   \nStates evaluated H0 Agent 1                                  139224   \nStates evaluated Hr Agent 2                                  192809   \nPruning H0 carried out Agent 1                               113532   \nPruning Hr carried out Agent 2                               161345   \n\n                                                                  5  \nAlgorithm Agent 1               MinMax Alpha Beta Pruning H0 CutOff  \nAlgorithm Agent 2               MinMax Alpha Beta Pruning Hr CutOff  \nMax Depth Agent 1                                                 6  \nNumber CutOff Agent 1                                             3  \nMax Depth Agent 2                                                 6  \nNumber CutOff Agent 2                                             3  \nOUTCOME                                         FIVEFOLD_REPETITION  \nWinner                                                          NaN  \nTotal Time                                               41715.57ms  \nAVG Time Agent 1                                           317.00ms  \nAVG Time Agent 2                                          3475.33ms  \nNumber of Moves Agent 1                                          11  \nNumber of Moves Agent 2                                          11  \nStates Evaluated Agent 1                                       2372  \nStates Evaluated Agent 2                                       3760  \nPruning carried out Agent 1                                     501  \nPruning carried out Agent 2                                     633  \nStates evaluated H0 Agent 1                                   27416  \nStates evaluated Hr Agent 2                                   36777  \nPruning H0 carried out Agent 1                                24104  \nPruning Hr carried out Agent 2                                32127  ",
      "text/html": "<div>\n<style scoped>\n    .dataframe tbody tr th:only-of-type {\n        vertical-align: middle;\n    }\n\n    .dataframe tbody tr th {\n        vertical-align: top;\n    }\n\n    .dataframe thead th {\n        text-align: right;\n    }\n</style>\n<table border=\"1\" class=\"dataframe\">\n  <thead>\n    <tr style=\"text-align: right;\">\n      <th></th>\n      <th>0</th>\n      <th>1</th>\n      <th>2</th>\n      <th>3</th>\n      <th>4</th>\n      <th>5</th>\n    </tr>\n  </thead>\n  <tbody>\n    <tr>\n      <th>Algorithm Agent 1</th>\n      <td>MinMax Alpha Beta Pruning H0 CutOff</td>\n      <td>MinMax Alpha Beta Pruning H0 CutOff</td>\n      <td>MinMax Alpha Beta Pruning H0 CutOff</td>\n      <td>MinMax Alpha Beta Pruning H0 CutOff</td>\n      <td>MinMax Alpha Beta Pruning H0 CutOff</td>\n      <td>MinMax Alpha Beta Pruning H0 CutOff</td>\n    </tr>\n    <tr>\n      <th>Algorithm Agent 2</th>\n      <td>MinMax Alpha Beta Pruning Hr CutOff</td>\n      <td>MinMax Alpha Beta Pruning Hr CutOff</td>\n      <td>MinMax Alpha Beta Pruning Hr CutOff</td>\n      <td>MinMax Alpha Beta Pruning Hr CutOff</td>\n      <td>MinMax Alpha Beta Pruning Hr CutOff</td>\n      <td>MinMax Alpha Beta Pruning Hr CutOff</td>\n    </tr>\n    <tr>\n      <th>Max Depth Agent 1</th>\n      <td>3</td>\n      <td>3</td>\n      <td>4</td>\n      <td>4</td>\n      <td>5</td>\n      <td>6</td>\n    </tr>\n    <tr>\n      <th>Number CutOff Agent 1</th>\n      <td>5</td>\n      <td>5</td>\n      <td>5</td>\n      <td>5</td>\n      <td>3</td>\n      <td>3</td>\n    </tr>\n    <tr>\n      <th>Max Depth Agent 2</th>\n      <td>3</td>\n      <td>4</td>\n      <td>3</td>\n      <td>4</td>\n      <td>5</td>\n      <td>6</td>\n    </tr>\n    <tr>\n      <th>Number CutOff Agent 2</th>\n      <td>5</td>\n      <td>5</td>\n      <td>5</td>\n      <td>5</td>\n      <td>3</td>\n      <td>3</td>\n    </tr>\n    <tr>\n      <th>OUTCOME</th>\n      <td>CHECKMATE</td>\n      <td>FIVEFOLD_REPETITION</td>\n      <td>FIVEFOLD_REPETITION</td>\n      <td>CHECKMATE</td>\n      <td>FIVEFOLD_REPETITION</td>\n      <td>FIVEFOLD_REPETITION</td>\n    </tr>\n    <tr>\n      <th>Winner</th>\n      <td>White</td>\n      <td>NaN</td>\n      <td>NaN</td>\n      <td>Black</td>\n      <td>NaN</td>\n      <td>NaN</td>\n    </tr>\n    <tr>\n      <th>Total Time</th>\n      <td>48805.98ms</td>\n      <td>38457.12ms</td>\n      <td>246826.98ms</td>\n      <td>54689.18ms</td>\n      <td>214169.30ms</td>\n      <td>41715.57ms</td>\n    </tr>\n    <tr>\n      <th>AVG Time Agent 1</th>\n      <td>122.16ms</td>\n      <td>70.35ms</td>\n      <td>641.54ms</td>\n      <td>305.16ms</td>\n      <td>206.28ms</td>\n      <td>317.00ms</td>\n    </tr>\n    <tr>\n      <th>AVG Time Agent 2</th>\n      <td>936.08ms</td>\n      <td>2676.51ms</td>\n      <td>640.63ms</td>\n      <td>2573.22ms</td>\n      <td>1140.61ms</td>\n      <td>3475.33ms</td>\n    </tr>\n    <tr>\n      <th>Number of Moves Agent 1</th>\n      <td>47</td>\n      <td>14</td>\n      <td>193</td>\n      <td>19</td>\n      <td>159</td>\n      <td>11</td>\n    </tr>\n    <tr>\n      <th>Number of Moves Agent 2</th>\n      <td>46</td>\n      <td>14</td>\n      <td>192</td>\n      <td>19</td>\n      <td>159</td>\n      <td>11</td>\n    </tr>\n    <tr>\n      <th>States Evaluated Agent 1</th>\n      <td>4236</td>\n      <td>967</td>\n      <td>52457</td>\n      <td>4840</td>\n      <td>18630</td>\n      <td>2372</td>\n    </tr>\n    <tr>\n      <th>States Evaluated Agent 2</th>\n      <td>4472</td>\n      <td>6314</td>\n      <td>19540</td>\n      <td>7313</td>\n      <td>24720</td>\n      <td>3760</td>\n    </tr>\n    <tr>\n      <th>Pruning carried out Agent 1</th>\n      <td>606</td>\n      <td>229</td>\n      <td>7088</td>\n      <td>828</td>\n      <td>4146</td>\n      <td>501</td>\n    </tr>\n    <tr>\n      <th>Pruning carried out Agent 2</th>\n      <td>538</td>\n      <td>500</td>\n      <td>2206</td>\n      <td>841</td>\n      <td>4257</td>\n      <td>633</td>\n    </tr>\n    <tr>\n      <th>States evaluated H0 Agent 1</th>\n      <td>29960</td>\n      <td>7195</td>\n      <td>365303</td>\n      <td>43328</td>\n      <td>139224</td>\n      <td>27416</td>\n    </tr>\n    <tr>\n      <th>States evaluated Hr Agent 2</th>\n      <td>40761</td>\n      <td>35108</td>\n      <td>122470</td>\n      <td>49655</td>\n      <td>192809</td>\n      <td>36777</td>\n    </tr>\n    <tr>\n      <th>Pruning H0 carried out Agent 1</th>\n      <td>23505</td>\n      <td>5315</td>\n      <td>288268</td>\n      <td>35397</td>\n      <td>113532</td>\n      <td>24104</td>\n    </tr>\n    <tr>\n      <th>Pruning Hr carried out Agent 2</th>\n      <td>34374</td>\n      <td>27465</td>\n      <td>96011</td>\n      <td>39736</td>\n      <td>161345</td>\n      <td>32127</td>\n    </tr>\n  </tbody>\n</table>\n</div>"
     },
     "execution_count": 12,
     "metadata": {},
     "output_type": "execute_result"
    }
   ],
   "source": [
    "df_minmax_h0_cut_vs_hr.drop(columns=['Title', 'Heuristic Agent 1', 'Heuristic Agent 2']).head(6).transpose()"
   ]
  },
  {
   "cell_type": "markdown",
   "id": "d878b050bb364f6e",
   "metadata": {
    "collapsed": false
   },
   "source": [
    "Comparando l'Agnete che usa H0 con l'Agente che usa Hr notiamo che la stragrande maggioranza delle partite termina in un pareggio e quando c'è un vincitore è sempre l'Agente che usa H0. Probabilmente è dovuto al valore non del tutto corretto che restituisce il regressore."
   ]
  },
  {
   "cell_type": "markdown",
   "id": "f7cfcfd69365f1f",
   "metadata": {
    "collapsed": false
   },
   "source": [
    "## MinMax Alpha-Beta Pruning H0 CutOff Vs MinMax Alpha-Beta Pruning\n",
    "\n",
    "Sono riportati i test effettuati con l'algoritmo MinMax Alpha-Beta Pruning con taglio e valutazione H0 contro l'algoritmo base MinMax Alpha-Beta Pruning."
   ]
  },
  {
   "cell_type": "code",
   "execution_count": 13,
   "id": "48b62a8e77252497",
   "metadata": {
    "collapsed": false,
    "ExecuteTime": {
     "end_time": "2023-11-19T18:06:12.992509200Z",
     "start_time": "2023-11-19T18:06:12.855272900Z"
    }
   },
   "outputs": [
    {
     "data": {
      "text/plain": "                                                                  0  \\\nAlgorithm Agent 1               MinMax Alpha Beta Pruning H0 CutOff   \nAlgorithm Agent 2                         MinMax Alpha Beta Pruning   \nMax Depth Agent 1                                                 3   \nNumber CutOff Agent 1                                             5   \nMax Depth Agent 2                                                 3   \nOUTCOME                                                   CHECKMATE   \nWinner                                                        Black   \nTotal Time                                              123630.51ms   \nAVG Time Agent 1                                           122.66ms   \nAVG Time Agent 2                                          1126.11ms   \nNumber of Moves Agent 1                                          99   \nNumber of Moves Agent 2                                          99   \nStates Evaluated Agent 1                                       8323   \nStates Evaluated Agent 2                                     314978   \nPruning carried out Agent 1                                    1314   \nPruning carried out Agent 2                                   38212   \nStates evaluated H0 Agent 1                                   63917   \nPruning H0 carried out Agent 1                                50491   \n\n                                                                  1  \\\nAlgorithm Agent 1               MinMax Alpha Beta Pruning H0 CutOff   \nAlgorithm Agent 2                         MinMax Alpha Beta Pruning   \nMax Depth Agent 1                                                 4   \nNumber CutOff Agent 1                                             5   \nMax Depth Agent 2                                                 3   \nOUTCOME                                                   CHECKMATE   \nWinner                                                        White   \nTotal Time                                               63382.18ms   \nAVG Time Agent 1                                           365.37ms   \nAVG Time Agent 2                                          1667.33ms   \nNumber of Moves Agent 1                                          32   \nNumber of Moves Agent 2                                          31   \nStates Evaluated Agent 1                                      10052   \nStates Evaluated Agent 2                                     196855   \nPruning carried out Agent 1                                    1424   \nPruning carried out Agent 2                                   22366   \nStates evaluated H0 Agent 1                                   87047   \nPruning H0 carried out Agent 1                                71937   \n\n                                                                  2  \\\nAlgorithm Agent 1               MinMax Alpha Beta Pruning H0 CutOff   \nAlgorithm Agent 2                         MinMax Alpha Beta Pruning   \nMax Depth Agent 1                                                 5   \nNumber CutOff Agent 1                                             5   \nMax Depth Agent 2                                                 3   \nOUTCOME                                                   CHECKMATE   \nWinner                                                        Black   \nTotal Time                                              245204.27ms   \nAVG Time Agent 1                                           751.39ms   \nAVG Time Agent 2                                          2517.96ms   \nNumber of Moves Agent 1                                          75   \nNumber of Moves Agent 2                                          75   \nStates Evaluated Agent 1                                      37074   \nStates Evaluated Agent 2                                     425620   \nPruning carried out Agent 1                                    8686   \nPruning carried out Agent 2                                   44138   \nStates evaluated H0 Agent 1                                  348508   \nPruning H0 carried out Agent 1                               280502   \n\n                                                                  3  \\\nAlgorithm Agent 1               MinMax Alpha Beta Pruning H0 CutOff   \nAlgorithm Agent 2                         MinMax Alpha Beta Pruning   \nMax Depth Agent 1                                                 6   \nNumber CutOff Agent 1                                             3   \nMax Depth Agent 2                                                 2   \nOUTCOME                                                   CHECKMATE   \nWinner                                                        White   \nTotal Time                                               28181.52ms   \nAVG Time Agent 1                                           585.98ms   \nAVG Time Agent 2                                           140.21ms   \nNumber of Moves Agent 1                                          39   \nNumber of Moves Agent 2                                          38   \nStates Evaluated Agent 1                                      11053   \nStates Evaluated Agent 2                                      24564   \nPruning carried out Agent 1                                    2458   \nPruning carried out Agent 2                                      10   \nStates evaluated H0 Agent 1                                  146088   \nPruning H0 carried out Agent 1                               130611   \n\n                                                                  4  \nAlgorithm Agent 1               MinMax Alpha Beta Pruning H0 CutOff  \nAlgorithm Agent 2                         MinMax Alpha Beta Pruning  \nMax Depth Agent 1                                                10  \nNumber CutOff Agent 1                                             3  \nMax Depth Agent 2                                                 2  \nOUTCOME                                                   CHECKMATE  \nWinner                                                        Black  \nTotal Time                                              643101.30ms  \nAVG Time Agent 1                                          5544.33ms  \nAVG Time Agent 2                                            47.84ms  \nNumber of Moves Agent 1                                         115  \nNumber of Moves Agent 2                                         115  \nStates Evaluated Agent 1                                     336855  \nStates Evaluated Agent 2                                      25776  \nPruning carried out Agent 1                                   87381  \nPruning carried out Agent 2                                       0  \nStates evaluated H0 Agent 1                                 3659395  \nPruning H0 carried out Agent 1                              3171787  ",
      "text/html": "<div>\n<style scoped>\n    .dataframe tbody tr th:only-of-type {\n        vertical-align: middle;\n    }\n\n    .dataframe tbody tr th {\n        vertical-align: top;\n    }\n\n    .dataframe thead th {\n        text-align: right;\n    }\n</style>\n<table border=\"1\" class=\"dataframe\">\n  <thead>\n    <tr style=\"text-align: right;\">\n      <th></th>\n      <th>0</th>\n      <th>1</th>\n      <th>2</th>\n      <th>3</th>\n      <th>4</th>\n    </tr>\n  </thead>\n  <tbody>\n    <tr>\n      <th>Algorithm Agent 1</th>\n      <td>MinMax Alpha Beta Pruning H0 CutOff</td>\n      <td>MinMax Alpha Beta Pruning H0 CutOff</td>\n      <td>MinMax Alpha Beta Pruning H0 CutOff</td>\n      <td>MinMax Alpha Beta Pruning H0 CutOff</td>\n      <td>MinMax Alpha Beta Pruning H0 CutOff</td>\n    </tr>\n    <tr>\n      <th>Algorithm Agent 2</th>\n      <td>MinMax Alpha Beta Pruning</td>\n      <td>MinMax Alpha Beta Pruning</td>\n      <td>MinMax Alpha Beta Pruning</td>\n      <td>MinMax Alpha Beta Pruning</td>\n      <td>MinMax Alpha Beta Pruning</td>\n    </tr>\n    <tr>\n      <th>Max Depth Agent 1</th>\n      <td>3</td>\n      <td>4</td>\n      <td>5</td>\n      <td>6</td>\n      <td>10</td>\n    </tr>\n    <tr>\n      <th>Number CutOff Agent 1</th>\n      <td>5</td>\n      <td>5</td>\n      <td>5</td>\n      <td>3</td>\n      <td>3</td>\n    </tr>\n    <tr>\n      <th>Max Depth Agent 2</th>\n      <td>3</td>\n      <td>3</td>\n      <td>3</td>\n      <td>2</td>\n      <td>2</td>\n    </tr>\n    <tr>\n      <th>OUTCOME</th>\n      <td>CHECKMATE</td>\n      <td>CHECKMATE</td>\n      <td>CHECKMATE</td>\n      <td>CHECKMATE</td>\n      <td>CHECKMATE</td>\n    </tr>\n    <tr>\n      <th>Winner</th>\n      <td>Black</td>\n      <td>White</td>\n      <td>Black</td>\n      <td>White</td>\n      <td>Black</td>\n    </tr>\n    <tr>\n      <th>Total Time</th>\n      <td>123630.51ms</td>\n      <td>63382.18ms</td>\n      <td>245204.27ms</td>\n      <td>28181.52ms</td>\n      <td>643101.30ms</td>\n    </tr>\n    <tr>\n      <th>AVG Time Agent 1</th>\n      <td>122.66ms</td>\n      <td>365.37ms</td>\n      <td>751.39ms</td>\n      <td>585.98ms</td>\n      <td>5544.33ms</td>\n    </tr>\n    <tr>\n      <th>AVG Time Agent 2</th>\n      <td>1126.11ms</td>\n      <td>1667.33ms</td>\n      <td>2517.96ms</td>\n      <td>140.21ms</td>\n      <td>47.84ms</td>\n    </tr>\n    <tr>\n      <th>Number of Moves Agent 1</th>\n      <td>99</td>\n      <td>32</td>\n      <td>75</td>\n      <td>39</td>\n      <td>115</td>\n    </tr>\n    <tr>\n      <th>Number of Moves Agent 2</th>\n      <td>99</td>\n      <td>31</td>\n      <td>75</td>\n      <td>38</td>\n      <td>115</td>\n    </tr>\n    <tr>\n      <th>States Evaluated Agent 1</th>\n      <td>8323</td>\n      <td>10052</td>\n      <td>37074</td>\n      <td>11053</td>\n      <td>336855</td>\n    </tr>\n    <tr>\n      <th>States Evaluated Agent 2</th>\n      <td>314978</td>\n      <td>196855</td>\n      <td>425620</td>\n      <td>24564</td>\n      <td>25776</td>\n    </tr>\n    <tr>\n      <th>Pruning carried out Agent 1</th>\n      <td>1314</td>\n      <td>1424</td>\n      <td>8686</td>\n      <td>2458</td>\n      <td>87381</td>\n    </tr>\n    <tr>\n      <th>Pruning carried out Agent 2</th>\n      <td>38212</td>\n      <td>22366</td>\n      <td>44138</td>\n      <td>10</td>\n      <td>0</td>\n    </tr>\n    <tr>\n      <th>States evaluated H0 Agent 1</th>\n      <td>63917</td>\n      <td>87047</td>\n      <td>348508</td>\n      <td>146088</td>\n      <td>3659395</td>\n    </tr>\n    <tr>\n      <th>Pruning H0 carried out Agent 1</th>\n      <td>50491</td>\n      <td>71937</td>\n      <td>280502</td>\n      <td>130611</td>\n      <td>3171787</td>\n    </tr>\n  </tbody>\n</table>\n</div>"
     },
     "execution_count": 13,
     "metadata": {},
     "output_type": "execute_result"
    }
   ],
   "source": [
    "df_minmax_h0_cut_vs_normal.drop(columns=['Title', 'Heuristic Agent 1', 'Heuristic Agent 2']).head(6).transpose()"
   ]
  },
  {
   "cell_type": "markdown",
   "id": "a863b71fafb57b79",
   "metadata": {
    "collapsed": false
   },
   "source": [
    "Caso singolare è il confronto tra H0 e il normale MinMax Alpha-Beta Pruning, in questo caso non è detto che aumentando la profondità vinca l'agente che è più profondo. Se prendiamo in considerazione un Agente a profondità 10 che usa il CutOff H0 non sarà meglio del Agente che usa il normale MinMax Alpha-Beta Pruning. Come visto in precedenza il CutOff H0 è più veloce del normale MinMax Alpha-Beta Pruning (a parità di profondità)."
   ]
  },
  {
   "cell_type": "markdown",
   "id": "6578367300637324",
   "metadata": {
    "collapsed": false
   },
   "source": [
    "## MinMax Alpha-Beta Pruning Hr CutOff (MPLRegressor) Vs MinMax Alpha-Beta Pruning Hl CutOff\n",
    "\n",
    "Sono riportati i test effettuati con l'algoritmo MinMax Alpha-Beta Pruning con taglio Hr (MPLRegressor) contro l'algoritmo MinMax Alpha-Beta Pruning con taglio e valutazione Hl."
   ]
  },
  {
   "cell_type": "code",
   "execution_count": 14,
   "id": "251e2851d66bb6ab",
   "metadata": {
    "collapsed": false,
    "ExecuteTime": {
     "end_time": "2023-11-19T18:06:12.994509300Z",
     "start_time": "2023-11-19T18:06:12.871325300Z"
    }
   },
   "outputs": [
    {
     "data": {
      "text/plain": "                                                                  0  \\\nAlgorithm Agent 1               MinMax Alpha Beta Pruning Hr CutOff   \nAlgorithm Agent 2               MinMax Alpha Beta Pruning Hl CutOff   \nMax Depth Agent 1                                                 3   \nNumber CutOff Agent 1                                             5   \nMax Depth Agent 2                                                 3   \nNumber CutOff Agent 2                                             5   \nNumber of l Agent 2                                               3   \nOUTCOME                                                   CHECKMATE   \nWinner                                                        Black   \nTotal Time                                               32426.24ms   \nAVG Time Agent 1                                           764.63ms   \nAVG Time Agent 2                                          2183.12ms   \nNumber of Moves Agent 1                                          11   \nNumber of Moves Agent 2                                          11   \nStates Evaluated Agent 1                                       1162   \nStates Evaluated Agent 2                                        955   \nPruning carried out Agent 1                                     149   \nPruning carried out Agent 2                                     176   \nStates evaluated Hr Agent 1                                    8048   \nStates evaluated H0 Agent 2                                   10921   \nPruning Hr carried out Agent 1                                 6419   \nPruning H0 carried out Agent 2                                 9331   \nStates evaluated Hl Agent 2                                  131685   \nPruning Hl carried out Agent 2                                 7508   \n\n                                                                  1  \\\nAlgorithm Agent 1               MinMax Alpha Beta Pruning Hr CutOff   \nAlgorithm Agent 2               MinMax Alpha Beta Pruning Hl CutOff   \nMax Depth Agent 1                                                 3   \nNumber CutOff Agent 1                                             5   \nMax Depth Agent 2                                                 4   \nNumber CutOff Agent 2                                             5   \nNumber of l Agent 2                                               3   \nOUTCOME                                         FIVEFOLD_REPETITION   \nWinner                                                          NaN   \nTotal Time                                              118036.28ms   \nAVG Time Agent 1                                           486.43ms   \nAVG Time Agent 2                                          1217.17ms   \nNumber of Moves Agent 1                                          70   \nNumber of Moves Agent 2                                          69   \nStates Evaluated Agent 1                                       7162   \nStates Evaluated Agent 2                                      26542   \nPruning carried out Agent 1                                     885   \nPruning carried out Agent 2                                    2891   \nStates evaluated Hr Agent 1                                   33573   \nStates evaluated H0 Agent 2                                  129417   \nPruning Hr carried out Agent 1                                23738   \nPruning H0 carried out Agent 2                                93761   \nStates evaluated Hl Agent 2                                  244104   \nPruning Hl carried out Agent 2                                21194   \n\n                                                                  2  \\\nAlgorithm Agent 1               MinMax Alpha Beta Pruning Hr CutOff   \nAlgorithm Agent 2               MinMax Alpha Beta Pruning Hl CutOff   \nMax Depth Agent 1                                                 4   \nNumber CutOff Agent 1                                             5   \nMax Depth Agent 2                                                 3   \nNumber CutOff Agent 2                                             5   \nNumber of l Agent 2                                               3   \nOUTCOME                                                   CHECKMATE   \nWinner                                                        Black   \nTotal Time                                              224519.78ms   \nAVG Time Agent 1                                          1850.09ms   \nAVG Time Agent 2                                          1225.48ms   \nNumber of Moves Agent 1                                          73   \nNumber of Moves Agent 2                                          73   \nStates Evaluated Agent 1                                      22505   \nStates Evaluated Agent 2                                       6279   \nPruning carried out Agent 1                                    2527   \nPruning carried out Agent 2                                     888   \nStates evaluated Hr Agent 1                                  148302   \nStates evaluated H0 Agent 2                                   50830   \nPruning Hr carried out Agent 1                               118509   \nPruning H0 carried out Agent 2                                41441   \nStates evaluated Hl Agent 2                                  340313   \nPruning Hl carried out Agent 2                                24827   \n\n                                                                  3  \\\nAlgorithm Agent 1               MinMax Alpha Beta Pruning Hr CutOff   \nAlgorithm Agent 2               MinMax Alpha Beta Pruning Hl CutOff   \nMax Depth Agent 1                                                 4   \nNumber CutOff Agent 1                                             5   \nMax Depth Agent 2                                                 4   \nNumber CutOff Agent 2                                             5   \nNumber of l Agent 2                                               3   \nOUTCOME                                                   CHECKMATE   \nWinner                                                        Black   \nTotal Time                                              923112.32ms   \nAVG Time Agent 1                                          1569.77ms   \nAVG Time Agent 2                                          2375.08ms   \nNumber of Moves Agent 1                                         234   \nNumber of Moves Agent 2                                         234   \nStates Evaluated Agent 1                                      71186   \nStates Evaluated Agent 2                                      73242   \nPruning carried out Agent 1                                    8704   \nPruning carried out Agent 2                                    9140   \nStates evaluated Hr Agent 1                                  367977   \nStates evaluated H0 Agent 2                                  433025   \nPruning Hr carried out Agent 1                               271103   \nPruning H0 carried out Agent 2                               330391   \nStates evaluated Hl Agent 2                                  679103   \nPruning Hl carried out Agent 2                                82953   \n\n                                                                  4  \\\nAlgorithm Agent 1               MinMax Alpha Beta Pruning Hr CutOff   \nAlgorithm Agent 2               MinMax Alpha Beta Pruning Hl CutOff   \nMax Depth Agent 1                                                 5   \nNumber CutOff Agent 1                                             3   \nMax Depth Agent 2                                                 5   \nNumber CutOff Agent 2                                             3   \nNumber of l Agent 2                                               2   \nOUTCOME                                                   CHECKMATE   \nWinner                                                        Black   \nTotal Time                                               50952.22ms   \nAVG Time Agent 1                                          2285.72ms   \nAVG Time Agent 2                                           395.81ms   \nNumber of Moves Agent 1                                          19   \nNumber of Moves Agent 2                                          19   \nStates Evaluated Agent 1                                       3513   \nStates Evaluated Agent 2                                       3058   \nPruning carried out Agent 1                                     629   \nPruning carried out Agent 2                                     645   \nStates evaluated Hr Agent 1                                   42301   \nStates evaluated H0 Agent 2                                   40462   \nPruning Hr carried out Agent 1                                37816   \nPruning H0 carried out Agent 2                                36284   \nStates evaluated Hl Agent 2                                   14681   \nPruning Hl carried out Agent 2                                  435   \n\n                                                                  5  \nAlgorithm Agent 1               MinMax Alpha Beta Pruning Hr CutOff  \nAlgorithm Agent 2               MinMax Alpha Beta Pruning Hl CutOff  \nMax Depth Agent 1                                                 6  \nNumber CutOff Agent 1                                             3  \nMax Depth Agent 2                                                 6  \nNumber CutOff Agent 2                                             3  \nNumber of l Agent 2                                               2  \nOUTCOME                                                   CHECKMATE  \nWinner                                                        Black  \nTotal Time                                              149754.71ms  \nAVG Time Agent 1                                          4803.70ms  \nAVG Time Agent 2                                           742.73ms  \nNumber of Moves Agent 1                                          27  \nNumber of Moves Agent 2                                          27  \nStates Evaluated Agent 1                                      11945  \nStates Evaluated Agent 2                                      11398  \nPruning carried out Agent 1                                    2172  \nPruning carried out Agent 2                                    2299  \nStates evaluated Hr Agent 1                                  136109  \nStates evaluated H0 Agent 2                                  128598  \nPruning Hr carried out Agent 1                               120855  \nPruning H0 carried out Agent 2                               113539  \nStates evaluated Hl Agent 2                                   19209  \nPruning Hl carried out Agent 2                                  602  ",
      "text/html": "<div>\n<style scoped>\n    .dataframe tbody tr th:only-of-type {\n        vertical-align: middle;\n    }\n\n    .dataframe tbody tr th {\n        vertical-align: top;\n    }\n\n    .dataframe thead th {\n        text-align: right;\n    }\n</style>\n<table border=\"1\" class=\"dataframe\">\n  <thead>\n    <tr style=\"text-align: right;\">\n      <th></th>\n      <th>0</th>\n      <th>1</th>\n      <th>2</th>\n      <th>3</th>\n      <th>4</th>\n      <th>5</th>\n    </tr>\n  </thead>\n  <tbody>\n    <tr>\n      <th>Algorithm Agent 1</th>\n      <td>MinMax Alpha Beta Pruning Hr CutOff</td>\n      <td>MinMax Alpha Beta Pruning Hr CutOff</td>\n      <td>MinMax Alpha Beta Pruning Hr CutOff</td>\n      <td>MinMax Alpha Beta Pruning Hr CutOff</td>\n      <td>MinMax Alpha Beta Pruning Hr CutOff</td>\n      <td>MinMax Alpha Beta Pruning Hr CutOff</td>\n    </tr>\n    <tr>\n      <th>Algorithm Agent 2</th>\n      <td>MinMax Alpha Beta Pruning Hl CutOff</td>\n      <td>MinMax Alpha Beta Pruning Hl CutOff</td>\n      <td>MinMax Alpha Beta Pruning Hl CutOff</td>\n      <td>MinMax Alpha Beta Pruning Hl CutOff</td>\n      <td>MinMax Alpha Beta Pruning Hl CutOff</td>\n      <td>MinMax Alpha Beta Pruning Hl CutOff</td>\n    </tr>\n    <tr>\n      <th>Max Depth Agent 1</th>\n      <td>3</td>\n      <td>3</td>\n      <td>4</td>\n      <td>4</td>\n      <td>5</td>\n      <td>6</td>\n    </tr>\n    <tr>\n      <th>Number CutOff Agent 1</th>\n      <td>5</td>\n      <td>5</td>\n      <td>5</td>\n      <td>5</td>\n      <td>3</td>\n      <td>3</td>\n    </tr>\n    <tr>\n      <th>Max Depth Agent 2</th>\n      <td>3</td>\n      <td>4</td>\n      <td>3</td>\n      <td>4</td>\n      <td>5</td>\n      <td>6</td>\n    </tr>\n    <tr>\n      <th>Number CutOff Agent 2</th>\n      <td>5</td>\n      <td>5</td>\n      <td>5</td>\n      <td>5</td>\n      <td>3</td>\n      <td>3</td>\n    </tr>\n    <tr>\n      <th>Number of l Agent 2</th>\n      <td>3</td>\n      <td>3</td>\n      <td>3</td>\n      <td>3</td>\n      <td>2</td>\n      <td>2</td>\n    </tr>\n    <tr>\n      <th>OUTCOME</th>\n      <td>CHECKMATE</td>\n      <td>FIVEFOLD_REPETITION</td>\n      <td>CHECKMATE</td>\n      <td>CHECKMATE</td>\n      <td>CHECKMATE</td>\n      <td>CHECKMATE</td>\n    </tr>\n    <tr>\n      <th>Winner</th>\n      <td>Black</td>\n      <td>NaN</td>\n      <td>Black</td>\n      <td>Black</td>\n      <td>Black</td>\n      <td>Black</td>\n    </tr>\n    <tr>\n      <th>Total Time</th>\n      <td>32426.24ms</td>\n      <td>118036.28ms</td>\n      <td>224519.78ms</td>\n      <td>923112.32ms</td>\n      <td>50952.22ms</td>\n      <td>149754.71ms</td>\n    </tr>\n    <tr>\n      <th>AVG Time Agent 1</th>\n      <td>764.63ms</td>\n      <td>486.43ms</td>\n      <td>1850.09ms</td>\n      <td>1569.77ms</td>\n      <td>2285.72ms</td>\n      <td>4803.70ms</td>\n    </tr>\n    <tr>\n      <th>AVG Time Agent 2</th>\n      <td>2183.12ms</td>\n      <td>1217.17ms</td>\n      <td>1225.48ms</td>\n      <td>2375.08ms</td>\n      <td>395.81ms</td>\n      <td>742.73ms</td>\n    </tr>\n    <tr>\n      <th>Number of Moves Agent 1</th>\n      <td>11</td>\n      <td>70</td>\n      <td>73</td>\n      <td>234</td>\n      <td>19</td>\n      <td>27</td>\n    </tr>\n    <tr>\n      <th>Number of Moves Agent 2</th>\n      <td>11</td>\n      <td>69</td>\n      <td>73</td>\n      <td>234</td>\n      <td>19</td>\n      <td>27</td>\n    </tr>\n    <tr>\n      <th>States Evaluated Agent 1</th>\n      <td>1162</td>\n      <td>7162</td>\n      <td>22505</td>\n      <td>71186</td>\n      <td>3513</td>\n      <td>11945</td>\n    </tr>\n    <tr>\n      <th>States Evaluated Agent 2</th>\n      <td>955</td>\n      <td>26542</td>\n      <td>6279</td>\n      <td>73242</td>\n      <td>3058</td>\n      <td>11398</td>\n    </tr>\n    <tr>\n      <th>Pruning carried out Agent 1</th>\n      <td>149</td>\n      <td>885</td>\n      <td>2527</td>\n      <td>8704</td>\n      <td>629</td>\n      <td>2172</td>\n    </tr>\n    <tr>\n      <th>Pruning carried out Agent 2</th>\n      <td>176</td>\n      <td>2891</td>\n      <td>888</td>\n      <td>9140</td>\n      <td>645</td>\n      <td>2299</td>\n    </tr>\n    <tr>\n      <th>States evaluated Hr Agent 1</th>\n      <td>8048</td>\n      <td>33573</td>\n      <td>148302</td>\n      <td>367977</td>\n      <td>42301</td>\n      <td>136109</td>\n    </tr>\n    <tr>\n      <th>States evaluated H0 Agent 2</th>\n      <td>10921</td>\n      <td>129417</td>\n      <td>50830</td>\n      <td>433025</td>\n      <td>40462</td>\n      <td>128598</td>\n    </tr>\n    <tr>\n      <th>Pruning Hr carried out Agent 1</th>\n      <td>6419</td>\n      <td>23738</td>\n      <td>118509</td>\n      <td>271103</td>\n      <td>37816</td>\n      <td>120855</td>\n    </tr>\n    <tr>\n      <th>Pruning H0 carried out Agent 2</th>\n      <td>9331</td>\n      <td>93761</td>\n      <td>41441</td>\n      <td>330391</td>\n      <td>36284</td>\n      <td>113539</td>\n    </tr>\n    <tr>\n      <th>States evaluated Hl Agent 2</th>\n      <td>131685</td>\n      <td>244104</td>\n      <td>340313</td>\n      <td>679103</td>\n      <td>14681</td>\n      <td>19209</td>\n    </tr>\n    <tr>\n      <th>Pruning Hl carried out Agent 2</th>\n      <td>7508</td>\n      <td>21194</td>\n      <td>24827</td>\n      <td>82953</td>\n      <td>435</td>\n      <td>602</td>\n    </tr>\n  </tbody>\n</table>\n</div>"
     },
     "execution_count": 14,
     "metadata": {},
     "output_type": "execute_result"
    }
   ],
   "source": [
    "df_minmax_hr_cut_vs_hl_cut.drop(columns=['Title', 'Heuristic Agent 1', 'Heuristic Agent 2']).head(6).transpose()"
   ]
  },
  {
   "cell_type": "markdown",
   "id": "aa4629d7f8d63384",
   "metadata": {
    "collapsed": false
   },
   "source": [
    "Comparando l'Agnete che usa Hr con l'Agente che usa Hl notiamo che la stragrande maggioranza delle partite termina con la vittoria del Agente che usa Hl. Un comportamento simile lo abbiamo visto con il test H0 vs Hr, li quando c'era una vittoria era sempre di H0.\n",
    " Probabilmente è dovuto al valore non del tutto corretto che restituisce il regressore.\n"
   ]
  },
  {
   "cell_type": "markdown",
   "id": "cf4e765c5e5092b",
   "metadata": {
    "collapsed": false
   },
   "source": [
    "## MinMax Alpha-Beta Pruning Hr CutOff (MPLRegressor) Vs MinMax Alpha-Beta Pruning\n",
    "\n",
    "Sono riportati i test effettuati con l'algoritmo MinMax Alpha-Beta Pruning con taglio Hr contro l'algoritmo base MinMax Alpha-Beta Pruning.\n"
   ]
  },
  {
   "cell_type": "code",
   "execution_count": 15,
   "id": "6899870ce4474f51",
   "metadata": {
    "collapsed": false,
    "ExecuteTime": {
     "end_time": "2023-11-19T18:06:13.013548800Z",
     "start_time": "2023-11-19T18:06:12.885083900Z"
    }
   },
   "outputs": [
    {
     "data": {
      "text/plain": "                                                                  0  \\\nAlgorithm Agent 1               MinMax Alpha Beta Pruning Hr CutOff   \nAlgorithm Agent 2                         MinMax Alpha Beta Pruning   \nMax Depth Agent 1                                                 3   \nNumber CutOff Agent 1                                             5   \nMax Depth Agent 2                                                 3   \nOUTCOME                                                   CHECKMATE   \nWinner                                                        Black   \nTotal Time                                               97399.52ms   \nAVG Time Agent 1                                           637.39ms   \nAVG Time Agent 2                                          3258.59ms   \nNumber of Moves Agent 1                                          25   \nNumber of Moves Agent 2                                          25   \nStates Evaluated Agent 1                                       2451   \nStates Evaluated Agent 2                                     316640   \nPruning carried out Agent 1                                     298   \nPruning carried out Agent 2                                   16491   \nStates evaluated Hr Agent 1                                   16315   \nPruning Hr carried out Agent 1                                12912   \n\n                                                                  1  \\\nAlgorithm Agent 1               MinMax Alpha Beta Pruning Hr CutOff   \nAlgorithm Agent 2                         MinMax Alpha Beta Pruning   \nMax Depth Agent 1                                                 4   \nNumber CutOff Agent 1                                             5   \nMax Depth Agent 2                                                 3   \nOUTCOME                                         FIVEFOLD_REPETITION   \nWinner                                                          NaN   \nTotal Time                                              277061.22ms   \nAVG Time Agent 1                                          1685.54ms   \nAVG Time Agent 2                                          1672.67ms   \nNumber of Moves Agent 1                                          83   \nNumber of Moves Agent 2                                          82   \nStates Evaluated Agent 1                                      28552   \nStates Evaluated Agent 2                                     345541   \nPruning carried out Agent 1                                    3596   \nPruning carried out Agent 2                                   42314   \nStates evaluated Hr Agent 1                                  150637   \nPruning Hr carried out Agent 1                               110950   \n\n                                                                  2  \\\nAlgorithm Agent 1               MinMax Alpha Beta Pruning Hr CutOff   \nAlgorithm Agent 2                         MinMax Alpha Beta Pruning   \nMax Depth Agent 1                                                 5   \nNumber CutOff Agent 1                                             5   \nMax Depth Agent 2                                                 3   \nOUTCOME                                                   CHECKMATE   \nWinner                                                        Black   \nTotal Time                                              303703.65ms   \nAVG Time Agent 1                                          5956.40ms   \nAVG Time Agent 2                                          1636.16ms   \nNumber of Moves Agent 1                                          40   \nNumber of Moves Agent 2                                          40   \nStates Evaluated Agent 1                                      40779   \nStates Evaluated Agent 2                                     248668   \nPruning carried out Agent 1                                    7339   \nPruning carried out Agent 2                                   16066   \nStates evaluated Hr Agent 1                                  262496   \nPruning Hr carried out Agent 1                               200669   \n\n                                                                  3  \nAlgorithm Agent 1               MinMax Alpha Beta Pruning Hr CutOff  \nAlgorithm Agent 2                         MinMax Alpha Beta Pruning  \nMax Depth Agent 1                                                 6  \nNumber CutOff Agent 1                                             3  \nMax Depth Agent 2                                                 2  \nOUTCOME                                                   CHECKMATE  \nWinner                                                        Black  \nTotal Time                                              209772.21ms  \nAVG Time Agent 1                                          4529.93ms  \nAVG Time Agent 2                                           131.63ms  \nNumber of Moves Agent 1                                          45  \nNumber of Moves Agent 2                                          45  \nStates Evaluated Agent 1                                      18917  \nStates Evaluated Agent 2                                      25216  \nPruning carried out Agent 1                                    3402  \nPruning carried out Agent 2                                       3  \nStates evaluated Hr Agent 1                                  208388  \nPruning Hr carried out Agent 1                               184358  ",
      "text/html": "<div>\n<style scoped>\n    .dataframe tbody tr th:only-of-type {\n        vertical-align: middle;\n    }\n\n    .dataframe tbody tr th {\n        vertical-align: top;\n    }\n\n    .dataframe thead th {\n        text-align: right;\n    }\n</style>\n<table border=\"1\" class=\"dataframe\">\n  <thead>\n    <tr style=\"text-align: right;\">\n      <th></th>\n      <th>0</th>\n      <th>1</th>\n      <th>2</th>\n      <th>3</th>\n    </tr>\n  </thead>\n  <tbody>\n    <tr>\n      <th>Algorithm Agent 1</th>\n      <td>MinMax Alpha Beta Pruning Hr CutOff</td>\n      <td>MinMax Alpha Beta Pruning Hr CutOff</td>\n      <td>MinMax Alpha Beta Pruning Hr CutOff</td>\n      <td>MinMax Alpha Beta Pruning Hr CutOff</td>\n    </tr>\n    <tr>\n      <th>Algorithm Agent 2</th>\n      <td>MinMax Alpha Beta Pruning</td>\n      <td>MinMax Alpha Beta Pruning</td>\n      <td>MinMax Alpha Beta Pruning</td>\n      <td>MinMax Alpha Beta Pruning</td>\n    </tr>\n    <tr>\n      <th>Max Depth Agent 1</th>\n      <td>3</td>\n      <td>4</td>\n      <td>5</td>\n      <td>6</td>\n    </tr>\n    <tr>\n      <th>Number CutOff Agent 1</th>\n      <td>5</td>\n      <td>5</td>\n      <td>5</td>\n      <td>3</td>\n    </tr>\n    <tr>\n      <th>Max Depth Agent 2</th>\n      <td>3</td>\n      <td>3</td>\n      <td>3</td>\n      <td>2</td>\n    </tr>\n    <tr>\n      <th>OUTCOME</th>\n      <td>CHECKMATE</td>\n      <td>FIVEFOLD_REPETITION</td>\n      <td>CHECKMATE</td>\n      <td>CHECKMATE</td>\n    </tr>\n    <tr>\n      <th>Winner</th>\n      <td>Black</td>\n      <td>NaN</td>\n      <td>Black</td>\n      <td>Black</td>\n    </tr>\n    <tr>\n      <th>Total Time</th>\n      <td>97399.52ms</td>\n      <td>277061.22ms</td>\n      <td>303703.65ms</td>\n      <td>209772.21ms</td>\n    </tr>\n    <tr>\n      <th>AVG Time Agent 1</th>\n      <td>637.39ms</td>\n      <td>1685.54ms</td>\n      <td>5956.40ms</td>\n      <td>4529.93ms</td>\n    </tr>\n    <tr>\n      <th>AVG Time Agent 2</th>\n      <td>3258.59ms</td>\n      <td>1672.67ms</td>\n      <td>1636.16ms</td>\n      <td>131.63ms</td>\n    </tr>\n    <tr>\n      <th>Number of Moves Agent 1</th>\n      <td>25</td>\n      <td>83</td>\n      <td>40</td>\n      <td>45</td>\n    </tr>\n    <tr>\n      <th>Number of Moves Agent 2</th>\n      <td>25</td>\n      <td>82</td>\n      <td>40</td>\n      <td>45</td>\n    </tr>\n    <tr>\n      <th>States Evaluated Agent 1</th>\n      <td>2451</td>\n      <td>28552</td>\n      <td>40779</td>\n      <td>18917</td>\n    </tr>\n    <tr>\n      <th>States Evaluated Agent 2</th>\n      <td>316640</td>\n      <td>345541</td>\n      <td>248668</td>\n      <td>25216</td>\n    </tr>\n    <tr>\n      <th>Pruning carried out Agent 1</th>\n      <td>298</td>\n      <td>3596</td>\n      <td>7339</td>\n      <td>3402</td>\n    </tr>\n    <tr>\n      <th>Pruning carried out Agent 2</th>\n      <td>16491</td>\n      <td>42314</td>\n      <td>16066</td>\n      <td>3</td>\n    </tr>\n    <tr>\n      <th>States evaluated Hr Agent 1</th>\n      <td>16315</td>\n      <td>150637</td>\n      <td>262496</td>\n      <td>208388</td>\n    </tr>\n    <tr>\n      <th>Pruning Hr carried out Agent 1</th>\n      <td>12912</td>\n      <td>110950</td>\n      <td>200669</td>\n      <td>184358</td>\n    </tr>\n  </tbody>\n</table>\n</div>"
     },
     "execution_count": 15,
     "metadata": {},
     "output_type": "execute_result"
    }
   ],
   "source": [
    "df_minmax_hr_cut_vs_normal.drop(columns=['Title', 'Heuristic Agent 1', 'Heuristic Agent 2']).head(6).transpose()"
   ]
  },
  {
   "cell_type": "markdown",
   "id": "35cc403387203d71",
   "metadata": {
    "collapsed": false
   },
   "source": [
    "Comparando l'Agnete che usa Hr con l'Agente che usa il normale MinMax Alpha-Beta Pruning notiamo che la stragrande maggioranza delle partite termina con la vittoria del Agente che usa il nomrale MinMax Alpha-Beta Pruning. Un comportamento simile lo abbiamo visto con il test H0 vs Hr, li quando c'era una vittoria era sempre di H0 e con il test Hr vs Hl.\n",
    " Probabilmente è dovuto al valore non del tutto corretto che restituisce il regressore.\n"
   ]
  },
  {
   "cell_type": "markdown",
   "id": "f66673a2d81886b6",
   "metadata": {
    "collapsed": false
   },
   "source": [
    "## MinMax Alpha-Beta Pruning Vs MinMax Alpha-Beta Pruning Hl CutOff\n",
    "\n",
    "Sono riportati i test effettuati con l'algoritmo base MinMax Alpha-Beta Pruning contro l'algoritmo MinMax Alpha-Beta Pruning con taglio Hr."
   ]
  },
  {
   "cell_type": "code",
   "execution_count": 16,
   "id": "d97252a0e6caaa1a",
   "metadata": {
    "collapsed": false,
    "ExecuteTime": {
     "end_time": "2023-11-19T18:06:13.013548800Z",
     "start_time": "2023-11-19T18:06:12.922898800Z"
    }
   },
   "outputs": [
    {
     "data": {
      "text/plain": "                                                                  0  \\\nAlgorithm Agent 1                         MinMax Alpha Beta Pruning   \nAlgorithm Agent 2               MinMax Alpha Beta Pruning Hl CutOff   \nMax Depth Agent 1                                                 3   \nMax Depth Agent 2                                                 3   \nNumber CutOff Agent 2                                             5   \nNumber of l Agent 2                                               3   \nOUTCOME                                                   CHECKMATE   \nWinner                                                        Black   \nTotal Time                                              223899.14ms   \nAVG Time Agent 1                                           294.23ms   \nAVG Time Agent 2                                          1427.97ms   \nNumber of Moves Agent 1                                         130   \nNumber of Moves Agent 2                                         130   \nStates Evaluated Agent 1                                     139231   \nStates Evaluated Agent 2                                       5029   \nPruning carried out Agent 1                                   20052   \nPruning carried out Agent 2                                     962   \nStates evaluated H0 Agent 2                                   56984   \nPruning H0 carried out Agent 2                                48649   \nStates evaluated Hl Agent 2                                  663047   \nPruning Hl carried out Agent 2                                29655   \n\n                                                                  1  \\\nAlgorithm Agent 1                         MinMax Alpha Beta Pruning   \nAlgorithm Agent 2               MinMax Alpha Beta Pruning Hl CutOff   \nMax Depth Agent 1                                                 3   \nMax Depth Agent 2                                                 4   \nNumber CutOff Agent 2                                             5   \nNumber of l Agent 2                                               3   \nOUTCOME                                                   CHECKMATE   \nWinner                                                        Black   \nTotal Time                                               81126.13ms   \nAVG Time Agent 1                                          1005.82ms   \nAVG Time Agent 2                                          1380.19ms   \nNumber of Moves Agent 1                                          34   \nNumber of Moves Agent 2                                          34   \nStates Evaluated Agent 1                                     126194   \nStates Evaluated Agent 2                                       9486   \nPruning carried out Agent 1                                   15365   \nPruning carried out Agent 2                                    1439   \nStates evaluated H0 Agent 2                                   58300   \nPruning H0 carried out Agent 2                                43986   \nStates evaluated Hl Agent 2                                  170098   \nPruning Hl carried out Agent 2                                12926   \n\n                                                                  2  \\\nAlgorithm Agent 1                         MinMax Alpha Beta Pruning   \nAlgorithm Agent 2               MinMax Alpha Beta Pruning Hl CutOff   \nMax Depth Agent 1                                                 3   \nMax Depth Agent 2                                                 5   \nNumber CutOff Agent 2                                             5   \nNumber of l Agent 2                                               3   \nOUTCOME                                                   CHECKMATE   \nWinner                                                        Black   \nTotal Time                                              190409.61ms   \nAVG Time Agent 1                                          1511.15ms   \nAVG Time Agent 2                                          3132.96ms   \nNumber of Moves Agent 1                                          41   \nNumber of Moves Agent 2                                          41   \nStates Evaluated Agent 1                                     203683   \nStates Evaluated Agent 2                                      27585   \nPruning carried out Agent 1                                   25503   \nPruning carried out Agent 2                                    5551   \nStates evaluated H0 Agent 2                                  325827   \nPruning H0 carried out Agent 2                               278057   \nStates evaluated Hl Agent 2                                  409485   \nPruning Hl carried out Agent 2                                22957   \n\n                                                                  3  \\\nAlgorithm Agent 1                         MinMax Alpha Beta Pruning   \nAlgorithm Agent 2               MinMax Alpha Beta Pruning Hl CutOff   \nMax Depth Agent 1                                                 2   \nMax Depth Agent 2                                                 6   \nNumber CutOff Agent 2                                             3   \nNumber of l Agent 2                                               3   \nOUTCOME                                                   CHECKMATE   \nWinner                                                        White   \nTotal Time                                               89924.82ms   \nAVG Time Agent 1                                           189.77ms   \nAVG Time Agent 2                                          1998.84ms   \nNumber of Moves Agent 1                                          42   \nNumber of Moves Agent 2                                          41   \nStates Evaluated Agent 1                                      35963   \nStates Evaluated Agent 2                                      14711   \nPruning carried out Agent 1                                       0   \nPruning carried out Agent 2                                    2827   \nStates evaluated H0 Agent 2                                  207613   \nPruning H0 carried out Agent 2                               188212   \nStates evaluated Hl Agent 2                                  201107   \nPruning Hl carried out Agent 2                                23258   \n\n                                                                  4  \nAlgorithm Agent 1                         MinMax Alpha Beta Pruning  \nAlgorithm Agent 2               MinMax Alpha Beta Pruning Hl CutOff  \nMax Depth Agent 1                                                 2  \nMax Depth Agent 2                                                10  \nNumber CutOff Agent 2                                             3  \nNumber of l Agent 2                                               2  \nOUTCOME                                                   CHECKMATE  \nWinner                                                        White  \nTotal Time                                              873085.01ms  \nAVG Time Agent 1                                            77.79ms  \nAVG Time Agent 2                                         11562.26ms  \nNumber of Moves Agent 1                                          76  \nNumber of Moves Agent 2                                          75  \nStates Evaluated Agent 1                                      31806  \nStates Evaluated Agent 2                                     523343  \nPruning carried out Agent 1                                      12  \nPruning carried out Agent 2                                  143328  \nStates evaluated H0 Agent 2                                 5603600  \nPruning H0 carried out Agent 2                              4836578  \nStates evaluated Hl Agent 2                                   23977  \nPruning Hl carried out Agent 2                                  619  ",
      "text/html": "<div>\n<style scoped>\n    .dataframe tbody tr th:only-of-type {\n        vertical-align: middle;\n    }\n\n    .dataframe tbody tr th {\n        vertical-align: top;\n    }\n\n    .dataframe thead th {\n        text-align: right;\n    }\n</style>\n<table border=\"1\" class=\"dataframe\">\n  <thead>\n    <tr style=\"text-align: right;\">\n      <th></th>\n      <th>0</th>\n      <th>1</th>\n      <th>2</th>\n      <th>3</th>\n      <th>4</th>\n    </tr>\n  </thead>\n  <tbody>\n    <tr>\n      <th>Algorithm Agent 1</th>\n      <td>MinMax Alpha Beta Pruning</td>\n      <td>MinMax Alpha Beta Pruning</td>\n      <td>MinMax Alpha Beta Pruning</td>\n      <td>MinMax Alpha Beta Pruning</td>\n      <td>MinMax Alpha Beta Pruning</td>\n    </tr>\n    <tr>\n      <th>Algorithm Agent 2</th>\n      <td>MinMax Alpha Beta Pruning Hl CutOff</td>\n      <td>MinMax Alpha Beta Pruning Hl CutOff</td>\n      <td>MinMax Alpha Beta Pruning Hl CutOff</td>\n      <td>MinMax Alpha Beta Pruning Hl CutOff</td>\n      <td>MinMax Alpha Beta Pruning Hl CutOff</td>\n    </tr>\n    <tr>\n      <th>Max Depth Agent 1</th>\n      <td>3</td>\n      <td>3</td>\n      <td>3</td>\n      <td>2</td>\n      <td>2</td>\n    </tr>\n    <tr>\n      <th>Max Depth Agent 2</th>\n      <td>3</td>\n      <td>4</td>\n      <td>5</td>\n      <td>6</td>\n      <td>10</td>\n    </tr>\n    <tr>\n      <th>Number CutOff Agent 2</th>\n      <td>5</td>\n      <td>5</td>\n      <td>5</td>\n      <td>3</td>\n      <td>3</td>\n    </tr>\n    <tr>\n      <th>Number of l Agent 2</th>\n      <td>3</td>\n      <td>3</td>\n      <td>3</td>\n      <td>3</td>\n      <td>2</td>\n    </tr>\n    <tr>\n      <th>OUTCOME</th>\n      <td>CHECKMATE</td>\n      <td>CHECKMATE</td>\n      <td>CHECKMATE</td>\n      <td>CHECKMATE</td>\n      <td>CHECKMATE</td>\n    </tr>\n    <tr>\n      <th>Winner</th>\n      <td>Black</td>\n      <td>Black</td>\n      <td>Black</td>\n      <td>White</td>\n      <td>White</td>\n    </tr>\n    <tr>\n      <th>Total Time</th>\n      <td>223899.14ms</td>\n      <td>81126.13ms</td>\n      <td>190409.61ms</td>\n      <td>89924.82ms</td>\n      <td>873085.01ms</td>\n    </tr>\n    <tr>\n      <th>AVG Time Agent 1</th>\n      <td>294.23ms</td>\n      <td>1005.82ms</td>\n      <td>1511.15ms</td>\n      <td>189.77ms</td>\n      <td>77.79ms</td>\n    </tr>\n    <tr>\n      <th>AVG Time Agent 2</th>\n      <td>1427.97ms</td>\n      <td>1380.19ms</td>\n      <td>3132.96ms</td>\n      <td>1998.84ms</td>\n      <td>11562.26ms</td>\n    </tr>\n    <tr>\n      <th>Number of Moves Agent 1</th>\n      <td>130</td>\n      <td>34</td>\n      <td>41</td>\n      <td>42</td>\n      <td>76</td>\n    </tr>\n    <tr>\n      <th>Number of Moves Agent 2</th>\n      <td>130</td>\n      <td>34</td>\n      <td>41</td>\n      <td>41</td>\n      <td>75</td>\n    </tr>\n    <tr>\n      <th>States Evaluated Agent 1</th>\n      <td>139231</td>\n      <td>126194</td>\n      <td>203683</td>\n      <td>35963</td>\n      <td>31806</td>\n    </tr>\n    <tr>\n      <th>States Evaluated Agent 2</th>\n      <td>5029</td>\n      <td>9486</td>\n      <td>27585</td>\n      <td>14711</td>\n      <td>523343</td>\n    </tr>\n    <tr>\n      <th>Pruning carried out Agent 1</th>\n      <td>20052</td>\n      <td>15365</td>\n      <td>25503</td>\n      <td>0</td>\n      <td>12</td>\n    </tr>\n    <tr>\n      <th>Pruning carried out Agent 2</th>\n      <td>962</td>\n      <td>1439</td>\n      <td>5551</td>\n      <td>2827</td>\n      <td>143328</td>\n    </tr>\n    <tr>\n      <th>States evaluated H0 Agent 2</th>\n      <td>56984</td>\n      <td>58300</td>\n      <td>325827</td>\n      <td>207613</td>\n      <td>5603600</td>\n    </tr>\n    <tr>\n      <th>Pruning H0 carried out Agent 2</th>\n      <td>48649</td>\n      <td>43986</td>\n      <td>278057</td>\n      <td>188212</td>\n      <td>4836578</td>\n    </tr>\n    <tr>\n      <th>States evaluated Hl Agent 2</th>\n      <td>663047</td>\n      <td>170098</td>\n      <td>409485</td>\n      <td>201107</td>\n      <td>23977</td>\n    </tr>\n    <tr>\n      <th>Pruning Hl carried out Agent 2</th>\n      <td>29655</td>\n      <td>12926</td>\n      <td>22957</td>\n      <td>23258</td>\n      <td>619</td>\n    </tr>\n  </tbody>\n</table>\n</div>"
     },
     "execution_count": 16,
     "metadata": {},
     "output_type": "execute_result"
    }
   ],
   "source": [
    "df_minmax_normal_vs_hl_cut.drop(columns=['Title', 'Heuristic Agent 1', 'Heuristic Agent 2']).head(6).transpose()"
   ]
  },
  {
   "cell_type": "markdown",
   "id": "cbe2e3c80738641",
   "metadata": {
    "collapsed": false
   },
   "source": [
    "Un altro caso singolare è il confronto tra il normale MinMax Alpha-Beta Pruning e Hl, anche in questo caso non è detto che aumentando la profondità vinca l'agente che è più profondo. Se prendiamo in considerazione un Agente a profondità 10 che usa il CutOff Hl non sarà meglio del Agente che usa il normale MinMax Alpha-Beta Pruning. Come visto anche con il caso H0 vs normale MinMax Alpha-Beta Pruning. \n",
    "Notiamo anche che a parità di profondità Hl impiegherà mediamente più tempo per effettuare una mossa. "
   ]
  },
  {
   "cell_type": "markdown",
   "id": "4156b01039c480ea",
   "metadata": {
    "collapsed": false
   },
   "source": [
    "# Considerazioni finali\n",
    "\n",
    "Abbiamo visto l'implementazione di tre nuove versioni del MinMax Alpha-Beta Pruning:\n",
    "- MinMax Alpha-Beta Pruning con taglio e valutazione H0\n",
    "- MinMax Alpha-Beta Pruning con taglio e valutazione Hl\n",
    "- MinMax Alpha-Beta Pruning con utilizzo del regessore\n",
    "\n",
    "Il più veloce risulta essere H0 a discapito però della bontà di scelta della mossa rispetto al normale MinMax Alpha-Beta Pruning.\n",
    "Seguito da Hl che però è leggermente più lento del normale MinMax Alpha-Beta Pruning.\n",
    "Fanalino di coda è Hr che risulta essere più lento e meno bravo a scegliere delle buone mosse.\n",
    "\n",
    "Per quanto riguarda il migliore l dai test effettuati, il migliore l quando L=10 è 2 in quanto maggiore di 2 avvevo un incremento temporale estremamente significativo infatti si passava da 14.55 minuti a 58.98 minuti. Anche se non cambiava l'esito della partita.\n",
    "\n",
    "Confrontando queste versioni tra di loro ci accorgiamo che il migliore a scegliere è Hl seguito da H0, il peggiore rimane Hr.\n",
    "\n",
    "# Informazioni sui migliori motori di gioco\n",
    "## Stockfish\n",
    "\n",
    "Stockfish utilizza un algoritmo di ricerca basato su Alpha-Beta Pruning, arricchito da molteplici ottimizzazioni. Tra queste, si annoverano le tabelle hash (per memorizzare e riutilizzare le valutazioni di posizioni già analizzate), la ricerca di quiescenza (per evitare di valutare posizioni in stato di flusso), e l'implementazione di euristiche come il Null Move Heuristic (che permette di ridurre l'albero di ricerca sotto certe condizioni).\n",
    "\n",
    "Studiando questo motore ho cercato di riutilizzare l'idea delle tabelle hash per memorizzare e riutilizzare le valutazioni di posizioni già analizzate. Nel mio caso ho implementato un dizionario python. Ciò ha migliorato le tempistiche medie.\n",
    "\n",
    "## Leela Chess Zero (LCZero)\n",
    "\n",
    "LCZero si basa su reti neurali e apprendimento rinforzato. Si ispira a AlphaZero di Google DeepMind, utilizzando una rete neurale per valutare le posizioni e selezionare le mosse. LCZero apprende giocando contro se stessa, migliorando nel tempo.\n",
    "\n",
    "Apparentemente non usa la nostra idea di MinMax Alpha-Beta Hr.\n",
    "\n",
    "## Komodo\n",
    "\n",
    "Komodo impiega l'algoritmo Alpha-Beta Pruning, con una serie di ottimizzazioni e euristiche proprie. È noto per il suo equilibrio tra forza tattica e comprensione strategica.\n",
    "\n",
    "## AlphaZero\n",
    "\n",
    "Sviluppato da Google DeepMind, AlphaZero utilizza un approccio basato su reti neurali e apprendimento rinforzato. Invece di basarsi su database di aperture o librerie di mosse finali, AlphaZero apprende giocando contro se stesso, partendo da principi di gioco di base.\n",
    "\n",
    "### Ricercando su internet non ho trovato un motore che usi la nostra idea di MinMax Alpha-Beta Hr. \n",
    "\n",
    "\n"
   ]
  },
  {
   "cell_type": "code",
   "execution_count": 16,
   "id": "8e7988f6842ac3b7",
   "metadata": {
    "collapsed": false,
    "ExecuteTime": {
     "end_time": "2023-11-19T18:06:13.014557500Z",
     "start_time": "2023-11-19T18:06:12.925680700Z"
    }
   },
   "outputs": [],
   "source": []
  }
 ],
 "metadata": {
  "kernelspec": {
   "display_name": "Python 3 (ipykernel)",
   "language": "python",
   "name": "python3"
  },
  "language_info": {
   "codemirror_mode": {
    "name": "ipython",
    "version": 3
   },
   "file_extension": ".py",
   "mimetype": "text/x-python",
   "name": "python",
   "nbconvert_exporter": "python",
   "pygments_lexer": "ipython3",
   "version": "3.12.0"
  }
 },
 "nbformat": 4,
 "nbformat_minor": 5
}
