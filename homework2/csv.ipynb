{
 "cells": [
  {
   "cell_type": "code",
   "execution_count": 1,
   "id": "initial_id",
   "metadata": {
    "collapsed": true,
    "ExecuteTime": {
     "end_time": "2023-11-17T16:55:49.875960200Z",
     "start_time": "2023-11-17T16:55:26.184323800Z"
    }
   },
   "outputs": [
    {
     "data": {
      "text/plain": "     h1    h2        h3        h4        h5        h6         h7         h8  \\\n0  6.25  6.25  0.175439 -2.280702 -2.619048 -4.285714 -10.000000 -10.000000   \n1  6.25  6.25  0.175439  0.175439 -2.619048 -2.619048 -10.000000 -10.000000   \n2  6.25  6.25  2.280702  0.175439 -1.190476 -2.619048 -10.000000 -10.000000   \n3  6.25  6.25  2.280702  0.877193 -1.190476 -1.904762  -8.333333  -8.333333   \n4  6.25  6.25  1.228070  0.877193 -1.666667 -1.904762  -8.333333  -8.333333   \n\n    h9  h10  ...       h18   h19   h20      h21   h22       h23   h24  \\\n0  0.0  5.0  ... -3.333333 -10.0 -10.0 -0.10101 -10.0 -5.263158  10.0   \n1  0.0  0.0  ... -3.333333 -10.0 -10.0  0.10101   0.0  0.000000  10.0   \n2 -5.0  0.0  ... -3.333333 -10.0 -10.0 -0.10101 -10.0 -5.263158  10.0   \n3 -5.0 -5.0  ... -3.333333 -10.0 -10.0  0.10101  10.0  0.000000  10.0   \n4 -5.0 -5.0  ... -3.333333  -6.0 -10.0 -0.10101 -10.0  0.000000  10.0   \n\n        h25   h27  HL  \n0 -3.488372  10.0 -10  \n1  0.000000  10.0  56  \n2  3.488372  10.0  -9  \n3  0.000000  10.0  52  \n4  0.000000  10.0 -26  \n\n[5 rows x 27 columns]",
      "text/html": "<div>\n<style scoped>\n    .dataframe tbody tr th:only-of-type {\n        vertical-align: middle;\n    }\n\n    .dataframe tbody tr th {\n        vertical-align: top;\n    }\n\n    .dataframe thead th {\n        text-align: right;\n    }\n</style>\n<table border=\"1\" class=\"dataframe\">\n  <thead>\n    <tr style=\"text-align: right;\">\n      <th></th>\n      <th>h1</th>\n      <th>h2</th>\n      <th>h3</th>\n      <th>h4</th>\n      <th>h5</th>\n      <th>h6</th>\n      <th>h7</th>\n      <th>h8</th>\n      <th>h9</th>\n      <th>h10</th>\n      <th>...</th>\n      <th>h18</th>\n      <th>h19</th>\n      <th>h20</th>\n      <th>h21</th>\n      <th>h22</th>\n      <th>h23</th>\n      <th>h24</th>\n      <th>h25</th>\n      <th>h27</th>\n      <th>HL</th>\n    </tr>\n  </thead>\n  <tbody>\n    <tr>\n      <th>0</th>\n      <td>6.25</td>\n      <td>6.25</td>\n      <td>0.175439</td>\n      <td>-2.280702</td>\n      <td>-2.619048</td>\n      <td>-4.285714</td>\n      <td>-10.000000</td>\n      <td>-10.000000</td>\n      <td>0.0</td>\n      <td>5.0</td>\n      <td>...</td>\n      <td>-3.333333</td>\n      <td>-10.0</td>\n      <td>-10.0</td>\n      <td>-0.10101</td>\n      <td>-10.0</td>\n      <td>-5.263158</td>\n      <td>10.0</td>\n      <td>-3.488372</td>\n      <td>10.0</td>\n      <td>-10</td>\n    </tr>\n    <tr>\n      <th>1</th>\n      <td>6.25</td>\n      <td>6.25</td>\n      <td>0.175439</td>\n      <td>0.175439</td>\n      <td>-2.619048</td>\n      <td>-2.619048</td>\n      <td>-10.000000</td>\n      <td>-10.000000</td>\n      <td>0.0</td>\n      <td>0.0</td>\n      <td>...</td>\n      <td>-3.333333</td>\n      <td>-10.0</td>\n      <td>-10.0</td>\n      <td>0.10101</td>\n      <td>0.0</td>\n      <td>0.000000</td>\n      <td>10.0</td>\n      <td>0.000000</td>\n      <td>10.0</td>\n      <td>56</td>\n    </tr>\n    <tr>\n      <th>2</th>\n      <td>6.25</td>\n      <td>6.25</td>\n      <td>2.280702</td>\n      <td>0.175439</td>\n      <td>-1.190476</td>\n      <td>-2.619048</td>\n      <td>-10.000000</td>\n      <td>-10.000000</td>\n      <td>-5.0</td>\n      <td>0.0</td>\n      <td>...</td>\n      <td>-3.333333</td>\n      <td>-10.0</td>\n      <td>-10.0</td>\n      <td>-0.10101</td>\n      <td>-10.0</td>\n      <td>-5.263158</td>\n      <td>10.0</td>\n      <td>3.488372</td>\n      <td>10.0</td>\n      <td>-9</td>\n    </tr>\n    <tr>\n      <th>3</th>\n      <td>6.25</td>\n      <td>6.25</td>\n      <td>2.280702</td>\n      <td>0.877193</td>\n      <td>-1.190476</td>\n      <td>-1.904762</td>\n      <td>-8.333333</td>\n      <td>-8.333333</td>\n      <td>-5.0</td>\n      <td>-5.0</td>\n      <td>...</td>\n      <td>-3.333333</td>\n      <td>-10.0</td>\n      <td>-10.0</td>\n      <td>0.10101</td>\n      <td>10.0</td>\n      <td>0.000000</td>\n      <td>10.0</td>\n      <td>0.000000</td>\n      <td>10.0</td>\n      <td>52</td>\n    </tr>\n    <tr>\n      <th>4</th>\n      <td>6.25</td>\n      <td>6.25</td>\n      <td>1.228070</td>\n      <td>0.877193</td>\n      <td>-1.666667</td>\n      <td>-1.904762</td>\n      <td>-8.333333</td>\n      <td>-8.333333</td>\n      <td>-5.0</td>\n      <td>-5.0</td>\n      <td>...</td>\n      <td>-3.333333</td>\n      <td>-6.0</td>\n      <td>-10.0</td>\n      <td>-0.10101</td>\n      <td>-10.0</td>\n      <td>0.000000</td>\n      <td>10.0</td>\n      <td>0.000000</td>\n      <td>10.0</td>\n      <td>-26</td>\n    </tr>\n  </tbody>\n</table>\n<p>5 rows × 27 columns</p>\n</div>"
     },
     "execution_count": 1,
     "metadata": {},
     "output_type": "execute_result"
    }
   ],
   "source": [
    "import pandas as pd\n",
    "\n",
    "\n",
    "df_chunk = pd.read_csv('csv/eval_dataset.csv')\n",
    "df_chunk.head()"
   ]
  },
  {
   "cell_type": "code",
   "execution_count": 2,
   "outputs": [
    {
     "data": {
      "text/plain": "              max           min       mean\nh1       9.583333    -10.000000  -0.052276\nh2       8.750000    -10.000000  -0.074996\nh3       9.298246     -8.947368   1.469996\nh4       9.649123     -8.947368   1.160687\nh5       9.523810     -9.285714  -0.827185\nh6       9.761905     -9.285714  -1.233302\nh7       8.333333    -10.000000  -6.490439\nh8       6.666667    -10.000000  -6.649622\nh9       5.000000    -10.000000  -3.616244\nh10      5.000000    -10.000000  -3.644862\nh11      6.000000    -10.000000   1.294973\nh12      6.000000    -10.000000   0.869684\nh13      7.777778    -10.000000   2.740058\nh14      7.777778    -10.000000   2.788295\nh15     10.000000     -8.181818   8.375355\nh16     10.000000     -8.181818   8.328867\nh17      7.777778     -5.555556   4.678997\nh18      7.777778     -5.555556   4.479263\nh19      6.000000    -10.000000   5.214286\nh20      6.000000    -10.000000   5.064971\nh21     10.000000    -10.000000   0.055219\nh22     10.000000    -10.000000  -0.276645\nh23     10.000000    -10.000000   0.340797\nh24     10.000000      0.000000   9.595793\nh25     10.000000    -10.000000   0.398363\nh27     10.000000    -10.000000   9.226118\nHL   15319.000000 -15312.000000  44.852335",
      "text/html": "<div>\n<style scoped>\n    .dataframe tbody tr th:only-of-type {\n        vertical-align: middle;\n    }\n\n    .dataframe tbody tr th {\n        vertical-align: top;\n    }\n\n    .dataframe thead th {\n        text-align: right;\n    }\n</style>\n<table border=\"1\" class=\"dataframe\">\n  <thead>\n    <tr style=\"text-align: right;\">\n      <th></th>\n      <th>max</th>\n      <th>min</th>\n      <th>mean</th>\n    </tr>\n  </thead>\n  <tbody>\n    <tr>\n      <th>h1</th>\n      <td>9.583333</td>\n      <td>-10.000000</td>\n      <td>-0.052276</td>\n    </tr>\n    <tr>\n      <th>h2</th>\n      <td>8.750000</td>\n      <td>-10.000000</td>\n      <td>-0.074996</td>\n    </tr>\n    <tr>\n      <th>h3</th>\n      <td>9.298246</td>\n      <td>-8.947368</td>\n      <td>1.469996</td>\n    </tr>\n    <tr>\n      <th>h4</th>\n      <td>9.649123</td>\n      <td>-8.947368</td>\n      <td>1.160687</td>\n    </tr>\n    <tr>\n      <th>h5</th>\n      <td>9.523810</td>\n      <td>-9.285714</td>\n      <td>-0.827185</td>\n    </tr>\n    <tr>\n      <th>h6</th>\n      <td>9.761905</td>\n      <td>-9.285714</td>\n      <td>-1.233302</td>\n    </tr>\n    <tr>\n      <th>h7</th>\n      <td>8.333333</td>\n      <td>-10.000000</td>\n      <td>-6.490439</td>\n    </tr>\n    <tr>\n      <th>h8</th>\n      <td>6.666667</td>\n      <td>-10.000000</td>\n      <td>-6.649622</td>\n    </tr>\n    <tr>\n      <th>h9</th>\n      <td>5.000000</td>\n      <td>-10.000000</td>\n      <td>-3.616244</td>\n    </tr>\n    <tr>\n      <th>h10</th>\n      <td>5.000000</td>\n      <td>-10.000000</td>\n      <td>-3.644862</td>\n    </tr>\n    <tr>\n      <th>h11</th>\n      <td>6.000000</td>\n      <td>-10.000000</td>\n      <td>1.294973</td>\n    </tr>\n    <tr>\n      <th>h12</th>\n      <td>6.000000</td>\n      <td>-10.000000</td>\n      <td>0.869684</td>\n    </tr>\n    <tr>\n      <th>h13</th>\n      <td>7.777778</td>\n      <td>-10.000000</td>\n      <td>2.740058</td>\n    </tr>\n    <tr>\n      <th>h14</th>\n      <td>7.777778</td>\n      <td>-10.000000</td>\n      <td>2.788295</td>\n    </tr>\n    <tr>\n      <th>h15</th>\n      <td>10.000000</td>\n      <td>-8.181818</td>\n      <td>8.375355</td>\n    </tr>\n    <tr>\n      <th>h16</th>\n      <td>10.000000</td>\n      <td>-8.181818</td>\n      <td>8.328867</td>\n    </tr>\n    <tr>\n      <th>h17</th>\n      <td>7.777778</td>\n      <td>-5.555556</td>\n      <td>4.678997</td>\n    </tr>\n    <tr>\n      <th>h18</th>\n      <td>7.777778</td>\n      <td>-5.555556</td>\n      <td>4.479263</td>\n    </tr>\n    <tr>\n      <th>h19</th>\n      <td>6.000000</td>\n      <td>-10.000000</td>\n      <td>5.214286</td>\n    </tr>\n    <tr>\n      <th>h20</th>\n      <td>6.000000</td>\n      <td>-10.000000</td>\n      <td>5.064971</td>\n    </tr>\n    <tr>\n      <th>h21</th>\n      <td>10.000000</td>\n      <td>-10.000000</td>\n      <td>0.055219</td>\n    </tr>\n    <tr>\n      <th>h22</th>\n      <td>10.000000</td>\n      <td>-10.000000</td>\n      <td>-0.276645</td>\n    </tr>\n    <tr>\n      <th>h23</th>\n      <td>10.000000</td>\n      <td>-10.000000</td>\n      <td>0.340797</td>\n    </tr>\n    <tr>\n      <th>h24</th>\n      <td>10.000000</td>\n      <td>0.000000</td>\n      <td>9.595793</td>\n    </tr>\n    <tr>\n      <th>h25</th>\n      <td>10.000000</td>\n      <td>-10.000000</td>\n      <td>0.398363</td>\n    </tr>\n    <tr>\n      <th>h27</th>\n      <td>10.000000</td>\n      <td>-10.000000</td>\n      <td>9.226118</td>\n    </tr>\n    <tr>\n      <th>HL</th>\n      <td>15319.000000</td>\n      <td>-15312.000000</td>\n      <td>44.852335</td>\n    </tr>\n  </tbody>\n</table>\n</div>"
     },
     "execution_count": 2,
     "metadata": {},
     "output_type": "execute_result"
    }
   ],
   "source": [
    "df_chunk.agg(['max', 'min', 'mean']).transpose()"
   ],
   "metadata": {
    "collapsed": false,
    "ExecuteTime": {
     "end_time": "2023-11-17T16:55:51.667422800Z",
     "start_time": "2023-11-17T16:55:49.875960200Z"
    }
   },
   "id": "f37068b8eb6fcd78"
  },
  {
   "cell_type": "code",
   "execution_count": 1,
   "outputs": [],
   "source": [
    "import zipfile\n",
    "import os\n",
    "\n",
    "def create_zip(input_file, output_zip):\n",
    "    \"\"\"\n",
    "    Compress a file using the Deflate algorithm.\n",
    "\n",
    "    Parameters:\n",
    "    input_file (str): Path to the file to be compressed.\n",
    "    output_zip (str): Path where the zip file will be saved.\n",
    "    \"\"\"\n",
    "    with zipfile.ZipFile(output_zip, 'w', zipfile.ZIP_DEFLATED) as zipf:\n",
    "        zipf.write(input_file, os.path.basename(input_file))\n",
    "\n",
    "# Replace 'path/to/your/eval_dataset.csv' with the path to your CSV file\n",
    "input_csv_file = './csv/eval_dataset.csv'\n",
    "\n",
    "# Replace 'path/to/your/output_zip.zip' with the desired output path for the zip file\n",
    "output_zip_file = './csv/output_zip.zip'\n",
    "\n",
    "# Creating the ZIP file\n",
    "create_zip(input_csv_file, output_zip_file)"
   ],
   "metadata": {
    "collapsed": false,
    "ExecuteTime": {
     "end_time": "2023-11-17T17:55:31.023387300Z",
     "start_time": "2023-11-17T17:54:38.891834200Z"
    }
   },
   "id": "6e3f8871d6f12f18"
  },
  {
   "cell_type": "code",
   "execution_count": null,
   "outputs": [],
   "source": [],
   "metadata": {
    "collapsed": false
   },
   "id": "7c97ee00d026ef9f"
  }
 ],
 "metadata": {
  "kernelspec": {
   "display_name": "Python 3",
   "language": "python",
   "name": "python3"
  },
  "language_info": {
   "codemirror_mode": {
    "name": "ipython",
    "version": 2
   },
   "file_extension": ".py",
   "mimetype": "text/x-python",
   "name": "python",
   "nbconvert_exporter": "python",
   "pygments_lexer": "ipython2",
   "version": "2.7.6"
  }
 },
 "nbformat": 4,
 "nbformat_minor": 5
}
