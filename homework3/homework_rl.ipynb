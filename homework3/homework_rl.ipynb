{
 "cells": [
  {
   "cell_type": "markdown",
   "id": "7590f6b6cb75e33c",
   "metadata": {
    "collapsed": false
   },
   "source": [
    "## Reinforcement Learning Project\n",
    "\n",
    "**Studente:** Alessandro Mattei\n",
    "**Matricola:** 295441\n",
    "**Email:** alessandro.mattei1@student.univaq.it\n"
   ]
  },
  {
   "cell_type": "code",
   "outputs": [],
   "source": [
    "from agent import Agent\n",
    "from state import State\n",
    "\n",
    "from world import World"
   ],
   "metadata": {
    "collapsed": false,
    "ExecuteTime": {
     "end_time": "2024-01-22T10:57:57.415802900Z",
     "start_time": "2024-01-22T10:57:57.059288800Z"
    }
   },
   "id": "652fd33c4d8fc31a",
   "execution_count": 1
  },
  {
   "cell_type": "markdown",
   "source": [
    "## Introduzione\n",
    "### Il problema del cuoco\n",
    "\n",
    "\n",
    "Consideriamo il caso in cui l'agente sia il vostro cuoco personale.\n",
    "\n",
    "In particolare, l'agente (lo smiley sulla mappa) vuole cucinare la ricetta delle uova in base alle\n",
    "indicazioni dell'utente (strapazzate o in un budino).\n",
    "\n",
    "Per cucinare la ricetta desiderata, l'agente deve prima raccogliere gli strumenti necessari (il frullino\n",
    "per le uova sulla mappa). Poi deve raggiungere i fornelli (la padella o il forno sulla mappa). Infine,\n",
    "può cucinare.\n",
    "\n",
    "Non che ci siano due speciali celle interconnesse (contrassegnate con 1a G) che permettono\n",
    "all'agente di passare da un lato all'altro della mappa. Ma per farlo, l'agente deve esprimere la sua\n",
    "volontà di andare dall'altra parte.\n",
    "\n",
    "Le celle in (4, 2) e (9, 3) sono i cancelli speciali. Permettono all'agente di passare da un lato\n",
    "all'altro della mappa. Queste due celle speciali sono collegate tra loro, ma l'agente deve esprimere\n",
    "la sua volontà di andare dall'altra parte.\n",
    "\n",
    "Dato che siete molto affamati, è fondamentale che l'agente cucini le uova secondo i vostri gusti\n",
    "(strapazzate/pudding) il più velocemente possibile senza farvi aspettare più del necessario.\n",
    "\n",
    "![Figura 1](imgs/figura_1.png \"figura 1\")\n",
    "\n",
    "Figura 1: Un'istanza particolare del problema di cottura di Chef. L'obiettivo è che l'agente\n",
    "attualmente situato nello stato (4, 3) abbia una politica che porti sempre a cucinare le uova nella\n",
    "posizione (1, 4) o (8, 4). Le celle in (4, 2) e (9, 3) sono quelle del cancello speciale.\n",
    "\n",
    "Consideriamo l'istanza mostrata nella Figura 1:\n",
    "- Nella figura, l'agente si trova in (4, 3) (ma può iniziare in qualsiasi cella della griglia).\n",
    "- L'agente ha bisogno di strumenti di cottura come il frullino per le uova in posizione (1, 3) e (8,3).\n",
    "- Ci sono due obiettivi finali diversi, visualizzati come la padella in posizione (1, 4) e il forno in posizione (8, 4).\n",
    "- Le celle in (4, 2) e (9, 3) sono i cancelli speciali. Permettono all'agente di passare da un lato all'afro della mappa. Queste due celle speciali sono collegate tra loro, ma l'agente deve esprimere la sua volontà di andare dall'altra parte.\n",
    "- L'agente non può muoversi in diagonale.\n",
    "- Le pareti sono rappresentate da linee nere spesse.\n",
    "- L'agente non può muoversi attraverso i muri.\n",
    "- Un episodio terminerà quando l'agente riuscirà a cucinare le uova strapazzate (vedi descrizione precedente)."
   ],
   "metadata": {
    "collapsed": false
   },
   "id": "8df2b63b6dbb4fea"
  },
  {
   "cell_type": "markdown",
   "source": [
    "## Analisi\n",
    "\n",
    "Per semplificare il problema consideriamo separatamente gli stati in cui l'agente non hanno in mano lo sbattitore da quelli che ha lo sbattitore (situato in posizione **(3,1)** e **(3.8)** visibile nelle foto in basso). \n",
    "Per far ciò ho duplicato la griglia.\n",
    "\n",
    "![Figura 2](imgs/figura_2.png \"figura 2\")\n",
    "\n",
    "Figura 2: prima griglia che contiene solo gli sbattitori\n",
    "\n",
    "Nella prima griglia (nella figura sopra), l'agente ha l'obiettivo di raggiungere uno dei due **sbattitori**.\n",
    "\n",
    "![Figura 3](imgs/figura_3.png \"figura 3\")\n",
    "\n",
    "Figura 3: seconda griglia che contiene solo le postazioni di cottura\n",
    "\n",
    "![Figura 4](imgs/figura_4.png \"figura 4\")\n",
    "\n",
    "Figura 4: griglia complessiva. Una volta che l'agente avrà preso uno sbattitore potrà andare nella griglia 2 per cucinare (come indicato dalle frecce).\n",
    "\n",
    "Non appena l'agente esegue l'azione **take_whiskr** da una delle due posizioni contenenti uno **sbattitore**, esso viene portato nella seconda griglia seguendo le frecce mostrate nella **figura 4**:\n",
    "- Se l'agente prende lo sbattitore in posizione **(3, 1)** nella griglia in basso, esso viene portato nella griglia in alto in posizione **(7, 1)**\n",
    "- Se l'agente prende lo sbattitore in posizione **(3, 8)** nella griglia in basso, esso viene portato nella griglia in alto in posizione **(7, 8)**\n",
    "\n",
    "Dopo aver raggiunto e **preso uno sbattitore**, l'agente deve raggiungere una delle due postazioni di cucina che sono nella griglia superiore (situati nelle posizioni **(8, 1)** e **(8, 8)** nella griglia in alto) per cucinare le uova (la postazione di cucina da raggiungere dipende dalla ricetta che l'agente deve cucinare)\n",
    "\n",
    "L'agente dovrà percorrere entrambe le griglie per raggiungere l'obiettivo finale. Dalla prima griglia alla seconda griglia.\n",
    "\n",
    "Nella seconda griglia (griglia situata in alto), l'agente ha l'obiettivo di raggiungere una delle due postazioni di cucina e di eseguire quindi l'azione **cook**:\n",
    "- la postazione di cucina per il piatto **scrambled eggs** è situato in posizione **(8, 1)**\n",
    "- la postazione di cucina per il piatto **pudding eggs** è situato in posizione **(8, 8)**\n",
    "\n",
    "In entrambe le griglie sono situati dei **Gate** che hanno la funzione di trasportare l'agente da una stanza all'altra delle stessa griglia, l'agente quando si trova su uno di questi può usare il **Gate** tramite l'azione **go_rigth** o **go_left**:\n",
    "- la postazione di **Gate** situato in posizione **(2, 4)** trasporta l'agente in posizione **(3, 9)** se effettua l'azione **go_right**\n",
    "- la postazione di **Gate** situato in posizione **(3, 9)** trasporta l'agente in posizione **(2, 4)** se effettua l'azione **go_left**\n",
    "- la postazione di **Gate** situato in posizione **(6, 4)** trasporta l'agente in posizione **(7, 9)** se effettua l'azione **go_right**\n",
    "- la postazione di **Gate** situato in posizione **(7, 9)** trasporta l'agente in posizione **(6, 4)** se effettua l'azione **go_left**"
   ],
   "metadata": {
    "collapsed": false
   },
   "id": "f225e4c8dbf53fc1"
  },
  {
   "cell_type": "markdown",
   "source": [
    "#### Definiamo tutti i possibili stati\n",
    "\n",
    "Ogni stato del sistema corrisponde a una posizione possibile che l'agente può assumere nella griglia.\n",
    "\n",
    "Tutte le posizione della **colonna 5** che non possono essere fisicamente raggiunte non saranno presenti tra gli stati possibili del problema (posizioni impossibili).\n",
    "\n",
    "Vediamo una rappresentazione in Tupla posizionale."
   ],
   "metadata": {
    "collapsed": false
   },
   "id": "ffe3328395238a23"
  },
  {
   "cell_type": "code",
   "outputs": [
    {
     "name": "stdout",
     "output_type": "stream",
     "text": [
      " (8, 1)  (8, 2)  (8, 3)  (8, 4)      (8, 6)  (8, 7)  (8, 8)  (8, 9) \n",
      " (7, 1)  (7, 2)  (7, 3)  (7, 4)      (7, 6)  (7, 7)  (7, 8)  (7, 9) \n",
      " (6, 1)  (6, 2)  (6, 3)  (6, 4)      (6, 6)  (6, 7)  (6, 8)  (6, 9) \n",
      " (5, 1)  (5, 2)  (5, 3)  (5, 4)      (5, 6)  (5, 7)  (5, 8)  (5, 9) \n",
      "\n",
      "\n",
      " (4, 1)  (4, 2)  (4, 3)  (4, 4)      (4, 6)  (4, 7)  (4, 8)  (4, 9) \n",
      " (3, 1)  (3, 2)  (3, 3)  (3, 4)      (3, 6)  (3, 7)  (3, 8)  (3, 9) \n",
      " (2, 1)  (2, 2)  (2, 3)  (2, 4)      (2, 6)  (2, 7)  (2, 8)  (2, 9) \n",
      " (1, 1)  (1, 2)  (1, 3)  (1, 4)      (1, 6)  (1, 7)  (1, 8)  (1, 9) \n"
     ]
    }
   ],
   "source": [
    "world = World()\n",
    "world.print_states(True)"
   ],
   "metadata": {
    "collapsed": false,
    "ExecuteTime": {
     "end_time": "2024-01-22T10:57:57.449063700Z",
     "start_time": "2024-01-22T10:57:57.415802900Z"
    }
   },
   "id": "96b4d383712f90ce",
   "execution_count": 2
  },
  {
   "cell_type": "markdown",
   "source": [
    "Vediamo una rappresentazione dei stati in versione numerica."
   ],
   "metadata": {
    "collapsed": false
   },
   "id": "1c58c64532a9ef11"
  },
  {
   "cell_type": "code",
   "outputs": [
    {
     "name": "stdout",
     "output_type": "stream",
     "text": [
      " 56  57  58  59      60  61  62  63 \n",
      " 48  49  50  51      52  53  54  55 \n",
      " 40  41  42  43      44  45  46  47 \n",
      " 32  33  34  35      36  37  38  39 \n",
      "\n",
      "\n",
      " 24  25  26  27      28  29  30  31 \n",
      " 16  17  18  19      20  21  22  23 \n",
      " 8   9   10  11      12  13  14  15 \n",
      " 0   1   2   3       4   5   6   7  \n"
     ]
    }
   ],
   "source": [
    "world.print_states(False)"
   ],
   "metadata": {
    "collapsed": false,
    "ExecuteTime": {
     "end_time": "2024-01-22T10:57:57.450065100Z",
     "start_time": "2024-01-22T10:57:57.438594500Z"
    }
   },
   "id": "fa71828cda8111ae",
   "execution_count": 3
  },
  {
   "cell_type": "markdown",
   "source": [
    "Il numero totale di Stati è 64."
   ],
   "metadata": {
    "collapsed": false
   },
   "id": "150303ff048070c5"
  },
  {
   "cell_type": "code",
   "outputs": [
    {
     "name": "stdout",
     "output_type": "stream",
     "text": [
      "64\n"
     ]
    },
    {
     "data": {
      "text/plain": "[State{number: 0, position: (1, 1)},\n State{number: 1, position: (1, 2)},\n State{number: 2, position: (1, 3)},\n State{number: 3, position: (1, 4)},\n State{number: 4, position: (1, 6)},\n State{number: 5, position: (1, 7)},\n State{number: 6, position: (1, 8)},\n State{number: 7, position: (1, 9)},\n State{number: 8, position: (2, 1)},\n State{number: 9, position: (2, 2)},\n State{number: 10, position: (2, 3)},\n State{number: 11, position: (2, 4)},\n State{number: 12, position: (2, 6)},\n State{number: 13, position: (2, 7)},\n State{number: 14, position: (2, 8)},\n State{number: 15, position: (2, 9)},\n State{number: 16, position: (3, 1)},\n State{number: 17, position: (3, 2)},\n State{number: 18, position: (3, 3)},\n State{number: 19, position: (3, 4)},\n State{number: 20, position: (3, 6)},\n State{number: 21, position: (3, 7)},\n State{number: 22, position: (3, 8)},\n State{number: 23, position: (3, 9)},\n State{number: 24, position: (4, 1)},\n State{number: 25, position: (4, 2)},\n State{number: 26, position: (4, 3)},\n State{number: 27, position: (4, 4)},\n State{number: 28, position: (4, 6)},\n State{number: 29, position: (4, 7)},\n State{number: 30, position: (4, 8)},\n State{number: 31, position: (4, 9)},\n State{number: 32, position: (5, 1)},\n State{number: 33, position: (5, 2)},\n State{number: 34, position: (5, 3)},\n State{number: 35, position: (5, 4)},\n State{number: 36, position: (5, 6)},\n State{number: 37, position: (5, 7)},\n State{number: 38, position: (5, 8)},\n State{number: 39, position: (5, 9)},\n State{number: 40, position: (6, 1)},\n State{number: 41, position: (6, 2)},\n State{number: 42, position: (6, 3)},\n State{number: 43, position: (6, 4)},\n State{number: 44, position: (6, 6)},\n State{number: 45, position: (6, 7)},\n State{number: 46, position: (6, 8)},\n State{number: 47, position: (6, 9)},\n State{number: 48, position: (7, 1)},\n State{number: 49, position: (7, 2)},\n State{number: 50, position: (7, 3)},\n State{number: 51, position: (7, 4)},\n State{number: 52, position: (7, 6)},\n State{number: 53, position: (7, 7)},\n State{number: 54, position: (7, 8)},\n State{number: 55, position: (7, 9)},\n State{number: 56, position: (8, 1)},\n State{number: 57, position: (8, 2)},\n State{number: 58, position: (8, 3)},\n State{number: 59, position: (8, 4)},\n State{number: 60, position: (8, 6)},\n State{number: 61, position: (8, 7)},\n State{number: 62, position: (8, 8)},\n State{number: 63, position: (8, 9)}]"
     },
     "execution_count": 4,
     "metadata": {},
     "output_type": "execute_result"
    }
   ],
   "source": [
    "print(len(world.S))\n",
    "world.S"
   ],
   "metadata": {
    "collapsed": false,
    "ExecuteTime": {
     "end_time": "2024-01-22T10:57:57.460604300Z",
     "start_time": "2024-01-22T10:57:57.449063700Z"
    }
   },
   "id": "c09865b900ee9da9",
   "execution_count": 4
  },
  {
   "cell_type": "markdown",
   "source": [
    "## Definizioni delle azioni Possibili\n",
    "\n",
    "L'agente può effettuare le **azioni di movimento** (**left**, **right**, **up**, **down**) e inoltre può effettuare alcune azioni specifiche per specifichi stati:\n",
    "- L'azione **take_whiskr** corrisponde all'azione di prendere lo sbattitore. A seguito della sua applicazione, l'agente viene portato nella seconda griglia.\n",
    "- L'azione **go_right** corrisponde all'azione di utilizzo del Gate posizionato nella stanza di sinistra. A seguito della sua applicazione, l'agente viene portato nella seconda stanza dalle prima stanza.\n",
    "- L'azione **go_left** corrisponde all'azione di utilizzo del Gate posizionato nella stanza di destra. A seguito della sua applicazione, l'agente viene portato nella prima stanza dalla seconda stanza.\n",
    "- L'azione **cook** corrisponde all'azione di cucinare le uova. In questo caso, l'applicazione di questa azione porta l'agente a rimanere fermo (absorbing state). L'esecuzione di questa azione rappresenta l'obiettivo finale dell'agente\n",
    "\n",
    "L'insieme **A** è il seguente:\n",
    "- azione 0: **left ←**\n",
    "- azione 1: **right →**\n",
    "- azione 2: **up ↑**\n",
    "- azione 3: **down ↓**\n",
    "- azione 4: **take_whiskr T**\n",
    "- azione 5: **go_right R**\n",
    "- azione 6: **go_left L**\n",
    "- azione 7: **cook C**"
   ],
   "metadata": {
    "collapsed": false
   },
   "id": "3cb737627aabc4d1"
  },
  {
   "cell_type": "code",
   "outputs": [
    {
     "data": {
      "text/plain": "[Action{name: left, number: 0, function: action_left, ascii: ←},\n Action{name: right, number: 1, function: action_right, ascii: →},\n Action{name: up, number: 2, function: action_up, ascii: ↑},\n Action{name: down, number: 3, function: action_down, ascii: ↓},\n Action{name: take_whiskr, number: 4, function: action_take_whiskr, ascii: T},\n Action{name: go_right, number: 5, function: action_go_right, ascii: R},\n Action{name: go_left, number: 6, function: action_go_left, ascii: L},\n Action{name: cook, number: 7, function: action_cook, ascii: C}]"
     },
     "execution_count": 5,
     "metadata": {},
     "output_type": "execute_result"
    }
   ],
   "source": [
    "world.A"
   ],
   "metadata": {
    "collapsed": false,
    "ExecuteTime": {
     "end_time": "2024-01-22T10:57:57.469053500Z",
     "start_time": "2024-01-22T10:57:57.460604300Z"
    }
   },
   "id": "efb00b42f380c370",
   "execution_count": 5
  },
  {
   "cell_type": "markdown",
   "source": [
    "Costruiamo ora una mappa delle azioni possibili per ogni stato.\n",
    "In questo caso modelliamo questa mappa per permettere entrambe le ricette contemporaneamente, ma in seguito se decidiamo una ricetta elimineremo l'azione di cucinare in funzione della ricetta:\n",
    "-  Se si decide di cucinare **scrambled eggs (8, 1)** allora l'azione **cook** allo stato **62 (8,8)** verrà eliminata dalla mappa\n",
    "-  Se si decide di cucinare **pudding eggs (8,8)** allora l'azione **cook** allo stato **56 (8,1)** verrà eliminata dalla mappa\n",
    "\n",
    "Un'altra alternativa alla rimozione dell'azione **cook** è quella di impostare una ricompensa estremamente negativa e svantaggiosa, così da non farla prediligere rispetto alle altre azioni possibili."
   ],
   "metadata": {
    "collapsed": false
   },
   "id": "3c60ec22c189cedb"
  },
  {
   "cell_type": "code",
   "outputs": [
    {
     "data": {
      "text/plain": "{0: [1],\n 1: [0, 1],\n 2: [0, 1],\n 3: [0, 2],\n 4: [1, 2],\n 5: [0, 1, 2],\n 6: [0, 1],\n 7: [0, 2],\n 8: [1, 2],\n 9: [0, 1],\n 10: [0, 1],\n 11: [0, 2, 3, 5],\n 12: [1, 2, 3],\n 13: [0, 2, 3],\n 14: [1, 2],\n 15: [0, 2, 3],\n 16: [3, 4],\n 17: [1, 2],\n 18: [0, 1, 2],\n 19: [0, 2, 3],\n 20: [1, 2, 3],\n 21: [0, 2, 3],\n 22: [1, 3, 4],\n 23: [0, 3, 6],\n 24: [1],\n 25: [0, 1, 3],\n 26: [0, 1, 3],\n 27: [0, 3],\n 28: [1, 3],\n 29: [0, 1, 3],\n 30: [0, 1],\n 31: [0],\n 32: [1],\n 33: [0, 1],\n 34: [0, 1],\n 35: [0, 2],\n 36: [1, 2],\n 37: [0, 1, 2],\n 38: [0, 1],\n 39: [0, 2],\n 40: [1, 2],\n 41: [0, 1],\n 42: [0, 1],\n 43: [0, 2, 3, 5],\n 44: [1, 2, 3],\n 45: [0, 2, 3],\n 46: [1, 2],\n 47: [0, 2, 3],\n 48: [3],\n 49: [1, 2],\n 50: [0, 1, 2],\n 51: [0, 2, 3],\n 52: [1, 2, 3],\n 53: [0, 2, 3],\n 54: [1, 3],\n 55: [0, 3, 6],\n 56: [1, 7],\n 57: [0, 1, 3],\n 58: [0, 1, 3],\n 59: [0, 3],\n 60: [1, 3],\n 61: [0, 1, 3],\n 62: [0, 1, 7],\n 63: [0]}"
     },
     "execution_count": 6,
     "metadata": {},
     "output_type": "execute_result"
    }
   ],
   "source": [
    "world.am"
   ],
   "metadata": {
    "collapsed": false,
    "ExecuteTime": {
     "end_time": "2024-01-22T10:57:57.520208Z",
     "start_time": "2024-01-22T10:57:57.470072Z"
    }
   },
   "id": "ccc9d69a6e012d0c",
   "execution_count": 6
  },
  {
   "cell_type": "markdown",
   "source": [
    "## Creazione insieme di Transizioni P \n",
    "### d) Report the transition function $P$ for an state $s$ and action $a$ in a tabular format.\n",
    "\n",
    "Creiamo la matrice a 3 dimensioni di transizione $P[A, S, S']$:\n",
    "- $A$: sono le Azioni\n",
    "- $S$: sono gli stati sorgente\n",
    "- $S'$: sono gli stati di destinazione\n",
    "\n",
    "Modelliamo il problema assumendo che non ci sono effetti imprevisti a seguito dell'applicazione delle azioni:\n",
    "\n",
    "da uno stato **sorgente** applicando l'**azione**, abbiamo soltanto **uno stato destinazione** (stato raggiungibile con probabilità **1**)\n",
    "\n",
    "![Figura 5](imgs/figura_5.png \"figura 5\")\n",
    "Figura 5: Esempio di comportamento dell'agente a seguito dell'applicazione dell'azione **up**"
   ],
   "metadata": {
    "collapsed": false
   },
   "id": "52e97ff429f0bafc"
  },
  {
   "cell_type": "code",
   "outputs": [
    {
     "data": {
      "text/plain": "array([[[0., 0., 0., ..., 0., 0., 0.],\n        [1., 0., 0., ..., 0., 0., 0.],\n        [0., 1., 0., ..., 0., 0., 0.],\n        ...,\n        [0., 0., 0., ..., 0., 0., 0.],\n        [0., 0., 0., ..., 1., 0., 0.],\n        [0., 0., 0., ..., 0., 1., 0.]],\n\n       [[0., 1., 0., ..., 0., 0., 0.],\n        [0., 0., 1., ..., 0., 0., 0.],\n        [0., 0., 0., ..., 0., 0., 0.],\n        ...,\n        [0., 0., 0., ..., 0., 1., 0.],\n        [0., 0., 0., ..., 0., 0., 1.],\n        [0., 0., 0., ..., 0., 0., 0.]],\n\n       [[0., 0., 0., ..., 0., 0., 0.],\n        [0., 0., 0., ..., 0., 0., 0.],\n        [0., 0., 0., ..., 0., 0., 0.],\n        ...,\n        [0., 0., 0., ..., 0., 0., 0.],\n        [0., 0., 0., ..., 0., 0., 0.],\n        [0., 0., 0., ..., 0., 0., 0.]],\n\n       ...,\n\n       [[0., 0., 0., ..., 0., 0., 0.],\n        [0., 0., 0., ..., 0., 0., 0.],\n        [0., 0., 0., ..., 0., 0., 0.],\n        ...,\n        [0., 0., 0., ..., 0., 0., 0.],\n        [0., 0., 0., ..., 0., 0., 0.],\n        [0., 0., 0., ..., 0., 0., 0.]],\n\n       [[0., 0., 0., ..., 0., 0., 0.],\n        [0., 0., 0., ..., 0., 0., 0.],\n        [0., 0., 0., ..., 0., 0., 0.],\n        ...,\n        [0., 0., 0., ..., 0., 0., 0.],\n        [0., 0., 0., ..., 0., 0., 0.],\n        [0., 0., 0., ..., 0., 0., 0.]],\n\n       [[0., 0., 0., ..., 0., 0., 0.],\n        [0., 0., 0., ..., 0., 0., 0.],\n        [0., 0., 0., ..., 0., 0., 0.],\n        ...,\n        [0., 0., 0., ..., 0., 0., 0.],\n        [0., 0., 0., ..., 0., 1., 0.],\n        [0., 0., 0., ..., 0., 0., 0.]]])"
     },
     "execution_count": 7,
     "metadata": {},
     "output_type": "execute_result"
    }
   ],
   "source": [
    "world.P"
   ],
   "metadata": {
    "collapsed": false,
    "ExecuteTime": {
     "end_time": "2024-01-22T10:57:57.520208Z",
     "start_time": "2024-01-22T10:57:57.479721200Z"
    }
   },
   "id": "26fe8d3233dc61ce",
   "execution_count": 7
  },
  {
   "cell_type": "markdown",
   "source": [
    "Costruiamo le varie matrici di transizione $P$ per ogni azione specificata.\n",
    "\n",
    "Stampiamo una tabella che descrive una matrice $S X S'$ per l'azione scelta.\n",
    "$P[left, S, S']$"
   ],
   "metadata": {
    "collapsed": false
   },
   "id": "a696a9549a1183c3"
  },
  {
   "cell_type": "code",
   "outputs": [],
   "source": [
    "# transition_left = world.print_transitions_matrix(action='left')\n",
    "# transition_left.to_csv(\"transitions/transition_left.csv\")\n",
    "# transition_left"
   ],
   "metadata": {
    "collapsed": false,
    "ExecuteTime": {
     "end_time": "2024-01-22T10:57:57.521225Z",
     "start_time": "2024-01-22T10:57:57.489543300Z"
    }
   },
   "id": "696e2c650b852966",
   "execution_count": 8
  },
  {
   "cell_type": "markdown",
   "source": [
    "<p>\n",
    "$P[right, S, S']$\n",
    "</p>"
   ],
   "metadata": {
    "collapsed": false
   },
   "id": "b6265cce5f9992dc"
  },
  {
   "cell_type": "code",
   "outputs": [],
   "source": [
    "# transition_right = world.print_transitions_matrix(action='right')\n",
    "# transition_right.to_csv(\"transitions/transition_right.csv\")\n",
    "# transition_right"
   ],
   "metadata": {
    "collapsed": false,
    "ExecuteTime": {
     "end_time": "2024-01-22T10:57:57.558450900Z",
     "start_time": "2024-01-22T10:57:57.497318500Z"
    }
   },
   "id": "d2457b857a1d44f6",
   "execution_count": 9
  },
  {
   "cell_type": "markdown",
   "source": [
    "<p>$P[up, S, S']$</p>"
   ],
   "metadata": {
    "collapsed": false
   },
   "id": "b5b0be31d981c00a"
  },
  {
   "cell_type": "code",
   "outputs": [],
   "source": [
    "# transition_up = world.print_transitions_matrix(action='up')\n",
    "# transition_up.to_csv(\"transitions/transition_up.csv\")\n",
    "# transition_up"
   ],
   "metadata": {
    "collapsed": false,
    "ExecuteTime": {
     "end_time": "2024-01-22T10:57:57.559526300Z",
     "start_time": "2024-01-22T10:57:57.504759800Z"
    }
   },
   "id": "a9d25cf3c931e8b3",
   "execution_count": 10
  },
  {
   "cell_type": "markdown",
   "source": [
    "<p>$P[down, S, S']$</p>"
   ],
   "metadata": {
    "collapsed": false
   },
   "id": "4b6cdc88fe44a7cb"
  },
  {
   "cell_type": "code",
   "outputs": [],
   "source": [
    "# transition_down = world.print_transitions_matrix(action=\"down\")\n",
    "# transition_down.to_csv(\"transitions/transition_down.csv\")\n",
    "# transition_down"
   ],
   "metadata": {
    "collapsed": false,
    "ExecuteTime": {
     "end_time": "2024-01-22T10:57:57.561643700Z",
     "start_time": "2024-01-22T10:57:57.513984700Z"
    }
   },
   "id": "bfd6e3b6746d5893",
   "execution_count": 11
  },
  {
   "cell_type": "markdown",
   "source": [
    "<p>$P[take_whiskr, S, S']$</p>"
   ],
   "metadata": {
    "collapsed": false
   },
   "id": "8a16543f5f810504"
  },
  {
   "cell_type": "code",
   "outputs": [],
   "source": [
    "# transition_take_whiskr = world.print_transitions_matrix(action='take_whiskr')\n",
    "# transition_take_whiskr.to_csv(\"transitions/transition_take_whiskr.csv\")\n",
    "# transition_take_whiskr"
   ],
   "metadata": {
    "collapsed": false,
    "ExecuteTime": {
     "end_time": "2024-01-22T10:57:57.562661500Z",
     "start_time": "2024-01-22T10:57:57.521225Z"
    }
   },
   "id": "2f48d09611ed58a8",
   "execution_count": 12
  },
  {
   "cell_type": "markdown",
   "source": [
    "<p>$P[go_right, S, S']$</p>"
   ],
   "metadata": {
    "collapsed": false
   },
   "id": "9dc1840c2cd5e53d"
  },
  {
   "cell_type": "code",
   "outputs": [],
   "source": [
    "# transition_go_right = world.print_transitions_matrix(action='go_right')\n",
    "# transition_go_right.to_csv(\"transitions/transition_go_right.csv\")\n",
    "# transition_go_right"
   ],
   "metadata": {
    "collapsed": false,
    "ExecuteTime": {
     "end_time": "2024-01-22T10:57:57.563312800Z",
     "start_time": "2024-01-22T10:57:57.531293Z"
    }
   },
   "id": "3657697cefdc0519",
   "execution_count": 13
  },
  {
   "cell_type": "markdown",
   "source": [
    "<p>$P[go_left, S, S']$</p>"
   ],
   "metadata": {
    "collapsed": false
   },
   "id": "783cd99016d94185"
  },
  {
   "cell_type": "code",
   "outputs": [],
   "source": [
    "# transition_go_left = world.print_transitions_matrix(action='go_left')\n",
    "# transition_go_left.to_csv(\"transitions/transition_go_left.csv\")\n",
    "# transition_go_left"
   ],
   "metadata": {
    "collapsed": false,
    "ExecuteTime": {
     "end_time": "2024-01-22T10:57:57.563312800Z",
     "start_time": "2024-01-22T10:57:57.540456200Z"
    }
   },
   "id": "e0d42e9db68dddc7",
   "execution_count": 14
  },
  {
   "cell_type": "markdown",
   "source": [
    "<p>$P[cook, S, S']$</p>"
   ],
   "metadata": {
    "collapsed": false
   },
   "id": "e3600c785c5cca4f"
  },
  {
   "cell_type": "code",
   "outputs": [],
   "source": [
    "# transition_cook = world.print_transitions_matrix(action='cook')\n",
    "# transition_cook.to_csv(\"transitions/transition_cook.csv\")\n",
    "# transition_cook"
   ],
   "metadata": {
    "collapsed": false,
    "ExecuteTime": {
     "end_time": "2024-01-22T10:57:57.599038400Z",
     "start_time": "2024-01-22T10:57:57.547355500Z"
    }
   },
   "id": "c1753be4bfae8bac",
   "execution_count": 15
  },
  {
   "cell_type": "markdown",
   "source": [
    "## Creazione Insieme di reward $R$\n",
    "### e) Describe a reward function $R : S × A × S$ and a value of $γ$ that will lead to an optimal policy\n",
    "\n",
    "Il nostro obbiettivo è cucinare il piatto **pudding eggs**.\n",
    "\n",
    "Un possibile approccio alla scelta dei rewards da assegnare all'agente per guidarlo nella risoluzione del problema è il seguente:\n",
    "- Premio per l'obbiettivo $+100$ cucinare il piatto **pudding eggs** allo stato 62\n",
    "- Premio per l'obbiettivo intermedio $+50$ prendere uno sbattitore posizionato allo stato **16** o **22**\n",
    "- Penalizzazione per un azione non valida $-1$\n",
    "- nei casi rimanenti il Premio sarà $0$"
   ],
   "metadata": {
    "collapsed": false
   },
   "id": "aa72c9751124cac9"
  },
  {
   "cell_type": "code",
   "outputs": [
    {
     "name": "stdout",
     "output_type": "stream",
     "text": [
      "100.0\n",
      "-1.0\n",
      "50.0\n",
      "50.0\n"
     ]
    },
    {
     "data": {
      "text/plain": "-1.0"
     },
     "execution_count": 16,
     "metadata": {},
     "output_type": "execute_result"
    }
   ],
   "source": [
    "# caso cook (goal)\n",
    "print(world.R[62, 7, 62])\n",
    "# caso cook sbagliato\n",
    "print(world.R[56, 7, 56])\n",
    "# caso take_whiskr\n",
    "print(world.R[16, 4, 48])\n",
    "# caso take_whiskr\n",
    "print(world.R[22, 4, 54])\n",
    "# caso non valido\n",
    "# lo stato 22 ha le seguenti azioni: [1, 3, 4]\n",
    "world.R[22, 2, 22]"
   ],
   "metadata": {
    "collapsed": false,
    "ExecuteTime": {
     "end_time": "2024-01-22T10:57:57.602350700Z",
     "start_time": "2024-01-22T10:57:57.555807600Z"
    }
   },
   "id": "714645970e096f3d",
   "execution_count": 16
  },
  {
   "cell_type": "markdown",
   "source": [
    "## implementazione scenario Model free\n",
    "\n",
    "### h) Now, considering the problem as a model-free scenario, provide a program (written in Python, possibly based on the labs) that can compute the optimal policy for this world by solely considering the pudding eggs scenario. Draw the computed policy in the grid by putting the optimal action in each cell. If multiple actions are possible, include the probability of each arrow. There may be multiple optimal policies; pick one to show it. Note that the model is not available for computation but must be encoded to be used as the \"real-world\" environment.\n",
    "\n",
    "In questo caso, non sarà possibile accedere al **transition model** e al **reward model** del problema.\n",
    "\n",
    "Per la specifica **Model-free**, consideriamo soltanto lo scenario **pudding eggs**.\n",
    "\n",
    "Definiamo una funzione di policy iniziale insieme a una funzione di generazione di episodi. Useremo e adatteremo il codice sviluppato durante il laboratorio."
   ],
   "metadata": {
    "collapsed": false
   },
   "id": "b4ea21049bea5e32"
  },
  {
   "cell_type": "code",
   "outputs": [],
   "source": [
    "def simple_policy(s: State):\n",
    "    return world.am[s.number][0]\n",
    "\n",
    "# \n",
    "# STARTING_STATE_ID = 19\n",
    "# DISCOUNT_FACTOR = 0.5 \n",
    "# starting_state = S[STARTING_STATE_ID]\n",
    "# states = [starting_state]\n",
    "# policy = {}\n",
    "# policy_function = simple_policy\n",
    "# \n",
    "# for action in A:\n",
    "#     policy[(starting_state, action)] = 1 if action == policy_function(starting_state) else 0\n",
    "# \n",
    "# current_state = starting_state\n",
    "# \n",
    "# def generate_episode(length = 200, return_actions=False, first_state=None, first_action=None, random_first_state=False):\n",
    "#     state = starting_state if first_state == None else first_state\n",
    "#     if random_first_state:\n",
    "#         initial_states = states[states < 32]\n",
    "#         state = np.random.choice(initial_states)\n",
    "# \n",
    "#     action_state = []\n",
    "#     episode_state = [state]\n",
    "# \n",
    "#     if first_action != None:\n",
    "#         action_state.append(first_action)\n",
    "#         state = next_state(state, first_action)\n",
    "#         episode_state.append(state)\n",
    "# \n",
    "#     while len(episode_state) < length:\n",
    "#         if state not in states:\n",
    "#             states.append(state)\n",
    "#             for action in A:\n",
    "#                 policy[(state, action)] = 0\n",
    "#             policy[(state, policy_function(state))] = 1\n",
    "#         \n",
    "#         action_probabilities = [policy[(state, action)] for action in A]\n",
    "#         action = np.random.choice(list(A), p=action_probabilities)\n",
    "#         action_state.append(action)\n",
    "#         state = next_state(state, action)\n",
    "#         episode_state.append(state)\n",
    "#         \n",
    "#         if state == 62 and action == 7:\n",
    "#             break\n",
    "#             \n",
    "#     action_probabilities = [policy[(current_state, action)] for action in A]\n",
    "#     action = np.random.choice(list(A), p=action_probabilities)\n",
    "#     action_state.append(action)\n",
    "#     \n",
    "#     state_action = []\n",
    "#     for i in range(len(episode_state)):\n",
    "#         state_action.append({'s': episode_state[i], 'a': action_state[i]})\n",
    "#         \n",
    "#     \n",
    "#     return episode_state if not return_actions else state_action\n"
   ],
   "metadata": {
    "collapsed": false,
    "ExecuteTime": {
     "end_time": "2024-01-22T10:57:57.603368100Z",
     "start_time": "2024-01-22T10:57:57.565439500Z"
    }
   },
   "id": "1b5ba813e314042d",
   "execution_count": 17
  },
  {
   "cell_type": "code",
   "outputs": [
    {
     "name": "stdout",
     "output_type": "stream",
     "text": [
      "{(19, 'left'): -2.804838774119153e-30, (19, 'right'): -1.0, (19, 'up'): 0.0, (19, 'down'): 0.0, (19, 'take_whiskr'): -1.0, (19, 'go_right'): -1.0, (19, 'go_left'): -1.0, (19, 'cook'): -1.0, (18, 'left'): -0.009001406469760834, (18, 'right'): -1.5777218104420236e-30, (18, 'up'): -1.5777218104420236e-30, (18, 'down'): -1.0, (18, 'take_whiskr'): -1.0, (18, 'go_right'): -1.0, (18, 'go_left'): -1.0, (18, 'cook'): -1.0, (17, 'left'): -1.0, (17, 'right'): -0.004562303963501535, (17, 'up'): 0.0, (17, 'down'): -1.0, (17, 'take_whiskr'): -1.0, (17, 'go_right'): -1.0, (17, 'go_left'): -1.0, (17, 'cook'): -1.0, (27, 'left'): -1.7530242338244706e-31, (27, 'right'): -1.0, (27, 'up'): -1.0, (27, 'down'): -1.5777218104420236e-30, (27, 'take_whiskr'): -1.0, (27, 'go_right'): -1.0, (27, 'go_left'): -1.0, (27, 'cook'): -1.0, (26, 'left'): -1.4849146451219046e-30, (26, 'right'): 0.0, (26, 'up'): -1.0, (26, 'down'): 0.0, (26, 'take_whiskr'): -1.0, (26, 'go_right'): -1.0, (26, 'go_left'): -1.0, (26, 'cook'): -1.0, (25, 'left'): -0.006763897696047298, (25, 'right'): -1.5777218104420236e-30, (25, 'up'): -1.0, (25, 'down'): -1.5777218104420236e-30, (25, 'take_whiskr'): -1.0, (25, 'go_right'): -1.0, (25, 'go_left'): -1.0, (25, 'cook'): -1.0, (24, 'left'): -1.0, (24, 'right'): -0.0034342133505043753, (24, 'up'): -1.0, (24, 'down'): -1.0, (24, 'take_whiskr'): -1.0, (24, 'go_right'): -1.0, (24, 'go_left'): -1.0, (24, 'cook'): -1.0, (11, 'left'): -1.7530242338244706e-31, (11, 'right'): -1.0, (11, 'up'): -1.5777218104420236e-30, (11, 'down'): 0.0, (11, 'take_whiskr'): -1.0, (11, 'go_right'): 0.0, (11, 'go_left'): -1.0, (11, 'cook'): -1.0, (10, 'left'): -1.4849146451219046e-30, (10, 'right'): 0.0, (10, 'up'): -1.0, (10, 'down'): -1.0, (10, 'take_whiskr'): -1.0, (10, 'go_right'): -1.0, (10, 'go_left'): -1.0, (10, 'cook'): -1.0, (9, 'left'): -0.005555555555555515, (9, 'right'): -1.5777218104420236e-30, (9, 'up'): -1.0, (9, 'down'): -1.0, (9, 'take_whiskr'): -1.0, (9, 'go_right'): -1.0, (9, 'go_left'): -1.0, (9, 'cook'): -1.0, (8, 'left'): -1.0, (8, 'right'): -0.002812939521800261, (8, 'up'): 0.0, (8, 'down'): -1.0, (8, 'take_whiskr'): -1.0, (8, 'go_right'): -1.0, (8, 'go_left'): -1.0, (8, 'cook'): -1.0, (3, 'left'): -1.7530242338244706e-31, (3, 'right'): -1.0, (3, 'up'): 0.0, (3, 'down'): -1.0, (3, 'take_whiskr'): -1.0, (3, 'go_right'): -1.0, (3, 'go_left'): -1.0, (3, 'cook'): -1.0, (2, 'left'): -1.4849146451219046e-30, (2, 'right'): 0.0, (2, 'up'): -1.0, (2, 'down'): -1.0, (2, 'take_whiskr'): -1.0, (2, 'go_right'): -1.0, (2, 'go_left'): -1.0, (2, 'cook'): -1.0, (1, 'left'): -0.006763897696047298, (1, 'right'): -1.5777218104420236e-30, (1, 'up'): -1.0, (1, 'down'): -1.0, (1, 'take_whiskr'): -1.0, (1, 'go_right'): -1.0, (1, 'go_left'): -1.0, (1, 'cook'): -1.0, (0, 'left'): -1.0, (0, 'right'): -0.0034342133505043753, (0, 'up'): -1.0, (0, 'down'): -1.0, (0, 'take_whiskr'): -1.0, (0, 'go_right'): -1.0, (0, 'go_left'): -1.0, (0, 'cook'): -1.0, (23, 'left'): -0.006272401433691741, (23, 'right'): -1.0, (23, 'up'): -1.0, (23, 'down'): 0.0, (23, 'take_whiskr'): -1.0, (23, 'go_right'): -1.0, (23, 'go_left'): 0.0, (23, 'cook'): -1.0, (22, 'left'): -1.0, (22, 'right'): -0.0031702898550724557, (22, 'up'): -1.0, (22, 'down'): -1.5777218104420236e-30, (22, 'take_whiskr'): 50.0, (22, 'go_right'): -1.0, (22, 'go_left'): -1.0, (22, 'cook'): -1.0, (16, 'left'): -1.0, (16, 'right'): -1.0, (16, 'up'): -1.0, (16, 'down'): -1.9721522630525295e-31, (16, 'take_whiskr'): 50.0, (16, 'go_right'): -1.0, (16, 'go_left'): -1.0, (16, 'cook'): -1.0, (15, 'left'): -0.006725514922236216, (15, 'right'): -1.0, (15, 'up'): 0.0, (15, 'down'): 0.0, (15, 'take_whiskr'): -1.0, (15, 'go_right'): -1.0, (15, 'go_left'): -1.0, (15, 'cook'): -1.0, (14, 'left'): -1.0, (14, 'right'): -0.003397027600849248, (14, 'up'): -1.5777218104420236e-30, (14, 'down'): -1.0, (14, 'take_whiskr'): -1.0, (14, 'go_right'): -1.0, (14, 'go_left'): -1.0, (14, 'cook'): -1.0, (54, 'left'): -1.0, (54, 'right'): -0.0035971223021582636, (54, 'up'): -1.0, (54, 'down'): -1.5777218104420236e-30, (54, 'take_whiskr'): -1.0, (54, 'go_right'): -1.0, (54, 'go_left'): -1.0, (54, 'cook'): -1.0, (55, 'left'): -0.007125890736342023, (55, 'right'): -1.0, (55, 'up'): -1.0, (55, 'down'): 0.0, (55, 'take_whiskr'): -1.0, (55, 'go_right'): -1.0, (55, 'go_left'): 0.0, (55, 'cook'): -1.0, (48, 'left'): -1.0, (48, 'right'): -1.0, (48, 'up'): -1.0, (48, 'down'): -1.5777218104420237e-31, (48, 'take_whiskr'): -1.0, (48, 'go_right'): -1.0, (48, 'go_left'): -1.0, (48, 'cook'): -1.0, (40, 'left'): -1.0, (40, 'right'): -0.002674690738883297, (40, 'up'): 0.0, (40, 'down'): -1.0, (40, 'take_whiskr'): -1.0, (40, 'go_right'): -1.0, (40, 'go_left'): -1.0, (40, 'cook'): -1.0, (41, 'left'): -0.005285761480013176, (41, 'right'): -1.5777218104420236e-30, (41, 'up'): -1.0, (41, 'down'): -1.0, (41, 'take_whiskr'): -1.0, (41, 'go_right'): -1.0, (41, 'go_left'): -1.0, (41, 'cook'): -1.0, (7, 'left'): -1.7530242338244706e-31, (7, 'right'): -1.0, (7, 'up'): 0.0, (7, 'down'): -1.0, (7, 'take_whiskr'): -1.0, (7, 'go_right'): -1.0, (7, 'go_left'): -1.0, (7, 'cook'): -1.0, (6, 'left'): -1.4849146451219046e-30, (6, 'right'): 0.0, (6, 'up'): -1.0, (6, 'down'): -1.0, (6, 'take_whiskr'): -1.0, (6, 'go_right'): -1.0, (6, 'go_left'): -1.0, (6, 'cook'): -1.0, (5, 'left'): -0.006763897696047298, (5, 'right'): -1.5777218104420236e-30, (5, 'up'): 0.0, (5, 'down'): -1.0, (5, 'take_whiskr'): -1.0, (5, 'go_right'): -1.0, (5, 'go_left'): -1.0, (5, 'cook'): -1.0, (4, 'left'): -1.0, (4, 'right'): -0.0034342133505043753, (4, 'up'): -1.5777218104420236e-30, (4, 'down'): -1.0, (4, 'take_whiskr'): -1.0, (4, 'go_right'): -1.0, (4, 'go_left'): -1.0, (4, 'cook'): -1.0, (46, 'left'): -1.0, (46, 'right'): -0.003397027600849248, (46, 'up'): -1.5777218104420236e-30, (46, 'down'): -1.0, (46, 'take_whiskr'): -1.0, (46, 'go_right'): -1.0, (46, 'go_left'): -1.0, (46, 'cook'): -1.0, (47, 'left'): -0.006725514922236216, (47, 'right'): -1.0, (47, 'up'): 0.0, (47, 'down'): 0.0, (47, 'take_whiskr'): -1.0, (47, 'go_right'): -1.0, (47, 'go_left'): -1.0, (47, 'cook'): -1.0, (43, 'left'): -1.7530242338244706e-31, (43, 'right'): -1.0, (43, 'up'): -1.5777218104420236e-30, (43, 'down'): 0.0, (43, 'take_whiskr'): -1.0, (43, 'go_right'): 0.0, (43, 'go_left'): -1.0, (43, 'cook'): -1.0, (42, 'left'): -1.4849146451219046e-30, (42, 'right'): 0.0, (42, 'up'): -1.0, (42, 'down'): -1.0, (42, 'take_whiskr'): -1.0, (42, 'go_right'): -1.0, (42, 'go_left'): -1.0, (42, 'cook'): -1.0, (13, 'left'): -0.006725514922236216, (13, 'right'): -1.0, (13, 'up'): 0.0, (13, 'down'): 0.0, (13, 'take_whiskr'): -1.0, (13, 'go_right'): -1.0, (13, 'go_left'): -1.0, (13, 'cook'): -1.0, (12, 'left'): -1.0, (12, 'right'): -0.003397027600849248, (12, 'up'): -1.5777218104420236e-30, (12, 'down'): -1.5777218104420236e-30, (12, 'take_whiskr'): -1.0, (12, 'go_right'): -1.0, (12, 'go_left'): -1.0, (12, 'cook'): -1.0, (39, 'left'): -1.7530242338244706e-31, (39, 'right'): -1.0, (39, 'up'): 0.0, (39, 'down'): -1.0, (39, 'take_whiskr'): -1.0, (39, 'go_right'): -1.0, (39, 'go_left'): -1.0, (39, 'cook'): -1.0, (38, 'left'): -1.4849146451219046e-30, (38, 'right'): 0.0, (38, 'up'): -1.0, (38, 'down'): -1.0, (38, 'take_whiskr'): -1.0, (38, 'go_right'): -1.0, (38, 'go_left'): -1.0, (38, 'cook'): -1.0, (37, 'left'): -0.006763897696047298, (37, 'right'): -1.5777218104420236e-30, (37, 'up'): 0.0, (37, 'down'): -1.0, (37, 'take_whiskr'): -1.0, (37, 'go_right'): -1.0, (37, 'go_left'): -1.0, (37, 'cook'): -1.0, (36, 'left'): -1.0, (36, 'right'): -0.0034342133505043753, (36, 'up'): -1.5777218104420236e-30, (36, 'down'): -1.0, (36, 'take_whiskr'): -1.0, (36, 'go_right'): -1.0, (36, 'go_left'): -1.0, (36, 'cook'): -1.0, (51, 'left'): -2.804838774119153e-30, (51, 'right'): -1.0, (51, 'up'): 0.0, (51, 'down'): 0.0, (51, 'take_whiskr'): -1.0, (51, 'go_right'): -1.0, (51, 'go_left'): -1.0, (51, 'cook'): -1.0, (50, 'left'): -0.009001406469760834, (50, 'right'): -1.5777218104420236e-30, (50, 'up'): -1.5777218104420236e-30, (50, 'down'): -1.0, (50, 'take_whiskr'): -1.0, (50, 'go_right'): -1.0, (50, 'go_left'): -1.0, (50, 'cook'): -1.0, (49, 'left'): -1.0, (49, 'right'): -0.004562303963501535, (49, 'up'): 0.0, (49, 'down'): -1.0, (49, 'take_whiskr'): -1.0, (49, 'go_right'): -1.0, (49, 'go_left'): -1.0, (49, 'cook'): -1.0, (35, 'left'): -1.7530242338244706e-31, (35, 'right'): -1.0, (35, 'up'): 0.0, (35, 'down'): -1.0, (35, 'take_whiskr'): -1.0, (35, 'go_right'): -1.0, (35, 'go_left'): -1.0, (35, 'cook'): -1.0, (34, 'left'): -1.4849146451219046e-30, (34, 'right'): 0.0, (34, 'up'): -1.0, (34, 'down'): -1.0, (34, 'take_whiskr'): -1.0, (34, 'go_right'): -1.0, (34, 'go_left'): -1.0, (34, 'cook'): -1.0, (33, 'left'): -0.006763897696047298, (33, 'right'): -1.5777218104420236e-30, (33, 'up'): -1.0, (33, 'down'): -1.0, (33, 'take_whiskr'): -1.0, (33, 'go_right'): -1.0, (33, 'go_left'): -1.0, (33, 'cook'): -1.0, (32, 'left'): -1.0, (32, 'right'): -0.0034342133505043753, (32, 'up'): -1.0, (32, 'down'): -1.0, (32, 'take_whiskr'): -1.0, (32, 'go_right'): -1.0, (32, 'go_left'): -1.0, (32, 'cook'): -1.0, (21, 'left'): -0.006725514922236216, (21, 'right'): -1.0, (21, 'up'): 0.0, (21, 'down'): 0.0, (21, 'take_whiskr'): -1.0, (21, 'go_right'): -1.0, (21, 'go_left'): -1.0, (21, 'cook'): -1.0, (20, 'left'): -1.0, (20, 'right'): -0.003397027600849248, (20, 'up'): -1.5777218104420236e-30, (20, 'down'): -1.5777218104420236e-30, (20, 'take_whiskr'): -1.0, (20, 'go_right'): -1.0, (20, 'go_left'): -1.0, (20, 'cook'): -1.0, (45, 'left'): -0.006725514922236216, (45, 'right'): -1.0, (45, 'up'): 0.0, (45, 'down'): 0.0, (45, 'take_whiskr'): -1.0, (45, 'go_right'): -1.0, (45, 'go_left'): -1.0, (45, 'cook'): -1.0, (44, 'left'): -1.0, (44, 'right'): -0.003397027600849248, (44, 'up'): -1.5777218104420236e-30, (44, 'down'): -1.5777218104420236e-30, (44, 'take_whiskr'): -1.0, (44, 'go_right'): -1.0, (44, 'go_left'): -1.0, (44, 'cook'): -1.0, (59, 'left'): -1.7530242338244706e-31, (59, 'right'): -1.0, (59, 'up'): -1.0, (59, 'down'): -1.5777218104420236e-30, (59, 'take_whiskr'): -1.0, (59, 'go_right'): -1.0, (59, 'go_left'): -1.0, (59, 'cook'): -1.0, (58, 'left'): -1.4849146451219046e-30, (58, 'right'): 0.0, (58, 'up'): -1.0, (58, 'down'): 0.0, (58, 'take_whiskr'): -1.0, (58, 'go_right'): -1.0, (58, 'go_left'): -1.0, (58, 'cook'): -1.0, (57, 'left'): -0.006763897696047298, (57, 'right'): -1.5777218104420236e-30, (57, 'up'): -1.0, (57, 'down'): -1.5777218104420236e-30, (57, 'take_whiskr'): -1.0, (57, 'go_right'): -1.0, (57, 'go_left'): -1.0, (57, 'cook'): -1.0, (56, 'left'): -1.0, (56, 'right'): -0.0034342133505043753, (56, 'up'): -1.0, (56, 'down'): -1.0, (56, 'take_whiskr'): -1.0, (56, 'go_right'): -1.0, (56, 'go_left'): -1.0, (56, 'cook'): -1.0, (29, 'left'): -0.006763897696047298, (29, 'right'): -1.5777218104420236e-30, (29, 'up'): -1.0, (29, 'down'): 0.0, (29, 'take_whiskr'): -1.0, (29, 'go_right'): -1.0, (29, 'go_left'): -1.0, (29, 'cook'): -1.0, (28, 'left'): -1.0, (28, 'right'): -0.0034342133505043753, (28, 'up'): -1.0, (28, 'down'): -1.5777218104420236e-30, (28, 'take_whiskr'): -1.0, (28, 'go_right'): -1.0, (28, 'go_left'): -1.0, (28, 'cook'): -1.0, (53, 'left'): -0.006725514922236216, (53, 'right'): -1.0, (53, 'up'): 0.0, (53, 'down'): 0.0, (53, 'take_whiskr'): -1.0, (53, 'go_right'): -1.0, (53, 'go_left'): -1.0, (53, 'cook'): -1.0, (52, 'left'): -1.0, (52, 'right'): -0.003397027600849248, (52, 'up'): -1.5777218104420236e-30, (52, 'down'): -1.5777218104420236e-30, (52, 'take_whiskr'): -1.0, (52, 'go_right'): -1.0, (52, 'go_left'): -1.0, (52, 'cook'): -1.0, (30, 'left'): -1.4849146451219046e-30, (30, 'right'): 0.0, (30, 'up'): -1.0, (30, 'down'): -1.0, (30, 'take_whiskr'): -1.0, (30, 'go_right'): -1.0, (30, 'go_left'): -1.0, (30, 'cook'): -1.0, (61, 'left'): -0.006763897696047298, (61, 'right'): -1.5777218104420236e-30, (61, 'up'): -1.0, (61, 'down'): 0.0, (61, 'take_whiskr'): -1.0, (61, 'go_right'): -1.0, (61, 'go_left'): -1.0, (61, 'cook'): -1.0, (60, 'left'): -1.0, (60, 'right'): -0.0034342133505043753, (60, 'up'): -1.0, (60, 'down'): -1.5777218104420236e-30, (60, 'take_whiskr'): -1.0, (60, 'go_right'): -1.0, (60, 'go_left'): -1.0, (60, 'cook'): -1.0, (31, 'left'): -1.7530242338244706e-31, (31, 'right'): -1.0, (31, 'up'): -1.0, (31, 'down'): -1.0, (31, 'take_whiskr'): -1.0, (31, 'go_right'): -1.0, (31, 'go_left'): -1.0, (31, 'cook'): -1.0, (62, 'left'): -1.4849146451219046e-30, (62, 'right'): 0.0, (62, 'up'): -1.0, (62, 'down'): -1.0, (62, 'take_whiskr'): -1.0, (62, 'go_right'): -1.0, (62, 'go_left'): -1.0, (62, 'cook'): 100.0, (63, 'left'): -1.7530242338244706e-31, (63, 'right'): -1.0, (63, 'up'): -1.0, (63, 'down'): -1.0, (63, 'take_whiskr'): -1.0, (63, 'go_right'): -1.0, (63, 'go_left'): -1.0, (63, 'cook'): -1.0}\n"
     ]
    },
    {
     "data": {
      "text/plain": "{(19, 'left'): 0,\n (19, 'right'): 0,\n (19, 'up'): 1,\n (19, 'down'): 0,\n (19, 'take_whiskr'): 0,\n (19, 'go_right'): 0,\n (19, 'go_left'): 0,\n (19, 'cook'): 0,\n (18, 'left'): 0,\n (18, 'right'): 1,\n (18, 'up'): 0,\n (18, 'down'): 0,\n (18, 'take_whiskr'): 0,\n (18, 'go_right'): 0,\n (18, 'go_left'): 0,\n (18, 'cook'): 0,\n (17, 'left'): 0,\n (17, 'right'): 0,\n (17, 'up'): 1,\n (17, 'down'): 0,\n (17, 'take_whiskr'): 0,\n (17, 'go_right'): 0,\n (17, 'go_left'): 0,\n (17, 'cook'): 0,\n (27, 'left'): 1,\n (27, 'right'): 0,\n (27, 'up'): 0,\n (27, 'down'): 0,\n (27, 'take_whiskr'): 0,\n (27, 'go_right'): 0,\n (27, 'go_left'): 0,\n (27, 'cook'): 0,\n (26, 'left'): 0,\n (26, 'right'): 1,\n (26, 'up'): 0,\n (26, 'down'): 0,\n (26, 'take_whiskr'): 0,\n (26, 'go_right'): 0,\n (26, 'go_left'): 0,\n (26, 'cook'): 0,\n (25, 'left'): 0,\n (25, 'right'): 1,\n (25, 'up'): 0,\n (25, 'down'): 0,\n (25, 'take_whiskr'): 0,\n (25, 'go_right'): 0,\n (25, 'go_left'): 0,\n (25, 'cook'): 0,\n (24, 'left'): 0,\n (24, 'right'): 1,\n (24, 'up'): 0,\n (24, 'down'): 0,\n (24, 'take_whiskr'): 0,\n (24, 'go_right'): 0,\n (24, 'go_left'): 0,\n (24, 'cook'): 0,\n (11, 'left'): 0,\n (11, 'right'): 0,\n (11, 'up'): 0,\n (11, 'down'): 1,\n (11, 'take_whiskr'): 0,\n (11, 'go_right'): 0,\n (11, 'go_left'): 0,\n (11, 'cook'): 0,\n (10, 'left'): 0,\n (10, 'right'): 1,\n (10, 'up'): 0,\n (10, 'down'): 0,\n (10, 'take_whiskr'): 0,\n (10, 'go_right'): 0,\n (10, 'go_left'): 0,\n (10, 'cook'): 0,\n (9, 'left'): 0,\n (9, 'right'): 1,\n (9, 'up'): 0,\n (9, 'down'): 0,\n (9, 'take_whiskr'): 0,\n (9, 'go_right'): 0,\n (9, 'go_left'): 0,\n (9, 'cook'): 0,\n (8, 'left'): 0,\n (8, 'right'): 0,\n (8, 'up'): 1,\n (8, 'down'): 0,\n (8, 'take_whiskr'): 0,\n (8, 'go_right'): 0,\n (8, 'go_left'): 0,\n (8, 'cook'): 0,\n (3, 'left'): 0,\n (3, 'right'): 0,\n (3, 'up'): 1,\n (3, 'down'): 0,\n (3, 'take_whiskr'): 0,\n (3, 'go_right'): 0,\n (3, 'go_left'): 0,\n (3, 'cook'): 0,\n (2, 'left'): 0,\n (2, 'right'): 1,\n (2, 'up'): 0,\n (2, 'down'): 0,\n (2, 'take_whiskr'): 0,\n (2, 'go_right'): 0,\n (2, 'go_left'): 0,\n (2, 'cook'): 0,\n (1, 'left'): 0,\n (1, 'right'): 1,\n (1, 'up'): 0,\n (1, 'down'): 0,\n (1, 'take_whiskr'): 0,\n (1, 'go_right'): 0,\n (1, 'go_left'): 0,\n (1, 'cook'): 0,\n (0, 'left'): 0,\n (0, 'right'): 1,\n (0, 'up'): 0,\n (0, 'down'): 0,\n (0, 'take_whiskr'): 0,\n (0, 'go_right'): 0,\n (0, 'go_left'): 0,\n (0, 'cook'): 0,\n (23, 'left'): 0,\n (23, 'right'): 0,\n (23, 'up'): 0,\n (23, 'down'): 1,\n (23, 'take_whiskr'): 0,\n (23, 'go_right'): 0,\n (23, 'go_left'): 0,\n (23, 'cook'): 0,\n (22, 'left'): 0,\n (22, 'right'): 0,\n (22, 'up'): 0,\n (22, 'down'): 0,\n (22, 'take_whiskr'): 1,\n (22, 'go_right'): 0,\n (22, 'go_left'): 0,\n (22, 'cook'): 0,\n (16, 'left'): 0,\n (16, 'right'): 0,\n (16, 'up'): 0,\n (16, 'down'): 0,\n (16, 'take_whiskr'): 1,\n (16, 'go_right'): 0,\n (16, 'go_left'): 0,\n (16, 'cook'): 0,\n (15, 'left'): 0,\n (15, 'right'): 0,\n (15, 'up'): 1,\n (15, 'down'): 0,\n (15, 'take_whiskr'): 0,\n (15, 'go_right'): 0,\n (15, 'go_left'): 0,\n (15, 'cook'): 0,\n (14, 'left'): 0,\n (14, 'right'): 0,\n (14, 'up'): 1,\n (14, 'down'): 0,\n (14, 'take_whiskr'): 0,\n (14, 'go_right'): 0,\n (14, 'go_left'): 0,\n (14, 'cook'): 0,\n (54, 'left'): 0,\n (54, 'right'): 0,\n (54, 'up'): 0,\n (54, 'down'): 1,\n (54, 'take_whiskr'): 0,\n (54, 'go_right'): 0,\n (54, 'go_left'): 0,\n (54, 'cook'): 0,\n (55, 'left'): 0,\n (55, 'right'): 0,\n (55, 'up'): 0,\n (55, 'down'): 1,\n (55, 'take_whiskr'): 0,\n (55, 'go_right'): 0,\n (55, 'go_left'): 0,\n (55, 'cook'): 0,\n (48, 'left'): 0,\n (48, 'right'): 0,\n (48, 'up'): 0,\n (48, 'down'): 1,\n (48, 'take_whiskr'): 0,\n (48, 'go_right'): 0,\n (48, 'go_left'): 0,\n (48, 'cook'): 0,\n (40, 'left'): 0,\n (40, 'right'): 0,\n (40, 'up'): 1,\n (40, 'down'): 0,\n (40, 'take_whiskr'): 0,\n (40, 'go_right'): 0,\n (40, 'go_left'): 0,\n (40, 'cook'): 0,\n (41, 'left'): 0,\n (41, 'right'): 1,\n (41, 'up'): 0,\n (41, 'down'): 0,\n (41, 'take_whiskr'): 0,\n (41, 'go_right'): 0,\n (41, 'go_left'): 0,\n (41, 'cook'): 0,\n (7, 'left'): 0,\n (7, 'right'): 0,\n (7, 'up'): 1,\n (7, 'down'): 0,\n (7, 'take_whiskr'): 0,\n (7, 'go_right'): 0,\n (7, 'go_left'): 0,\n (7, 'cook'): 0,\n (6, 'left'): 0,\n (6, 'right'): 1,\n (6, 'up'): 0,\n (6, 'down'): 0,\n (6, 'take_whiskr'): 0,\n (6, 'go_right'): 0,\n (6, 'go_left'): 0,\n (6, 'cook'): 0,\n (5, 'left'): 0,\n (5, 'right'): 0,\n (5, 'up'): 1,\n (5, 'down'): 0,\n (5, 'take_whiskr'): 0,\n (5, 'go_right'): 0,\n (5, 'go_left'): 0,\n (5, 'cook'): 0,\n (4, 'left'): 0,\n (4, 'right'): 0,\n (4, 'up'): 1,\n (4, 'down'): 0,\n (4, 'take_whiskr'): 0,\n (4, 'go_right'): 0,\n (4, 'go_left'): 0,\n (4, 'cook'): 0,\n (46, 'left'): 0,\n (46, 'right'): 0,\n (46, 'up'): 1,\n (46, 'down'): 0,\n (46, 'take_whiskr'): 0,\n (46, 'go_right'): 0,\n (46, 'go_left'): 0,\n (46, 'cook'): 0,\n (47, 'left'): 0,\n (47, 'right'): 0,\n (47, 'up'): 1,\n (47, 'down'): 0,\n (47, 'take_whiskr'): 0,\n (47, 'go_right'): 0,\n (47, 'go_left'): 0,\n (47, 'cook'): 0,\n (43, 'left'): 0,\n (43, 'right'): 0,\n (43, 'up'): 0,\n (43, 'down'): 1,\n (43, 'take_whiskr'): 0,\n (43, 'go_right'): 0,\n (43, 'go_left'): 0,\n (43, 'cook'): 0,\n (42, 'left'): 0,\n (42, 'right'): 1,\n (42, 'up'): 0,\n (42, 'down'): 0,\n (42, 'take_whiskr'): 0,\n (42, 'go_right'): 0,\n (42, 'go_left'): 0,\n (42, 'cook'): 0,\n (13, 'left'): 0,\n (13, 'right'): 0,\n (13, 'up'): 1,\n (13, 'down'): 0,\n (13, 'take_whiskr'): 0,\n (13, 'go_right'): 0,\n (13, 'go_left'): 0,\n (13, 'cook'): 0,\n (12, 'left'): 0,\n (12, 'right'): 0,\n (12, 'up'): 1,\n (12, 'down'): 0,\n (12, 'take_whiskr'): 0,\n (12, 'go_right'): 0,\n (12, 'go_left'): 0,\n (12, 'cook'): 0,\n (39, 'left'): 0,\n (39, 'right'): 0,\n (39, 'up'): 1,\n (39, 'down'): 0,\n (39, 'take_whiskr'): 0,\n (39, 'go_right'): 0,\n (39, 'go_left'): 0,\n (39, 'cook'): 0,\n (38, 'left'): 0,\n (38, 'right'): 1,\n (38, 'up'): 0,\n (38, 'down'): 0,\n (38, 'take_whiskr'): 0,\n (38, 'go_right'): 0,\n (38, 'go_left'): 0,\n (38, 'cook'): 0,\n (37, 'left'): 0,\n (37, 'right'): 0,\n (37, 'up'): 1,\n (37, 'down'): 0,\n (37, 'take_whiskr'): 0,\n (37, 'go_right'): 0,\n (37, 'go_left'): 0,\n (37, 'cook'): 0,\n (36, 'left'): 0,\n (36, 'right'): 0,\n (36, 'up'): 1,\n (36, 'down'): 0,\n (36, 'take_whiskr'): 0,\n (36, 'go_right'): 0,\n (36, 'go_left'): 0,\n (36, 'cook'): 0,\n (51, 'left'): 0,\n (51, 'right'): 0,\n (51, 'up'): 1,\n (51, 'down'): 0,\n (51, 'take_whiskr'): 0,\n (51, 'go_right'): 0,\n (51, 'go_left'): 0,\n (51, 'cook'): 0,\n (50, 'left'): 0,\n (50, 'right'): 1,\n (50, 'up'): 0,\n (50, 'down'): 0,\n (50, 'take_whiskr'): 0,\n (50, 'go_right'): 0,\n (50, 'go_left'): 0,\n (50, 'cook'): 0,\n (49, 'left'): 0,\n (49, 'right'): 0,\n (49, 'up'): 1,\n (49, 'down'): 0,\n (49, 'take_whiskr'): 0,\n (49, 'go_right'): 0,\n (49, 'go_left'): 0,\n (49, 'cook'): 0,\n (35, 'left'): 0,\n (35, 'right'): 0,\n (35, 'up'): 1,\n (35, 'down'): 0,\n (35, 'take_whiskr'): 0,\n (35, 'go_right'): 0,\n (35, 'go_left'): 0,\n (35, 'cook'): 0,\n (34, 'left'): 0,\n (34, 'right'): 1,\n (34, 'up'): 0,\n (34, 'down'): 0,\n (34, 'take_whiskr'): 0,\n (34, 'go_right'): 0,\n (34, 'go_left'): 0,\n (34, 'cook'): 0,\n (33, 'left'): 0,\n (33, 'right'): 1,\n (33, 'up'): 0,\n (33, 'down'): 0,\n (33, 'take_whiskr'): 0,\n (33, 'go_right'): 0,\n (33, 'go_left'): 0,\n (33, 'cook'): 0,\n (32, 'left'): 0,\n (32, 'right'): 1,\n (32, 'up'): 0,\n (32, 'down'): 0,\n (32, 'take_whiskr'): 0,\n (32, 'go_right'): 0,\n (32, 'go_left'): 0,\n (32, 'cook'): 0,\n (21, 'left'): 0,\n (21, 'right'): 0,\n (21, 'up'): 1,\n (21, 'down'): 0,\n (21, 'take_whiskr'): 0,\n (21, 'go_right'): 0,\n (21, 'go_left'): 0,\n (21, 'cook'): 0,\n (20, 'left'): 0,\n (20, 'right'): 0,\n (20, 'up'): 1,\n (20, 'down'): 0,\n (20, 'take_whiskr'): 0,\n (20, 'go_right'): 0,\n (20, 'go_left'): 0,\n (20, 'cook'): 0,\n (45, 'left'): 0,\n (45, 'right'): 0,\n (45, 'up'): 1,\n (45, 'down'): 0,\n (45, 'take_whiskr'): 0,\n (45, 'go_right'): 0,\n (45, 'go_left'): 0,\n (45, 'cook'): 0,\n (44, 'left'): 0,\n (44, 'right'): 0,\n (44, 'up'): 1,\n (44, 'down'): 0,\n (44, 'take_whiskr'): 0,\n (44, 'go_right'): 0,\n (44, 'go_left'): 0,\n (44, 'cook'): 0,\n (59, 'left'): 1,\n (59, 'right'): 0,\n (59, 'up'): 0,\n (59, 'down'): 0,\n (59, 'take_whiskr'): 0,\n (59, 'go_right'): 0,\n (59, 'go_left'): 0,\n (59, 'cook'): 0,\n (58, 'left'): 0,\n (58, 'right'): 1,\n (58, 'up'): 0,\n (58, 'down'): 0,\n (58, 'take_whiskr'): 0,\n (58, 'go_right'): 0,\n (58, 'go_left'): 0,\n (58, 'cook'): 0,\n (57, 'left'): 0,\n (57, 'right'): 1,\n (57, 'up'): 0,\n (57, 'down'): 0,\n (57, 'take_whiskr'): 0,\n (57, 'go_right'): 0,\n (57, 'go_left'): 0,\n (57, 'cook'): 0,\n (56, 'left'): 0,\n (56, 'right'): 1,\n (56, 'up'): 0,\n (56, 'down'): 0,\n (56, 'take_whiskr'): 0,\n (56, 'go_right'): 0,\n (56, 'go_left'): 0,\n (56, 'cook'): 0,\n (29, 'left'): 0,\n (29, 'right'): 0,\n (29, 'up'): 0,\n (29, 'down'): 1,\n (29, 'take_whiskr'): 0,\n (29, 'go_right'): 0,\n (29, 'go_left'): 0,\n (29, 'cook'): 0,\n (28, 'left'): 0,\n (28, 'right'): 0,\n (28, 'up'): 0,\n (28, 'down'): 1,\n (28, 'take_whiskr'): 0,\n (28, 'go_right'): 0,\n (28, 'go_left'): 0,\n (28, 'cook'): 0,\n (53, 'left'): 0,\n (53, 'right'): 0,\n (53, 'up'): 1,\n (53, 'down'): 0,\n (53, 'take_whiskr'): 0,\n (53, 'go_right'): 0,\n (53, 'go_left'): 0,\n (53, 'cook'): 0,\n (52, 'left'): 0,\n (52, 'right'): 0,\n (52, 'up'): 1,\n (52, 'down'): 0,\n (52, 'take_whiskr'): 0,\n (52, 'go_right'): 0,\n (52, 'go_left'): 0,\n (52, 'cook'): 0,\n (30, 'left'): 0,\n (30, 'right'): 1,\n (30, 'up'): 0,\n (30, 'down'): 0,\n (30, 'take_whiskr'): 0,\n (30, 'go_right'): 0,\n (30, 'go_left'): 0,\n (30, 'cook'): 0,\n (61, 'left'): 0,\n (61, 'right'): 0,\n (61, 'up'): 0,\n (61, 'down'): 1,\n (61, 'take_whiskr'): 0,\n (61, 'go_right'): 0,\n (61, 'go_left'): 0,\n (61, 'cook'): 0,\n (60, 'left'): 0,\n (60, 'right'): 0,\n (60, 'up'): 0,\n (60, 'down'): 1,\n (60, 'take_whiskr'): 0,\n (60, 'go_right'): 0,\n (60, 'go_left'): 0,\n (60, 'cook'): 0,\n (31, 'left'): 1,\n (31, 'right'): 0,\n (31, 'up'): 0,\n (31, 'down'): 0,\n (31, 'take_whiskr'): 0,\n (31, 'go_right'): 0,\n (31, 'go_left'): 0,\n (31, 'cook'): 0,\n (62, 'left'): 0,\n (62, 'right'): 0,\n (62, 'up'): 0,\n (62, 'down'): 0,\n (62, 'take_whiskr'): 0,\n (62, 'go_right'): 0,\n (62, 'go_left'): 0,\n (62, 'cook'): 1,\n (63, 'left'): 1,\n (63, 'right'): 0,\n (63, 'up'): 0,\n (63, 'down'): 0,\n (63, 'take_whiskr'): 0,\n (63, 'go_right'): 0,\n (63, 'go_left'): 0,\n (63, 'cook'): 0}"
     },
     "execution_count": 18,
     "metadata": {},
     "output_type": "execute_result"
    }
   ],
   "source": [
    "#generate_episode()\n",
    "agent = Agent(simple_policy)\n",
    "#print(agent.generate_episode(50, return_actions=True))\n",
    "agent.improve_policy()"
   ],
   "metadata": {
    "collapsed": false,
    "ExecuteTime": {
     "end_time": "2024-01-22T10:58:16.858597900Z",
     "start_time": "2024-01-22T10:57:57.572568400Z"
    }
   },
   "id": "a2c58c25f2936c7e",
   "execution_count": 18
  },
  {
   "cell_type": "markdown",
   "source": [
    "Definiamo una funzione che ci calcola una policy ottima, utilizzeremo la funzione vista in laboratorio."
   ],
   "metadata": {
    "collapsed": false
   },
   "id": "f8bece252aebf1e"
  },
  {
   "cell_type": "code",
   "outputs": [
    {
     "data": {
      "text/plain": "{19: 'up',\n 18: 'right',\n 17: 'up',\n 27: 'left',\n 26: 'right',\n 25: 'right',\n 24: 'right',\n 11: 'down',\n 10: 'right',\n 9: 'right',\n 8: 'up',\n 3: 'up',\n 2: 'right',\n 1: 'right',\n 0: 'right',\n 23: 'down',\n 22: 'take_whiskr',\n 16: 'take_whiskr',\n 15: 'up',\n 14: 'up',\n 54: 'down',\n 55: 'down',\n 48: 'down',\n 40: 'up',\n 41: 'right',\n 7: 'up',\n 6: 'right',\n 5: 'up',\n 4: 'up',\n 46: 'up',\n 47: 'up',\n 43: 'down',\n 42: 'right',\n 13: 'up',\n 12: 'up',\n 39: 'up',\n 38: 'right',\n 37: 'up',\n 36: 'up',\n 51: 'up',\n 50: 'right',\n 49: 'up',\n 35: 'up',\n 34: 'right',\n 33: 'right',\n 32: 'right',\n 21: 'up',\n 20: 'up',\n 45: 'up',\n 44: 'up',\n 59: 'left',\n 58: 'right',\n 57: 'right',\n 56: 'right',\n 29: 'down',\n 28: 'down',\n 53: 'up',\n 52: 'up',\n 30: 'right',\n 61: 'down',\n 60: 'down',\n 31: 'left',\n 62: 'cook',\n 63: 'left'}"
     },
     "execution_count": 22,
     "metadata": {},
     "output_type": "execute_result"
    }
   ],
   "source": [
    "agent.easy_policy\n",
    "# def compute_returns(episode, index):\n",
    "#     if index == None:\n",
    "#         return 0\n",
    "#     episode = episode[index:]\n",
    "#     sum_returns = 0\n",
    "#     for i in range(0,len(episode)):\n",
    "#         sum_returns += R[episode[i]['s'], episode[i]['a'], next_state(episode[i]['s'], episode[i]['a'])] * (DISCOUNT_FACTOR ** i)\n",
    "# \n",
    "#     return sum_returns\n",
    "# \n",
    "# def get_easy_policy():\n",
    "#     pol = {}\n",
    "#     for k,v in policy.items():\n",
    "#         if v != 0:\n",
    "#             pol[k[0]] = k[1]\n",
    "#     return pol\n",
    "# \n",
    "# def get_state_action_from_episodes(episodes):\n",
    "#     episode_state = []\n",
    "#     action_state = []\n",
    "#     for e in episodes:\n",
    "#         episode_state.append(e['s'])\n",
    "#         action_state.append(e['a'])\n",
    "#     return (episode_state, action_state)\n",
    "# \n",
    "# def improve_policy():\n",
    "#     n = {(state, action): 0 for state in states for action in A}\n",
    "#     g = {(state, action): 0 for state in states for action in A}\n",
    "#     q = {(state, action): 0 for state in states for action in A}\n",
    "#     known_states = [state for state in states]\n",
    "#     i=0\n",
    "#     for i in range(10):\n",
    "#         print(i)\n",
    "#         i+=1\n",
    "#         for state in states: #63\n",
    "#             for action in A: #7\n",
    "#                 epi = generate_episode(return_actions=True, first_state = state, first_action = action) \n",
    "#                 episode, actions = get_state_action_from_episodes(epi)\n",
    "# \n",
    "#                 #check if all states are known\n",
    "#                 for state_no in episode: #200\n",
    "#                     if state_no not in known_states:\n",
    "#                         known_states.append(state_no)\n",
    "#                         for action in A: #7\n",
    "#                             n[(state_no, action)] = 0\n",
    "#                             g[(state_no, action)] = 0\n",
    "#                             q[(state_no, action)] = 0 # 6.174.000\n",
    "# \n",
    "#                 ## COMPUTATION OF Q-VALUES\n",
    "#                 for j in range(len(episode)): # 200\n",
    "#                     n[(episode[j], actions[j])] += 1\n",
    "#                     g[(episode[j], actions[j])] += compute_returns(epi, j)\n",
    "#                     q[(episode[j], actions[j])] = g[(episode[j], actions[j])]/n[(episode[j], actions[j])] # 882.000\n",
    "#                     \n",
    "# \n",
    "#     print(q)\n",
    "#     ## POLICY IMPROVEMENT\n",
    "#     \n",
    "#     for state_no,ac in q.keys():\n",
    "# \n",
    "#         if state_no not in [s for s in states]:\n",
    "#            states.append(state_no)\n",
    "# \n",
    "#         max_action = None\n",
    "#         max_value = -np.inf\n",
    "#         for action in A:\n",
    "#             if q[(state_no, action)] > max_value:\n",
    "#                 max_value = q[(state_no, action)]\n",
    "#                 max_action = action\n",
    "# \n",
    "# \n",
    "#         newpolicy = policy\n",
    "#         for action in A:\n",
    "#             newpolicy[(state_no, action)] = 1 if action == max_action else 0\n",
    "# \n",
    "#         policy = newpolicy\n",
    "# \n",
    "#     return policy"
   ],
   "metadata": {
    "collapsed": false,
    "ExecuteTime": {
     "end_time": "2024-01-22T10:59:00.888273400Z",
     "start_time": "2024-01-22T10:59:00.873194600Z"
    }
   },
   "id": "c2c79451d32988a7",
   "execution_count": 22
  },
  {
   "cell_type": "code",
   "outputs": [],
   "source": [
    "# asdf  = []\n",
    "# for i in range(5):\n",
    "#     asdf.append({'s': i, 'a': i})\n",
    "# \n",
    "# print(asdf[1])\n",
    "# \n",
    "# sdf = []    \n",
    "# sdfg = []\n",
    "# for a in asdf:\n",
    "#     sdf.append(a['s'])\n",
    "#     sdfg.append(a['a'])\n",
    "# print(sdfg)\n",
    "# sdf"
   ],
   "metadata": {
    "collapsed": false,
    "ExecuteTime": {
     "end_time": "2024-01-22T10:58:16.873494900Z",
     "start_time": "2024-01-22T10:58:16.864272300Z"
    }
   },
   "id": "269c08d702327f22",
   "execution_count": 20
  },
  {
   "cell_type": "code",
   "outputs": [],
   "source": [
    "#improve_policy()"
   ],
   "metadata": {
    "collapsed": false,
    "ExecuteTime": {
     "end_time": "2024-01-22T10:58:16.902787300Z",
     "start_time": "2024-01-22T10:58:16.874494800Z"
    }
   },
   "id": "662a06fa09ab3a26",
   "execution_count": 21
  },
  {
   "cell_type": "code",
   "outputs": [],
   "source": [],
   "metadata": {
    "collapsed": false,
    "ExecuteTime": {
     "end_time": "2024-01-22T10:58:16.903865Z",
     "start_time": "2024-01-22T10:58:16.882442600Z"
    }
   },
   "id": "accdd3132a4fa55d",
   "execution_count": 21
  }
 ],
 "metadata": {
  "kernelspec": {
   "display_name": "Python 3 (ipykernel)",
   "language": "python",
   "name": "python3"
  },
  "language_info": {
   "codemirror_mode": {
    "name": "ipython",
    "version": 3
   },
   "file_extension": ".py",
   "mimetype": "text/x-python",
   "name": "python",
   "nbconvert_exporter": "python",
   "pygments_lexer": "ipython3",
   "version": "3.12.0"
  }
 },
 "nbformat": 4,
 "nbformat_minor": 5
}
